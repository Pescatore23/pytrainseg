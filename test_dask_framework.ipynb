{
 "cells": [
  {
   "cell_type": "code",
   "execution_count": 1,
   "id": "7813dcfd-c194-4ba3-a4b4-6888e8f3e705",
   "metadata": {},
   "outputs": [
    {
     "name": "stderr",
     "output_type": "stream",
     "text": [
      "2022-08-18 16:07:12,621 - distributed.diskutils - INFO - Found stale lock file and directory '/tmp/dask-worker-space/worker-6ttiz1sv', purging\n"
     ]
    },
    {
     "name": "stdout",
     "output_type": "stream",
     "text": [
      "Dashboard at http://127.0.0.1:8787/status\n"
     ]
    }
   ],
   "source": [
    "from filter_functions import image_filter"
   ]
  },
  {
   "cell_type": "code",
   "execution_count": 2,
   "id": "4930da73-a20c-4aef-a4ab-165a559bc8e1",
   "metadata": {},
   "outputs": [],
   "source": [
    "from training_functions import train_segmentation"
   ]
  },
  {
   "cell_type": "code",
   "execution_count": 36,
   "id": "1999438b-02db-49ca-84b1-b185dc7c5bf0",
   "metadata": {},
   "outputs": [],
   "source": [
    "# import dask\n",
    "import xarray as xr\n",
    "import numpy as np\n",
    "import  matplotlib.pyplot as plt\n",
    "import os\n",
    "from ipywidgets import Image\n",
    "from ipywidgets import ColorPicker, IntSlider, link, AppLayout, HBox\n",
    "from ipycanvas import  hold_canvas,  MultiCanvas #RoughCanvas,Canvas,\n",
    "import imageio"
   ]
  },
  {
   "cell_type": "code",
   "execution_count": 4,
   "id": "5514ac86-855f-4e80-8dbd-e92358e5878b",
   "metadata": {},
   "outputs": [],
   "source": [
    "def on_mouse_down(x, y):\n",
    "    global drawing\n",
    "    global position\n",
    "    global shape\n",
    "    drawing = True\n",
    "    position = (x, y)\n",
    "    shape = [position]\n",
    "\n",
    "def on_mouse_move(x, y):\n",
    "    global drawing\n",
    "    global position\n",
    "    global shape\n",
    "    if not drawing:\n",
    "        return\n",
    "    with hold_canvas():\n",
    "        canvas.stroke_line(position[0], position[1], x, y)\n",
    "        position = (x, y)\n",
    "    shape.append(position)\n",
    "\n",
    "def on_mouse_up(x, y):\n",
    "    global drawing\n",
    "    global positiondu\n",
    "    global shape\n",
    "    drawing = False\n",
    "    with hold_canvas():\n",
    "        canvas.stroke_line(position[0], position[1], x, y)\n",
    "        canvas.fill_polygon(shape)\n",
    "    shape = []"
   ]
  },
  {
   "cell_type": "code",
   "execution_count": 5,
   "id": "16be2672-1d39-489e-b11c-b58e24cf76f0",
   "metadata": {},
   "outputs": [],
   "source": [
    "path = '/home/fische_r/NAS/testing/Jeremy_tomo/tomodata.nc'\n",
    "# path = r\"C:\\Zwischenlager\\tomodata.nc\"\n",
    "path = '/mpc/homes/fische_r/jeremy/tomodata.nc'"
   ]
  },
  {
   "cell_type": "code",
   "execution_count": 6,
   "id": "3ec2d882-d6e0-46a4-882d-1de1a66e7ba4",
   "metadata": {},
   "outputs": [],
   "source": [
    "IF = image_filter(data_path=path)"
   ]
  },
  {
   "cell_type": "code",
   "execution_count": 7,
   "id": "6a59e105-1cce-4d75-a46a-b7998428e645",
   "metadata": {},
   "outputs": [],
   "source": [
    "IF.open_raw_data()"
   ]
  },
  {
   "cell_type": "code",
   "execution_count": 8,
   "id": "2bc21c8d-4984-4a24-b3f8-1e1720a52d0e",
   "metadata": {},
   "outputs": [],
   "source": [
    "# IF.data"
   ]
  },
  {
   "cell_type": "code",
   "execution_count": 9,
   "id": "36190e50-90b8-4c47-bc5c-d5a5da69a4a7",
   "metadata": {},
   "outputs": [],
   "source": [
    "IF.prepare()"
   ]
  },
  {
   "cell_type": "code",
   "execution_count": 10,
   "id": "de4e35a6-e8dc-4585-b5e7-b608935203b3",
   "metadata": {},
   "outputs": [],
   "source": [
    "IF.stack_features()"
   ]
  },
  {
   "cell_type": "code",
   "execution_count": 11,
   "id": "f0e9730e-7887-45d0-961d-a92da744d4d4",
   "metadata": {},
   "outputs": [],
   "source": [
    "# IF.feature_stack"
   ]
  },
  {
   "cell_type": "code",
   "execution_count": 12,
   "id": "3e6495a9-24d3-42c8-8c3b-992d8eb75440",
   "metadata": {},
   "outputs": [],
   "source": [
    "IF.compute()"
   ]
  },
  {
   "cell_type": "code",
   "execution_count": 13,
   "id": "017fcf9f-eb6b-40ca-a993-840fb659a171",
   "metadata": {},
   "outputs": [],
   "source": [
    "IF.make_xarray_nc()"
   ]
  },
  {
   "cell_type": "code",
   "execution_count": 14,
   "id": "b8e77886-5624-4a4c-ad25-d71b7fadadd6",
   "metadata": {},
   "outputs": [],
   "source": [
    "# IF.computed = False"
   ]
  },
  {
   "cell_type": "code",
   "execution_count": 15,
   "id": "8d585cfe-cfc4-494b-87df-37d10b795292",
   "metadata": {},
   "outputs": [],
   "source": [
    "# test"
   ]
  },
  {
   "cell_type": "code",
   "execution_count": 16,
   "id": "d93d06e5-df44-4160-b712-ba7490d13bb2",
   "metadata": {},
   "outputs": [],
   "source": [
    "# training_path = r\"C:\\Zwischenlager\\Jeremy_tomo\"\n",
    "training_path = '/home/fische_r/NAS/testing/Jeremy_tomo'\n",
    "training_path = '/mpc/homes/fische_r/jeremy'\n",
    "if not os.path.exists(training_path):\n",
    "    os.mkdir(training_path)"
   ]
  },
  {
   "cell_type": "code",
   "execution_count": 17,
   "id": "bb0f444f-c133-4328-b37c-9fd78ca41d75",
   "metadata": {},
   "outputs": [],
   "source": [
    "TS = train_segmentation(training_path=training_path)"
   ]
  },
  {
   "cell_type": "code",
   "execution_count": 18,
   "id": "2e287f23-ff95-4fe1-af9d-2c9c7ab5c3bd",
   "metadata": {},
   "outputs": [],
   "source": [
    "# TS.import_lazy_feature_stack(IF.result)"
   ]
  },
  {
   "cell_type": "code",
   "execution_count": 19,
   "id": "07664e54-26ec-4b2a-9ccd-d7d447bf42f1",
   "metadata": {},
   "outputs": [],
   "source": [
    "# TS.feat_data = IF.result"
   ]
  },
  {
   "cell_type": "code",
   "execution_count": 20,
   "id": "2da7c6c7-e42b-4ca0-8d54-4a95495f2831",
   "metadata": {},
   "outputs": [],
   "source": [
    "# TS.feature_names = TS.feat_data['feature'].data"
   ]
  },
  {
   "cell_type": "code",
   "execution_count": 21,
   "id": "c06a4692-a2ba-4826-8e94-3150c482d6a9",
   "metadata": {},
   "outputs": [],
   "source": [
    "TS.import_feature_data(IF.result)"
   ]
  },
  {
   "cell_type": "markdown",
   "id": "d3dbc24f-440c-4ef5-8ab8-4379b039f57f",
   "metadata": {},
   "source": [
    "### iterative training, if you have a training set, skip here"
   ]
  },
  {
   "cell_type": "code",
   "execution_count": 22,
   "id": "1c3d3654-bb84-4361-b51b-9b4a232442c2",
   "metadata": {},
   "outputs": [
    {
     "name": "stdout",
     "output_type": "stream",
     "text": [
      "You could try  time = 0  and  z = 113\n",
      "However, please sort it like the original xyztime\n"
     ]
    }
   ],
   "source": [
    "TS.suggest_training_set()"
   ]
  },
  {
   "cell_type": "code",
   "execution_count": 23,
   "id": "75777fb5-7017-4bd6-9705-8ae96e1bd607",
   "metadata": {},
   "outputs": [],
   "source": [
    "c1 = 'y'\n",
    "p1 = 10\n",
    "c2 = 'time'\n",
    "p2 = 0"
   ]
  },
  {
   "cell_type": "code",
   "execution_count": 23,
   "id": "614b67be-fe01-4872-bd92-9049a880dd8d",
   "metadata": {},
   "outputs": [
    {
     "name": "stdout",
     "output_type": "stream",
     "text": [
      "existing label set loaded\n"
     ]
    },
    {
     "name": "stderr",
     "output_type": "stream",
     "text": [
      "/mnt/nas_Uwrite/fische_r/lib/pytrainseg/training_functions.py:176: RuntimeWarning: invalid value encountered in divide\n",
      "  diff = diff/diff.max()*255\n"
     ]
    }
   ],
   "source": [
    "TS.load_training_set(c1, p1, c2, p2)"
   ]
  },
  {
   "cell_type": "code",
   "execution_count": 24,
   "id": "3d4d56e0-dc56-4c94-9e1a-88bb2a034761",
   "metadata": {},
   "outputs": [],
   "source": [
    "# TS.interface()"
   ]
  },
  {
   "cell_type": "code",
   "execution_count": 25,
   "id": "fe4d9ed9-bb32-48b9-a782-7dd1b0ef98cd",
   "metadata": {},
   "outputs": [],
   "source": [
    "# TS.current_im8 = TS.current_im8.compute()"
   ]
  },
  {
   "cell_type": "code",
   "execution_count": 26,
   "id": "d763e67d-02b8-4b95-906e-b830bd0dd8f1",
   "metadata": {
    "tags": []
   },
   "outputs": [
    {
     "data": {
      "application/vnd.jupyter.widget-view+json": {
       "model_id": "bf65ca49f28148ac81b78895ea0038c5",
       "version_major": 2,
       "version_minor": 0
      },
      "text/plain": [
       "HBox(children=(MultiCanvas(height=200, width=233), ColorPicker(value='#ff0000', description='Color:'), IntSlid…"
      ]
     },
     "metadata": {},
     "output_type": "display_data"
    }
   ],
   "source": [
    "alpha = 0.15\n",
    "im8 = TS.current_im8\n",
    "resultim = TS.current_result\n",
    "width = im8.shape[1]\n",
    "height = im8.shape[0]\n",
    "Mcanvas = MultiCanvas(4, width=width, height=height)\n",
    "background = Mcanvas[0]\n",
    "resultdisplay = Mcanvas[2]\n",
    "truthdisplay = Mcanvas[1]\n",
    "canvas = Mcanvas[3]\n",
    "canvas.sync_image_data = True\n",
    "drawing = False\n",
    "position = None\n",
    "shape = []\n",
    "image_data = np.stack((im8, im8, im8), axis=2)\n",
    "background.put_image_data(image_data, 0, 0)\n",
    "resultdisplay.global_alpha = alpha\n",
    "if np.any(resultim>0):\n",
    "    result_data = np.stack((255*(resultim==0), 255*(resultim==1), 255*(resultim==2)), axis=2)\n",
    "else:\n",
    "    result_data = np.stack((0*resultim, 0*resultim, 0*resultim), axis=2)\n",
    "resultdisplay.put_image_data(result_data, 0, 0)\n",
    "canvas.on_mouse_down(on_mouse_down)\n",
    "canvas.on_mouse_move(on_mouse_move)\n",
    "canvas.on_mouse_up(on_mouse_up)\n",
    "picker = ColorPicker(description=\"Color:\", value=\"#ff0000\")\n",
    "slidealpha = IntSlider(description=\"Result overlay\", value=0.15)\n",
    "link((picker, \"value\"), (canvas, \"stroke_style\"))\n",
    "link((picker, \"value\"), (canvas, \"fill_style\"))\n",
    "HBox((Mcanvas, picker, slidealpha))"
   ]
  },
  {
   "cell_type": "code",
   "execution_count": 27,
   "id": "8915c866-d64b-4990-9ae4-4fd4477c177e",
   "metadata": {},
   "outputs": [],
   "source": [
    "label_set = canvas.get_image_data()\n",
    "\n",
    "TS.current_truth[label_set[:,:,0]>0] = 1\n",
    "TS.current_truth[label_set[:,:,1]>0] = 2\n",
    "TS.current_truth[label_set[:,:,2]>0] = 4\n",
    "\n",
    "imageio.imsave(TS.current_truthpath, TS.current_truth)"
   ]
  },
  {
   "cell_type": "code",
   "execution_count": 28,
   "id": "e898ec60-a7e7-468b-a7da-950271af5c27",
   "metadata": {},
   "outputs": [
    {
     "name": "stdout",
     "output_type": "stream",
     "text": [
      "now actually calculating the features\n",
      "training and classifying\n"
     ]
    }
   ],
   "source": [
    "TS.train_slice()"
   ]
  },
  {
   "cell_type": "markdown",
   "id": "86eb86f4-ad26-462e-8aab-cb3ac5bef9c7",
   "metadata": {},
   "source": [
    "### when done, maybe save the classifier"
   ]
  },
  {
   "cell_type": "code",
   "execution_count": 38,
   "id": "df610acf-d82f-4d10-862a-ac7a13b5867b",
   "metadata": {},
   "outputs": [],
   "source": [
    "# TS.pickle_classifier()"
   ]
  },
  {
   "cell_type": "markdown",
   "id": "851f03e3-156f-43b6-b50c-b651a0e09596",
   "metadata": {},
   "source": [
    "### use an existing trainingset to train classifier (adhere to label iamge naming convention)"
   ]
  },
  {
   "cell_type": "code",
   "execution_count": 24,
   "id": "d21e14fe-47fe-44f5-a649-33acaf815d5c",
   "metadata": {},
   "outputs": [],
   "source": [
    "TS.feat_data = TS.feat_data.compute()"
   ]
  },
  {
   "cell_type": "code",
   "execution_count": 25,
   "id": "55c32dde-b5a4-4d22-a461-d1ca325ad03b",
   "metadata": {},
   "outputs": [],
   "source": [
    "# provide new feature data if necessary and say if it is a lazy dask array or not\n",
    "# TS.feat_data = \n",
    "# TS.lazy = \n",
    "\n",
    "TS.train()"
   ]
  },
  {
   "cell_type": "code",
   "execution_count": 26,
   "id": "fd1312b7-2cb0-46de-b9a8-2b15d49b62e0",
   "metadata": {},
   "outputs": [],
   "source": [
    "TS.pickle_classifier()"
   ]
  },
  {
   "cell_type": "code",
   "execution_count": 27,
   "id": "88cd6a93-9138-4da1-9e72-add8587c1971",
   "metadata": {},
   "outputs": [],
   "source": [
    "from segmentation import segmentation"
   ]
  },
  {
   "cell_type": "code",
   "execution_count": 28,
   "id": "f84c17ab-5e43-480c-b8e6-a97a529dd4c6",
   "metadata": {},
   "outputs": [],
   "source": [
    "SM = segmentation(training_path = training_path)"
   ]
  },
  {
   "cell_type": "code",
   "execution_count": 29,
   "id": "adc08e22-ebb6-45b1-912f-3c89b2471b25",
   "metadata": {},
   "outputs": [],
   "source": [
    "SM.import_classifier(TS.clf)"
   ]
  },
  {
   "cell_type": "code",
   "execution_count": 30,
   "id": "f1d38fb3-b6bc-447a-a2c3-7bd4aa34ef36",
   "metadata": {},
   "outputs": [],
   "source": [
    "SM.import_feature_data(IF.result)"
   ]
  },
  {
   "cell_type": "code",
   "execution_count": 31,
   "id": "ce3a0450-2d10-4aa8-a2ed-699b0de10fdb",
   "metadata": {},
   "outputs": [],
   "source": [
    "# SM.lazy = False"
   ]
  },
  {
   "cell_type": "code",
   "execution_count": 32,
   "id": "3f3eefff-f108-45d6-afe9-f24a2fa8d6fc",
   "metadata": {},
   "outputs": [
    {
     "name": "stdout",
     "output_type": "stream",
     "text": [
      "classifying ...\n"
     ]
    }
   ],
   "source": [
    "SM.classify_all()"
   ]
  },
  {
   "cell_type": "code",
   "execution_count": 33,
   "id": "86b74ef3-49d7-437e-849f-169e03849ef0",
   "metadata": {},
   "outputs": [
    {
     "ename": "NameError",
     "evalue": "name 'shp' is not defined",
     "output_type": "error",
     "traceback": [
      "\u001b[0;31m---------------------------------------------------------------------------\u001b[0m",
      "\u001b[0;31mNameError\u001b[0m                                 Traceback (most recent call last)",
      "Input \u001b[0;32mIn [33]\u001b[0m, in \u001b[0;36m<cell line: 1>\u001b[0;34m()\u001b[0m\n\u001b[0;32m----> 1\u001b[0m \u001b[43mSM\u001b[49m\u001b[38;5;241;43m.\u001b[39;49m\u001b[43mstore_segmented_data\u001b[49m\u001b[43m(\u001b[49m\u001b[43m)\u001b[49m\n",
      "File \u001b[0;32m~/lib/pytrainseg/segmentation.py:61\u001b[0m, in \u001b[0;36msegmentation.store_segmented_data\u001b[0;34m(self)\u001b[0m\n\u001b[1;32m     56\u001b[0m path \u001b[38;5;241m=\u001b[39m os\u001b[38;5;241m.\u001b[39mpath\u001b[38;5;241m.\u001b[39mjoin(\u001b[38;5;28mself\u001b[39m\u001b[38;5;241m.\u001b[39mtraining_path, \u001b[38;5;124m'\u001b[39m\u001b[38;5;124msegmented.nc\u001b[39m\u001b[38;5;124m'\u001b[39m)\n\u001b[1;32m     58\u001b[0m \u001b[38;5;66;03m#TODO: propagate labels from raw data\u001b[39;00m\n\u001b[1;32m     59\u001b[0m \u001b[38;5;66;03m#TODO: if self.segmented_data is a dask array, rechunk for saving\u001b[39;00m\n\u001b[1;32m     60\u001b[0m data \u001b[38;5;241m=\u001b[39m xr\u001b[38;5;241m.\u001b[39mDataset({\u001b[38;5;124m'\u001b[39m\u001b[38;5;124msegmented\u001b[39m\u001b[38;5;124m'\u001b[39m: ([\u001b[38;5;124m'\u001b[39m\u001b[38;5;124mx\u001b[39m\u001b[38;5;124m'\u001b[39m,\u001b[38;5;124m'\u001b[39m\u001b[38;5;124my\u001b[39m\u001b[38;5;124m'\u001b[39m,\u001b[38;5;124m'\u001b[39m\u001b[38;5;124mz\u001b[39m\u001b[38;5;124m'\u001b[39m,\u001b[38;5;124m'\u001b[39m\u001b[38;5;124mtime\u001b[39m\u001b[38;5;124m'\u001b[39m], \u001b[38;5;28mself\u001b[39m\u001b[38;5;241m.\u001b[39msegmented_data)},\n\u001b[0;32m---> 61\u001b[0m                                coords \u001b[38;5;241m=\u001b[39m {\u001b[38;5;124m'\u001b[39m\u001b[38;5;124mx\u001b[39m\u001b[38;5;124m'\u001b[39m: np\u001b[38;5;241m.\u001b[39marange(\u001b[43mshp\u001b[49m[\u001b[38;5;241m0\u001b[39m]),\n\u001b[1;32m     62\u001b[0m                                \u001b[38;5;124m'\u001b[39m\u001b[38;5;124my\u001b[39m\u001b[38;5;124m'\u001b[39m: np\u001b[38;5;241m.\u001b[39marange(shp[\u001b[38;5;241m1\u001b[39m]),\n\u001b[1;32m     63\u001b[0m                                \u001b[38;5;124m'\u001b[39m\u001b[38;5;124mz\u001b[39m\u001b[38;5;124m'\u001b[39m: np\u001b[38;5;241m.\u001b[39marange(shp[\u001b[38;5;241m2\u001b[39m]),\n\u001b[1;32m     64\u001b[0m                                \u001b[38;5;124m'\u001b[39m\u001b[38;5;124mtime\u001b[39m\u001b[38;5;124m'\u001b[39m: np\u001b[38;5;241m.\u001b[39marange(shp[\u001b[38;5;241m3\u001b[39m]),\n\u001b[1;32m     65\u001b[0m                                \u001b[38;5;124m'\u001b[39m\u001b[38;5;124mfeature\u001b[39m\u001b[38;5;124m'\u001b[39m: \u001b[38;5;28mself\u001b[39m\u001b[38;5;241m.\u001b[39mfeature_names}\n\u001b[1;32m     66\u001b[0m                      )\n\u001b[1;32m     67\u001b[0m data\u001b[38;5;241m.\u001b[39mto_netcdf4(path)\n",
      "\u001b[0;31mNameError\u001b[0m: name 'shp' is not defined"
     ]
    }
   ],
   "source": [
    "SM.store_segmented_data()"
   ]
  },
  {
   "cell_type": "code",
   "execution_count": 38,
   "id": "897879c6-a12d-4d85-8069-2771bf12155f",
   "metadata": {},
   "outputs": [
    {
     "ename": "AttributeError",
     "evalue": "'Dataset' object has no attribute 'to_netcdf4'",
     "output_type": "error",
     "traceback": [
      "\u001b[0;31m---------------------------------------------------------------------------\u001b[0m",
      "\u001b[0;31mAttributeError\u001b[0m                            Traceback (most recent call last)",
      "Input \u001b[0;32mIn [38]\u001b[0m, in \u001b[0;36m<cell line: 13>\u001b[0;34m()\u001b[0m\n\u001b[1;32m      5\u001b[0m shp \u001b[38;5;241m=\u001b[39m SM\u001b[38;5;241m.\u001b[39msegmented_data\u001b[38;5;241m.\u001b[39mshape\n\u001b[1;32m      6\u001b[0m data \u001b[38;5;241m=\u001b[39m xr\u001b[38;5;241m.\u001b[39mDataset({\u001b[38;5;124m'\u001b[39m\u001b[38;5;124msegmented\u001b[39m\u001b[38;5;124m'\u001b[39m: ([\u001b[38;5;124m'\u001b[39m\u001b[38;5;124mx\u001b[39m\u001b[38;5;124m'\u001b[39m,\u001b[38;5;124m'\u001b[39m\u001b[38;5;124my\u001b[39m\u001b[38;5;124m'\u001b[39m,\u001b[38;5;124m'\u001b[39m\u001b[38;5;124mz\u001b[39m\u001b[38;5;124m'\u001b[39m,\u001b[38;5;124m'\u001b[39m\u001b[38;5;124mtime\u001b[39m\u001b[38;5;124m'\u001b[39m], SM\u001b[38;5;241m.\u001b[39msegmented_data)},\n\u001b[1;32m      7\u001b[0m                                coords \u001b[38;5;241m=\u001b[39m {\u001b[38;5;124m'\u001b[39m\u001b[38;5;124mx\u001b[39m\u001b[38;5;124m'\u001b[39m: np\u001b[38;5;241m.\u001b[39marange(shp[\u001b[38;5;241m0\u001b[39m]),\n\u001b[1;32m      8\u001b[0m                                \u001b[38;5;124m'\u001b[39m\u001b[38;5;124my\u001b[39m\u001b[38;5;124m'\u001b[39m: np\u001b[38;5;241m.\u001b[39marange(shp[\u001b[38;5;241m1\u001b[39m]),\n\u001b[0;32m   (...)\u001b[0m\n\u001b[1;32m     11\u001b[0m                                \u001b[38;5;124m'\u001b[39m\u001b[38;5;124mfeature\u001b[39m\u001b[38;5;124m'\u001b[39m: SM\u001b[38;5;241m.\u001b[39mfeature_names}\n\u001b[1;32m     12\u001b[0m                      )\n\u001b[0;32m---> 13\u001b[0m \u001b[43mdata\u001b[49m\u001b[38;5;241;43m.\u001b[39;49m\u001b[43mto_netcdf4\u001b[49m(path)\n",
      "File \u001b[0;32m~/miniconda3/lib/python3.9/site-packages/xarray/core/common.py:256\u001b[0m, in \u001b[0;36mAttrAccessMixin.__getattr__\u001b[0;34m(self, name)\u001b[0m\n\u001b[1;32m    254\u001b[0m         \u001b[38;5;28;01mwith\u001b[39;00m suppress(\u001b[38;5;167;01mKeyError\u001b[39;00m):\n\u001b[1;32m    255\u001b[0m             \u001b[38;5;28;01mreturn\u001b[39;00m source[name]\n\u001b[0;32m--> 256\u001b[0m \u001b[38;5;28;01mraise\u001b[39;00m \u001b[38;5;167;01mAttributeError\u001b[39;00m(\n\u001b[1;32m    257\u001b[0m     \u001b[38;5;124mf\u001b[39m\u001b[38;5;124m\"\u001b[39m\u001b[38;5;132;01m{\u001b[39;00m\u001b[38;5;28mtype\u001b[39m(\u001b[38;5;28mself\u001b[39m)\u001b[38;5;241m.\u001b[39m\u001b[38;5;18m__name__\u001b[39m\u001b[38;5;132;01m!r}\u001b[39;00m\u001b[38;5;124m object has no attribute \u001b[39m\u001b[38;5;132;01m{\u001b[39;00mname\u001b[38;5;132;01m!r}\u001b[39;00m\u001b[38;5;124m\"\u001b[39m\n\u001b[1;32m    258\u001b[0m )\n",
      "\u001b[0;31mAttributeError\u001b[0m: 'Dataset' object has no attribute 'to_netcdf4'"
     ]
    }
   ],
   "source": [
    "path = os.path.join(SM.training_path, 'segmented.nc')\n",
    "\n",
    "#TODO: propagate labels from raw data\n",
    "#TODO: if self.segmented_data is a dask array, rechunk for saving\n",
    "shp = SM.segmented_data.shape\n",
    "data = xr.Dataset({'segmented': (['x','y','z','time'], SM.segmented_data)},\n",
    "                               coords = {'x': np.arange(shp[0]),\n",
    "                               'y': np.arange(shp[1]),\n",
    "                               'z': np.arange(shp[2]),\n",
    "                               'time': np.arange(shp[3]),\n",
    "                               'feature': SM.feature_names}\n",
    "                     )\n",
    "data.to"
   ]
  },
  {
   "cell_type": "code",
   "execution_count": 41,
   "id": "52621d3e-d386-46a0-b563-7969f9b83e98",
   "metadata": {},
   "outputs": [],
   "source": [
    "data.to_netcdf(path)"
   ]
  },
  {
   "cell_type": "code",
   "execution_count": 42,
   "id": "45ea59ac-2b91-49cf-ae6a-af6d4ae6c82b",
   "metadata": {},
   "outputs": [
    {
     "ename": "NameError",
     "evalue": "name 'sigsize' is not defined",
     "output_type": "error",
     "traceback": [
      "\u001b[0;31m---------------------------------------------------------------------------\u001b[0m",
      "\u001b[0;31mNameError\u001b[0m                                 Traceback (most recent call last)",
      "Input \u001b[0;32mIn [42]\u001b[0m, in \u001b[0;36m<cell line: 1>\u001b[0;34m()\u001b[0m\n\u001b[0;32m----> 1\u001b[0m \u001b[43mTS\u001b[49m\u001b[38;5;241;43m.\u001b[39;49m\u001b[43mplot_importance\u001b[49m\u001b[43m(\u001b[49m\u001b[43m)\u001b[49m\n",
      "File \u001b[0;32m~/lib/pytrainseg/training_functions.py:368\u001b[0m, in \u001b[0;36mtrain_segmentation.plot_importance\u001b[0;34m(self, figsize)\u001b[0m\n\u001b[1;32m    367\u001b[0m \u001b[38;5;28;01mdef\u001b[39;00m \u001b[38;5;21mplot_importance\u001b[39m(\u001b[38;5;28mself\u001b[39m, figsize\u001b[38;5;241m=\u001b[39m(\u001b[38;5;241m16\u001b[39m,\u001b[38;5;241m9\u001b[39m)):\n\u001b[0;32m--> 368\u001b[0m     plt\u001b[38;5;241m.\u001b[39mfigure(figsize\u001b[38;5;241m=\u001b[39m\u001b[43msigsize\u001b[49m)\n\u001b[1;32m    369\u001b[0m     plt\u001b[38;5;241m.\u001b[39mstem(\u001b[38;5;28mself\u001b[39m\u001b[38;5;241m.\u001b[39mfeature_names, \u001b[38;5;28mself\u001b[39m\u001b[38;5;241m.\u001b[39mclf\u001b[38;5;241m.\u001b[39mfeature_importances_,\u001b[38;5;124m'\u001b[39m\u001b[38;5;124mx\u001b[39m\u001b[38;5;124m'\u001b[39m)\n\u001b[1;32m    370\u001b[0m     plt\u001b[38;5;241m.\u001b[39mxticks(rotation\u001b[38;5;241m=\u001b[39m\u001b[38;5;241m90\u001b[39m)\n",
      "\u001b[0;31mNameError\u001b[0m: name 'sigsize' is not defined"
     ]
    }
   ],
   "source": [
    "TS.plot_importance()"
   ]
  },
  {
   "cell_type": "code",
   "execution_count": 45,
   "id": "836fd61b-6ccd-4711-a512-690c74c72ef0",
   "metadata": {},
   "outputs": [
    {
     "name": "stderr",
     "output_type": "stream",
     "text": [
      "/tmp/ipykernel_643997/3278944968.py:2: MatplotlibDeprecationWarning: Passing the linefmt parameter positionally is deprecated since Matplotlib 3.5; the parameter will become keyword-only two minor releases later.\n",
      "  plt.stem(TS.feature_names, TS.clf.feature_importances_,'x')\n"
     ]
    },
    {
     "data": {
      "text/plain": [
       "Text(0, 0.5, 'importance')"
      ]
     },
     "execution_count": 45,
     "metadata": {},
     "output_type": "execute_result"
    },
    {
     "data": {
      "image/png": "[encoded data removed]",
      "text/plain": [
       "<Figure size 1152x648 with 1 Axes>"
      ]
     },
     "metadata": {
      "needs_background": "light"
     },
     "output_type": "display_data"
    }
   ],
   "source": [
    "plt.figure(figsize=(16,9))\n",
    "plt.stem(TS.feature_names, TS.clf.feature_importances_,'x')\n",
    "plt.xticks(rotation=90)\n",
    "plt.ylabel('importance') "
   ]
  },
  {
   "cell_type": "code",
   "execution_count": null,
   "id": "12df3a79-ec59-485f-b0cc-122c1cba3e02",
   "metadata": {},
   "outputs": [],
   "source": []
  }
 ],
 "metadata": {
  "kernelspec": {
   "display_name": "Python 3 (ipykernel)",
   "language": "python",
   "name": "python3"
  },
  "language_info": {
   "codemirror_mode": {
    "name": "ipython",
    "version": 3
   },
   "file_extension": ".py",
   "mimetype": "text/x-python",
   "name": "python",
   "nbconvert_exporter": "python",
   "pygments_lexer": "ipython3",
   "version": "3.9.13"
  }
 },
 "nbformat": 4,
 "nbformat_minor": 5
}
