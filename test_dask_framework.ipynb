{
 "cells": [
  {
   "cell_type": "code",
   "execution_count": 1,
   "id": "7813dcfd-c194-4ba3-a4b4-6888e8f3e705",
   "metadata": {},
   "outputs": [
    {
     "name": "stdout",
     "output_type": "stream",
     "text": [
      "Dashboard at http://127.0.0.1:8787/status\n"
     ]
    }
   ],
   "source": [
    "from filter_functions import image_filter"
   ]
  },
  {
   "cell_type": "code",
   "execution_count": 2,
   "id": "4930da73-a20c-4aef-a4ab-165a559bc8e1",
   "metadata": {},
   "outputs": [],
   "source": [
    "from training_functions import train_segmentation"
   ]
  },
  {
   "cell_type": "code",
   "execution_count": 25,
   "id": "1999438b-02db-49ca-84b1-b185dc7c5bf0",
   "metadata": {},
   "outputs": [],
   "source": [
    "import dask\n",
    "import xarray as xr\n",
    "import numpy as np\n",
    "import  matplotlib.pyplot as plt\n",
    "import os\n",
    "from ipywidgets import Image\n",
    "from ipywidgets import ColorPicker, IntSlider, link, AppLayout, HBox\n",
    "from ipycanvas import  hold_canvas,  MultiCanvas #RoughCanvas,Canvas,"
   ]
  },
  {
   "cell_type": "code",
   "execution_count": 4,
   "id": "16be2672-1d39-489e-b11c-b58e24cf76f0",
   "metadata": {},
   "outputs": [],
   "source": [
    "path = '/home/fische_r/NAS/testing/Jeremy_tomo/tomodata.nc'\n",
    "path = r\"C:\\Zwischenlager\\tomodata.nc\""
   ]
  },
  {
   "cell_type": "code",
   "execution_count": 5,
   "id": "3ec2d882-d6e0-46a4-882d-1de1a66e7ba4",
   "metadata": {},
   "outputs": [],
   "source": [
    "IF = image_filter(data_path=path)"
   ]
  },
  {
   "cell_type": "code",
   "execution_count": 6,
   "id": "6a59e105-1cce-4d75-a46a-b7998428e645",
   "metadata": {},
   "outputs": [],
   "source": [
    "IF.open_raw_data()"
   ]
  },
  {
   "cell_type": "code",
   "execution_count": 7,
   "id": "2bc21c8d-4984-4a24-b3f8-1e1720a52d0e",
   "metadata": {},
   "outputs": [
    {
     "data": {
      "text/html": [
       "<table>\n",
       "    <tr>\n",
       "        <td>\n",
       "            <table>\n",
       "                <thead>\n",
       "                    <tr>\n",
       "                        <td> </td>\n",
       "                        <th> Array </th>\n",
       "                        <th> Chunk </th>\n",
       "                    </tr>\n",
       "                </thead>\n",
       "                <tbody>\n",
       "                    \n",
       "                    <tr>\n",
       "                        <th> Bytes </th>\n",
       "                        <td> 110.93 MiB </td>\n",
       "                        <td> 10.83 MiB </td>\n",
       "                    </tr>\n",
       "                    \n",
       "                    <tr>\n",
       "                        <th> Shape </th>\n",
       "                        <td> (200, 39, 233, 8) </td>\n",
       "                        <td> (50, 39, 91, 8) </td>\n",
       "                    </tr>\n",
       "                    <tr>\n",
       "                        <th> Count </th>\n",
       "                        <td> 1 Graph Layer </td>\n",
       "                        <td> 12 Chunks </td>\n",
       "                    </tr>\n",
       "                    <tr>\n",
       "                    <th> Type </th>\n",
       "                    <td> float64 </td>\n",
       "                    <td> numpy.ndarray </td>\n",
       "                    </tr>\n",
       "                </tbody>\n",
       "            </table>\n",
       "        </td>\n",
       "        <td>\n",
       "        <svg width=\"452\" height=\"194\" style=\"stroke:rgb(0,0,0);stroke-width:1\" >\n",
       "\n",
       "  <!-- Horizontal lines -->\n",
       "  <line x1=\"0\" y1=\"0\" x2=\"103\" y2=\"0\" style=\"stroke-width:2\" />\n",
       "  <line x1=\"0\" y1=\"25\" x2=\"103\" y2=\"25\" style=\"stroke-width:2\" />\n",
       "\n",
       "  <!-- Vertical lines -->\n",
       "  <line x1=\"0\" y1=\"0\" x2=\"0\" y2=\"25\" style=\"stroke-width:2\" />\n",
       "  <line x1=\"25\" y1=\"0\" x2=\"25\" y2=\"25\" />\n",
       "  <line x1=\"51\" y1=\"0\" x2=\"51\" y2=\"25\" />\n",
       "  <line x1=\"77\" y1=\"0\" x2=\"77\" y2=\"25\" />\n",
       "  <line x1=\"103\" y1=\"0\" x2=\"103\" y2=\"25\" style=\"stroke-width:2\" />\n",
       "\n",
       "  <!-- Colored Rectangle -->\n",
       "  <polygon points=\"0.0,0.0 103.00429184549355,0.0 103.00429184549355,25.412616514582485 0.0,25.412616514582485\" style=\"fill:#ECB172A0;stroke-width:0\"/>\n",
       "\n",
       "  <!-- Text -->\n",
       "  <text x=\"51.502146\" y=\"45.412617\" font-size=\"1.0rem\" font-weight=\"100\" text-anchor=\"middle\" >200</text>\n",
       "  <text x=\"123.004292\" y=\"12.706308\" font-size=\"1.0rem\" font-weight=\"100\" text-anchor=\"middle\" transform=\"rotate(0,123.004292,12.706308)\">1</text>\n",
       "\n",
       "\n",
       "  <!-- Horizontal lines -->\n",
       "  <line x1=\"173\" y1=\"0\" x2=\"197\" y2=\"24\" style=\"stroke-width:2\" />\n",
       "  <line x1=\"173\" y1=\"46\" x2=\"197\" y2=\"71\" />\n",
       "  <line x1=\"173\" y1=\"93\" x2=\"197\" y2=\"117\" />\n",
       "  <line x1=\"173\" y1=\"120\" x2=\"197\" y2=\"144\" style=\"stroke-width:2\" />\n",
       "\n",
       "  <!-- Vertical lines -->\n",
       "  <line x1=\"173\" y1=\"0\" x2=\"173\" y2=\"120\" style=\"stroke-width:2\" />\n",
       "  <line x1=\"197\" y1=\"24\" x2=\"197\" y2=\"144\" style=\"stroke-width:2\" />\n",
       "\n",
       "  <!-- Colored Rectangle -->\n",
       "  <polygon points=\"173.0,0.0 197.24915781783616,24.249157817836156 197.24915781783616,144.24915781783616 173.0,120.0\" style=\"fill:#ECB172A0;stroke-width:0\"/>\n",
       "\n",
       "  <!-- Horizontal lines -->\n",
       "  <line x1=\"173\" y1=\"0\" x2=\"205\" y2=\"0\" style=\"stroke-width:2\" />\n",
       "  <line x1=\"197\" y1=\"24\" x2=\"229\" y2=\"24\" style=\"stroke-width:2\" />\n",
       "\n",
       "  <!-- Vertical lines -->\n",
       "  <line x1=\"173\" y1=\"0\" x2=\"197\" y2=\"24\" style=\"stroke-width:2\" />\n",
       "  <line x1=\"205\" y1=\"0\" x2=\"229\" y2=\"24\" style=\"stroke-width:2\" />\n",
       "\n",
       "  <!-- Colored Rectangle -->\n",
       "  <polygon points=\"173.0,0.0 205.20356383232797,0.0 229.45272165016414,24.249157817836156 197.24915781783616,24.249157817836156\" style=\"fill:#ECB172A0;stroke-width:0\"/>\n",
       "\n",
       "  <!-- Horizontal lines -->\n",
       "  <line x1=\"197\" y1=\"24\" x2=\"229\" y2=\"24\" style=\"stroke-width:2\" />\n",
       "  <line x1=\"197\" y1=\"71\" x2=\"229\" y2=\"71\" />\n",
       "  <line x1=\"197\" y1=\"117\" x2=\"229\" y2=\"117\" />\n",
       "  <line x1=\"197\" y1=\"144\" x2=\"229\" y2=\"144\" style=\"stroke-width:2\" />\n",
       "\n",
       "  <!-- Vertical lines -->\n",
       "  <line x1=\"197\" y1=\"24\" x2=\"197\" y2=\"144\" style=\"stroke-width:2\" />\n",
       "  <line x1=\"229\" y1=\"24\" x2=\"229\" y2=\"144\" style=\"stroke-width:2\" />\n",
       "\n",
       "  <!-- Colored Rectangle -->\n",
       "  <polygon points=\"197.24915781783616,24.249157817836156 229.45272165016414,24.249157817836156 229.45272165016414,144.24915781783616 197.24915781783616,144.24915781783616\" style=\"fill:#ECB172A0;stroke-width:0\"/>\n",
       "\n",
       "  <!-- Text -->\n",
       "  <text x=\"213.350940\" y=\"164.249158\" font-size=\"1.0rem\" font-weight=\"100\" text-anchor=\"middle\" >8</text>\n",
       "  <text x=\"249.452722\" y=\"84.249158\" font-size=\"1.0rem\" font-weight=\"100\" text-anchor=\"middle\" transform=\"rotate(-90,249.452722,84.249158)\">233</text>\n",
       "  <text x=\"175.124579\" y=\"152.124579\" font-size=\"1.0rem\" font-weight=\"100\" text-anchor=\"middle\" transform=\"rotate(45,175.124579,152.124579)\">39</text>\n",
       "</svg>\n",
       "        </td>\n",
       "    </tr>\n",
       "</table>"
      ],
      "text/plain": [
       "dask.array<array, shape=(200, 39, 233, 8), dtype=float64, chunksize=(50, 39, 91, 8), chunktype=numpy.ndarray>"
      ]
     },
     "execution_count": 7,
     "metadata": {},
     "output_type": "execute_result"
    }
   ],
   "source": [
    "IF.data"
   ]
  },
  {
   "cell_type": "code",
   "execution_count": 8,
   "id": "36190e50-90b8-4c47-bc5c-d5a5da69a4a7",
   "metadata": {},
   "outputs": [],
   "source": [
    "IF.prepare()"
   ]
  },
  {
   "cell_type": "code",
   "execution_count": 9,
   "id": "de4e35a6-e8dc-4585-b5e7-b608935203b3",
   "metadata": {},
   "outputs": [],
   "source": [
    "IF.stack_features()"
   ]
  },
  {
   "cell_type": "code",
   "execution_count": 10,
   "id": "f0e9730e-7887-45d0-961d-a92da744d4d4",
   "metadata": {},
   "outputs": [
    {
     "data": {
      "text/html": [
       "<table>\n",
       "    <tr>\n",
       "        <td>\n",
       "            <table>\n",
       "                <thead>\n",
       "                    <tr>\n",
       "                        <td> </td>\n",
       "                        <th> Array </th>\n",
       "                        <th> Chunk </th>\n",
       "                    </tr>\n",
       "                </thead>\n",
       "                <tbody>\n",
       "                    \n",
       "                    <tr>\n",
       "                        <th> Bytes </th>\n",
       "                        <td> 7.91 GiB </td>\n",
       "                        <td> 10.83 MiB </td>\n",
       "                    </tr>\n",
       "                    \n",
       "                    <tr>\n",
       "                        <th> Shape </th>\n",
       "                        <td> (200, 39, 233, 8, 73) </td>\n",
       "                        <td> (50, 39, 91, 8, 1) </td>\n",
       "                    </tr>\n",
       "                    <tr>\n",
       "                        <th> Count </th>\n",
       "                        <td> 360 Graph Layers </td>\n",
       "                        <td> 876 Chunks </td>\n",
       "                    </tr>\n",
       "                    <tr>\n",
       "                    <th> Type </th>\n",
       "                    <td> float64 </td>\n",
       "                    <td> numpy.ndarray </td>\n",
       "                    </tr>\n",
       "                </tbody>\n",
       "            </table>\n",
       "        </td>\n",
       "        <td>\n",
       "        <svg width=\"386\" height=\"153\" style=\"stroke:rgb(0,0,0);stroke-width:1\" >\n",
       "\n",
       "  <!-- Horizontal lines -->\n",
       "  <line x1=\"0\" y1=\"0\" x2=\"41\" y2=\"0\" style=\"stroke-width:2\" />\n",
       "  <line x1=\"0\" y1=\"25\" x2=\"41\" y2=\"25\" />\n",
       "  <line x1=\"0\" y1=\"51\" x2=\"41\" y2=\"51\" />\n",
       "  <line x1=\"0\" y1=\"77\" x2=\"41\" y2=\"77\" />\n",
       "  <line x1=\"0\" y1=\"103\" x2=\"41\" y2=\"103\" style=\"stroke-width:2\" />\n",
       "\n",
       "  <!-- Vertical lines -->\n",
       "  <line x1=\"0\" y1=\"0\" x2=\"0\" y2=\"103\" style=\"stroke-width:2\" />\n",
       "  <line x1=\"41\" y1=\"0\" x2=\"41\" y2=\"103\" style=\"stroke-width:2\" />\n",
       "\n",
       "  <!-- Colored Rectangle -->\n",
       "  <polygon points=\"0.0,0.0 41.22356829032147,0.0 41.22356829032147,103.00429184549355 0.0,103.00429184549355\" style=\"fill:#ECB172A0;stroke-width:0\"/>\n",
       "\n",
       "  <!-- Text -->\n",
       "  <text x=\"20.611784\" y=\"123.004292\" font-size=\"1.0rem\" font-weight=\"100\" text-anchor=\"middle\" >39</text>\n",
       "  <text x=\"61.223568\" y=\"51.502146\" font-size=\"1.0rem\" font-weight=\"100\" text-anchor=\"middle\" transform=\"rotate(-90,61.223568,51.502146)\">200</text>\n",
       "\n",
       "\n",
       "  <!-- Horizontal lines -->\n",
       "  <line x1=\"111\" y1=\"0\" x2=\"181\" y2=\"70\" style=\"stroke-width:2\" />\n",
       "  <line x1=\"111\" y1=\"32\" x2=\"181\" y2=\"102\" style=\"stroke-width:2\" />\n",
       "\n",
       "  <!-- Vertical lines -->\n",
       "  <line x1=\"111\" y1=\"0\" x2=\"111\" y2=\"32\" style=\"stroke-width:2\" />\n",
       "  <line x1=\"138\" y1=\"27\" x2=\"138\" y2=\"59\" />\n",
       "  <line x1=\"166\" y1=\"55\" x2=\"166\" y2=\"87\" />\n",
       "  <line x1=\"181\" y1=\"70\" x2=\"181\" y2=\"102\" style=\"stroke-width:2\" />\n",
       "\n",
       "  <!-- Colored Rectangle -->\n",
       "  <polygon points=\"111.0,0.0 181.58823529411765,70.58823529411765 181.58823529411765,102.79179912644562 111.0,32.20356383232797\" style=\"fill:#ECB172A0;stroke-width:0\"/>\n",
       "\n",
       "  <!-- Horizontal lines -->\n",
       "  <line x1=\"111\" y1=\"0\" x2=\"154\" y2=\"0\" style=\"stroke-width:2\" />\n",
       "  <line x1=\"138\" y1=\"27\" x2=\"182\" y2=\"27\" />\n",
       "  <line x1=\"166\" y1=\"55\" x2=\"209\" y2=\"55\" />\n",
       "  <line x1=\"181\" y1=\"70\" x2=\"225\" y2=\"70\" style=\"stroke-width:2\" />\n",
       "\n",
       "  <!-- Vertical lines -->\n",
       "  <line x1=\"111\" y1=\"0\" x2=\"181\" y2=\"70\" style=\"stroke-width:2\" />\n",
       "  <line x1=\"112\" y1=\"0\" x2=\"182\" y2=\"70\" />\n",
       "  <line x1=\"113\" y1=\"0\" x2=\"183\" y2=\"70\" />\n",
       "  <line x1=\"114\" y1=\"0\" x2=\"185\" y2=\"70\" />\n",
       "  <line x1=\"116\" y1=\"0\" x2=\"186\" y2=\"70\" />\n",
       "  <line x1=\"117\" y1=\"0\" x2=\"188\" y2=\"70\" />\n",
       "  <line x1=\"118\" y1=\"0\" x2=\"189\" y2=\"70\" />\n",
       "  <line x1=\"119\" y1=\"0\" x2=\"190\" y2=\"70\" />\n",
       "  <line x1=\"121\" y1=\"0\" x2=\"192\" y2=\"70\" />\n",
       "  <line x1=\"122\" y1=\"0\" x2=\"193\" y2=\"70\" />\n",
       "  <line x1=\"124\" y1=\"0\" x2=\"194\" y2=\"70\" />\n",
       "  <line x1=\"125\" y1=\"0\" x2=\"196\" y2=\"70\" />\n",
       "  <line x1=\"127\" y1=\"0\" x2=\"197\" y2=\"70\" />\n",
       "  <line x1=\"128\" y1=\"0\" x2=\"198\" y2=\"70\" />\n",
       "  <line x1=\"129\" y1=\"0\" x2=\"200\" y2=\"70\" />\n",
       "  <line x1=\"131\" y1=\"0\" x2=\"201\" y2=\"70\" />\n",
       "  <line x1=\"132\" y1=\"0\" x2=\"203\" y2=\"70\" />\n",
       "  <line x1=\"133\" y1=\"0\" x2=\"204\" y2=\"70\" />\n",
       "  <line x1=\"135\" y1=\"0\" x2=\"206\" y2=\"70\" />\n",
       "  <line x1=\"136\" y1=\"0\" x2=\"207\" y2=\"70\" />\n",
       "  <line x1=\"137\" y1=\"0\" x2=\"208\" y2=\"70\" />\n",
       "  <line x1=\"139\" y1=\"0\" x2=\"209\" y2=\"70\" />\n",
       "  <line x1=\"140\" y1=\"0\" x2=\"211\" y2=\"70\" />\n",
       "  <line x1=\"142\" y1=\"0\" x2=\"212\" y2=\"70\" />\n",
       "  <line x1=\"143\" y1=\"0\" x2=\"213\" y2=\"70\" />\n",
       "  <line x1=\"145\" y1=\"0\" x2=\"215\" y2=\"70\" />\n",
       "  <line x1=\"146\" y1=\"0\" x2=\"216\" y2=\"70\" />\n",
       "  <line x1=\"147\" y1=\"0\" x2=\"218\" y2=\"70\" />\n",
       "  <line x1=\"148\" y1=\"0\" x2=\"219\" y2=\"70\" />\n",
       "  <line x1=\"150\" y1=\"0\" x2=\"221\" y2=\"70\" />\n",
       "  <line x1=\"151\" y1=\"0\" x2=\"222\" y2=\"70\" />\n",
       "  <line x1=\"152\" y1=\"0\" x2=\"223\" y2=\"70\" />\n",
       "  <line x1=\"154\" y1=\"0\" x2=\"225\" y2=\"70\" style=\"stroke-width:2\" />\n",
       "\n",
       "  <!-- Colored Rectangle -->\n",
       "  <polygon points=\"111.0,0.0 154.6880918460065,0.0 225.27632714012415,70.58823529411765 181.58823529411765,70.58823529411765\" style=\"fill:#8B4903A0;stroke-width:0\"/>\n",
       "\n",
       "  <!-- Horizontal lines -->\n",
       "  <line x1=\"181\" y1=\"70\" x2=\"225\" y2=\"70\" style=\"stroke-width:2\" />\n",
       "  <line x1=\"181\" y1=\"102\" x2=\"225\" y2=\"102\" style=\"stroke-width:2\" />\n",
       "\n",
       "  <!-- Vertical lines -->\n",
       "  <line x1=\"181\" y1=\"70\" x2=\"181\" y2=\"102\" style=\"stroke-width:2\" />\n",
       "  <line x1=\"182\" y1=\"70\" x2=\"182\" y2=\"102\" />\n",
       "  <line x1=\"183\" y1=\"70\" x2=\"183\" y2=\"102\" />\n",
       "  <line x1=\"185\" y1=\"70\" x2=\"185\" y2=\"102\" />\n",
       "  <line x1=\"186\" y1=\"70\" x2=\"186\" y2=\"102\" />\n",
       "  <line x1=\"188\" y1=\"70\" x2=\"188\" y2=\"102\" />\n",
       "  <line x1=\"189\" y1=\"70\" x2=\"189\" y2=\"102\" />\n",
       "  <line x1=\"190\" y1=\"70\" x2=\"190\" y2=\"102\" />\n",
       "  <line x1=\"192\" y1=\"70\" x2=\"192\" y2=\"102\" />\n",
       "  <line x1=\"193\" y1=\"70\" x2=\"193\" y2=\"102\" />\n",
       "  <line x1=\"194\" y1=\"70\" x2=\"194\" y2=\"102\" />\n",
       "  <line x1=\"196\" y1=\"70\" x2=\"196\" y2=\"102\" />\n",
       "  <line x1=\"197\" y1=\"70\" x2=\"197\" y2=\"102\" />\n",
       "  <line x1=\"198\" y1=\"70\" x2=\"198\" y2=\"102\" />\n",
       "  <line x1=\"200\" y1=\"70\" x2=\"200\" y2=\"102\" />\n",
       "  <line x1=\"201\" y1=\"70\" x2=\"201\" y2=\"102\" />\n",
       "  <line x1=\"203\" y1=\"70\" x2=\"203\" y2=\"102\" />\n",
       "  <line x1=\"204\" y1=\"70\" x2=\"204\" y2=\"102\" />\n",
       "  <line x1=\"206\" y1=\"70\" x2=\"206\" y2=\"102\" />\n",
       "  <line x1=\"207\" y1=\"70\" x2=\"207\" y2=\"102\" />\n",
       "  <line x1=\"208\" y1=\"70\" x2=\"208\" y2=\"102\" />\n",
       "  <line x1=\"209\" y1=\"70\" x2=\"209\" y2=\"102\" />\n",
       "  <line x1=\"211\" y1=\"70\" x2=\"211\" y2=\"102\" />\n",
       "  <line x1=\"212\" y1=\"70\" x2=\"212\" y2=\"102\" />\n",
       "  <line x1=\"213\" y1=\"70\" x2=\"213\" y2=\"102\" />\n",
       "  <line x1=\"215\" y1=\"70\" x2=\"215\" y2=\"102\" />\n",
       "  <line x1=\"216\" y1=\"70\" x2=\"216\" y2=\"102\" />\n",
       "  <line x1=\"218\" y1=\"70\" x2=\"218\" y2=\"102\" />\n",
       "  <line x1=\"219\" y1=\"70\" x2=\"219\" y2=\"102\" />\n",
       "  <line x1=\"221\" y1=\"70\" x2=\"221\" y2=\"102\" />\n",
       "  <line x1=\"222\" y1=\"70\" x2=\"222\" y2=\"102\" />\n",
       "  <line x1=\"223\" y1=\"70\" x2=\"223\" y2=\"102\" />\n",
       "  <line x1=\"225\" y1=\"70\" x2=\"225\" y2=\"102\" style=\"stroke-width:2\" />\n",
       "\n",
       "  <!-- Colored Rectangle -->\n",
       "  <polygon points=\"181.58823529411765,70.58823529411765 225.27632714012418,70.58823529411765 225.27632714012418,102.79179912644562 181.58823529411765,102.79179912644562\" style=\"fill:#8B4903A0;stroke-width:0\"/>\n",
       "\n",
       "  <!-- Text -->\n",
       "  <text x=\"203.432281\" y=\"122.791799\" font-size=\"1.0rem\" font-weight=\"100\" text-anchor=\"middle\" >73</text>\n",
       "  <text x=\"245.276327\" y=\"86.690017\" font-size=\"1.0rem\" font-weight=\"100\" text-anchor=\"middle\" transform=\"rotate(0,245.276327,86.690017)\">8</text>\n",
       "  <text x=\"136.294118\" y=\"87.497681\" font-size=\"1.0rem\" font-weight=\"100\" text-anchor=\"middle\" transform=\"rotate(45,136.294118,87.497681)\">233</text>\n",
       "</svg>\n",
       "        </td>\n",
       "    </tr>\n",
       "</table>"
      ],
      "text/plain": [
       "dask.array<stack, shape=(200, 39, 233, 8, 73), dtype=float64, chunksize=(50, 39, 91, 8, 1), chunktype=numpy.ndarray>"
      ]
     },
     "execution_count": 10,
     "metadata": {},
     "output_type": "execute_result"
    }
   ],
   "source": [
    "IF.feature_stack"
   ]
  },
  {
   "cell_type": "code",
   "execution_count": 11,
   "id": "017fcf9f-eb6b-40ca-a993-840fb659a171",
   "metadata": {},
   "outputs": [],
   "source": [
    "IF.make_xarray_nc()"
   ]
  },
  {
   "cell_type": "code",
   "execution_count": 12,
   "id": "b8e77886-5624-4a4c-ad25-d71b7fadadd6",
   "metadata": {},
   "outputs": [],
   "source": [
    "# IF.result"
   ]
  },
  {
   "cell_type": "code",
   "execution_count": 13,
   "id": "3e6495a9-24d3-42c8-8c3b-992d8eb75440",
   "metadata": {},
   "outputs": [],
   "source": [
    "# IF.compute()"
   ]
  },
  {
   "cell_type": "code",
   "execution_count": 14,
   "id": "566b620b-fc2b-41f2-9f81-b7012a54889a",
   "metadata": {},
   "outputs": [],
   "source": [
    "# IF.feature_stack.persist()"
   ]
  },
  {
   "cell_type": "code",
   "execution_count": 15,
   "id": "7d7be12b-64d4-470c-b404-a46dd0bab181",
   "metadata": {},
   "outputs": [],
   "source": [
    "# test = IF.result['feature_stack'].sel(x=0,time=0).data"
   ]
  },
  {
   "cell_type": "code",
   "execution_count": 16,
   "id": "8d585cfe-cfc4-494b-87df-37d10b795292",
   "metadata": {},
   "outputs": [],
   "source": [
    "# test"
   ]
  },
  {
   "cell_type": "code",
   "execution_count": 17,
   "id": "d93d06e5-df44-4160-b712-ba7490d13bb2",
   "metadata": {},
   "outputs": [],
   "source": [
    "training_path = r\"C:\\Zwischenlager\\Jeremy_tomo\"\n",
    "if not os.path.exists(training_path):\n",
    "    os.mkdir(training_path)"
   ]
  },
  {
   "cell_type": "code",
   "execution_count": 18,
   "id": "bb0f444f-c133-4328-b37c-9fd78ca41d75",
   "metadata": {},
   "outputs": [],
   "source": [
    "TS = train_segmentation(training_path=training_path)"
   ]
  },
  {
   "cell_type": "code",
   "execution_count": 19,
   "id": "2e287f23-ff95-4fe1-af9d-2c9c7ab5c3bd",
   "metadata": {},
   "outputs": [],
   "source": [
    "TS.import_lazy_feature_stack(IF.result)"
   ]
  },
  {
   "cell_type": "code",
   "execution_count": 20,
   "id": "1c3d3654-bb84-4361-b51b-9b4a232442c2",
   "metadata": {},
   "outputs": [
    {
     "name": "stdout",
     "output_type": "stream",
     "text": [
      "You could try  y = 27  and  z = 231\n"
     ]
    }
   ],
   "source": [
    "TS.suggest_training_set()"
   ]
  },
  {
   "cell_type": "markdown",
   "id": "d3dbc24f-440c-4ef5-8ab8-4379b039f57f",
   "metadata": {},
   "source": [
    "### iterative training"
   ]
  },
  {
   "cell_type": "code",
   "execution_count": 21,
   "id": "75777fb5-7017-4bd6-9705-8ae96e1bd607",
   "metadata": {},
   "outputs": [],
   "source": [
    "c1 = 'y'\n",
    "p1 = 10\n",
    "c2 = 'time'\n",
    "p2 = 0"
   ]
  },
  {
   "cell_type": "code",
   "execution_count": 22,
   "id": "614b67be-fe01-4872-bd92-9049a880dd8d",
   "metadata": {},
   "outputs": [
    {
     "name": "stderr",
     "output_type": "stream",
     "text": [
      "C:\\git_repos\\01_Python\\pytrainseg\\training_functions.py:173: RuntimeWarning: invalid value encountered in divide\n",
      "  diff = diff/diff.max()*255\n"
     ]
    }
   ],
   "source": [
    "TS.load_training_set(c1, p1, c2, p2)"
   ]
  },
  {
   "cell_type": "code",
   "execution_count": 23,
   "id": "3d4d56e0-dc56-4c94-9e1a-88bb2a034761",
   "metadata": {},
   "outputs": [],
   "source": [
    "TS.interface()"
   ]
  },
  {
   "cell_type": "code",
   "execution_count": 26,
   "id": "fe4d9ed9-bb32-48b9-a782-7dd1b0ef98cd",
   "metadata": {},
   "outputs": [],
   "source": [
    "# TS.current_im8 = TS.current_im8.compute()"
   ]
  },
  {
   "cell_type": "raw",
   "id": "07d3c3af-1152-439f-a116-f969cdb47c04",
   "metadata": {},
   "source": [
    "alpha = 0.15\n",
    "im8 = TS.current_im8\n",
    "resultim = TS.current_result\n",
    "\n",
    "width = im8.shape[1]\n",
    "height = im8.shape[0]\n",
    "\n",
    "Mcanvas = MultiCanvas(4, width=width, height=height)\n",
    "background = Mcanvas[0]\n",
    "resultdisplay = Mcanvas[2]\n",
    "truthdisplay = Mcanvas[1]\n",
    "canvas = Mcanvas[3]\n",
    "canvas.sync_image_data = True\n",
    "\n",
    "drawing = False\n",
    "position = None\n",
    "shape = []\n",
    "\n",
    "def on_mouse_down(x, y):\n",
    "    global drawing\n",
    "    global position\n",
    "    global shape\n",
    "\n",
    "    drawing = True\n",
    "    position = (x, y)\n",
    "    shape = [position]\n",
    "\n",
    "def on_mouse_move(x, y):\n",
    "    global drawing\n",
    "    global position\n",
    "    global shape\n",
    "\n",
    "    if not drawing:\n",
    "        return\n",
    "\n",
    "    with hold_canvas():\n",
    "        canvas.stroke_line(position[0], position[1], x, y)\n",
    "\n",
    "        position = (x, y)\n",
    "\n",
    "    shape.append(position)\n",
    "\n",
    "def on_mouse_up(x, y):\n",
    "    global drawing\n",
    "    global positiondu\n",
    "    global shape\n",
    "\n",
    "    drawing = False\n",
    "\n",
    "    with hold_canvas():\n",
    "        canvas.stroke_line(position[0], position[1], x, y)\n",
    "        canvas.fill_polygon(shape)\n",
    "\n",
    "    shape = []\n",
    "\n",
    "image_data = np.stack((im8, im8, im8), axis=2)\n",
    "# image_data = np.stack((diff*2, diff*2, diff*2), axis=2)\n",
    "background.put_image_data(image_data, 0, 0)\n",
    "\n",
    "resultdisplay.global_alpha = alpha\n",
    "\n",
    "if np.any(resultim>0):\n",
    "    result_data = np.stack((255*(resultim==0), 255*(resultim==1), 255*(resultim==2)), axis=2)\n",
    "else:\n",
    "    result_data = np.stack((0*resultim, 0*resultim, 0*resultim), axis=2)\n",
    "resultdisplay.put_image_data(result_data, 0, 0)\n",
    "\n",
    "canvas.on_mouse_down(on_mouse_down)\n",
    "canvas.on_mouse_move(on_mouse_move)\n",
    "canvas.on_mouse_up(on_mouse_up)\n",
    "\n",
    "# canvas.stroke_style = \"#749cb8\"\n",
    "# canvas.global_alpha = 0.75\n",
    "\n",
    "picker = ColorPicker(description=\"Color:\", value=\"#ff0000\")\n",
    "slidealpha = IntSlider(description=\"Result overlay\", value=0.15)\n",
    "\n",
    "link((picker, \"value\"), (canvas, \"stroke_style\"))\n",
    "link((picker, \"value\"), (canvas, \"fill_style\"))\n",
    "# link((slidealpha, \"value\"), (resultdisplay, \"global_alpha\"))\n",
    "\n",
    "HBox((Mcanvas, picker, slidealpha))"
   ]
  },
  {
   "cell_type": "code",
   "execution_count": null,
   "id": "8915c866-d64b-4990-9ae4-4fd4477c177e",
   "metadata": {},
   "outputs": [],
   "source": []
  }
 ],
 "metadata": {
  "kernelspec": {
   "display_name": "Python 3 (ipykernel)",
   "language": "python",
   "name": "python3"
  },
  "language_info": {
   "codemirror_mode": {
    "name": "ipython",
    "version": 3
   },
   "file_extension": ".py",
   "mimetype": "text/x-python",
   "name": "python",
   "nbconvert_exporter": "python",
   "pygments_lexer": "ipython3",
   "version": "3.10.5"
  }
 },
 "nbformat": 4,
 "nbformat_minor": 5
}
