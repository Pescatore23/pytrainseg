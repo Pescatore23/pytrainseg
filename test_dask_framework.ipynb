{
 "cells": [
  {
   "cell_type": "code",
   "execution_count": 1,
   "id": "7813dcfd-c194-4ba3-a4b4-6888e8f3e705",
   "metadata": {},
   "outputs": [
    {
     "name": "stderr",
     "output_type": "stream",
     "text": [
      "2022-08-18 14:45:21,801 - distributed.diskutils - INFO - Found stale lock file and directory '/tmp/dask-worker-space/worker-ehygh630', purging\n",
      "2022-08-18 14:45:21,801 - distributed.diskutils - INFO - Found stale lock file and directory '/tmp/dask-worker-space/worker-4zgswl0v', purging\n",
      "2022-08-18 14:45:21,801 - distributed.diskutils - INFO - Found stale lock file and directory '/tmp/dask-worker-space/worker-7a9f4vx5', purging\n",
      "2022-08-18 14:45:21,801 - distributed.diskutils - INFO - Found stale lock file and directory '/tmp/dask-worker-space/worker-9jcgnr2g', purging\n"
     ]
    },
    {
     "name": "stdout",
     "output_type": "stream",
     "text": [
      "Dashboard at http://127.0.0.1:8787/status\n"
     ]
    }
   ],
   "source": [
    "from filter_functions import image_filter"
   ]
  },
  {
   "cell_type": "code",
   "execution_count": 2,
   "id": "4930da73-a20c-4aef-a4ab-165a559bc8e1",
   "metadata": {},
   "outputs": [],
   "source": [
    "from training_functions import train_segmentation"
   ]
  },
  {
   "cell_type": "code",
   "execution_count": 3,
   "id": "1999438b-02db-49ca-84b1-b185dc7c5bf0",
   "metadata": {},
   "outputs": [],
   "source": [
    "# import dask\n",
    "# import xarray as xr\n",
    "import numpy as np\n",
    "import  matplotlib.pyplot as plt\n",
    "import os\n",
    "from ipywidgets import Image\n",
    "from ipywidgets import ColorPicker, IntSlider, link, AppLayout, HBox\n",
    "from ipycanvas import  hold_canvas,  MultiCanvas #RoughCanvas,Canvas,\n",
    "import imageio"
   ]
  },
  {
   "cell_type": "code",
   "execution_count": 4,
   "id": "5514ac86-855f-4e80-8dbd-e92358e5878b",
   "metadata": {},
   "outputs": [],
   "source": [
    "def on_mouse_down(x, y):\n",
    "    global drawing\n",
    "    global position\n",
    "    global shape\n",
    "    drawing = True\n",
    "    position = (x, y)\n",
    "    shape = [position]\n",
    "\n",
    "def on_mouse_move(x, y):\n",
    "    global drawing\n",
    "    global position\n",
    "    global shape\n",
    "    if not drawing:\n",
    "        return\n",
    "    with hold_canvas():\n",
    "        canvas.stroke_line(position[0], position[1], x, y)\n",
    "        position = (x, y)\n",
    "    shape.append(position)\n",
    "\n",
    "def on_mouse_up(x, y):\n",
    "    global drawing\n",
    "    global positiondu\n",
    "    global shape\n",
    "    drawing = False\n",
    "    with hold_canvas():\n",
    "        canvas.stroke_line(position[0], position[1], x, y)\n",
    "        canvas.fill_polygon(shape)\n",
    "    shape = []"
   ]
  },
  {
   "cell_type": "code",
   "execution_count": 5,
   "id": "16be2672-1d39-489e-b11c-b58e24cf76f0",
   "metadata": {},
   "outputs": [],
   "source": [
    "path = '/home/fische_r/NAS/testing/Jeremy_tomo/tomodata.nc'\n",
    "# path = r\"C:\\Zwischenlager\\tomodata.nc\""
   ]
  },
  {
   "cell_type": "code",
   "execution_count": 6,
   "id": "3ec2d882-d6e0-46a4-882d-1de1a66e7ba4",
   "metadata": {},
   "outputs": [],
   "source": [
    "IF = image_filter(data_path=path)"
   ]
  },
  {
   "cell_type": "code",
   "execution_count": 7,
   "id": "6a59e105-1cce-4d75-a46a-b7998428e645",
   "metadata": {},
   "outputs": [],
   "source": [
    "IF.open_raw_data()"
   ]
  },
  {
   "cell_type": "code",
   "execution_count": 8,
   "id": "2bc21c8d-4984-4a24-b3f8-1e1720a52d0e",
   "metadata": {},
   "outputs": [],
   "source": [
    "# IF.data"
   ]
  },
  {
   "cell_type": "code",
   "execution_count": 9,
   "id": "36190e50-90b8-4c47-bc5c-d5a5da69a4a7",
   "metadata": {},
   "outputs": [],
   "source": [
    "IF.prepare()"
   ]
  },
  {
   "cell_type": "code",
   "execution_count": 10,
   "id": "de4e35a6-e8dc-4585-b5e7-b608935203b3",
   "metadata": {},
   "outputs": [],
   "source": [
    "IF.stack_features()"
   ]
  },
  {
   "cell_type": "code",
   "execution_count": 11,
   "id": "f0e9730e-7887-45d0-961d-a92da744d4d4",
   "metadata": {},
   "outputs": [],
   "source": [
    "# IF.feature_stack"
   ]
  },
  {
   "cell_type": "code",
   "execution_count": 12,
   "id": "017fcf9f-eb6b-40ca-a993-840fb659a171",
   "metadata": {},
   "outputs": [],
   "source": [
    "IF.make_xarray_nc()"
   ]
  },
  {
   "cell_type": "code",
   "execution_count": 13,
   "id": "b8e77886-5624-4a4c-ad25-d71b7fadadd6",
   "metadata": {},
   "outputs": [],
   "source": [
    "# IF.result"
   ]
  },
  {
   "cell_type": "code",
   "execution_count": 14,
   "id": "3e6495a9-24d3-42c8-8c3b-992d8eb75440",
   "metadata": {},
   "outputs": [],
   "source": [
    "# IF.compute()"
   ]
  },
  {
   "cell_type": "code",
   "execution_count": 15,
   "id": "566b620b-fc2b-41f2-9f81-b7012a54889a",
   "metadata": {},
   "outputs": [],
   "source": [
    "# IF.feature_stack.persist()"
   ]
  },
  {
   "cell_type": "code",
   "execution_count": 16,
   "id": "7d7be12b-64d4-470c-b404-a46dd0bab181",
   "metadata": {},
   "outputs": [],
   "source": [
    "# test = IF.result['feature_stack'].sel(x=0,time=0).data"
   ]
  },
  {
   "cell_type": "code",
   "execution_count": 17,
   "id": "8d585cfe-cfc4-494b-87df-37d10b795292",
   "metadata": {},
   "outputs": [],
   "source": [
    "# test"
   ]
  },
  {
   "cell_type": "code",
   "execution_count": 18,
   "id": "d93d06e5-df44-4160-b712-ba7490d13bb2",
   "metadata": {},
   "outputs": [],
   "source": [
    "# training_path = r\"C:\\Zwischenlager\\Jeremy_tomo\"\n",
    "training_path = '/home/fische_r/NAS/testing/Jeremy_tomo'\n",
    "if not os.path.exists(training_path):\n",
    "    os.mkdir(training_path)"
   ]
  },
  {
   "cell_type": "code",
   "execution_count": 19,
   "id": "bb0f444f-c133-4328-b37c-9fd78ca41d75",
   "metadata": {},
   "outputs": [],
   "source": [
    "TS = train_segmentation(training_path=training_path)"
   ]
  },
  {
   "cell_type": "code",
   "execution_count": 20,
   "id": "2e287f23-ff95-4fe1-af9d-2c9c7ab5c3bd",
   "metadata": {},
   "outputs": [],
   "source": [
    "TS.import_lazy_feature_stack(IF.result)"
   ]
  },
  {
   "cell_type": "markdown",
   "id": "d3dbc24f-440c-4ef5-8ab8-4379b039f57f",
   "metadata": {},
   "source": [
    "### iterative training, if you have a training set, skip here"
   ]
  },
  {
   "cell_type": "code",
   "execution_count": 21,
   "id": "1c3d3654-bb84-4361-b51b-9b4a232442c2",
   "metadata": {},
   "outputs": [
    {
     "name": "stdout",
     "output_type": "stream",
     "text": [
      "You could try  time = 5  and  y = 15\n",
      "However, please sort it like the original xyztime\n"
     ]
    }
   ],
   "source": [
    "TS.suggest_training_set()"
   ]
  },
  {
   "cell_type": "code",
   "execution_count": 22,
   "id": "75777fb5-7017-4bd6-9705-8ae96e1bd607",
   "metadata": {},
   "outputs": [],
   "source": [
    "c1 = 'y'\n",
    "p1 = 10\n",
    "c2 = 'time'\n",
    "p2 = 0"
   ]
  },
  {
   "cell_type": "code",
   "execution_count": 23,
   "id": "614b67be-fe01-4872-bd92-9049a880dd8d",
   "metadata": {},
   "outputs": [
    {
     "name": "stdout",
     "output_type": "stream",
     "text": [
      "existing label set loaded\n"
     ]
    },
    {
     "name": "stderr",
     "output_type": "stream",
     "text": [
      "/mnt/nas_Uwrite/fische_r/lib/pytrainseg/training_functions.py:176: RuntimeWarning: invalid value encountered in divide\n",
      "  diff = diff/diff.max()*255\n"
     ]
    }
   ],
   "source": [
    "TS.load_training_set(c1, p1, c2, p2)"
   ]
  },
  {
   "cell_type": "code",
   "execution_count": 24,
   "id": "3d4d56e0-dc56-4c94-9e1a-88bb2a034761",
   "metadata": {},
   "outputs": [],
   "source": [
    "# TS.interface()"
   ]
  },
  {
   "cell_type": "code",
   "execution_count": 25,
   "id": "fe4d9ed9-bb32-48b9-a782-7dd1b0ef98cd",
   "metadata": {},
   "outputs": [],
   "source": [
    "# TS.current_im8 = TS.current_im8.compute()"
   ]
  },
  {
   "cell_type": "code",
   "execution_count": 26,
   "id": "d763e67d-02b8-4b95-906e-b830bd0dd8f1",
   "metadata": {
    "tags": []
   },
   "outputs": [
    {
     "data": {
      "application/vnd.jupyter.widget-view+json": {
       "model_id": "bf65ca49f28148ac81b78895ea0038c5",
       "version_major": 2,
       "version_minor": 0
      },
      "text/plain": [
       "HBox(children=(MultiCanvas(height=200, width=233), ColorPicker(value='#ff0000', description='Color:'), IntSlid…"
      ]
     },
     "metadata": {},
     "output_type": "display_data"
    }
   ],
   "source": [
    "alpha = 0.15\n",
    "im8 = TS.current_im8\n",
    "resultim = TS.current_result\n",
    "width = im8.shape[1]\n",
    "height = im8.shape[0]\n",
    "Mcanvas = MultiCanvas(4, width=width, height=height)\n",
    "background = Mcanvas[0]\n",
    "resultdisplay = Mcanvas[2]\n",
    "truthdisplay = Mcanvas[1]\n",
    "canvas = Mcanvas[3]\n",
    "canvas.sync_image_data = True\n",
    "drawing = False\n",
    "position = None\n",
    "shape = []\n",
    "image_data = np.stack((im8, im8, im8), axis=2)\n",
    "background.put_image_data(image_data, 0, 0)\n",
    "resultdisplay.global_alpha = alpha\n",
    "if np.any(resultim>0):\n",
    "    result_data = np.stack((255*(resultim==0), 255*(resultim==1), 255*(resultim==2)), axis=2)\n",
    "else:\n",
    "    result_data = np.stack((0*resultim, 0*resultim, 0*resultim), axis=2)\n",
    "resultdisplay.put_image_data(result_data, 0, 0)\n",
    "canvas.on_mouse_down(on_mouse_down)\n",
    "canvas.on_mouse_move(on_mouse_move)\n",
    "canvas.on_mouse_up(on_mouse_up)\n",
    "picker = ColorPicker(description=\"Color:\", value=\"#ff0000\")\n",
    "slidealpha = IntSlider(description=\"Result overlay\", value=0.15)\n",
    "link((picker, \"value\"), (canvas, \"stroke_style\"))\n",
    "link((picker, \"value\"), (canvas, \"fill_style\"))\n",
    "HBox((Mcanvas, picker, slidealpha))"
   ]
  },
  {
   "cell_type": "code",
   "execution_count": 27,
   "id": "8915c866-d64b-4990-9ae4-4fd4477c177e",
   "metadata": {},
   "outputs": [],
   "source": [
    "label_set = canvas.get_image_data()\n",
    "\n",
    "TS.current_truth[label_set[:,:,0]>0] = 1\n",
    "TS.current_truth[label_set[:,:,1]>0] = 2\n",
    "TS.current_truth[label_set[:,:,2]>0] = 4\n",
    "\n",
    "imageio.imsave(TS.current_truthpath, TS.current_truth)"
   ]
  },
  {
   "cell_type": "code",
   "execution_count": 28,
   "id": "e898ec60-a7e7-468b-a7da-950271af5c27",
   "metadata": {},
   "outputs": [
    {
     "name": "stdout",
     "output_type": "stream",
     "text": [
      "now actually calculating the features\n",
      "training and classifying\n"
     ]
    }
   ],
   "source": [
    "TS.train_slice()"
   ]
  },
  {
   "cell_type": "markdown",
   "id": "86eb86f4-ad26-462e-8aab-cb3ac5bef9c7",
   "metadata": {},
   "source": [
    "### when done, maybe save the classifier"
   ]
  },
  {
   "cell_type": "code",
   "execution_count": 38,
   "id": "df610acf-d82f-4d10-862a-ac7a13b5867b",
   "metadata": {},
   "outputs": [],
   "source": [
    "# TS.pickle_classifier()"
   ]
  },
  {
   "cell_type": "markdown",
   "id": "851f03e3-156f-43b6-b50c-b651a0e09596",
   "metadata": {},
   "source": [
    "### use an existing trainingset to train classifier (adhere to label iamge naming convention)"
   ]
  },
  {
   "cell_type": "code",
   "execution_count": null,
   "id": "55c32dde-b5a4-4d22-a461-d1ca325ad03b",
   "metadata": {},
   "outputs": [
    {
     "name": "stdout",
     "output_type": "stream",
     "text": [
      "Need to actually calculate the features ...\n",
      "Need to actually calculate the features ...\n"
     ]
    }
   ],
   "source": [
    "# provide new feature data if necessary and say if it is a lazy dask array or not\n",
    "# TS.feat_data = \n",
    "# TS.lazy = \n",
    "\n",
    "TS.train()"
   ]
  },
  {
   "cell_type": "code",
   "execution_count": null,
   "id": "fd1312b7-2cb0-46de-b9a8-2b15d49b62e0",
   "metadata": {},
   "outputs": [],
   "source": []
  }
 ],
 "metadata": {
  "kernelspec": {
   "display_name": "Python 3 (ipykernel)",
   "language": "python",
   "name": "python3"
  },
  "language_info": {
   "codemirror_mode": {
    "name": "ipython",
    "version": 3
   },
   "file_extension": ".py",
   "mimetype": "text/x-python",
   "name": "python",
   "nbconvert_exporter": "python",
   "pygments_lexer": "ipython3",
   "version": "3.9.13"
  }
 },
 "nbformat": 4,
 "nbformat_minor": 5
}
