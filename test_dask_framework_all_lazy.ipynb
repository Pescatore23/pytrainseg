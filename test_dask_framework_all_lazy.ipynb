{
 "cells": [
  {
   "cell_type": "code",
   "execution_count": 1,
   "id": "1999438b-02db-49ca-84b1-b185dc7c5bf0",
   "metadata": {},
   "outputs": [],
   "source": [
    "import dask\n",
    "from dask.distributed import Client, LocalCluster\n",
    "\n",
    "# Workaround that dask does not kill workers while they are busy fetching data: https://dask.discourse.group/t/dask-workers-killed-because-of-heartbeat-fail/856\n",
    "# maybe this helps: https://www.youtube.com/watch?v=vF2VItVU5zg?\n",
    "from dask import config as cfg\n",
    "cfg.set({'distributed.scheduler.worker-ttl': None})\n",
    "\n",
    "import xarray as xr\n",
    "import numpy as np\n",
    "import  matplotlib.pyplot as plt\n",
    "import os\n",
    "from ipywidgets import Image\n",
    "from ipywidgets import ColorPicker, IntSlider, link, AppLayout, HBox\n",
    "from ipycanvas import  hold_canvas,  MultiCanvas #RoughCanvas,Canvas,\n",
    "import imageio"
   ]
  },
  {
   "cell_type": "code",
   "execution_count": 2,
   "id": "f9cde74c-2e95-4728-814c-aa5332d7c01e",
   "metadata": {},
   "outputs": [
    {
     "name": "stdout",
     "output_type": "stream",
     "text": [
      "Dashboard at http://127.0.0.1:35154/status\n"
     ]
    }
   ],
   "source": [
    "# local cluster on current machine\n",
    "tempfolder = '/mnt/nas_Uwrite/fische_r/tmp'\n",
    "# tempfolder = '/mpc/homes/fische_r/tmp'\n",
    "dask.config.config['temporary-directory'] = tempfolder\n",
    "\n",
    "cluster = LocalCluster(dashboard_address=':35154', memory_limit = '160GB', n_workers=6, threads_per_worker=20) \n",
    "client = Client(cluster)\n",
    "print('Dashboard at '+cluster.dashboard_link)"
   ]
  },
  {
   "cell_type": "code",
   "execution_count": 3,
   "id": "c7482a0c-e078-47ff-8920-764c359c6aba",
   "metadata": {},
   "outputs": [],
   "source": [
    "# # home-made cluster\n",
    "# scheduler_address = \"129.129.188.248:8786\"\n",
    "# client = Client(scheduler_address)\n",
    "# print('Dashboard at '+client.dashboard_link)"
   ]
  },
  {
   "cell_type": "code",
   "execution_count": 4,
   "id": "7813dcfd-c194-4ba3-a4b4-6888e8f3e705",
   "metadata": {},
   "outputs": [],
   "source": [
    "from filter_functions import image_filter"
   ]
  },
  {
   "cell_type": "code",
   "execution_count": 5,
   "id": "4930da73-a20c-4aef-a4ab-165a559bc8e1",
   "metadata": {},
   "outputs": [],
   "source": [
    "import training_functions as tfs\n",
    "from training_functions import train_segmentation\n"
   ]
  },
  {
   "cell_type": "code",
   "execution_count": 6,
   "id": "5514ac86-855f-4e80-8dbd-e92358e5878b",
   "metadata": {},
   "outputs": [],
   "source": [
    "def on_mouse_down(x, y):\n",
    "    global drawing\n",
    "    global position\n",
    "    global shape\n",
    "    drawing = True\n",
    "    position = (x, y)\n",
    "    shape = [position]\n",
    "\n",
    "def on_mouse_move(x, y):\n",
    "    global drawing\n",
    "    global position\n",
    "    global shape\n",
    "    if not drawing:\n",
    "        return\n",
    "    with hold_canvas():\n",
    "        canvas.stroke_line(position[0], position[1], x, y)\n",
    "        position = (x, y)\n",
    "    shape.append(position)\n",
    "\n",
    "def on_mouse_up(x, y):\n",
    "    global drawing\n",
    "    global positiondu\n",
    "    global shape\n",
    "    drawing = False\n",
    "    with hold_canvas():\n",
    "        canvas.stroke_line(position[0], position[1], x, y)\n",
    "        canvas.fill_polygon(shape)\n",
    "    shape = []"
   ]
  },
  {
   "cell_type": "code",
   "execution_count": 7,
   "id": "16be2672-1d39-489e-b11c-b58e24cf76f0",
   "metadata": {},
   "outputs": [],
   "source": [
    "path = '/home/fische_r/NAS/testing/Jeremy_tomo/tomodata.nc'\n",
    "featpath = '/home/fische_r/NAS/testing/Jeremy_tomo/featdata.nc'\n",
    "# path = r\"C:\\Zwischenlager\\tomodata.nc\"\n",
    "# path = '/mpc/homes/fische_r/wood3/wood_tomo.nc'\n",
    "# featpath = '/mpc/homes/fische_r/wood3/featdata.nc'\n",
    "\n",
    "path = '/home/fische_r/NAS/testing/TIM_tomo/tomodata.nc'\n",
    "featpath = '/home/fische_r/NAS/testing/TIM_tomo/featdata.nc'\n",
    "\n",
    "path = '/mpc/homes/fische_r/NAS/testing/TIM_tomo/tomodata_crop.nc'\n",
    "featpath = '/mpc/homes/fische_r/NAS/testing/TIM_tomo/featdata.nc'"
   ]
  },
  {
   "cell_type": "code",
   "execution_count": 8,
   "id": "07bee915-0d70-49ec-ad37-f3d5914b040a",
   "metadata": {},
   "outputs": [],
   "source": [
    "# chunksize = (40, 35, 40, 37)\n",
    "chunks = {'x': 182, 'y':15, 'z':95, 'time':32}\n",
    "# chunks = 'auto'"
   ]
  },
  {
   "cell_type": "code",
   "execution_count": 9,
   "id": "3ec2d882-d6e0-46a4-882d-1de1a66e7ba4",
   "metadata": {},
   "outputs": [],
   "source": [
    "IF = image_filter(data_path=path, outpath = featpath, chunksize = chunks)"
   ]
  },
  {
   "cell_type": "code",
   "execution_count": 10,
   "id": "6a59e105-1cce-4d75-a46a-b7998428e645",
   "metadata": {},
   "outputs": [],
   "source": [
    "IF.open_raw_data()"
   ]
  },
  {
   "cell_type": "code",
   "execution_count": 11,
   "id": "6f24fe3a-2fea-4fbe-8b2a-bcfd9891af75",
   "metadata": {},
   "outputs": [],
   "source": [
    "# IF.open_lazy_data(chunks='auto')"
   ]
  },
  {
   "cell_type": "code",
   "execution_count": 12,
   "id": "2bc21c8d-4984-4a24-b3f8-1e1720a52d0e",
   "metadata": {},
   "outputs": [],
   "source": [
    "# IF.data = IF.data[30:-20,15:-50,:100,:50] #cropping for wood"
   ]
  },
  {
   "cell_type": "code",
   "execution_count": 13,
   "id": "0ebd826d-9c36-44f8-9c3c-9a6b55a78db0",
   "metadata": {},
   "outputs": [
    {
     "data": {
      "text/html": [
       "<table>\n",
       "    <tr>\n",
       "        <td>\n",
       "            <table>\n",
       "                <thead>\n",
       "                    <tr>\n",
       "                        <td> </td>\n",
       "                        <th> Array </th>\n",
       "                        <th> Chunk </th>\n",
       "                    </tr>\n",
       "                </thead>\n",
       "                <tbody>\n",
       "                    \n",
       "                    <tr>\n",
       "                        <th> Bytes </th>\n",
       "                        <td> 11.02 GiB </td>\n",
       "                        <td> 11.02 GiB </td>\n",
       "                    </tr>\n",
       "                    \n",
       "                    <tr>\n",
       "                        <th> Shape </th>\n",
       "                        <td> (500, 169, 500, 140) </td>\n",
       "                        <td> (500, 169, 500, 140) </td>\n",
       "                    </tr>\n",
       "                    <tr>\n",
       "                        <th> Count </th>\n",
       "                        <td> 1 Tasks </td>\n",
       "                        <td> 1 Chunks </td>\n",
       "                    </tr>\n",
       "                    <tr>\n",
       "                    <th> Type </th>\n",
       "                    <td> uint16 </td>\n",
       "                    <td> numpy.ndarray </td>\n",
       "                    </tr>\n",
       "                </tbody>\n",
       "            </table>\n",
       "        </td>\n",
       "        <td>\n",
       "        <svg width=\"499\" height=\"195\" style=\"stroke:rgb(0,0,0);stroke-width:1\" >\n",
       "\n",
       "  <!-- Horizontal lines -->\n",
       "  <line x1=\"0\" y1=\"0\" x2=\"120\" y2=\"0\" style=\"stroke-width:2\" />\n",
       "  <line x1=\"0\" y1=\"25\" x2=\"120\" y2=\"25\" style=\"stroke-width:2\" />\n",
       "\n",
       "  <!-- Vertical lines -->\n",
       "  <line x1=\"0\" y1=\"0\" x2=\"0\" y2=\"25\" style=\"stroke-width:2\" />\n",
       "  <line x1=\"120\" y1=\"0\" x2=\"120\" y2=\"25\" style=\"stroke-width:2\" />\n",
       "\n",
       "  <!-- Colored Rectangle -->\n",
       "  <polygon points=\"0.0,0.0 120.0,0.0 120.0,25.412616514582485 0.0,25.412616514582485\" style=\"fill:#ECB172A0;stroke-width:0\"/>\n",
       "\n",
       "  <!-- Text -->\n",
       "  <text x=\"60.000000\" y=\"45.412617\" font-size=\"1.0rem\" font-weight=\"100\" text-anchor=\"middle\" >500</text>\n",
       "  <text x=\"140.000000\" y=\"12.706308\" font-size=\"1.0rem\" font-weight=\"100\" text-anchor=\"middle\" transform=\"rotate(0,140.000000,12.706308)\">1</text>\n",
       "\n",
       "\n",
       "  <!-- Horizontal lines -->\n",
       "  <line x1=\"190\" y1=\"0\" x2=\"215\" y2=\"25\" style=\"stroke-width:2\" />\n",
       "  <line x1=\"190\" y1=\"120\" x2=\"215\" y2=\"145\" style=\"stroke-width:2\" />\n",
       "\n",
       "  <!-- Vertical lines -->\n",
       "  <line x1=\"190\" y1=\"0\" x2=\"190\" y2=\"120\" style=\"stroke-width:2\" />\n",
       "  <line x1=\"215\" y1=\"25\" x2=\"215\" y2=\"145\" style=\"stroke-width:2\" />\n",
       "\n",
       "  <!-- Colored Rectangle -->\n",
       "  <polygon points=\"190.0,0.0 215.8406487645939,25.840648764593904 215.8406487645939,145.8406487645939 190.0,120.0\" style=\"fill:#ECB172A0;stroke-width:0\"/>\n",
       "\n",
       "  <!-- Horizontal lines -->\n",
       "  <line x1=\"190\" y1=\"0\" x2=\"233\" y2=\"0\" style=\"stroke-width:2\" />\n",
       "  <line x1=\"215\" y1=\"25\" x2=\"259\" y2=\"25\" style=\"stroke-width:2\" />\n",
       "\n",
       "  <!-- Vertical lines -->\n",
       "  <line x1=\"190\" y1=\"0\" x2=\"215\" y2=\"25\" style=\"stroke-width:2\" />\n",
       "  <line x1=\"233\" y1=\"0\" x2=\"259\" y2=\"25\" style=\"stroke-width:2\" />\n",
       "\n",
       "  <!-- Colored Rectangle -->\n",
       "  <polygon points=\"190.0,0.0 233.30876961978348,0.0 259.1494183843774,25.840648764593904 215.8406487645939,25.840648764593904\" style=\"fill:#ECB172A0;stroke-width:0\"/>\n",
       "\n",
       "  <!-- Horizontal lines -->\n",
       "  <line x1=\"215\" y1=\"25\" x2=\"259\" y2=\"25\" style=\"stroke-width:2\" />\n",
       "  <line x1=\"215\" y1=\"145\" x2=\"259\" y2=\"145\" style=\"stroke-width:2\" />\n",
       "\n",
       "  <!-- Vertical lines -->\n",
       "  <line x1=\"215\" y1=\"25\" x2=\"215\" y2=\"145\" style=\"stroke-width:2\" />\n",
       "  <line x1=\"259\" y1=\"25\" x2=\"259\" y2=\"145\" style=\"stroke-width:2\" />\n",
       "\n",
       "  <!-- Colored Rectangle -->\n",
       "  <polygon points=\"215.8406487645939,25.840648764593904 259.1494183843774,25.840648764593904 259.1494183843774,145.8406487645939 215.8406487645939,145.8406487645939\" style=\"fill:#ECB172A0;stroke-width:0\"/>\n",
       "\n",
       "  <!-- Text -->\n",
       "  <text x=\"237.495034\" y=\"165.840649\" font-size=\"1.0rem\" font-weight=\"100\" text-anchor=\"middle\" >140</text>\n",
       "  <text x=\"279.149418\" y=\"85.840649\" font-size=\"1.0rem\" font-weight=\"100\" text-anchor=\"middle\" transform=\"rotate(-90,279.149418,85.840649)\">500</text>\n",
       "  <text x=\"192.920324\" y=\"152.920324\" font-size=\"1.0rem\" font-weight=\"100\" text-anchor=\"middle\" transform=\"rotate(45,192.920324,152.920324)\">169</text>\n",
       "</svg>\n",
       "        </td>\n",
       "    </tr>\n",
       "</table>"
      ],
      "text/plain": [
       "dask.array<array, shape=(500, 169, 500, 140), dtype=uint16, chunksize=(500, 169, 500, 140), chunktype=numpy.ndarray>"
      ]
     },
     "execution_count": 13,
     "metadata": {},
     "output_type": "execute_result"
    }
   ],
   "source": [
    "IF.data"
   ]
  },
  {
   "cell_type": "code",
   "execution_count": 14,
   "id": "fcf8be0e-7f15-4d1f-b7a3-f6c9b4c27a1c",
   "metadata": {},
   "outputs": [],
   "source": [
    "# IF.data = IF.data[500:1000,:,:500,:140] #test croppping for Tim's data\n"
   ]
  },
  {
   "cell_type": "code",
   "execution_count": 15,
   "id": "bf0cfa6d-68ae-473c-9090-d867989cbe51",
   "metadata": {},
   "outputs": [],
   "source": [
    "# define new chunks based on auto-suggestion\n",
    "# smaller chunks could help with many cpu, maybe xeperiminet a bit\n",
    "# however, lazy looading seems super slow for custom chunks, maybe multiples of auto\n",
    "# chunks = {'x': 182, 'y':15, 'z':95, 'time':32}"
   ]
  },
  {
   "cell_type": "code",
   "execution_count": 16,
   "id": "bbcc08c2-f99a-427d-9062-ed04c788528b",
   "metadata": {
    "tags": []
   },
   "outputs": [],
   "source": [
    "IF.data = IF.data.rechunk('auto')"
   ]
  },
  {
   "cell_type": "code",
   "execution_count": 17,
   "id": "621afb5a-21a2-4778-a047-fd87eba465c9",
   "metadata": {},
   "outputs": [],
   "source": [
    "# dataset = xr.open_dataset(path)\n",
    "# data = dataset['tomo'][500:1000,:,:500,:140].data"
   ]
  },
  {
   "cell_type": "code",
   "execution_count": 18,
   "id": "654a649d-a0d9-4625-b360-85d4dca5eee8",
   "metadata": {},
   "outputs": [],
   "source": [
    "# shp = data.shape\n",
    "# coords = {'x': np.arange(shp[0]), 'y': np.arange(shp[1]), 'z': np.arange(shp[2]), 'time': np.arange(shp[3])}\n",
    "# cropped_DS = xr.Dataset({'tomo': (['x','y','z','time'], data)},\n",
    "#                          coords = coords\n",
    "#                          )\n",
    "# path = '/mpc/homes/fische_r/NAS/testing/TIM_tomo/tomodata_crop.nc'\n",
    "# cropped_DS.to_netcdf(path)"
   ]
  },
  {
   "cell_type": "code",
   "execution_count": 19,
   "id": "36190e50-90b8-4c47-bc5c-d5a5da69a4a7",
   "metadata": {},
   "outputs": [],
   "source": [
    "IF.prepare()"
   ]
  },
  {
   "cell_type": "code",
   "execution_count": 20,
   "id": "de4e35a6-e8dc-4585-b5e7-b608935203b3",
   "metadata": {},
   "outputs": [],
   "source": [
    "IF.stack_features()"
   ]
  },
  {
   "cell_type": "code",
   "execution_count": 21,
   "id": "f0e9730e-7887-45d0-961d-a92da744d4d4",
   "metadata": {},
   "outputs": [
    {
     "data": {
      "text/html": [
       "<table>\n",
       "    <tr>\n",
       "        <td>\n",
       "            <table>\n",
       "                <thead>\n",
       "                    <tr>\n",
       "                        <td> </td>\n",
       "                        <th> Array </th>\n",
       "                        <th> Chunk </th>\n",
       "                    </tr>\n",
       "                </thead>\n",
       "                <tbody>\n",
       "                    \n",
       "                    <tr>\n",
       "                        <th> Bytes </th>\n",
       "                        <td> 2.75 TiB </td>\n",
       "                        <td> 496.51 MiB </td>\n",
       "                    </tr>\n",
       "                    \n",
       "                    <tr>\n",
       "                        <th> Shape </th>\n",
       "                        <td> (500, 169, 500, 140, 64) </td>\n",
       "                        <td> (125, 119, 125, 35, 1) </td>\n",
       "                    </tr>\n",
       "                    <tr>\n",
       "                        <th> Count </th>\n",
       "                        <td> 255419 Tasks </td>\n",
       "                        <td> 8192 Chunks </td>\n",
       "                    </tr>\n",
       "                    <tr>\n",
       "                    <th> Type </th>\n",
       "                    <td> float64 </td>\n",
       "                    <td> numpy.ndarray </td>\n",
       "                    </tr>\n",
       "                </tbody>\n",
       "            </table>\n",
       "        </td>\n",
       "        <td>\n",
       "        <svg width=\"386\" height=\"170\" style=\"stroke:rgb(0,0,0);stroke-width:1\" >\n",
       "\n",
       "  <!-- Horizontal lines -->\n",
       "  <line x1=\"0\" y1=\"0\" x2=\"43\" y2=\"0\" style=\"stroke-width:2\" />\n",
       "  <line x1=\"0\" y1=\"30\" x2=\"43\" y2=\"30\" />\n",
       "  <line x1=\"0\" y1=\"60\" x2=\"43\" y2=\"60\" />\n",
       "  <line x1=\"0\" y1=\"90\" x2=\"43\" y2=\"90\" />\n",
       "  <line x1=\"0\" y1=\"120\" x2=\"43\" y2=\"120\" style=\"stroke-width:2\" />\n",
       "\n",
       "  <!-- Vertical lines -->\n",
       "  <line x1=\"0\" y1=\"0\" x2=\"0\" y2=\"120\" style=\"stroke-width:2\" />\n",
       "  <line x1=\"30\" y1=\"0\" x2=\"30\" y2=\"120\" />\n",
       "  <line x1=\"43\" y1=\"0\" x2=\"43\" y2=\"120\" style=\"stroke-width:2\" />\n",
       "\n",
       "  <!-- Colored Rectangle -->\n",
       "  <polygon points=\"0.0,0.0 43.929102899809635,0.0 43.929102899809635,120.0 0.0,120.0\" style=\"fill:#ECB172A0;stroke-width:0\"/>\n",
       "\n",
       "  <!-- Text -->\n",
       "  <text x=\"21.964551\" y=\"140.000000\" font-size=\"1.0rem\" font-weight=\"100\" text-anchor=\"middle\" >169</text>\n",
       "  <text x=\"63.929103\" y=\"60.000000\" font-size=\"1.0rem\" font-weight=\"100\" text-anchor=\"middle\" transform=\"rotate(-90,63.929103,60.000000)\">500</text>\n",
       "\n",
       "\n",
       "  <!-- Horizontal lines -->\n",
       "  <line x1=\"113\" y1=\"0\" x2=\"183\" y2=\"70\" style=\"stroke-width:2\" />\n",
       "  <line x1=\"113\" y1=\"10\" x2=\"183\" y2=\"81\" />\n",
       "  <line x1=\"113\" y1=\"21\" x2=\"183\" y2=\"92\" />\n",
       "  <line x1=\"113\" y1=\"32\" x2=\"183\" y2=\"103\" />\n",
       "  <line x1=\"113\" y1=\"43\" x2=\"183\" y2=\"113\" style=\"stroke-width:2\" />\n",
       "\n",
       "  <!-- Vertical lines -->\n",
       "  <line x1=\"113\" y1=\"0\" x2=\"113\" y2=\"43\" style=\"stroke-width:2\" />\n",
       "  <line x1=\"130\" y1=\"17\" x2=\"130\" y2=\"60\" />\n",
       "  <line x1=\"148\" y1=\"35\" x2=\"148\" y2=\"78\" />\n",
       "  <line x1=\"165\" y1=\"52\" x2=\"165\" y2=\"96\" />\n",
       "  <line x1=\"183\" y1=\"70\" x2=\"183\" y2=\"113\" style=\"stroke-width:2\" />\n",
       "\n",
       "  <!-- Colored Rectangle -->\n",
       "  <polygon points=\"113.0,0.0 183.58823529411765,70.58823529411765 183.58823529411765,113.89700491390113 113.0,43.30876961978347\" style=\"fill:#ECB172A0;stroke-width:0\"/>\n",
       "\n",
       "  <!-- Horizontal lines -->\n",
       "  <line x1=\"113\" y1=\"0\" x2=\"152\" y2=\"0\" style=\"stroke-width:2\" />\n",
       "  <line x1=\"130\" y1=\"17\" x2=\"170\" y2=\"17\" />\n",
       "  <line x1=\"148\" y1=\"35\" x2=\"188\" y2=\"35\" />\n",
       "  <line x1=\"165\" y1=\"52\" x2=\"205\" y2=\"52\" />\n",
       "  <line x1=\"183\" y1=\"70\" x2=\"223\" y2=\"70\" style=\"stroke-width:2\" />\n",
       "\n",
       "  <!-- Vertical lines -->\n",
       "  <line x1=\"113\" y1=\"0\" x2=\"183\" y2=\"70\" style=\"stroke-width:2\" />\n",
       "  <line x1=\"114\" y1=\"0\" x2=\"184\" y2=\"70\" />\n",
       "  <line x1=\"115\" y1=\"0\" x2=\"186\" y2=\"70\" />\n",
       "  <line x1=\"116\" y1=\"0\" x2=\"187\" y2=\"70\" />\n",
       "  <line x1=\"117\" y1=\"0\" x2=\"188\" y2=\"70\" />\n",
       "  <line x1=\"119\" y1=\"0\" x2=\"189\" y2=\"70\" />\n",
       "  <line x1=\"120\" y1=\"0\" x2=\"191\" y2=\"70\" />\n",
       "  <line x1=\"121\" y1=\"0\" x2=\"192\" y2=\"70\" />\n",
       "  <line x1=\"122\" y1=\"0\" x2=\"193\" y2=\"70\" />\n",
       "  <line x1=\"124\" y1=\"0\" x2=\"194\" y2=\"70\" />\n",
       "  <line x1=\"125\" y1=\"0\" x2=\"196\" y2=\"70\" />\n",
       "  <line x1=\"126\" y1=\"0\" x2=\"197\" y2=\"70\" />\n",
       "  <line x1=\"127\" y1=\"0\" x2=\"198\" y2=\"70\" />\n",
       "  <line x1=\"129\" y1=\"0\" x2=\"199\" y2=\"70\" />\n",
       "  <line x1=\"130\" y1=\"0\" x2=\"201\" y2=\"70\" />\n",
       "  <line x1=\"131\" y1=\"0\" x2=\"202\" y2=\"70\" />\n",
       "  <line x1=\"132\" y1=\"0\" x2=\"203\" y2=\"70\" />\n",
       "  <line x1=\"134\" y1=\"0\" x2=\"204\" y2=\"70\" />\n",
       "  <line x1=\"135\" y1=\"0\" x2=\"206\" y2=\"70\" />\n",
       "  <line x1=\"136\" y1=\"0\" x2=\"207\" y2=\"70\" />\n",
       "  <line x1=\"137\" y1=\"0\" x2=\"208\" y2=\"70\" />\n",
       "  <line x1=\"139\" y1=\"0\" x2=\"209\" y2=\"70\" />\n",
       "  <line x1=\"140\" y1=\"0\" x2=\"211\" y2=\"70\" />\n",
       "  <line x1=\"141\" y1=\"0\" x2=\"212\" y2=\"70\" />\n",
       "  <line x1=\"142\" y1=\"0\" x2=\"213\" y2=\"70\" />\n",
       "  <line x1=\"144\" y1=\"0\" x2=\"214\" y2=\"70\" />\n",
       "  <line x1=\"145\" y1=\"0\" x2=\"216\" y2=\"70\" />\n",
       "  <line x1=\"146\" y1=\"0\" x2=\"217\" y2=\"70\" />\n",
       "  <line x1=\"147\" y1=\"0\" x2=\"218\" y2=\"70\" />\n",
       "  <line x1=\"149\" y1=\"0\" x2=\"219\" y2=\"70\" />\n",
       "  <line x1=\"150\" y1=\"0\" x2=\"221\" y2=\"70\" />\n",
       "  <line x1=\"151\" y1=\"0\" x2=\"222\" y2=\"70\" />\n",
       "  <line x1=\"152\" y1=\"0\" x2=\"223\" y2=\"70\" style=\"stroke-width:2\" />\n",
       "\n",
       "  <!-- Colored Rectangle -->\n",
       "  <polygon points=\"113.0,0.0 152.91615976667902,0.0 223.50439506079667,70.58823529411765 183.58823529411765,70.58823529411765\" style=\"fill:#8B4903A0;stroke-width:0\"/>\n",
       "\n",
       "  <!-- Horizontal lines -->\n",
       "  <line x1=\"183\" y1=\"70\" x2=\"223\" y2=\"70\" style=\"stroke-width:2\" />\n",
       "  <line x1=\"183\" y1=\"81\" x2=\"223\" y2=\"81\" />\n",
       "  <line x1=\"183\" y1=\"92\" x2=\"223\" y2=\"92\" />\n",
       "  <line x1=\"183\" y1=\"103\" x2=\"223\" y2=\"103\" />\n",
       "  <line x1=\"183\" y1=\"113\" x2=\"223\" y2=\"113\" style=\"stroke-width:2\" />\n",
       "\n",
       "  <!-- Vertical lines -->\n",
       "  <line x1=\"183\" y1=\"70\" x2=\"183\" y2=\"113\" style=\"stroke-width:2\" />\n",
       "  <line x1=\"184\" y1=\"70\" x2=\"184\" y2=\"113\" />\n",
       "  <line x1=\"186\" y1=\"70\" x2=\"186\" y2=\"113\" />\n",
       "  <line x1=\"187\" y1=\"70\" x2=\"187\" y2=\"113\" />\n",
       "  <line x1=\"188\" y1=\"70\" x2=\"188\" y2=\"113\" />\n",
       "  <line x1=\"189\" y1=\"70\" x2=\"189\" y2=\"113\" />\n",
       "  <line x1=\"191\" y1=\"70\" x2=\"191\" y2=\"113\" />\n",
       "  <line x1=\"192\" y1=\"70\" x2=\"192\" y2=\"113\" />\n",
       "  <line x1=\"193\" y1=\"70\" x2=\"193\" y2=\"113\" />\n",
       "  <line x1=\"194\" y1=\"70\" x2=\"194\" y2=\"113\" />\n",
       "  <line x1=\"196\" y1=\"70\" x2=\"196\" y2=\"113\" />\n",
       "  <line x1=\"197\" y1=\"70\" x2=\"197\" y2=\"113\" />\n",
       "  <line x1=\"198\" y1=\"70\" x2=\"198\" y2=\"113\" />\n",
       "  <line x1=\"199\" y1=\"70\" x2=\"199\" y2=\"113\" />\n",
       "  <line x1=\"201\" y1=\"70\" x2=\"201\" y2=\"113\" />\n",
       "  <line x1=\"202\" y1=\"70\" x2=\"202\" y2=\"113\" />\n",
       "  <line x1=\"203\" y1=\"70\" x2=\"203\" y2=\"113\" />\n",
       "  <line x1=\"204\" y1=\"70\" x2=\"204\" y2=\"113\" />\n",
       "  <line x1=\"206\" y1=\"70\" x2=\"206\" y2=\"113\" />\n",
       "  <line x1=\"207\" y1=\"70\" x2=\"207\" y2=\"113\" />\n",
       "  <line x1=\"208\" y1=\"70\" x2=\"208\" y2=\"113\" />\n",
       "  <line x1=\"209\" y1=\"70\" x2=\"209\" y2=\"113\" />\n",
       "  <line x1=\"211\" y1=\"70\" x2=\"211\" y2=\"113\" />\n",
       "  <line x1=\"212\" y1=\"70\" x2=\"212\" y2=\"113\" />\n",
       "  <line x1=\"213\" y1=\"70\" x2=\"213\" y2=\"113\" />\n",
       "  <line x1=\"214\" y1=\"70\" x2=\"214\" y2=\"113\" />\n",
       "  <line x1=\"216\" y1=\"70\" x2=\"216\" y2=\"113\" />\n",
       "  <line x1=\"217\" y1=\"70\" x2=\"217\" y2=\"113\" />\n",
       "  <line x1=\"218\" y1=\"70\" x2=\"218\" y2=\"113\" />\n",
       "  <line x1=\"219\" y1=\"70\" x2=\"219\" y2=\"113\" />\n",
       "  <line x1=\"221\" y1=\"70\" x2=\"221\" y2=\"113\" />\n",
       "  <line x1=\"222\" y1=\"70\" x2=\"222\" y2=\"113\" />\n",
       "  <line x1=\"223\" y1=\"70\" x2=\"223\" y2=\"113\" style=\"stroke-width:2\" />\n",
       "\n",
       "  <!-- Colored Rectangle -->\n",
       "  <polygon points=\"183.58823529411765,70.58823529411765 223.5043950607967,70.58823529411765 223.5043950607967,113.89700491390113 183.58823529411765,113.89700491390113\" style=\"fill:#8B4903A0;stroke-width:0\"/>\n",
       "\n",
       "  <!-- Text -->\n",
       "  <text x=\"203.546315\" y=\"133.897005\" font-size=\"1.0rem\" font-weight=\"100\" text-anchor=\"middle\" >64</text>\n",
       "  <text x=\"243.504395\" y=\"92.242620\" font-size=\"1.0rem\" font-weight=\"100\" text-anchor=\"middle\" transform=\"rotate(-90,243.504395,92.242620)\">140</text>\n",
       "  <text x=\"138.294118\" y=\"98.602887\" font-size=\"1.0rem\" font-weight=\"100\" text-anchor=\"middle\" transform=\"rotate(45,138.294118,98.602887)\">500</text>\n",
       "</svg>\n",
       "        </td>\n",
       "    </tr>\n",
       "</table>"
      ],
      "text/plain": [
       "dask.array<stack, shape=(500, 169, 500, 140, 64), dtype=float64, chunksize=(125, 119, 125, 35, 1), chunktype=numpy.ndarray>"
      ]
     },
     "execution_count": 21,
     "metadata": {},
     "output_type": "execute_result"
    }
   ],
   "source": [
    "IF.feature_stack #rechunk feature stack? seems ok like dask does it itself"
   ]
  },
  {
   "cell_type": "code",
   "execution_count": 22,
   "id": "3e6495a9-24d3-42c8-8c3b-992d8eb75440",
   "metadata": {
    "tags": []
   },
   "outputs": [],
   "source": [
    "# IF.compute() #not sure what is more efficient, but I would compute the features and even store them on disk\n",
    "# had the impression that otherwise many redundant operations happen, seems ok for really large datasets. so no idea ..."
   ]
  },
  {
   "cell_type": "code",
   "execution_count": 23,
   "id": "017fcf9f-eb6b-40ca-a993-840fb659a171",
   "metadata": {},
   "outputs": [],
   "source": [
    "IF.make_xarray_nc()"
   ]
  },
  {
   "cell_type": "code",
   "execution_count": 24,
   "id": "2d8c5f7b-de79-43dc-9ee9-eae62ed9edad",
   "metadata": {
    "tags": []
   },
   "outputs": [],
   "source": [
    "# IF.make_xarray_nc(store=True)"
   ]
  },
  {
   "cell_type": "code",
   "execution_count": 25,
   "id": "d93d06e5-df44-4160-b712-ba7490d13bb2",
   "metadata": {},
   "outputs": [],
   "source": [
    "# training_path = r\"C:\\Zwischenlager\\Jeremy_tomo\"\n",
    "training_path = '/home/fische_r/NAS/testing/Jeremy_tomo'\n",
    "training_path = '/mpc/homes/fische_r/wood3/'\n",
    "training_path = '/mpc/homes/fische_r/NAS/testing/TIM_tomo/cropped'\n",
    "if not os.path.exists(training_path):\n",
    "    os.mkdir(training_path)"
   ]
  },
  {
   "cell_type": "code",
   "execution_count": 26,
   "id": "bb0f444f-c133-4328-b37c-9fd78ca41d75",
   "metadata": {},
   "outputs": [],
   "source": [
    "TS = train_segmentation(training_path=training_path)"
   ]
  },
  {
   "cell_type": "code",
   "execution_count": 27,
   "id": "cf9857ef-c3f2-4c60-933a-5b65dd202155",
   "metadata": {},
   "outputs": [],
   "source": [
    "TS.import_lazy_feature_data(IF.result, IF.original_dataset)"
   ]
  },
  {
   "cell_type": "code",
   "execution_count": 28,
   "id": "c06a4692-a2ba-4826-8e94-3150c482d6a9",
   "metadata": {},
   "outputs": [],
   "source": [
    "# TS.import_feature_data(IF.result)"
   ]
  },
  {
   "cell_type": "markdown",
   "id": "d3dbc24f-440c-4ef5-8ab8-4379b039f57f",
   "metadata": {},
   "source": [
    "### iterative training (even if you have a training set, maybe skip here)"
   ]
  },
  {
   "cell_type": "code",
   "execution_count": 29,
   "id": "f976d1ff-75d3-42c0-b3de-85877080d930",
   "metadata": {},
   "outputs": [],
   "source": [
    "def display_feature(i, TS):\n",
    "    print('selected '+TS.feature_names[i])\n",
    "    im = TS.current_feat_stack[:,:,i]\n",
    "    im8 = im-im.min()\n",
    "    im8 = im8/im8.max()*255\n",
    "    return im8"
   ]
  },
  {
   "cell_type": "code",
   "execution_count": null,
   "id": "3b856e79-c928-442e-a7ca-33874777b451",
   "metadata": {},
   "outputs": [],
   "source": []
  },
  {
   "cell_type": "code",
   "execution_count": 30,
   "id": "f5b261a3-68d0-42de-bbb4-c0b66fc30ade",
   "metadata": {},
   "outputs": [
    {
     "data": {
      "text/plain": [
       "['label_image_z_270_time_100_.tif',\n",
       " 'label_image_y_130_time_0_.tif',\n",
       " 'label_image_y_140_time_100_.tif',\n",
       " 'label_image_y_120_time_55_.tif',\n",
       " 'label_image_y_40_time_0_.tif',\n",
       " 'label_image_x_150_time_0_.tif',\n",
       " 'label_image_y_130_time_120_.tif',\n",
       " 'label_image_y_110_time_120_.tif',\n",
       " 'label_image_y_120_time_0_.tif',\n",
       " 'label_image_y_130_time_90_.tif',\n",
       " 'label_image_x_150_time_75_.tif',\n",
       " 'label_image_x_364_time_0_.tif',\n",
       " 'label_image_y_150_time_0_.tif',\n",
       " 'label_image_y_120_time_50_.tif',\n",
       " 'label_image_y_110_time_80_.tif',\n",
       " 'label_image_y_150_time_60_.tif',\n",
       " 'label_image_z_250_time_130_.tif',\n",
       " 'label_image_x_150_time_60_.tif',\n",
       " 'label_image_y_120_time_45_.tif',\n",
       " 'label_image_y_120_time_60_.tif',\n",
       " 'label_image_y_110_time_0_.tif']"
      ]
     },
     "execution_count": 30,
     "metadata": {},
     "output_type": "execute_result"
    }
   ],
   "source": [
    "# re-training for lazy data super slow, better use the the coordinates of this list and run the cells here for now\n",
    "os.listdir(os.path.join(training_path, 'label_images'))"
   ]
  },
  {
   "cell_type": "code",
   "execution_count": 31,
   "id": "1c3d3654-bb84-4361-b51b-9b4a232442c2",
   "metadata": {},
   "outputs": [
    {
     "name": "stdout",
     "output_type": "stream",
     "text": [
      "You could try  x = 219  and  y = 117\n",
      "However, please sort it like the original xyztime\n"
     ]
    }
   ],
   "source": [
    "TS.suggest_training_set()"
   ]
  },
  {
   "cell_type": "code",
   "execution_count": 724,
   "id": "75777fb5-7017-4bd6-9705-8ae96e1bd607",
   "metadata": {},
   "outputs": [],
   "source": [
    "c1 = 'y'\n",
    "p1 = 150\n",
    "c2 = 'time'\n",
    "p2 = 60"
   ]
  },
  {
   "cell_type": "code",
   "execution_count": 725,
   "id": "614b67be-fe01-4872-bd92-9049a880dd8d",
   "metadata": {
    "tags": []
   },
   "outputs": [],
   "source": [
    "TS.load_training_set(c1, p1, c2, p2)"
   ]
  },
  {
   "cell_type": "code",
   "execution_count": 726,
   "id": "d763e67d-02b8-4b95-906e-b830bd0dd8f1",
   "metadata": {
    "tags": []
   },
   "outputs": [
    {
     "data": {
      "application/vnd.jupyter.widget-view+json": {
       "model_id": "55407210d700488e9be3f7be37deb159",
       "version_major": 2,
       "version_minor": 0
      },
      "text/plain": [
       "HBox(children=(MultiCanvas(width=500), ColorPicker(value='#ff0000', description='Color:'), IntSlider(value=0, …"
      ]
     },
     "metadata": {},
     "output_type": "display_data"
    }
   ],
   "source": [
    "alpha = 0.15\n",
    "im8 = TS.current_im8\n",
    "\n",
    "#trick: use gaussian_time_4_0 to label static phases (-10)\n",
    "# im8 = display_feature(-10, TS)\n",
    "\n",
    "resultim = TS.current_result\n",
    "width = im8.shape[1]\n",
    "height = im8.shape[0]\n",
    "Mcanvas = MultiCanvas(4, width=width, height=height)\n",
    "background = Mcanvas[0]\n",
    "resultdisplay = Mcanvas[2]\n",
    "truthdisplay = Mcanvas[1]\n",
    "canvas = Mcanvas[3]\n",
    "canvas.sync_image_data = True\n",
    "drawing = False\n",
    "position = None\n",
    "shape = []\n",
    "image_data = np.stack((im8, im8, im8), axis=2)\n",
    "background.put_image_data(image_data, 0, 0)\n",
    "resultdisplay.global_alpha = alpha\n",
    "if np.any(resultim>0):\n",
    "    result_data = np.stack((255*(resultim==0), 255*(resultim==1), 255*(resultim==2)), axis=2)\n",
    "else:\n",
    "    result_data = np.stack((0*resultim, 0*resultim, 0*resultim), axis=2)\n",
    "resultdisplay.put_image_data(result_data, 0, 0)\n",
    "canvas.on_mouse_down(on_mouse_down)\n",
    "canvas.on_mouse_move(on_mouse_move)\n",
    "canvas.on_mouse_up(on_mouse_up)\n",
    "picker = ColorPicker(description=\"Color:\", value=\"#ff0000\")\n",
    "slidealpha = IntSlider(description=\"Result overlay\", value=0.15)\n",
    "link((picker, \"value\"), (canvas, \"stroke_style\"))\n",
    "link((picker, \"value\"), (canvas, \"fill_style\"))\n",
    "HBox((Mcanvas, picker, slidealpha))"
   ]
  },
  {
   "cell_type": "code",
   "execution_count": 727,
   "id": "9e03d36c-4a0e-4530-8fb1-119cf8eba667",
   "metadata": {
    "tags": []
   },
   "outputs": [],
   "source": [
    "# tfs.plot_im_histogram(im8)\n",
    "# im8 = tfs.adjust_image_contrast(TS.current_im8, 0,120)"
   ]
  },
  {
   "cell_type": "code",
   "execution_count": 728,
   "id": "161ca859-5aeb-476c-8187-7108be4560ef",
   "metadata": {},
   "outputs": [
    {
     "data": {
      "image/png": "[encoded data removed]",
      "text/plain": [
       "<Figure size 1440x720 with 6 Axes>"
      ]
     },
     "metadata": {},
     "output_type": "display_data"
    }
   ],
   "source": [
    "fig, axes = plt.subplots(1,6, figsize=(20,10))\n",
    "axes[0].imshow(TS.current_result, 'gray')\n",
    "axes[1].imshow(TS.current_im8, 'gray')\n",
    "\n",
    "# TS.current_diff_im = TS.current_im-TS.current_first_im\n",
    "# TS.current_diff_im = TS.current_diff_im/TS.current_diff_im.max()*255\n",
    "axes[2].imshow(-TS.current_diff_im,vmin=6e4)\n",
    "# axes[3].imshow(m8old, 'gray')\n",
    "axes[3].imshow(TS.current_first_im, 'gray')\n",
    "axes[4].imshow(TS.current_truth)\n",
    "if TS.current_computed:\n",
    "    axes[5].imshow(TS.current_feat_stack[:,:,-10])\n",
    "else:\n",
    "    axes[5].imshow(TS.current_result, 'gray')\n",
    "\n",
    "for ax in axes:\n",
    "    ax.set_xticks([])\n",
    "    ax.set_yticks([])"
   ]
  },
  {
   "cell_type": "code",
   "execution_count": 729,
   "id": "8915c866-d64b-4990-9ae4-4fd4477c177e",
   "metadata": {},
   "outputs": [],
   "source": [
    "label_set = canvas.get_image_data()\n",
    "\n",
    "TS.current_truth[label_set[:,:,0]>0] = 1\n",
    "TS.current_truth[label_set[:,:,1]>0] = 2\n",
    "TS.current_truth[label_set[:,:,2]>0] = 4\n",
    "\n",
    "imageio.imsave(TS.current_truthpath, TS.current_truth)"
   ]
  },
  {
   "cell_type": "code",
   "execution_count": 730,
   "id": "e898ec60-a7e7-468b-a7da-950271af5c27",
   "metadata": {
    "tags": []
   },
   "outputs": [
    {
     "name": "stdout",
     "output_type": "stream",
     "text": [
      "now actually calculating the features\n"
     ]
    },
    {
     "ename": "KilledWorker",
     "evalue": "(\"('rechunk-split-rechunk-merge-b612c0ed135b91be7786c033af4a7342', 0, 1, 3, 1)\", <WorkerState 'tcp://127.0.0.1:46353', name: 6, status: closed, memory: 0, processing: 45>)",
     "output_type": "error",
     "traceback": [
      "\u001b[0;31m---------------------------------------------------------------------------\u001b[0m",
      "\u001b[0;31mKilledWorker\u001b[0m                              Traceback (most recent call last)",
      "Input \u001b[0;32mIn [730]\u001b[0m, in \u001b[0;36m<cell line: 1>\u001b[0;34m()\u001b[0m\n\u001b[0;32m----> 1\u001b[0m \u001b[43mTS\u001b[49m\u001b[38;5;241;43m.\u001b[39;49m\u001b[43mtrain_slice\u001b[49m\u001b[43m(\u001b[49m\u001b[43m)\u001b[49m\n",
      "File \u001b[0;32m/mnt/nas_Uwrite/fische_r/lib/pytrainseg/training_functions.py:273\u001b[0m, in \u001b[0;36mtrain_segmentation.train_slice\u001b[0;34m(self)\u001b[0m\n\u001b[1;32m    271\u001b[0m     \u001b[38;5;28mprint\u001b[39m(\u001b[38;5;124m'\u001b[39m\u001b[38;5;124mnow actually calculating the features\u001b[39m\u001b[38;5;124m'\u001b[39m)\n\u001b[1;32m    272\u001b[0m     \u001b[38;5;66;03m# self.current_feat_stack.rechunk('auto') #why rechunk 'auto' ?! if anything should be something small fot massive parallel\u001b[39;00m\n\u001b[0;32m--> 273\u001b[0m     feat_stack \u001b[38;5;241m=\u001b[39m \u001b[43mfeat_stack\u001b[49m\u001b[38;5;241;43m.\u001b[39;49m\u001b[43mcompute\u001b[49m\u001b[43m(\u001b[49m\u001b[43m)\u001b[49m \n\u001b[1;32m    274\u001b[0m     \u001b[38;5;28mself\u001b[39m\u001b[38;5;241m.\u001b[39mcurrent_computed \u001b[38;5;241m=\u001b[39m \u001b[38;5;28;01mTrue\u001b[39;00m\n\u001b[1;32m    275\u001b[0m \u001b[38;5;28;01mif\u001b[39;00m \u001b[38;5;28mtype\u001b[39m(feat_stack) \u001b[38;5;129;01mis\u001b[39;00m \u001b[38;5;129;01mnot\u001b[39;00m np\u001b[38;5;241m.\u001b[39mndarray:\n",
      "File \u001b[0;32m~/miniconda3/lib/python3.9/site-packages/dask/base.py:315\u001b[0m, in \u001b[0;36mDaskMethodsMixin.compute\u001b[0;34m(self, **kwargs)\u001b[0m\n\u001b[1;32m    291\u001b[0m \u001b[38;5;28;01mdef\u001b[39;00m \u001b[38;5;21mcompute\u001b[39m(\u001b[38;5;28mself\u001b[39m, \u001b[38;5;241m*\u001b[39m\u001b[38;5;241m*\u001b[39mkwargs):\n\u001b[1;32m    292\u001b[0m     \u001b[38;5;124;03m\"\"\"Compute this dask collection\u001b[39;00m\n\u001b[1;32m    293\u001b[0m \n\u001b[1;32m    294\u001b[0m \u001b[38;5;124;03m    This turns a lazy Dask collection into its in-memory equivalent.\u001b[39;00m\n\u001b[0;32m   (...)\u001b[0m\n\u001b[1;32m    313\u001b[0m \u001b[38;5;124;03m    dask.base.compute\u001b[39;00m\n\u001b[1;32m    314\u001b[0m \u001b[38;5;124;03m    \"\"\"\u001b[39;00m\n\u001b[0;32m--> 315\u001b[0m     (result,) \u001b[38;5;241m=\u001b[39m \u001b[43mcompute\u001b[49m\u001b[43m(\u001b[49m\u001b[38;5;28;43mself\u001b[39;49m\u001b[43m,\u001b[49m\u001b[43m \u001b[49m\u001b[43mtraverse\u001b[49m\u001b[38;5;241;43m=\u001b[39;49m\u001b[38;5;28;43;01mFalse\u001b[39;49;00m\u001b[43m,\u001b[49m\u001b[43m \u001b[49m\u001b[38;5;241;43m*\u001b[39;49m\u001b[38;5;241;43m*\u001b[39;49m\u001b[43mkwargs\u001b[49m\u001b[43m)\u001b[49m\n\u001b[1;32m    316\u001b[0m     \u001b[38;5;28;01mreturn\u001b[39;00m result\n",
      "File \u001b[0;32m~/miniconda3/lib/python3.9/site-packages/dask/base.py:598\u001b[0m, in \u001b[0;36mcompute\u001b[0;34m(traverse, optimize_graph, scheduler, get, *args, **kwargs)\u001b[0m\n\u001b[1;32m    595\u001b[0m     keys\u001b[38;5;241m.\u001b[39mappend(x\u001b[38;5;241m.\u001b[39m__dask_keys__())\n\u001b[1;32m    596\u001b[0m     postcomputes\u001b[38;5;241m.\u001b[39mappend(x\u001b[38;5;241m.\u001b[39m__dask_postcompute__())\n\u001b[0;32m--> 598\u001b[0m results \u001b[38;5;241m=\u001b[39m \u001b[43mschedule\u001b[49m\u001b[43m(\u001b[49m\u001b[43mdsk\u001b[49m\u001b[43m,\u001b[49m\u001b[43m \u001b[49m\u001b[43mkeys\u001b[49m\u001b[43m,\u001b[49m\u001b[43m \u001b[49m\u001b[38;5;241;43m*\u001b[39;49m\u001b[38;5;241;43m*\u001b[39;49m\u001b[43mkwargs\u001b[49m\u001b[43m)\u001b[49m\n\u001b[1;32m    599\u001b[0m \u001b[38;5;28;01mreturn\u001b[39;00m repack([f(r, \u001b[38;5;241m*\u001b[39ma) \u001b[38;5;28;01mfor\u001b[39;00m r, (f, a) \u001b[38;5;129;01min\u001b[39;00m \u001b[38;5;28mzip\u001b[39m(results, postcomputes)])\n",
      "File \u001b[0;32m~/miniconda3/lib/python3.9/site-packages/distributed/client.py:3001\u001b[0m, in \u001b[0;36mClient.get\u001b[0;34m(self, dsk, keys, workers, allow_other_workers, resources, sync, asynchronous, direct, retries, priority, fifo_timeout, actors, **kwargs)\u001b[0m\n\u001b[1;32m   2999\u001b[0m         should_rejoin \u001b[38;5;241m=\u001b[39m \u001b[38;5;28;01mFalse\u001b[39;00m\n\u001b[1;32m   3000\u001b[0m \u001b[38;5;28;01mtry\u001b[39;00m:\n\u001b[0;32m-> 3001\u001b[0m     results \u001b[38;5;241m=\u001b[39m \u001b[38;5;28;43mself\u001b[39;49m\u001b[38;5;241;43m.\u001b[39;49m\u001b[43mgather\u001b[49m\u001b[43m(\u001b[49m\u001b[43mpacked\u001b[49m\u001b[43m,\u001b[49m\u001b[43m \u001b[49m\u001b[43masynchronous\u001b[49m\u001b[38;5;241;43m=\u001b[39;49m\u001b[43masynchronous\u001b[49m\u001b[43m,\u001b[49m\u001b[43m \u001b[49m\u001b[43mdirect\u001b[49m\u001b[38;5;241;43m=\u001b[39;49m\u001b[43mdirect\u001b[49m\u001b[43m)\u001b[49m\n\u001b[1;32m   3002\u001b[0m \u001b[38;5;28;01mfinally\u001b[39;00m:\n\u001b[1;32m   3003\u001b[0m     \u001b[38;5;28;01mfor\u001b[39;00m f \u001b[38;5;129;01min\u001b[39;00m futures\u001b[38;5;241m.\u001b[39mvalues():\n",
      "File \u001b[0;32m~/miniconda3/lib/python3.9/site-packages/distributed/client.py:2175\u001b[0m, in \u001b[0;36mClient.gather\u001b[0;34m(self, futures, errors, direct, asynchronous)\u001b[0m\n\u001b[1;32m   2173\u001b[0m \u001b[38;5;28;01melse\u001b[39;00m:\n\u001b[1;32m   2174\u001b[0m     local_worker \u001b[38;5;241m=\u001b[39m \u001b[38;5;28;01mNone\u001b[39;00m\n\u001b[0;32m-> 2175\u001b[0m \u001b[38;5;28;01mreturn\u001b[39;00m \u001b[38;5;28;43mself\u001b[39;49m\u001b[38;5;241;43m.\u001b[39;49m\u001b[43msync\u001b[49m\u001b[43m(\u001b[49m\n\u001b[1;32m   2176\u001b[0m \u001b[43m    \u001b[49m\u001b[38;5;28;43mself\u001b[39;49m\u001b[38;5;241;43m.\u001b[39;49m\u001b[43m_gather\u001b[49m\u001b[43m,\u001b[49m\n\u001b[1;32m   2177\u001b[0m \u001b[43m    \u001b[49m\u001b[43mfutures\u001b[49m\u001b[43m,\u001b[49m\n\u001b[1;32m   2178\u001b[0m \u001b[43m    \u001b[49m\u001b[43merrors\u001b[49m\u001b[38;5;241;43m=\u001b[39;49m\u001b[43merrors\u001b[49m\u001b[43m,\u001b[49m\n\u001b[1;32m   2179\u001b[0m \u001b[43m    \u001b[49m\u001b[43mdirect\u001b[49m\u001b[38;5;241;43m=\u001b[39;49m\u001b[43mdirect\u001b[49m\u001b[43m,\u001b[49m\n\u001b[1;32m   2180\u001b[0m \u001b[43m    \u001b[49m\u001b[43mlocal_worker\u001b[49m\u001b[38;5;241;43m=\u001b[39;49m\u001b[43mlocal_worker\u001b[49m\u001b[43m,\u001b[49m\n\u001b[1;32m   2181\u001b[0m \u001b[43m    \u001b[49m\u001b[43masynchronous\u001b[49m\u001b[38;5;241;43m=\u001b[39;49m\u001b[43masynchronous\u001b[49m\u001b[43m,\u001b[49m\n\u001b[1;32m   2182\u001b[0m \u001b[43m\u001b[49m\u001b[43m)\u001b[49m\n",
      "File \u001b[0;32m~/miniconda3/lib/python3.9/site-packages/distributed/utils.py:338\u001b[0m, in \u001b[0;36mSyncMethodMixin.sync\u001b[0;34m(self, func, asynchronous, callback_timeout, *args, **kwargs)\u001b[0m\n\u001b[1;32m    336\u001b[0m     \u001b[38;5;28;01mreturn\u001b[39;00m future\n\u001b[1;32m    337\u001b[0m \u001b[38;5;28;01melse\u001b[39;00m:\n\u001b[0;32m--> 338\u001b[0m     \u001b[38;5;28;01mreturn\u001b[39;00m \u001b[43msync\u001b[49m\u001b[43m(\u001b[49m\n\u001b[1;32m    339\u001b[0m \u001b[43m        \u001b[49m\u001b[38;5;28;43mself\u001b[39;49m\u001b[38;5;241;43m.\u001b[39;49m\u001b[43mloop\u001b[49m\u001b[43m,\u001b[49m\u001b[43m \u001b[49m\u001b[43mfunc\u001b[49m\u001b[43m,\u001b[49m\u001b[43m \u001b[49m\u001b[38;5;241;43m*\u001b[39;49m\u001b[43margs\u001b[49m\u001b[43m,\u001b[49m\u001b[43m \u001b[49m\u001b[43mcallback_timeout\u001b[49m\u001b[38;5;241;43m=\u001b[39;49m\u001b[43mcallback_timeout\u001b[49m\u001b[43m,\u001b[49m\u001b[43m \u001b[49m\u001b[38;5;241;43m*\u001b[39;49m\u001b[38;5;241;43m*\u001b[39;49m\u001b[43mkwargs\u001b[49m\n\u001b[1;32m    340\u001b[0m \u001b[43m    \u001b[49m\u001b[43m)\u001b[49m\n",
      "File \u001b[0;32m~/miniconda3/lib/python3.9/site-packages/distributed/utils.py:405\u001b[0m, in \u001b[0;36msync\u001b[0;34m(loop, func, callback_timeout, *args, **kwargs)\u001b[0m\n\u001b[1;32m    403\u001b[0m \u001b[38;5;28;01mif\u001b[39;00m error:\n\u001b[1;32m    404\u001b[0m     typ, exc, tb \u001b[38;5;241m=\u001b[39m error\n\u001b[0;32m--> 405\u001b[0m     \u001b[38;5;28;01mraise\u001b[39;00m exc\u001b[38;5;241m.\u001b[39mwith_traceback(tb)\n\u001b[1;32m    406\u001b[0m \u001b[38;5;28;01melse\u001b[39;00m:\n\u001b[1;32m    407\u001b[0m     \u001b[38;5;28;01mreturn\u001b[39;00m result\n",
      "File \u001b[0;32m~/miniconda3/lib/python3.9/site-packages/distributed/utils.py:378\u001b[0m, in \u001b[0;36msync.<locals>.f\u001b[0;34m()\u001b[0m\n\u001b[1;32m    376\u001b[0m         future \u001b[38;5;241m=\u001b[39m asyncio\u001b[38;5;241m.\u001b[39mwait_for(future, callback_timeout)\n\u001b[1;32m    377\u001b[0m     future \u001b[38;5;241m=\u001b[39m asyncio\u001b[38;5;241m.\u001b[39mensure_future(future)\n\u001b[0;32m--> 378\u001b[0m     result \u001b[38;5;241m=\u001b[39m \u001b[38;5;28;01myield\u001b[39;00m future\n\u001b[1;32m    379\u001b[0m \u001b[38;5;28;01mexcept\u001b[39;00m \u001b[38;5;167;01mException\u001b[39;00m:\n\u001b[1;32m    380\u001b[0m     error \u001b[38;5;241m=\u001b[39m sys\u001b[38;5;241m.\u001b[39mexc_info()\n",
      "File \u001b[0;32m~/miniconda3/lib/python3.9/site-packages/tornado/gen.py:762\u001b[0m, in \u001b[0;36mRunner.run\u001b[0;34m(self)\u001b[0m\n\u001b[1;32m    759\u001b[0m exc_info \u001b[38;5;241m=\u001b[39m \u001b[38;5;28;01mNone\u001b[39;00m\n\u001b[1;32m    761\u001b[0m \u001b[38;5;28;01mtry\u001b[39;00m:\n\u001b[0;32m--> 762\u001b[0m     value \u001b[38;5;241m=\u001b[39m \u001b[43mfuture\u001b[49m\u001b[38;5;241;43m.\u001b[39;49m\u001b[43mresult\u001b[49m\u001b[43m(\u001b[49m\u001b[43m)\u001b[49m\n\u001b[1;32m    763\u001b[0m \u001b[38;5;28;01mexcept\u001b[39;00m \u001b[38;5;167;01mException\u001b[39;00m:\n\u001b[1;32m    764\u001b[0m     exc_info \u001b[38;5;241m=\u001b[39m sys\u001b[38;5;241m.\u001b[39mexc_info()\n",
      "File \u001b[0;32m~/miniconda3/lib/python3.9/site-packages/distributed/client.py:2038\u001b[0m, in \u001b[0;36mClient._gather\u001b[0;34m(self, futures, errors, direct, local_worker)\u001b[0m\n\u001b[1;32m   2036\u001b[0m         exc \u001b[38;5;241m=\u001b[39m CancelledError(key)\n\u001b[1;32m   2037\u001b[0m     \u001b[38;5;28;01melse\u001b[39;00m:\n\u001b[0;32m-> 2038\u001b[0m         \u001b[38;5;28;01mraise\u001b[39;00m exception\u001b[38;5;241m.\u001b[39mwith_traceback(traceback)\n\u001b[1;32m   2039\u001b[0m     \u001b[38;5;28;01mraise\u001b[39;00m exc\n\u001b[1;32m   2040\u001b[0m \u001b[38;5;28;01mif\u001b[39;00m errors \u001b[38;5;241m==\u001b[39m \u001b[38;5;124m\"\u001b[39m\u001b[38;5;124mskip\u001b[39m\u001b[38;5;124m\"\u001b[39m:\n",
      "\u001b[0;31mKilledWorker\u001b[0m: (\"('rechunk-split-rechunk-merge-b612c0ed135b91be7786c033af4a7342', 0, 1, 3, 1)\", <WorkerState 'tcp://127.0.0.1:46353', name: 6, status: closed, memory: 0, processing: 45>)"
     ]
    }
   ],
   "source": [
    "TS.train_slice()"
   ]
  },
  {
   "cell_type": "code",
   "execution_count": 731,
   "id": "dffec4e4-a345-491d-9c7a-08105b1e8f36",
   "metadata": {},
   "outputs": [],
   "source": [
    "# import pickle\n",
    "# pickle.dump(TS.current_feat_stack, open(os.path.join(training_path,'y110t0.p'),'wb'))"
   ]
  },
  {
   "cell_type": "code",
   "execution_count": 732,
   "id": "bda862d9-0c69-4e2e-9aa9-8fe0706fac7d",
   "metadata": {
    "tags": []
   },
   "outputs": [
    {
     "name": "stderr",
     "output_type": "stream",
     "text": [
      "/tmp/ipykernel_2392569/3278944968.py:2: MatplotlibDeprecationWarning: Passing the linefmt parameter positionally is deprecated since Matplotlib 3.5; the parameter will become keyword-only two minor releases later.\n",
      "  plt.stem(TS.feature_names, TS.clf.feature_importances_,'x')\n"
     ]
    },
    {
     "data": {
      "text/plain": [
       "Text(0, 0.5, 'importance')"
      ]
     },
     "execution_count": 732,
     "metadata": {},
     "output_type": "execute_result"
    },
    {
     "data": {
      "image/png": "[encoded data removed]",
      "text/plain": [
       "<Figure size 1152x648 with 1 Axes>"
      ]
     },
     "metadata": {
      "needs_background": "light"
     },
     "output_type": "display_data"
    }
   ],
   "source": [
    "plt.figure(figsize=(16,9))\n",
    "plt.stem(TS.feature_names, TS.clf.feature_importances_,'x')\n",
    "plt.xticks(rotation=90)\n",
    "plt.ylabel('importance') "
   ]
  },
  {
   "cell_type": "code",
   "execution_count": 733,
   "id": "20abc162-ebbc-4d0d-9b36-01b2e5fcccd6",
   "metadata": {
    "collapsed": true,
    "jupyter": {
     "outputs_hidden": true
    },
    "tags": []
   },
   "outputs": [
    {
     "ename": "KilledWorker",
     "evalue": "(\"('rechunk-split-rechunk-merge-b612c0ed135b91be7786c033af4a7342', 0, 1, 3, 1)\", <WorkerState 'tcp://127.0.0.1:46353', name: 6, status: closed, memory: 0, processing: 45>)",
     "output_type": "error",
     "traceback": [
      "\u001b[0;31m---------------------------------------------------------------------------\u001b[0m",
      "\u001b[0;31mKilledWorker\u001b[0m                              Traceback (most recent call last)",
      "Input \u001b[0;32mIn [733]\u001b[0m, in \u001b[0;36m<cell line: 2>\u001b[0;34m()\u001b[0m\n\u001b[1;32m      1\u001b[0m i \u001b[38;5;241m=\u001b[39m \u001b[38;5;241m1\u001b[39m\n\u001b[0;32m----> 2\u001b[0m \u001b[43mplt\u001b[49m\u001b[38;5;241;43m.\u001b[39;49m\u001b[43mimshow\u001b[49m\u001b[43m(\u001b[49m\u001b[43mTS\u001b[49m\u001b[38;5;241;43m.\u001b[39;49m\u001b[43mcurrent_feat_stack\u001b[49m\u001b[43m[\u001b[49m\u001b[43m:\u001b[49m\u001b[43m,\u001b[49m\u001b[43m:\u001b[49m\u001b[43m,\u001b[49m\u001b[43mi\u001b[49m\u001b[43m]\u001b[49m\u001b[43m,\u001b[49m\u001b[43m \u001b[49m\u001b[43mvmin\u001b[49m\u001b[38;5;241;43m=\u001b[39;49m\u001b[38;5;241;43m6e4\u001b[39;49m\u001b[43m)\u001b[49m\n\u001b[1;32m      3\u001b[0m plt\u001b[38;5;241m.\u001b[39mtitle(TS\u001b[38;5;241m.\u001b[39mfeature_names[i])\n",
      "File \u001b[0;32m~/miniconda3/lib/python3.9/site-packages/matplotlib/_api/deprecation.py:459\u001b[0m, in \u001b[0;36mmake_keyword_only.<locals>.wrapper\u001b[0;34m(*args, **kwargs)\u001b[0m\n\u001b[1;32m    453\u001b[0m \u001b[38;5;28;01mif\u001b[39;00m \u001b[38;5;28mlen\u001b[39m(args) \u001b[38;5;241m>\u001b[39m name_idx:\n\u001b[1;32m    454\u001b[0m     warn_deprecated(\n\u001b[1;32m    455\u001b[0m         since, message\u001b[38;5;241m=\u001b[39m\u001b[38;5;124m\"\u001b[39m\u001b[38;5;124mPassing the \u001b[39m\u001b[38;5;132;01m%(name)s\u001b[39;00m\u001b[38;5;124m \u001b[39m\u001b[38;5;132;01m%(obj_type)s\u001b[39;00m\u001b[38;5;124m \u001b[39m\u001b[38;5;124m\"\u001b[39m\n\u001b[1;32m    456\u001b[0m         \u001b[38;5;124m\"\u001b[39m\u001b[38;5;124mpositionally is deprecated since Matplotlib \u001b[39m\u001b[38;5;132;01m%(since)s\u001b[39;00m\u001b[38;5;124m; the \u001b[39m\u001b[38;5;124m\"\u001b[39m\n\u001b[1;32m    457\u001b[0m         \u001b[38;5;124m\"\u001b[39m\u001b[38;5;124mparameter will become keyword-only \u001b[39m\u001b[38;5;132;01m%(removal)s\u001b[39;00m\u001b[38;5;124m.\u001b[39m\u001b[38;5;124m\"\u001b[39m,\n\u001b[1;32m    458\u001b[0m         name\u001b[38;5;241m=\u001b[39mname, obj_type\u001b[38;5;241m=\u001b[39m\u001b[38;5;124mf\u001b[39m\u001b[38;5;124m\"\u001b[39m\u001b[38;5;124mparameter of \u001b[39m\u001b[38;5;132;01m{\u001b[39;00mfunc\u001b[38;5;241m.\u001b[39m\u001b[38;5;18m__name__\u001b[39m\u001b[38;5;132;01m}\u001b[39;00m\u001b[38;5;124m()\u001b[39m\u001b[38;5;124m\"\u001b[39m)\n\u001b[0;32m--> 459\u001b[0m \u001b[38;5;28;01mreturn\u001b[39;00m \u001b[43mfunc\u001b[49m\u001b[43m(\u001b[49m\u001b[38;5;241;43m*\u001b[39;49m\u001b[43margs\u001b[49m\u001b[43m,\u001b[49m\u001b[43m \u001b[49m\u001b[38;5;241;43m*\u001b[39;49m\u001b[38;5;241;43m*\u001b[39;49m\u001b[43mkwargs\u001b[49m\u001b[43m)\u001b[49m\n",
      "File \u001b[0;32m~/miniconda3/lib/python3.9/site-packages/matplotlib/pyplot.py:2652\u001b[0m, in \u001b[0;36mimshow\u001b[0;34m(X, cmap, norm, aspect, interpolation, alpha, vmin, vmax, origin, extent, interpolation_stage, filternorm, filterrad, resample, url, data, **kwargs)\u001b[0m\n\u001b[1;32m   2646\u001b[0m \u001b[38;5;129m@_copy_docstring_and_deprecators\u001b[39m(Axes\u001b[38;5;241m.\u001b[39mimshow)\n\u001b[1;32m   2647\u001b[0m \u001b[38;5;28;01mdef\u001b[39;00m \u001b[38;5;21mimshow\u001b[39m(\n\u001b[1;32m   2648\u001b[0m         X, cmap\u001b[38;5;241m=\u001b[39m\u001b[38;5;28;01mNone\u001b[39;00m, norm\u001b[38;5;241m=\u001b[39m\u001b[38;5;28;01mNone\u001b[39;00m, aspect\u001b[38;5;241m=\u001b[39m\u001b[38;5;28;01mNone\u001b[39;00m, interpolation\u001b[38;5;241m=\u001b[39m\u001b[38;5;28;01mNone\u001b[39;00m,\n\u001b[1;32m   2649\u001b[0m         alpha\u001b[38;5;241m=\u001b[39m\u001b[38;5;28;01mNone\u001b[39;00m, vmin\u001b[38;5;241m=\u001b[39m\u001b[38;5;28;01mNone\u001b[39;00m, vmax\u001b[38;5;241m=\u001b[39m\u001b[38;5;28;01mNone\u001b[39;00m, origin\u001b[38;5;241m=\u001b[39m\u001b[38;5;28;01mNone\u001b[39;00m, extent\u001b[38;5;241m=\u001b[39m\u001b[38;5;28;01mNone\u001b[39;00m, \u001b[38;5;241m*\u001b[39m,\n\u001b[1;32m   2650\u001b[0m         interpolation_stage\u001b[38;5;241m=\u001b[39m\u001b[38;5;28;01mNone\u001b[39;00m, filternorm\u001b[38;5;241m=\u001b[39m\u001b[38;5;28;01mTrue\u001b[39;00m, filterrad\u001b[38;5;241m=\u001b[39m\u001b[38;5;241m4.0\u001b[39m,\n\u001b[1;32m   2651\u001b[0m         resample\u001b[38;5;241m=\u001b[39m\u001b[38;5;28;01mNone\u001b[39;00m, url\u001b[38;5;241m=\u001b[39m\u001b[38;5;28;01mNone\u001b[39;00m, data\u001b[38;5;241m=\u001b[39m\u001b[38;5;28;01mNone\u001b[39;00m, \u001b[38;5;241m*\u001b[39m\u001b[38;5;241m*\u001b[39mkwargs):\n\u001b[0;32m-> 2652\u001b[0m     __ret \u001b[38;5;241m=\u001b[39m \u001b[43mgca\u001b[49m\u001b[43m(\u001b[49m\u001b[43m)\u001b[49m\u001b[38;5;241;43m.\u001b[39;49m\u001b[43mimshow\u001b[49m\u001b[43m(\u001b[49m\n\u001b[1;32m   2653\u001b[0m \u001b[43m        \u001b[49m\u001b[43mX\u001b[49m\u001b[43m,\u001b[49m\u001b[43m \u001b[49m\u001b[43mcmap\u001b[49m\u001b[38;5;241;43m=\u001b[39;49m\u001b[43mcmap\u001b[49m\u001b[43m,\u001b[49m\u001b[43m \u001b[49m\u001b[43mnorm\u001b[49m\u001b[38;5;241;43m=\u001b[39;49m\u001b[43mnorm\u001b[49m\u001b[43m,\u001b[49m\u001b[43m \u001b[49m\u001b[43maspect\u001b[49m\u001b[38;5;241;43m=\u001b[39;49m\u001b[43maspect\u001b[49m\u001b[43m,\u001b[49m\n\u001b[1;32m   2654\u001b[0m \u001b[43m        \u001b[49m\u001b[43minterpolation\u001b[49m\u001b[38;5;241;43m=\u001b[39;49m\u001b[43minterpolation\u001b[49m\u001b[43m,\u001b[49m\u001b[43m \u001b[49m\u001b[43malpha\u001b[49m\u001b[38;5;241;43m=\u001b[39;49m\u001b[43malpha\u001b[49m\u001b[43m,\u001b[49m\u001b[43m \u001b[49m\u001b[43mvmin\u001b[49m\u001b[38;5;241;43m=\u001b[39;49m\u001b[43mvmin\u001b[49m\u001b[43m,\u001b[49m\n\u001b[1;32m   2655\u001b[0m \u001b[43m        \u001b[49m\u001b[43mvmax\u001b[49m\u001b[38;5;241;43m=\u001b[39;49m\u001b[43mvmax\u001b[49m\u001b[43m,\u001b[49m\u001b[43m \u001b[49m\u001b[43morigin\u001b[49m\u001b[38;5;241;43m=\u001b[39;49m\u001b[43morigin\u001b[49m\u001b[43m,\u001b[49m\u001b[43m \u001b[49m\u001b[43mextent\u001b[49m\u001b[38;5;241;43m=\u001b[39;49m\u001b[43mextent\u001b[49m\u001b[43m,\u001b[49m\n\u001b[1;32m   2656\u001b[0m \u001b[43m        \u001b[49m\u001b[43minterpolation_stage\u001b[49m\u001b[38;5;241;43m=\u001b[39;49m\u001b[43minterpolation_stage\u001b[49m\u001b[43m,\u001b[49m\n\u001b[1;32m   2657\u001b[0m \u001b[43m        \u001b[49m\u001b[43mfilternorm\u001b[49m\u001b[38;5;241;43m=\u001b[39;49m\u001b[43mfilternorm\u001b[49m\u001b[43m,\u001b[49m\u001b[43m \u001b[49m\u001b[43mfilterrad\u001b[49m\u001b[38;5;241;43m=\u001b[39;49m\u001b[43mfilterrad\u001b[49m\u001b[43m,\u001b[49m\u001b[43m \u001b[49m\u001b[43mresample\u001b[49m\u001b[38;5;241;43m=\u001b[39;49m\u001b[43mresample\u001b[49m\u001b[43m,\u001b[49m\n\u001b[1;32m   2658\u001b[0m \u001b[43m        \u001b[49m\u001b[43murl\u001b[49m\u001b[38;5;241;43m=\u001b[39;49m\u001b[43murl\u001b[49m\u001b[43m,\u001b[49m\u001b[43m \u001b[49m\u001b[38;5;241;43m*\u001b[39;49m\u001b[38;5;241;43m*\u001b[39;49m\u001b[43m(\u001b[49m\u001b[43m{\u001b[49m\u001b[38;5;124;43m\"\u001b[39;49m\u001b[38;5;124;43mdata\u001b[39;49m\u001b[38;5;124;43m\"\u001b[39;49m\u001b[43m:\u001b[49m\u001b[43m \u001b[49m\u001b[43mdata\u001b[49m\u001b[43m}\u001b[49m\u001b[43m \u001b[49m\u001b[38;5;28;43;01mif\u001b[39;49;00m\u001b[43m \u001b[49m\u001b[43mdata\u001b[49m\u001b[43m \u001b[49m\u001b[38;5;129;43;01mis\u001b[39;49;00m\u001b[43m \u001b[49m\u001b[38;5;129;43;01mnot\u001b[39;49;00m\u001b[43m \u001b[49m\u001b[38;5;28;43;01mNone\u001b[39;49;00m\u001b[43m \u001b[49m\u001b[38;5;28;43;01melse\u001b[39;49;00m\u001b[43m \u001b[49m\u001b[43m{\u001b[49m\u001b[43m}\u001b[49m\u001b[43m)\u001b[49m\u001b[43m,\u001b[49m\n\u001b[1;32m   2659\u001b[0m \u001b[43m        \u001b[49m\u001b[38;5;241;43m*\u001b[39;49m\u001b[38;5;241;43m*\u001b[39;49m\u001b[43mkwargs\u001b[49m\u001b[43m)\u001b[49m\n\u001b[1;32m   2660\u001b[0m     sci(__ret)\n\u001b[1;32m   2661\u001b[0m     \u001b[38;5;28;01mreturn\u001b[39;00m __ret\n",
      "File \u001b[0;32m~/miniconda3/lib/python3.9/site-packages/matplotlib/_api/deprecation.py:459\u001b[0m, in \u001b[0;36mmake_keyword_only.<locals>.wrapper\u001b[0;34m(*args, **kwargs)\u001b[0m\n\u001b[1;32m    453\u001b[0m \u001b[38;5;28;01mif\u001b[39;00m \u001b[38;5;28mlen\u001b[39m(args) \u001b[38;5;241m>\u001b[39m name_idx:\n\u001b[1;32m    454\u001b[0m     warn_deprecated(\n\u001b[1;32m    455\u001b[0m         since, message\u001b[38;5;241m=\u001b[39m\u001b[38;5;124m\"\u001b[39m\u001b[38;5;124mPassing the \u001b[39m\u001b[38;5;132;01m%(name)s\u001b[39;00m\u001b[38;5;124m \u001b[39m\u001b[38;5;132;01m%(obj_type)s\u001b[39;00m\u001b[38;5;124m \u001b[39m\u001b[38;5;124m\"\u001b[39m\n\u001b[1;32m    456\u001b[0m         \u001b[38;5;124m\"\u001b[39m\u001b[38;5;124mpositionally is deprecated since Matplotlib \u001b[39m\u001b[38;5;132;01m%(since)s\u001b[39;00m\u001b[38;5;124m; the \u001b[39m\u001b[38;5;124m\"\u001b[39m\n\u001b[1;32m    457\u001b[0m         \u001b[38;5;124m\"\u001b[39m\u001b[38;5;124mparameter will become keyword-only \u001b[39m\u001b[38;5;132;01m%(removal)s\u001b[39;00m\u001b[38;5;124m.\u001b[39m\u001b[38;5;124m\"\u001b[39m,\n\u001b[1;32m    458\u001b[0m         name\u001b[38;5;241m=\u001b[39mname, obj_type\u001b[38;5;241m=\u001b[39m\u001b[38;5;124mf\u001b[39m\u001b[38;5;124m\"\u001b[39m\u001b[38;5;124mparameter of \u001b[39m\u001b[38;5;132;01m{\u001b[39;00mfunc\u001b[38;5;241m.\u001b[39m\u001b[38;5;18m__name__\u001b[39m\u001b[38;5;132;01m}\u001b[39;00m\u001b[38;5;124m()\u001b[39m\u001b[38;5;124m\"\u001b[39m)\n\u001b[0;32m--> 459\u001b[0m \u001b[38;5;28;01mreturn\u001b[39;00m \u001b[43mfunc\u001b[49m\u001b[43m(\u001b[49m\u001b[38;5;241;43m*\u001b[39;49m\u001b[43margs\u001b[49m\u001b[43m,\u001b[49m\u001b[43m \u001b[49m\u001b[38;5;241;43m*\u001b[39;49m\u001b[38;5;241;43m*\u001b[39;49m\u001b[43mkwargs\u001b[49m\u001b[43m)\u001b[49m\n",
      "File \u001b[0;32m~/miniconda3/lib/python3.9/site-packages/matplotlib/__init__.py:1412\u001b[0m, in \u001b[0;36m_preprocess_data.<locals>.inner\u001b[0;34m(ax, data, *args, **kwargs)\u001b[0m\n\u001b[1;32m   1409\u001b[0m \u001b[38;5;129m@functools\u001b[39m\u001b[38;5;241m.\u001b[39mwraps(func)\n\u001b[1;32m   1410\u001b[0m \u001b[38;5;28;01mdef\u001b[39;00m \u001b[38;5;21minner\u001b[39m(ax, \u001b[38;5;241m*\u001b[39margs, data\u001b[38;5;241m=\u001b[39m\u001b[38;5;28;01mNone\u001b[39;00m, \u001b[38;5;241m*\u001b[39m\u001b[38;5;241m*\u001b[39mkwargs):\n\u001b[1;32m   1411\u001b[0m     \u001b[38;5;28;01mif\u001b[39;00m data \u001b[38;5;129;01mis\u001b[39;00m \u001b[38;5;28;01mNone\u001b[39;00m:\n\u001b[0;32m-> 1412\u001b[0m         \u001b[38;5;28;01mreturn\u001b[39;00m \u001b[43mfunc\u001b[49m\u001b[43m(\u001b[49m\u001b[43max\u001b[49m\u001b[43m,\u001b[49m\u001b[43m \u001b[49m\u001b[38;5;241;43m*\u001b[39;49m\u001b[38;5;28;43mmap\u001b[39;49m\u001b[43m(\u001b[49m\u001b[43msanitize_sequence\u001b[49m\u001b[43m,\u001b[49m\u001b[43m \u001b[49m\u001b[43margs\u001b[49m\u001b[43m)\u001b[49m\u001b[43m,\u001b[49m\u001b[43m \u001b[49m\u001b[38;5;241;43m*\u001b[39;49m\u001b[38;5;241;43m*\u001b[39;49m\u001b[43mkwargs\u001b[49m\u001b[43m)\u001b[49m\n\u001b[1;32m   1414\u001b[0m     bound \u001b[38;5;241m=\u001b[39m new_sig\u001b[38;5;241m.\u001b[39mbind(ax, \u001b[38;5;241m*\u001b[39margs, \u001b[38;5;241m*\u001b[39m\u001b[38;5;241m*\u001b[39mkwargs)\n\u001b[1;32m   1415\u001b[0m     auto_label \u001b[38;5;241m=\u001b[39m (bound\u001b[38;5;241m.\u001b[39marguments\u001b[38;5;241m.\u001b[39mget(label_namer)\n\u001b[1;32m   1416\u001b[0m                   \u001b[38;5;129;01mor\u001b[39;00m bound\u001b[38;5;241m.\u001b[39mkwargs\u001b[38;5;241m.\u001b[39mget(label_namer))\n",
      "File \u001b[0;32m~/miniconda3/lib/python3.9/site-packages/matplotlib/axes/_axes.py:5481\u001b[0m, in \u001b[0;36mAxes.imshow\u001b[0;34m(self, X, cmap, norm, aspect, interpolation, alpha, vmin, vmax, origin, extent, interpolation_stage, filternorm, filterrad, resample, url, **kwargs)\u001b[0m\n\u001b[1;32m   5474\u001b[0m \u001b[38;5;28mself\u001b[39m\u001b[38;5;241m.\u001b[39mset_aspect(aspect)\n\u001b[1;32m   5475\u001b[0m im \u001b[38;5;241m=\u001b[39m mimage\u001b[38;5;241m.\u001b[39mAxesImage(\u001b[38;5;28mself\u001b[39m, cmap, norm, interpolation,\n\u001b[1;32m   5476\u001b[0m                       origin, extent, filternorm\u001b[38;5;241m=\u001b[39mfilternorm,\n\u001b[1;32m   5477\u001b[0m                       filterrad\u001b[38;5;241m=\u001b[39mfilterrad, resample\u001b[38;5;241m=\u001b[39mresample,\n\u001b[1;32m   5478\u001b[0m                       interpolation_stage\u001b[38;5;241m=\u001b[39minterpolation_stage,\n\u001b[1;32m   5479\u001b[0m                       \u001b[38;5;241m*\u001b[39m\u001b[38;5;241m*\u001b[39mkwargs)\n\u001b[0;32m-> 5481\u001b[0m \u001b[43mim\u001b[49m\u001b[38;5;241;43m.\u001b[39;49m\u001b[43mset_data\u001b[49m\u001b[43m(\u001b[49m\u001b[43mX\u001b[49m\u001b[43m)\u001b[49m\n\u001b[1;32m   5482\u001b[0m im\u001b[38;5;241m.\u001b[39mset_alpha(alpha)\n\u001b[1;32m   5483\u001b[0m \u001b[38;5;28;01mif\u001b[39;00m im\u001b[38;5;241m.\u001b[39mget_clip_path() \u001b[38;5;129;01mis\u001b[39;00m \u001b[38;5;28;01mNone\u001b[39;00m:\n\u001b[1;32m   5484\u001b[0m     \u001b[38;5;66;03m# image does not already have clipping set, clip to axes patch\u001b[39;00m\n",
      "File \u001b[0;32m~/miniconda3/lib/python3.9/site-packages/matplotlib/image.py:702\u001b[0m, in \u001b[0;36m_ImageBase.set_data\u001b[0;34m(self, A)\u001b[0m\n\u001b[1;32m    700\u001b[0m \u001b[38;5;28;01mif\u001b[39;00m \u001b[38;5;28misinstance\u001b[39m(A, PIL\u001b[38;5;241m.\u001b[39mImage\u001b[38;5;241m.\u001b[39mImage):\n\u001b[1;32m    701\u001b[0m     A \u001b[38;5;241m=\u001b[39m pil_to_array(A)  \u001b[38;5;66;03m# Needed e.g. to apply png palette.\u001b[39;00m\n\u001b[0;32m--> 702\u001b[0m \u001b[38;5;28mself\u001b[39m\u001b[38;5;241m.\u001b[39m_A \u001b[38;5;241m=\u001b[39m \u001b[43mcbook\u001b[49m\u001b[38;5;241;43m.\u001b[39;49m\u001b[43msafe_masked_invalid\u001b[49m\u001b[43m(\u001b[49m\u001b[43mA\u001b[49m\u001b[43m,\u001b[49m\u001b[43m \u001b[49m\u001b[43mcopy\u001b[49m\u001b[38;5;241;43m=\u001b[39;49m\u001b[38;5;28;43;01mTrue\u001b[39;49;00m\u001b[43m)\u001b[49m\n\u001b[1;32m    704\u001b[0m \u001b[38;5;28;01mif\u001b[39;00m (\u001b[38;5;28mself\u001b[39m\u001b[38;5;241m.\u001b[39m_A\u001b[38;5;241m.\u001b[39mdtype \u001b[38;5;241m!=\u001b[39m np\u001b[38;5;241m.\u001b[39muint8 \u001b[38;5;129;01mand\u001b[39;00m\n\u001b[1;32m    705\u001b[0m         \u001b[38;5;129;01mnot\u001b[39;00m np\u001b[38;5;241m.\u001b[39mcan_cast(\u001b[38;5;28mself\u001b[39m\u001b[38;5;241m.\u001b[39m_A\u001b[38;5;241m.\u001b[39mdtype, \u001b[38;5;28mfloat\u001b[39m, \u001b[38;5;124m\"\u001b[39m\u001b[38;5;124msame_kind\u001b[39m\u001b[38;5;124m\"\u001b[39m)):\n\u001b[1;32m    706\u001b[0m     \u001b[38;5;28;01mraise\u001b[39;00m \u001b[38;5;167;01mTypeError\u001b[39;00m(\u001b[38;5;124m\"\u001b[39m\u001b[38;5;124mImage data of dtype \u001b[39m\u001b[38;5;132;01m{}\u001b[39;00m\u001b[38;5;124m cannot be converted to \u001b[39m\u001b[38;5;124m\"\u001b[39m\n\u001b[1;32m    707\u001b[0m                     \u001b[38;5;124m\"\u001b[39m\u001b[38;5;124mfloat\u001b[39m\u001b[38;5;124m\"\u001b[39m\u001b[38;5;241m.\u001b[39mformat(\u001b[38;5;28mself\u001b[39m\u001b[38;5;241m.\u001b[39m_A\u001b[38;5;241m.\u001b[39mdtype))\n",
      "File \u001b[0;32m~/miniconda3/lib/python3.9/site-packages/matplotlib/cbook/__init__.py:701\u001b[0m, in \u001b[0;36msafe_masked_invalid\u001b[0;34m(x, copy)\u001b[0m\n\u001b[1;32m    700\u001b[0m \u001b[38;5;28;01mdef\u001b[39;00m \u001b[38;5;21msafe_masked_invalid\u001b[39m(x, copy\u001b[38;5;241m=\u001b[39m\u001b[38;5;28;01mFalse\u001b[39;00m):\n\u001b[0;32m--> 701\u001b[0m     x \u001b[38;5;241m=\u001b[39m \u001b[43mnp\u001b[49m\u001b[38;5;241;43m.\u001b[39;49m\u001b[43marray\u001b[49m\u001b[43m(\u001b[49m\u001b[43mx\u001b[49m\u001b[43m,\u001b[49m\u001b[43m \u001b[49m\u001b[43msubok\u001b[49m\u001b[38;5;241;43m=\u001b[39;49m\u001b[38;5;28;43;01mTrue\u001b[39;49;00m\u001b[43m,\u001b[49m\u001b[43m \u001b[49m\u001b[43mcopy\u001b[49m\u001b[38;5;241;43m=\u001b[39;49m\u001b[43mcopy\u001b[49m\u001b[43m)\u001b[49m\n\u001b[1;32m    702\u001b[0m     \u001b[38;5;28;01mif\u001b[39;00m \u001b[38;5;129;01mnot\u001b[39;00m x\u001b[38;5;241m.\u001b[39mdtype\u001b[38;5;241m.\u001b[39misnative:\n\u001b[1;32m    703\u001b[0m         \u001b[38;5;66;03m# If we have already made a copy, do the byteswap in place, else make a\u001b[39;00m\n\u001b[1;32m    704\u001b[0m         \u001b[38;5;66;03m# copy with the byte order swapped.\u001b[39;00m\n\u001b[1;32m    705\u001b[0m         x \u001b[38;5;241m=\u001b[39m x\u001b[38;5;241m.\u001b[39mbyteswap(inplace\u001b[38;5;241m=\u001b[39mcopy)\u001b[38;5;241m.\u001b[39mnewbyteorder(\u001b[38;5;124m'\u001b[39m\u001b[38;5;124mN\u001b[39m\u001b[38;5;124m'\u001b[39m)  \u001b[38;5;66;03m# Swap to native order.\u001b[39;00m\n",
      "File \u001b[0;32m~/miniconda3/lib/python3.9/site-packages/dask/array/core.py:1692\u001b[0m, in \u001b[0;36mArray.__array__\u001b[0;34m(self, dtype, **kwargs)\u001b[0m\n\u001b[1;32m   1691\u001b[0m \u001b[38;5;28;01mdef\u001b[39;00m \u001b[38;5;21m__array__\u001b[39m(\u001b[38;5;28mself\u001b[39m, dtype\u001b[38;5;241m=\u001b[39m\u001b[38;5;28;01mNone\u001b[39;00m, \u001b[38;5;241m*\u001b[39m\u001b[38;5;241m*\u001b[39mkwargs):\n\u001b[0;32m-> 1692\u001b[0m     x \u001b[38;5;241m=\u001b[39m \u001b[38;5;28;43mself\u001b[39;49m\u001b[38;5;241;43m.\u001b[39;49m\u001b[43mcompute\u001b[49m\u001b[43m(\u001b[49m\u001b[43m)\u001b[49m\n\u001b[1;32m   1693\u001b[0m     \u001b[38;5;28;01mif\u001b[39;00m dtype \u001b[38;5;129;01mand\u001b[39;00m x\u001b[38;5;241m.\u001b[39mdtype \u001b[38;5;241m!=\u001b[39m dtype:\n\u001b[1;32m   1694\u001b[0m         x \u001b[38;5;241m=\u001b[39m x\u001b[38;5;241m.\u001b[39mastype(dtype)\n",
      "File \u001b[0;32m~/miniconda3/lib/python3.9/site-packages/dask/base.py:315\u001b[0m, in \u001b[0;36mDaskMethodsMixin.compute\u001b[0;34m(self, **kwargs)\u001b[0m\n\u001b[1;32m    291\u001b[0m \u001b[38;5;28;01mdef\u001b[39;00m \u001b[38;5;21mcompute\u001b[39m(\u001b[38;5;28mself\u001b[39m, \u001b[38;5;241m*\u001b[39m\u001b[38;5;241m*\u001b[39mkwargs):\n\u001b[1;32m    292\u001b[0m     \u001b[38;5;124;03m\"\"\"Compute this dask collection\u001b[39;00m\n\u001b[1;32m    293\u001b[0m \n\u001b[1;32m    294\u001b[0m \u001b[38;5;124;03m    This turns a lazy Dask collection into its in-memory equivalent.\u001b[39;00m\n\u001b[0;32m   (...)\u001b[0m\n\u001b[1;32m    313\u001b[0m \u001b[38;5;124;03m    dask.base.compute\u001b[39;00m\n\u001b[1;32m    314\u001b[0m \u001b[38;5;124;03m    \"\"\"\u001b[39;00m\n\u001b[0;32m--> 315\u001b[0m     (result,) \u001b[38;5;241m=\u001b[39m \u001b[43mcompute\u001b[49m\u001b[43m(\u001b[49m\u001b[38;5;28;43mself\u001b[39;49m\u001b[43m,\u001b[49m\u001b[43m \u001b[49m\u001b[43mtraverse\u001b[49m\u001b[38;5;241;43m=\u001b[39;49m\u001b[38;5;28;43;01mFalse\u001b[39;49;00m\u001b[43m,\u001b[49m\u001b[43m \u001b[49m\u001b[38;5;241;43m*\u001b[39;49m\u001b[38;5;241;43m*\u001b[39;49m\u001b[43mkwargs\u001b[49m\u001b[43m)\u001b[49m\n\u001b[1;32m    316\u001b[0m     \u001b[38;5;28;01mreturn\u001b[39;00m result\n",
      "File \u001b[0;32m~/miniconda3/lib/python3.9/site-packages/dask/base.py:598\u001b[0m, in \u001b[0;36mcompute\u001b[0;34m(traverse, optimize_graph, scheduler, get, *args, **kwargs)\u001b[0m\n\u001b[1;32m    595\u001b[0m     keys\u001b[38;5;241m.\u001b[39mappend(x\u001b[38;5;241m.\u001b[39m__dask_keys__())\n\u001b[1;32m    596\u001b[0m     postcomputes\u001b[38;5;241m.\u001b[39mappend(x\u001b[38;5;241m.\u001b[39m__dask_postcompute__())\n\u001b[0;32m--> 598\u001b[0m results \u001b[38;5;241m=\u001b[39m \u001b[43mschedule\u001b[49m\u001b[43m(\u001b[49m\u001b[43mdsk\u001b[49m\u001b[43m,\u001b[49m\u001b[43m \u001b[49m\u001b[43mkeys\u001b[49m\u001b[43m,\u001b[49m\u001b[43m \u001b[49m\u001b[38;5;241;43m*\u001b[39;49m\u001b[38;5;241;43m*\u001b[39;49m\u001b[43mkwargs\u001b[49m\u001b[43m)\u001b[49m\n\u001b[1;32m    599\u001b[0m \u001b[38;5;28;01mreturn\u001b[39;00m repack([f(r, \u001b[38;5;241m*\u001b[39ma) \u001b[38;5;28;01mfor\u001b[39;00m r, (f, a) \u001b[38;5;129;01min\u001b[39;00m \u001b[38;5;28mzip\u001b[39m(results, postcomputes)])\n",
      "File \u001b[0;32m~/miniconda3/lib/python3.9/site-packages/distributed/client.py:3001\u001b[0m, in \u001b[0;36mClient.get\u001b[0;34m(self, dsk, keys, workers, allow_other_workers, resources, sync, asynchronous, direct, retries, priority, fifo_timeout, actors, **kwargs)\u001b[0m\n\u001b[1;32m   2999\u001b[0m         should_rejoin \u001b[38;5;241m=\u001b[39m \u001b[38;5;28;01mFalse\u001b[39;00m\n\u001b[1;32m   3000\u001b[0m \u001b[38;5;28;01mtry\u001b[39;00m:\n\u001b[0;32m-> 3001\u001b[0m     results \u001b[38;5;241m=\u001b[39m \u001b[38;5;28;43mself\u001b[39;49m\u001b[38;5;241;43m.\u001b[39;49m\u001b[43mgather\u001b[49m\u001b[43m(\u001b[49m\u001b[43mpacked\u001b[49m\u001b[43m,\u001b[49m\u001b[43m \u001b[49m\u001b[43masynchronous\u001b[49m\u001b[38;5;241;43m=\u001b[39;49m\u001b[43masynchronous\u001b[49m\u001b[43m,\u001b[49m\u001b[43m \u001b[49m\u001b[43mdirect\u001b[49m\u001b[38;5;241;43m=\u001b[39;49m\u001b[43mdirect\u001b[49m\u001b[43m)\u001b[49m\n\u001b[1;32m   3002\u001b[0m \u001b[38;5;28;01mfinally\u001b[39;00m:\n\u001b[1;32m   3003\u001b[0m     \u001b[38;5;28;01mfor\u001b[39;00m f \u001b[38;5;129;01min\u001b[39;00m futures\u001b[38;5;241m.\u001b[39mvalues():\n",
      "File \u001b[0;32m~/miniconda3/lib/python3.9/site-packages/distributed/client.py:2175\u001b[0m, in \u001b[0;36mClient.gather\u001b[0;34m(self, futures, errors, direct, asynchronous)\u001b[0m\n\u001b[1;32m   2173\u001b[0m \u001b[38;5;28;01melse\u001b[39;00m:\n\u001b[1;32m   2174\u001b[0m     local_worker \u001b[38;5;241m=\u001b[39m \u001b[38;5;28;01mNone\u001b[39;00m\n\u001b[0;32m-> 2175\u001b[0m \u001b[38;5;28;01mreturn\u001b[39;00m \u001b[38;5;28;43mself\u001b[39;49m\u001b[38;5;241;43m.\u001b[39;49m\u001b[43msync\u001b[49m\u001b[43m(\u001b[49m\n\u001b[1;32m   2176\u001b[0m \u001b[43m    \u001b[49m\u001b[38;5;28;43mself\u001b[39;49m\u001b[38;5;241;43m.\u001b[39;49m\u001b[43m_gather\u001b[49m\u001b[43m,\u001b[49m\n\u001b[1;32m   2177\u001b[0m \u001b[43m    \u001b[49m\u001b[43mfutures\u001b[49m\u001b[43m,\u001b[49m\n\u001b[1;32m   2178\u001b[0m \u001b[43m    \u001b[49m\u001b[43merrors\u001b[49m\u001b[38;5;241;43m=\u001b[39;49m\u001b[43merrors\u001b[49m\u001b[43m,\u001b[49m\n\u001b[1;32m   2179\u001b[0m \u001b[43m    \u001b[49m\u001b[43mdirect\u001b[49m\u001b[38;5;241;43m=\u001b[39;49m\u001b[43mdirect\u001b[49m\u001b[43m,\u001b[49m\n\u001b[1;32m   2180\u001b[0m \u001b[43m    \u001b[49m\u001b[43mlocal_worker\u001b[49m\u001b[38;5;241;43m=\u001b[39;49m\u001b[43mlocal_worker\u001b[49m\u001b[43m,\u001b[49m\n\u001b[1;32m   2181\u001b[0m \u001b[43m    \u001b[49m\u001b[43masynchronous\u001b[49m\u001b[38;5;241;43m=\u001b[39;49m\u001b[43masynchronous\u001b[49m\u001b[43m,\u001b[49m\n\u001b[1;32m   2182\u001b[0m \u001b[43m\u001b[49m\u001b[43m)\u001b[49m\n",
      "File \u001b[0;32m~/miniconda3/lib/python3.9/site-packages/distributed/utils.py:338\u001b[0m, in \u001b[0;36mSyncMethodMixin.sync\u001b[0;34m(self, func, asynchronous, callback_timeout, *args, **kwargs)\u001b[0m\n\u001b[1;32m    336\u001b[0m     \u001b[38;5;28;01mreturn\u001b[39;00m future\n\u001b[1;32m    337\u001b[0m \u001b[38;5;28;01melse\u001b[39;00m:\n\u001b[0;32m--> 338\u001b[0m     \u001b[38;5;28;01mreturn\u001b[39;00m \u001b[43msync\u001b[49m\u001b[43m(\u001b[49m\n\u001b[1;32m    339\u001b[0m \u001b[43m        \u001b[49m\u001b[38;5;28;43mself\u001b[39;49m\u001b[38;5;241;43m.\u001b[39;49m\u001b[43mloop\u001b[49m\u001b[43m,\u001b[49m\u001b[43m \u001b[49m\u001b[43mfunc\u001b[49m\u001b[43m,\u001b[49m\u001b[43m \u001b[49m\u001b[38;5;241;43m*\u001b[39;49m\u001b[43margs\u001b[49m\u001b[43m,\u001b[49m\u001b[43m \u001b[49m\u001b[43mcallback_timeout\u001b[49m\u001b[38;5;241;43m=\u001b[39;49m\u001b[43mcallback_timeout\u001b[49m\u001b[43m,\u001b[49m\u001b[43m \u001b[49m\u001b[38;5;241;43m*\u001b[39;49m\u001b[38;5;241;43m*\u001b[39;49m\u001b[43mkwargs\u001b[49m\n\u001b[1;32m    340\u001b[0m \u001b[43m    \u001b[49m\u001b[43m)\u001b[49m\n",
      "File \u001b[0;32m~/miniconda3/lib/python3.9/site-packages/distributed/utils.py:405\u001b[0m, in \u001b[0;36msync\u001b[0;34m(loop, func, callback_timeout, *args, **kwargs)\u001b[0m\n\u001b[1;32m    403\u001b[0m \u001b[38;5;28;01mif\u001b[39;00m error:\n\u001b[1;32m    404\u001b[0m     typ, exc, tb \u001b[38;5;241m=\u001b[39m error\n\u001b[0;32m--> 405\u001b[0m     \u001b[38;5;28;01mraise\u001b[39;00m exc\u001b[38;5;241m.\u001b[39mwith_traceback(tb)\n\u001b[1;32m    406\u001b[0m \u001b[38;5;28;01melse\u001b[39;00m:\n\u001b[1;32m    407\u001b[0m     \u001b[38;5;28;01mreturn\u001b[39;00m result\n",
      "File \u001b[0;32m~/miniconda3/lib/python3.9/site-packages/distributed/utils.py:378\u001b[0m, in \u001b[0;36msync.<locals>.f\u001b[0;34m()\u001b[0m\n\u001b[1;32m    376\u001b[0m         future \u001b[38;5;241m=\u001b[39m asyncio\u001b[38;5;241m.\u001b[39mwait_for(future, callback_timeout)\n\u001b[1;32m    377\u001b[0m     future \u001b[38;5;241m=\u001b[39m asyncio\u001b[38;5;241m.\u001b[39mensure_future(future)\n\u001b[0;32m--> 378\u001b[0m     result \u001b[38;5;241m=\u001b[39m \u001b[38;5;28;01myield\u001b[39;00m future\n\u001b[1;32m    379\u001b[0m \u001b[38;5;28;01mexcept\u001b[39;00m \u001b[38;5;167;01mException\u001b[39;00m:\n\u001b[1;32m    380\u001b[0m     error \u001b[38;5;241m=\u001b[39m sys\u001b[38;5;241m.\u001b[39mexc_info()\n",
      "File \u001b[0;32m~/miniconda3/lib/python3.9/site-packages/tornado/gen.py:762\u001b[0m, in \u001b[0;36mRunner.run\u001b[0;34m(self)\u001b[0m\n\u001b[1;32m    759\u001b[0m exc_info \u001b[38;5;241m=\u001b[39m \u001b[38;5;28;01mNone\u001b[39;00m\n\u001b[1;32m    761\u001b[0m \u001b[38;5;28;01mtry\u001b[39;00m:\n\u001b[0;32m--> 762\u001b[0m     value \u001b[38;5;241m=\u001b[39m \u001b[43mfuture\u001b[49m\u001b[38;5;241;43m.\u001b[39;49m\u001b[43mresult\u001b[49m\u001b[43m(\u001b[49m\u001b[43m)\u001b[49m\n\u001b[1;32m    763\u001b[0m \u001b[38;5;28;01mexcept\u001b[39;00m \u001b[38;5;167;01mException\u001b[39;00m:\n\u001b[1;32m    764\u001b[0m     exc_info \u001b[38;5;241m=\u001b[39m sys\u001b[38;5;241m.\u001b[39mexc_info()\n",
      "File \u001b[0;32m~/miniconda3/lib/python3.9/site-packages/distributed/client.py:2038\u001b[0m, in \u001b[0;36mClient._gather\u001b[0;34m(self, futures, errors, direct, local_worker)\u001b[0m\n\u001b[1;32m   2036\u001b[0m         exc \u001b[38;5;241m=\u001b[39m CancelledError(key)\n\u001b[1;32m   2037\u001b[0m     \u001b[38;5;28;01melse\u001b[39;00m:\n\u001b[0;32m-> 2038\u001b[0m         \u001b[38;5;28;01mraise\u001b[39;00m exception\u001b[38;5;241m.\u001b[39mwith_traceback(traceback)\n\u001b[1;32m   2039\u001b[0m     \u001b[38;5;28;01mraise\u001b[39;00m exc\n\u001b[1;32m   2040\u001b[0m \u001b[38;5;28;01mif\u001b[39;00m errors \u001b[38;5;241m==\u001b[39m \u001b[38;5;124m\"\u001b[39m\u001b[38;5;124mskip\u001b[39m\u001b[38;5;124m\"\u001b[39m:\n",
      "\u001b[0;31mKilledWorker\u001b[0m: (\"('rechunk-split-rechunk-merge-b612c0ed135b91be7786c033af4a7342', 0, 1, 3, 1)\", <WorkerState 'tcp://127.0.0.1:46353', name: 6, status: closed, memory: 0, processing: 45>)"
     ]
    },
    {
     "data": {
      "image/png": "[encoded data removed]",
      "text/plain": [
       "<Figure size 432x288 with 1 Axes>"
      ]
     },
     "metadata": {
      "needs_background": "light"
     },
     "output_type": "display_data"
    }
   ],
   "source": [
    "i = 1\n",
    "plt.imshow(TS.current_feat_stack[:,:,i], vmin=6e4)\n",
    "plt.title(TS.feature_names[i])\n"
   ]
  },
  {
   "cell_type": "code",
   "execution_count": 271,
   "id": "a6e01df7-838c-4f14-8995-a203e67a8976",
   "metadata": {},
   "outputs": [
    {
     "data": {
      "text/html": [
       "<div><svg style=\"position: absolute; width: 0; height: 0; overflow: hidden\">\n",
       "<defs>\n",
       "<symbol id=\"icon-database\" viewBox=\"0 0 32 32\">\n",
       "<path d=\"M16 0c-8.837 0-16 2.239-16 5v4c0 2.761 7.163 5 16 5s16-2.239 16-5v-4c0-2.761-7.163-5-16-5z\"></path>\n",
       "<path d=\"M16 17c-8.837 0-16-2.239-16-5v6c0 2.761 7.163 5 16 5s16-2.239 16-5v-6c0 2.761-7.163 5-16 5z\"></path>\n",
       "<path d=\"M16 26c-8.837 0-16-2.239-16-5v6c0 2.761 7.163 5 16 5s16-2.239 16-5v-6c0 2.761-7.163 5-16 5z\"></path>\n",
       "</symbol>\n",
       "<symbol id=\"icon-file-text2\" viewBox=\"0 0 32 32\">\n",
       "<path d=\"M28.681 7.159c-0.694-0.947-1.662-2.053-2.724-3.116s-2.169-2.030-3.116-2.724c-1.612-1.182-2.393-1.319-2.841-1.319h-15.5c-1.378 0-2.5 1.121-2.5 2.5v27c0 1.378 1.122 2.5 2.5 2.5h23c1.378 0 2.5-1.122 2.5-2.5v-19.5c0-0.448-0.137-1.23-1.319-2.841zM24.543 5.457c0.959 0.959 1.712 1.825 2.268 2.543h-4.811v-4.811c0.718 0.556 1.584 1.309 2.543 2.268zM28 29.5c0 0.271-0.229 0.5-0.5 0.5h-23c-0.271 0-0.5-0.229-0.5-0.5v-27c0-0.271 0.229-0.5 0.5-0.5 0 0 15.499-0 15.5 0v7c0 0.552 0.448 1 1 1h7v19.5z\"></path>\n",
       "<path d=\"M23 26h-14c-0.552 0-1-0.448-1-1s0.448-1 1-1h14c0.552 0 1 0.448 1 1s-0.448 1-1 1z\"></path>\n",
       "<path d=\"M23 22h-14c-0.552 0-1-0.448-1-1s0.448-1 1-1h14c0.552 0 1 0.448 1 1s-0.448 1-1 1z\"></path>\n",
       "<path d=\"M23 18h-14c-0.552 0-1-0.448-1-1s0.448-1 1-1h14c0.552 0 1 0.448 1 1s-0.448 1-1 1z\"></path>\n",
       "</symbol>\n",
       "</defs>\n",
       "</svg>\n",
       "<style>/* CSS stylesheet for displaying xarray objects in jupyterlab.\n",
       " *\n",
       " */\n",
       "\n",
       ":root {\n",
       "  --xr-font-color0: var(--jp-content-font-color0, rgba(0, 0, 0, 1));\n",
       "  --xr-font-color2: var(--jp-content-font-color2, rgba(0, 0, 0, 0.54));\n",
       "  --xr-font-color3: var(--jp-content-font-color3, rgba(0, 0, 0, 0.38));\n",
       "  --xr-border-color: var(--jp-border-color2, #e0e0e0);\n",
       "  --xr-disabled-color: var(--jp-layout-color3, #bdbdbd);\n",
       "  --xr-background-color: var(--jp-layout-color0, white);\n",
       "  --xr-background-color-row-even: var(--jp-layout-color1, white);\n",
       "  --xr-background-color-row-odd: var(--jp-layout-color2, #eeeeee);\n",
       "}\n",
       "\n",
       "html[theme=dark],\n",
       "body[data-theme=dark],\n",
       "body.vscode-dark {\n",
       "  --xr-font-color0: rgba(255, 255, 255, 1);\n",
       "  --xr-font-color2: rgba(255, 255, 255, 0.54);\n",
       "  --xr-font-color3: rgba(255, 255, 255, 0.38);\n",
       "  --xr-border-color: #1F1F1F;\n",
       "  --xr-disabled-color: #515151;\n",
       "  --xr-background-color: #111111;\n",
       "  --xr-background-color-row-even: #111111;\n",
       "  --xr-background-color-row-odd: #313131;\n",
       "}\n",
       "\n",
       ".xr-wrap {\n",
       "  display: block !important;\n",
       "  min-width: 300px;\n",
       "  max-width: 700px;\n",
       "}\n",
       "\n",
       ".xr-text-repr-fallback {\n",
       "  /* fallback to plain text repr when CSS is not injected (untrusted notebook) */\n",
       "  display: none;\n",
       "}\n",
       "\n",
       ".xr-header {\n",
       "  padding-top: 6px;\n",
       "  padding-bottom: 6px;\n",
       "  margin-bottom: 4px;\n",
       "  border-bottom: solid 1px var(--xr-border-color);\n",
       "}\n",
       "\n",
       ".xr-header > div,\n",
       ".xr-header > ul {\n",
       "  display: inline;\n",
       "  margin-top: 0;\n",
       "  margin-bottom: 0;\n",
       "}\n",
       "\n",
       ".xr-obj-type,\n",
       ".xr-array-name {\n",
       "  margin-left: 2px;\n",
       "  margin-right: 10px;\n",
       "}\n",
       "\n",
       ".xr-obj-type {\n",
       "  color: var(--xr-font-color2);\n",
       "}\n",
       "\n",
       ".xr-sections {\n",
       "  padding-left: 0 !important;\n",
       "  display: grid;\n",
       "  grid-template-columns: 150px auto auto 1fr 20px 20px;\n",
       "}\n",
       "\n",
       ".xr-section-item {\n",
       "  display: contents;\n",
       "}\n",
       "\n",
       ".xr-section-item input {\n",
       "  display: none;\n",
       "}\n",
       "\n",
       ".xr-section-item input + label {\n",
       "  color: var(--xr-disabled-color);\n",
       "}\n",
       "\n",
       ".xr-section-item input:enabled + label {\n",
       "  cursor: pointer;\n",
       "  color: var(--xr-font-color2);\n",
       "}\n",
       "\n",
       ".xr-section-item input:enabled + label:hover {\n",
       "  color: var(--xr-font-color0);\n",
       "}\n",
       "\n",
       ".xr-section-summary {\n",
       "  grid-column: 1;\n",
       "  color: var(--xr-font-color2);\n",
       "  font-weight: 500;\n",
       "}\n",
       "\n",
       ".xr-section-summary > span {\n",
       "  display: inline-block;\n",
       "  padding-left: 0.5em;\n",
       "}\n",
       "\n",
       ".xr-section-summary-in:disabled + label {\n",
       "  color: var(--xr-font-color2);\n",
       "}\n",
       "\n",
       ".xr-section-summary-in + label:before {\n",
       "  display: inline-block;\n",
       "  content: '►';\n",
       "  font-size: 11px;\n",
       "  width: 15px;\n",
       "  text-align: center;\n",
       "}\n",
       "\n",
       ".xr-section-summary-in:disabled + label:before {\n",
       "  color: var(--xr-disabled-color);\n",
       "}\n",
       "\n",
       ".xr-section-summary-in:checked + label:before {\n",
       "  content: '▼';\n",
       "}\n",
       "\n",
       ".xr-section-summary-in:checked + label > span {\n",
       "  display: none;\n",
       "}\n",
       "\n",
       ".xr-section-summary,\n",
       ".xr-section-inline-details {\n",
       "  padding-top: 4px;\n",
       "  padding-bottom: 4px;\n",
       "}\n",
       "\n",
       ".xr-section-inline-details {\n",
       "  grid-column: 2 / -1;\n",
       "}\n",
       "\n",
       ".xr-section-details {\n",
       "  display: none;\n",
       "  grid-column: 1 / -1;\n",
       "  margin-bottom: 5px;\n",
       "}\n",
       "\n",
       ".xr-section-summary-in:checked ~ .xr-section-details {\n",
       "  display: contents;\n",
       "}\n",
       "\n",
       ".xr-array-wrap {\n",
       "  grid-column: 1 / -1;\n",
       "  display: grid;\n",
       "  grid-template-columns: 20px auto;\n",
       "}\n",
       "\n",
       ".xr-array-wrap > label {\n",
       "  grid-column: 1;\n",
       "  vertical-align: top;\n",
       "}\n",
       "\n",
       ".xr-preview {\n",
       "  color: var(--xr-font-color3);\n",
       "}\n",
       "\n",
       ".xr-array-preview,\n",
       ".xr-array-data {\n",
       "  padding: 0 5px !important;\n",
       "  grid-column: 2;\n",
       "}\n",
       "\n",
       ".xr-array-data,\n",
       ".xr-array-in:checked ~ .xr-array-preview {\n",
       "  display: none;\n",
       "}\n",
       "\n",
       ".xr-array-in:checked ~ .xr-array-data,\n",
       ".xr-array-preview {\n",
       "  display: inline-block;\n",
       "}\n",
       "\n",
       ".xr-dim-list {\n",
       "  display: inline-block !important;\n",
       "  list-style: none;\n",
       "  padding: 0 !important;\n",
       "  margin: 0;\n",
       "}\n",
       "\n",
       ".xr-dim-list li {\n",
       "  display: inline-block;\n",
       "  padding: 0;\n",
       "  margin: 0;\n",
       "}\n",
       "\n",
       ".xr-dim-list:before {\n",
       "  content: '(';\n",
       "}\n",
       "\n",
       ".xr-dim-list:after {\n",
       "  content: ')';\n",
       "}\n",
       "\n",
       ".xr-dim-list li:not(:last-child):after {\n",
       "  content: ',';\n",
       "  padding-right: 5px;\n",
       "}\n",
       "\n",
       ".xr-has-index {\n",
       "  font-weight: bold;\n",
       "}\n",
       "\n",
       ".xr-var-list,\n",
       ".xr-var-item {\n",
       "  display: contents;\n",
       "}\n",
       "\n",
       ".xr-var-item > div,\n",
       ".xr-var-item label,\n",
       ".xr-var-item > .xr-var-name span {\n",
       "  background-color: var(--xr-background-color-row-even);\n",
       "  margin-bottom: 0;\n",
       "}\n",
       "\n",
       ".xr-var-item > .xr-var-name:hover span {\n",
       "  padding-right: 5px;\n",
       "}\n",
       "\n",
       ".xr-var-list > li:nth-child(odd) > div,\n",
       ".xr-var-list > li:nth-child(odd) > label,\n",
       ".xr-var-list > li:nth-child(odd) > .xr-var-name span {\n",
       "  background-color: var(--xr-background-color-row-odd);\n",
       "}\n",
       "\n",
       ".xr-var-name {\n",
       "  grid-column: 1;\n",
       "}\n",
       "\n",
       ".xr-var-dims {\n",
       "  grid-column: 2;\n",
       "}\n",
       "\n",
       ".xr-var-dtype {\n",
       "  grid-column: 3;\n",
       "  text-align: right;\n",
       "  color: var(--xr-font-color2);\n",
       "}\n",
       "\n",
       ".xr-var-preview {\n",
       "  grid-column: 4;\n",
       "}\n",
       "\n",
       ".xr-var-name,\n",
       ".xr-var-dims,\n",
       ".xr-var-dtype,\n",
       ".xr-preview,\n",
       ".xr-attrs dt {\n",
       "  white-space: nowrap;\n",
       "  overflow: hidden;\n",
       "  text-overflow: ellipsis;\n",
       "  padding-right: 10px;\n",
       "}\n",
       "\n",
       ".xr-var-name:hover,\n",
       ".xr-var-dims:hover,\n",
       ".xr-var-dtype:hover,\n",
       ".xr-attrs dt:hover {\n",
       "  overflow: visible;\n",
       "  width: auto;\n",
       "  z-index: 1;\n",
       "}\n",
       "\n",
       ".xr-var-attrs,\n",
       ".xr-var-data {\n",
       "  display: none;\n",
       "  background-color: var(--xr-background-color) !important;\n",
       "  padding-bottom: 5px !important;\n",
       "}\n",
       "\n",
       ".xr-var-attrs-in:checked ~ .xr-var-attrs,\n",
       ".xr-var-data-in:checked ~ .xr-var-data {\n",
       "  display: block;\n",
       "}\n",
       "\n",
       ".xr-var-data > table {\n",
       "  float: right;\n",
       "}\n",
       "\n",
       ".xr-var-name span,\n",
       ".xr-var-data,\n",
       ".xr-attrs {\n",
       "  padding-left: 25px !important;\n",
       "}\n",
       "\n",
       ".xr-attrs,\n",
       ".xr-var-attrs,\n",
       ".xr-var-data {\n",
       "  grid-column: 1 / -1;\n",
       "}\n",
       "\n",
       "dl.xr-attrs {\n",
       "  padding: 0;\n",
       "  margin: 0;\n",
       "  display: grid;\n",
       "  grid-template-columns: 125px auto;\n",
       "}\n",
       "\n",
       ".xr-attrs dt,\n",
       ".xr-attrs dd {\n",
       "  padding: 0;\n",
       "  margin: 0;\n",
       "  float: left;\n",
       "  padding-right: 10px;\n",
       "  width: auto;\n",
       "}\n",
       "\n",
       ".xr-attrs dt {\n",
       "  font-weight: normal;\n",
       "  grid-column: 1;\n",
       "}\n",
       "\n",
       ".xr-attrs dt:hover span {\n",
       "  display: inline-block;\n",
       "  background: var(--xr-background-color);\n",
       "  padding-right: 10px;\n",
       "}\n",
       "\n",
       ".xr-attrs dd {\n",
       "  grid-column: 2;\n",
       "  white-space: pre-wrap;\n",
       "  word-break: break-all;\n",
       "}\n",
       "\n",
       ".xr-icon-database,\n",
       ".xr-icon-file-text2 {\n",
       "  display: inline-block;\n",
       "  vertical-align: middle;\n",
       "  width: 1em;\n",
       "  height: 1.5em !important;\n",
       "  stroke-width: 0;\n",
       "  stroke: currentColor;\n",
       "  fill: currentColor;\n",
       "}\n",
       "</style><pre class='xr-text-repr-fallback'>&lt;xarray.Dataset&gt;\n",
       "Dimensions:        (x: 1861, y: 169, z: 1140, time: 185, feature: 75)\n",
       "Coordinates:\n",
       "  * x              (x) int64 0 1 2 3 4 5 6 ... 1855 1856 1857 1858 1859 1860\n",
       "  * y              (y) int64 0 1 2 3 4 5 6 7 ... 161 162 163 164 165 166 167 168\n",
       "  * z              (z) int64 0 1 2 3 4 5 6 ... 1134 1135 1136 1137 1138 1139\n",
       "  * time           (time) int64 0 1 2 3 4 5 6 7 ... 178 179 180 181 182 183 184\n",
       "  * feature        (feature) &lt;U27 &#x27;Gaussian_4D_Blur_0.0&#x27; ... &#x27;median_dynamic_...\n",
       "Data variables:\n",
       "    feature_stack  (x, y, z, time, feature) float64 dask.array&lt;chunksize=(364, 30, 190, 32, 1), meta=np.ndarray&gt;</pre><div class='xr-wrap' style='display:none'><div class='xr-header'><div class='xr-obj-type'>xarray.Dataset</div></div><ul class='xr-sections'><li class='xr-section-item'><input id='section-90ad41c8-731f-41b6-b7f6-e8745be29a43' class='xr-section-summary-in' type='checkbox' disabled ><label for='section-90ad41c8-731f-41b6-b7f6-e8745be29a43' class='xr-section-summary'  title='Expand/collapse section'>Dimensions:</label><div class='xr-section-inline-details'><ul class='xr-dim-list'><li><span class='xr-has-index'>x</span>: 1861</li><li><span class='xr-has-index'>y</span>: 169</li><li><span class='xr-has-index'>z</span>: 1140</li><li><span class='xr-has-index'>time</span>: 185</li><li><span class='xr-has-index'>feature</span>: 75</li></ul></div><div class='xr-section-details'></div></li><li class='xr-section-item'><input id='section-5b812d06-d36f-4b46-b604-14b59aad55e3' class='xr-section-summary-in' type='checkbox'  checked><label for='section-5b812d06-d36f-4b46-b604-14b59aad55e3' class='xr-section-summary' >Coordinates: <span>(5)</span></label><div class='xr-section-inline-details'></div><div class='xr-section-details'><ul class='xr-var-list'><li class='xr-var-item'><div class='xr-var-name'><span class='xr-has-index'>x</span></div><div class='xr-var-dims'>(x)</div><div class='xr-var-dtype'>int64</div><div class='xr-var-preview xr-preview'>0 1 2 3 4 ... 1857 1858 1859 1860</div><input id='attrs-d68ba6fa-7792-4550-a685-76f7b0d9f41a' class='xr-var-attrs-in' type='checkbox' disabled><label for='attrs-d68ba6fa-7792-4550-a685-76f7b0d9f41a' title='Show/Hide attributes'><svg class='icon xr-icon-file-text2'><use xlink:href='#icon-file-text2'></use></svg></label><input id='data-2ec0c896-e59a-432f-986a-e5f02bf86072' class='xr-var-data-in' type='checkbox'><label for='data-2ec0c896-e59a-432f-986a-e5f02bf86072' title='Show/Hide data repr'><svg class='icon xr-icon-database'><use xlink:href='#icon-database'></use></svg></label><div class='xr-var-attrs'><dl class='xr-attrs'></dl></div><div class='xr-var-data'><pre>array([   0,    1,    2, ..., 1858, 1859, 1860])</pre></div></li><li class='xr-var-item'><div class='xr-var-name'><span class='xr-has-index'>y</span></div><div class='xr-var-dims'>(y)</div><div class='xr-var-dtype'>int64</div><div class='xr-var-preview xr-preview'>0 1 2 3 4 5 ... 164 165 166 167 168</div><input id='attrs-faa0abef-88cd-43c4-b528-4ec34636e5d7' class='xr-var-attrs-in' type='checkbox' disabled><label for='attrs-faa0abef-88cd-43c4-b528-4ec34636e5d7' title='Show/Hide attributes'><svg class='icon xr-icon-file-text2'><use xlink:href='#icon-file-text2'></use></svg></label><input id='data-d237cd62-0d7e-48de-9aa7-efc8ab8bfde1' class='xr-var-data-in' type='checkbox'><label for='data-d237cd62-0d7e-48de-9aa7-efc8ab8bfde1' title='Show/Hide data repr'><svg class='icon xr-icon-database'><use xlink:href='#icon-database'></use></svg></label><div class='xr-var-attrs'><dl class='xr-attrs'></dl></div><div class='xr-var-data'><pre>array([  0,   1,   2,   3,   4,   5,   6,   7,   8,   9,  10,  11,  12,  13,\n",
       "        14,  15,  16,  17,  18,  19,  20,  21,  22,  23,  24,  25,  26,  27,\n",
       "        28,  29,  30,  31,  32,  33,  34,  35,  36,  37,  38,  39,  40,  41,\n",
       "        42,  43,  44,  45,  46,  47,  48,  49,  50,  51,  52,  53,  54,  55,\n",
       "        56,  57,  58,  59,  60,  61,  62,  63,  64,  65,  66,  67,  68,  69,\n",
       "        70,  71,  72,  73,  74,  75,  76,  77,  78,  79,  80,  81,  82,  83,\n",
       "        84,  85,  86,  87,  88,  89,  90,  91,  92,  93,  94,  95,  96,  97,\n",
       "        98,  99, 100, 101, 102, 103, 104, 105, 106, 107, 108, 109, 110, 111,\n",
       "       112, 113, 114, 115, 116, 117, 118, 119, 120, 121, 122, 123, 124, 125,\n",
       "       126, 127, 128, 129, 130, 131, 132, 133, 134, 135, 136, 137, 138, 139,\n",
       "       140, 141, 142, 143, 144, 145, 146, 147, 148, 149, 150, 151, 152, 153,\n",
       "       154, 155, 156, 157, 158, 159, 160, 161, 162, 163, 164, 165, 166, 167,\n",
       "       168])</pre></div></li><li class='xr-var-item'><div class='xr-var-name'><span class='xr-has-index'>z</span></div><div class='xr-var-dims'>(z)</div><div class='xr-var-dtype'>int64</div><div class='xr-var-preview xr-preview'>0 1 2 3 4 ... 1136 1137 1138 1139</div><input id='attrs-2c691755-2856-4096-aa29-d79351fc3e1a' class='xr-var-attrs-in' type='checkbox' disabled><label for='attrs-2c691755-2856-4096-aa29-d79351fc3e1a' title='Show/Hide attributes'><svg class='icon xr-icon-file-text2'><use xlink:href='#icon-file-text2'></use></svg></label><input id='data-586089fa-8c3b-463d-8e9b-ec3a71bf33a6' class='xr-var-data-in' type='checkbox'><label for='data-586089fa-8c3b-463d-8e9b-ec3a71bf33a6' title='Show/Hide data repr'><svg class='icon xr-icon-database'><use xlink:href='#icon-database'></use></svg></label><div class='xr-var-attrs'><dl class='xr-attrs'></dl></div><div class='xr-var-data'><pre>array([   0,    1,    2, ..., 1137, 1138, 1139])</pre></div></li><li class='xr-var-item'><div class='xr-var-name'><span class='xr-has-index'>time</span></div><div class='xr-var-dims'>(time)</div><div class='xr-var-dtype'>int64</div><div class='xr-var-preview xr-preview'>0 1 2 3 4 5 ... 180 181 182 183 184</div><input id='attrs-e86afb7b-d3fe-4710-a7a1-9b13bd4feea9' class='xr-var-attrs-in' type='checkbox' disabled><label for='attrs-e86afb7b-d3fe-4710-a7a1-9b13bd4feea9' title='Show/Hide attributes'><svg class='icon xr-icon-file-text2'><use xlink:href='#icon-file-text2'></use></svg></label><input id='data-ccc932bb-cdb8-4102-a4e3-c9a32e062f8c' class='xr-var-data-in' type='checkbox'><label for='data-ccc932bb-cdb8-4102-a4e3-c9a32e062f8c' title='Show/Hide data repr'><svg class='icon xr-icon-database'><use xlink:href='#icon-database'></use></svg></label><div class='xr-var-attrs'><dl class='xr-attrs'></dl></div><div class='xr-var-data'><pre>array([  0,   1,   2,   3,   4,   5,   6,   7,   8,   9,  10,  11,  12,  13,\n",
       "        14,  15,  16,  17,  18,  19,  20,  21,  22,  23,  24,  25,  26,  27,\n",
       "        28,  29,  30,  31,  32,  33,  34,  35,  36,  37,  38,  39,  40,  41,\n",
       "        42,  43,  44,  45,  46,  47,  48,  49,  50,  51,  52,  53,  54,  55,\n",
       "        56,  57,  58,  59,  60,  61,  62,  63,  64,  65,  66,  67,  68,  69,\n",
       "        70,  71,  72,  73,  74,  75,  76,  77,  78,  79,  80,  81,  82,  83,\n",
       "        84,  85,  86,  87,  88,  89,  90,  91,  92,  93,  94,  95,  96,  97,\n",
       "        98,  99, 100, 101, 102, 103, 104, 105, 106, 107, 108, 109, 110, 111,\n",
       "       112, 113, 114, 115, 116, 117, 118, 119, 120, 121, 122, 123, 124, 125,\n",
       "       126, 127, 128, 129, 130, 131, 132, 133, 134, 135, 136, 137, 138, 139,\n",
       "       140, 141, 142, 143, 144, 145, 146, 147, 148, 149, 150, 151, 152, 153,\n",
       "       154, 155, 156, 157, 158, 159, 160, 161, 162, 163, 164, 165, 166, 167,\n",
       "       168, 169, 170, 171, 172, 173, 174, 175, 176, 177, 178, 179, 180, 181,\n",
       "       182, 183, 184])</pre></div></li><li class='xr-var-item'><div class='xr-var-name'><span class='xr-has-index'>feature</span></div><div class='xr-var-dims'>(feature)</div><div class='xr-var-dtype'>&lt;U27</div><div class='xr-var-preview xr-preview'>&#x27;Gaussian_4D_Blur_0.0&#x27; ... &#x27;medi...</div><input id='attrs-86ab2718-0b75-41f8-bbef-f277cf8a3d70' class='xr-var-attrs-in' type='checkbox' disabled><label for='attrs-86ab2718-0b75-41f8-bbef-f277cf8a3d70' title='Show/Hide attributes'><svg class='icon xr-icon-file-text2'><use xlink:href='#icon-file-text2'></use></svg></label><input id='data-1921cbe0-ae71-4491-9dc8-f762b87ec1bf' class='xr-var-data-in' type='checkbox'><label for='data-1921cbe0-ae71-4491-9dc8-f762b87ec1bf' title='Show/Hide data repr'><svg class='icon xr-icon-database'><use xlink:href='#icon-database'></use></svg></label><div class='xr-var-attrs'><dl class='xr-attrs'></dl></div><div class='xr-var-data'><pre>array([&#x27;Gaussian_4D_Blur_0.0&#x27;, &#x27;Gaussian_4D_Blur_2.0&#x27;, &#x27;Gaussian_4D_Blur_4.0&#x27;,\n",
       "       &#x27;diff_of_gauss_4D_2.0_0.0&#x27;, &#x27;diff_of_gauss_4D_4.0_0.0&#x27;,\n",
       "       &#x27;diff_of_gauss_4D_4.0_2.0&#x27;, &#x27;Gradient_sigma_0.0_0&#x27;,\n",
       "       &#x27;Gradient_sigma_0.0_1&#x27;, &#x27;Gradient_sigma_0.0_2&#x27;, &#x27;Gradient_sigma_0.0_3&#x27;,\n",
       "       &#x27;hessian_sigma_0.0_00&#x27;, &#x27;hessian_sigma_0.0_01&#x27;, &#x27;hessian_sigma_0.0_02&#x27;,\n",
       "       &#x27;hessian_sigma_0.0_03&#x27;, &#x27;hessian_sigma_0.0_11&#x27;, &#x27;hessian_sigma_0.0_12&#x27;,\n",
       "       &#x27;hessian_sigma_0.0_13&#x27;, &#x27;hessian_sigma_0.0_22&#x27;, &#x27;hessian_sigma_0.0_23&#x27;,\n",
       "       &#x27;hessian_sigma_0.0_33&#x27;, &#x27;Gradient_sigma_2.0_0&#x27;, &#x27;Gradient_sigma_2.0_1&#x27;,\n",
       "       &#x27;Gradient_sigma_2.0_2&#x27;, &#x27;Gradient_sigma_2.0_3&#x27;, &#x27;hessian_sigma_2.0_00&#x27;,\n",
       "       &#x27;hessian_sigma_2.0_01&#x27;, &#x27;hessian_sigma_2.0_02&#x27;, &#x27;hessian_sigma_2.0_03&#x27;,\n",
       "       &#x27;hessian_sigma_2.0_11&#x27;, &#x27;hessian_sigma_2.0_12&#x27;, &#x27;hessian_sigma_2.0_13&#x27;,\n",
       "       &#x27;hessian_sigma_2.0_22&#x27;, &#x27;hessian_sigma_2.0_23&#x27;, &#x27;hessian_sigma_2.0_33&#x27;,\n",
       "       &#x27;Gradient_sigma_4.0_0&#x27;, &#x27;Gradient_sigma_4.0_1&#x27;, &#x27;Gradient_sigma_4.0_2&#x27;,\n",
       "       &#x27;Gradient_sigma_4.0_3&#x27;, &#x27;hessian_sigma_4.0_00&#x27;, &#x27;hessian_sigma_4.0_01&#x27;,\n",
       "       &#x27;hessian_sigma_4.0_02&#x27;, &#x27;hessian_sigma_4.0_03&#x27;, &#x27;hessian_sigma_4.0_11&#x27;,\n",
       "       &#x27;hessian_sigma_4.0_12&#x27;, &#x27;hessian_sigma_4.0_13&#x27;, &#x27;hessian_sigma_4.0_22&#x27;,\n",
       "       &#x27;hessian_sigma_4.0_23&#x27;, &#x27;hessian_sigma_4.0_33&#x27;, &#x27;Gaussian_time_0.0&#x27;,\n",
       "       &#x27;Gaussian_time_2.0&#x27;, &#x27;Gaussian_time_4.0&#x27;, &#x27;diff_of_gauss_time_2.0_0.0&#x27;,\n",
       "       &#x27;diff_of_gauss_time_4.0_0.0&#x27;, &#x27;diff_of_gauss_time_4.0_2.0&#x27;,\n",
       "       &#x27;Gaussian_space_0.0&#x27;, &#x27;Gaussian_space_2.0&#x27;, &#x27;Gaussian_space_4.0&#x27;,\n",
       "       &#x27;diff_of_gauss_space_2.0_0.0&#x27;, &#x27;diff_of_gauss_space_4.0_0.0&#x27;,\n",
       "       &#x27;diff_of_gauss_space_4.0_2.0&#x27;, &#x27;maximum_dynamic_0.0&#x27;, &#x27;maximum_2.0&#x27;,\n",
       "       &#x27;maximum_dynamic_2.0&#x27;, &#x27;maximum_4.0&#x27;, &#x27;maximum_dynamic_4.0&#x27;,\n",
       "       &#x27;minimum_dynamic_0.0&#x27;, &#x27;minimum_2.0&#x27;, &#x27;minimum_dynamic_2.0&#x27;,\n",
       "       &#x27;minimum_4.0&#x27;, &#x27;minimum_dynamic_4.0&#x27;, &#x27;median_dynamic_0.0&#x27;,\n",
       "       &#x27;median_2.0&#x27;, &#x27;median_dynamic_2.0&#x27;, &#x27;median_4.0&#x27;, &#x27;median_dynamic_4.0&#x27;],\n",
       "      dtype=&#x27;&lt;U27&#x27;)</pre></div></li></ul></div></li><li class='xr-section-item'><input id='section-c8d45e44-0b23-4324-a07c-5356d731a0b3' class='xr-section-summary-in' type='checkbox'  checked><label for='section-c8d45e44-0b23-4324-a07c-5356d731a0b3' class='xr-section-summary' >Data variables: <span>(1)</span></label><div class='xr-section-inline-details'></div><div class='xr-section-details'><ul class='xr-var-list'><li class='xr-var-item'><div class='xr-var-name'><span>feature_stack</span></div><div class='xr-var-dims'>(x, y, z, time, feature)</div><div class='xr-var-dtype'>float64</div><div class='xr-var-preview xr-preview'>dask.array&lt;chunksize=(364, 30, 190, 32, 1), meta=np.ndarray&gt;</div><input id='attrs-098a6126-58b8-43f2-86a8-9afa5b9691e0' class='xr-var-attrs-in' type='checkbox' disabled><label for='attrs-098a6126-58b8-43f2-86a8-9afa5b9691e0' title='Show/Hide attributes'><svg class='icon xr-icon-file-text2'><use xlink:href='#icon-file-text2'></use></svg></label><input id='data-5f615f30-0929-4e2f-b0c6-587696a12b10' class='xr-var-data-in' type='checkbox'><label for='data-5f615f30-0929-4e2f-b0c6-587696a12b10' title='Show/Hide data repr'><svg class='icon xr-icon-database'><use xlink:href='#icon-database'></use></svg></label><div class='xr-var-attrs'><dl class='xr-attrs'></dl></div><div class='xr-var-data'><table>\n",
       "    <tr>\n",
       "        <td>\n",
       "            <table>\n",
       "                <thead>\n",
       "                    <tr>\n",
       "                        <td> </td>\n",
       "                        <th> Array </th>\n",
       "                        <th> Chunk </th>\n",
       "                    </tr>\n",
       "                </thead>\n",
       "                <tbody>\n",
       "                    \n",
       "                    <tr>\n",
       "                        <th> Bytes </th>\n",
       "                        <td> 36.20 TiB </td>\n",
       "                        <td> 506.54 MiB </td>\n",
       "                    </tr>\n",
       "                    \n",
       "                    <tr>\n",
       "                        <th> Shape </th>\n",
       "                        <td> (1861, 169, 1140, 185, 75) </td>\n",
       "                        <td> (364, 30, 190, 32, 1) </td>\n",
       "                    </tr>\n",
       "                    <tr>\n",
       "                        <th> Count </th>\n",
       "                        <td> 1946785 Tasks </td>\n",
       "                        <td> 97200 Chunks </td>\n",
       "                    </tr>\n",
       "                    <tr>\n",
       "                    <th> Type </th>\n",
       "                    <td> float64 </td>\n",
       "                    <td> numpy.ndarray </td>\n",
       "                    </tr>\n",
       "                </tbody>\n",
       "            </table>\n",
       "        </td>\n",
       "        <td>\n",
       "        <svg width=\"342\" height=\"170\" style=\"stroke:rgb(0,0,0);stroke-width:1\" >\n",
       "\n",
       "  <!-- Horizontal lines -->\n",
       "  <line x1=\"0\" y1=\"0\" x2=\"38\" y2=\"0\" style=\"stroke-width:2\" />\n",
       "  <line x1=\"0\" y1=\"23\" x2=\"38\" y2=\"23\" />\n",
       "  <line x1=\"0\" y1=\"46\" x2=\"38\" y2=\"46\" />\n",
       "  <line x1=\"0\" y1=\"70\" x2=\"38\" y2=\"70\" />\n",
       "  <line x1=\"0\" y1=\"93\" x2=\"38\" y2=\"93\" />\n",
       "  <line x1=\"0\" y1=\"117\" x2=\"38\" y2=\"117\" />\n",
       "  <line x1=\"0\" y1=\"120\" x2=\"38\" y2=\"120\" style=\"stroke-width:2\" />\n",
       "\n",
       "  <!-- Vertical lines -->\n",
       "  <line x1=\"0\" y1=\"0\" x2=\"0\" y2=\"120\" style=\"stroke-width:2\" />\n",
       "  <line x1=\"6\" y1=\"0\" x2=\"6\" y2=\"120\" />\n",
       "  <line x1=\"13\" y1=\"0\" x2=\"13\" y2=\"120\" />\n",
       "  <line x1=\"20\" y1=\"0\" x2=\"20\" y2=\"120\" />\n",
       "  <line x1=\"27\" y1=\"0\" x2=\"27\" y2=\"120\" />\n",
       "  <line x1=\"33\" y1=\"0\" x2=\"33\" y2=\"120\" />\n",
       "  <line x1=\"38\" y1=\"0\" x2=\"38\" y2=\"120\" style=\"stroke-width:2\" />\n",
       "\n",
       "  <!-- Colored Rectangle -->\n",
       "  <polygon points=\"0.0,0.0 38.05607495491654,0.0 38.05607495491654,120.0 0.0,120.0\" style=\"fill:#ECB172A0;stroke-width:0\"/>\n",
       "\n",
       "  <!-- Text -->\n",
       "  <text x=\"19.028037\" y=\"140.000000\" font-size=\"1.0rem\" font-weight=\"100\" text-anchor=\"middle\" >169</text>\n",
       "  <text x=\"58.056075\" y=\"60.000000\" font-size=\"1.0rem\" font-weight=\"100\" text-anchor=\"middle\" transform=\"rotate(-90,58.056075,60.000000)\">1861</text>\n",
       "\n",
       "\n",
       "  <!-- Horizontal lines -->\n",
       "  <line x1=\"108\" y1=\"0\" x2=\"151\" y2=\"43\" style=\"stroke-width:2\" />\n",
       "  <line x1=\"108\" y1=\"6\" x2=\"151\" y2=\"49\" />\n",
       "  <line x1=\"108\" y1=\"13\" x2=\"151\" y2=\"56\" />\n",
       "  <line x1=\"108\" y1=\"20\" x2=\"151\" y2=\"63\" />\n",
       "  <line x1=\"108\" y1=\"26\" x2=\"151\" y2=\"69\" />\n",
       "  <line x1=\"108\" y1=\"33\" x2=\"151\" y2=\"76\" />\n",
       "  <line x1=\"108\" y1=\"38\" x2=\"151\" y2=\"81\" style=\"stroke-width:2\" />\n",
       "\n",
       "  <!-- Vertical lines -->\n",
       "  <line x1=\"108\" y1=\"0\" x2=\"108\" y2=\"38\" style=\"stroke-width:2\" />\n",
       "  <line x1=\"115\" y1=\"7\" x2=\"115\" y2=\"45\" />\n",
       "  <line x1=\"122\" y1=\"14\" x2=\"122\" y2=\"52\" />\n",
       "  <line x1=\"129\" y1=\"21\" x2=\"129\" y2=\"60\" />\n",
       "  <line x1=\"136\" y1=\"28\" x2=\"136\" y2=\"67\" />\n",
       "  <line x1=\"144\" y1=\"36\" x2=\"144\" y2=\"74\" />\n",
       "  <line x1=\"151\" y1=\"43\" x2=\"151\" y2=\"81\" style=\"stroke-width:2\" />\n",
       "\n",
       "  <!-- Colored Rectangle -->\n",
       "  <polygon points=\"108.0,0.0 151.24050952998073,43.24050952998072 151.24050952998073,81.80449120386449 108.0,38.56398167388377\" style=\"fill:#ECB172A0;stroke-width:0\"/>\n",
       "\n",
       "  <!-- Horizontal lines -->\n",
       "  <line x1=\"108\" y1=\"0\" x2=\"141\" y2=\"0\" style=\"stroke-width:2\" />\n",
       "  <line x1=\"115\" y1=\"7\" x2=\"148\" y2=\"7\" />\n",
       "  <line x1=\"122\" y1=\"14\" x2=\"155\" y2=\"14\" />\n",
       "  <line x1=\"129\" y1=\"21\" x2=\"162\" y2=\"21\" />\n",
       "  <line x1=\"136\" y1=\"28\" x2=\"170\" y2=\"28\" />\n",
       "  <line x1=\"144\" y1=\"36\" x2=\"177\" y2=\"36\" />\n",
       "  <line x1=\"151\" y1=\"43\" x2=\"184\" y2=\"43\" style=\"stroke-width:2\" />\n",
       "\n",
       "  <!-- Vertical lines -->\n",
       "  <line x1=\"108\" y1=\"0\" x2=\"151\" y2=\"43\" style=\"stroke-width:2\" />\n",
       "  <line x1=\"108\" y1=\"0\" x2=\"152\" y2=\"43\" />\n",
       "  <line x1=\"109\" y1=\"0\" x2=\"153\" y2=\"43\" />\n",
       "  <line x1=\"111\" y1=\"0\" x2=\"154\" y2=\"43\" />\n",
       "  <line x1=\"111\" y1=\"0\" x2=\"155\" y2=\"43\" />\n",
       "  <line x1=\"112\" y1=\"0\" x2=\"156\" y2=\"43\" />\n",
       "  <line x1=\"114\" y1=\"0\" x2=\"157\" y2=\"43\" />\n",
       "  <line x1=\"115\" y1=\"0\" x2=\"158\" y2=\"43\" />\n",
       "  <line x1=\"115\" y1=\"0\" x2=\"159\" y2=\"43\" />\n",
       "  <line x1=\"117\" y1=\"0\" x2=\"160\" y2=\"43\" />\n",
       "  <line x1=\"118\" y1=\"0\" x2=\"161\" y2=\"43\" />\n",
       "  <line x1=\"119\" y1=\"0\" x2=\"162\" y2=\"43\" />\n",
       "  <line x1=\"120\" y1=\"0\" x2=\"163\" y2=\"43\" />\n",
       "  <line x1=\"121\" y1=\"0\" x2=\"164\" y2=\"43\" />\n",
       "  <line x1=\"122\" y1=\"0\" x2=\"165\" y2=\"43\" />\n",
       "  <line x1=\"123\" y1=\"0\" x2=\"166\" y2=\"43\" />\n",
       "  <line x1=\"124\" y1=\"0\" x2=\"167\" y2=\"43\" />\n",
       "  <line x1=\"125\" y1=\"0\" x2=\"168\" y2=\"43\" />\n",
       "  <line x1=\"126\" y1=\"0\" x2=\"169\" y2=\"43\" />\n",
       "  <line x1=\"127\" y1=\"0\" x2=\"170\" y2=\"43\" />\n",
       "  <line x1=\"128\" y1=\"0\" x2=\"171\" y2=\"43\" />\n",
       "  <line x1=\"129\" y1=\"0\" x2=\"172\" y2=\"43\" />\n",
       "  <line x1=\"130\" y1=\"0\" x2=\"173\" y2=\"43\" />\n",
       "  <line x1=\"131\" y1=\"0\" x2=\"174\" y2=\"43\" />\n",
       "  <line x1=\"132\" y1=\"0\" x2=\"176\" y2=\"43\" />\n",
       "  <line x1=\"133\" y1=\"0\" x2=\"176\" y2=\"43\" />\n",
       "  <line x1=\"134\" y1=\"0\" x2=\"177\" y2=\"43\" />\n",
       "  <line x1=\"135\" y1=\"0\" x2=\"179\" y2=\"43\" />\n",
       "  <line x1=\"136\" y1=\"0\" x2=\"179\" y2=\"43\" />\n",
       "  <line x1=\"137\" y1=\"0\" x2=\"180\" y2=\"43\" />\n",
       "  <line x1=\"138\" y1=\"0\" x2=\"182\" y2=\"43\" />\n",
       "  <line x1=\"139\" y1=\"0\" x2=\"183\" y2=\"43\" />\n",
       "  <line x1=\"141\" y1=\"0\" x2=\"184\" y2=\"43\" style=\"stroke-width:2\" />\n",
       "\n",
       "  <!-- Colored Rectangle -->\n",
       "  <polygon points=\"108.0,0.0 141.17971934337146,0.0 184.4202288733522,43.24050952998072 151.24050952998073,43.24050952998072\" style=\"fill:#8B4903A0;stroke-width:0\"/>\n",
       "\n",
       "  <!-- Horizontal lines -->\n",
       "  <line x1=\"151\" y1=\"43\" x2=\"184\" y2=\"43\" style=\"stroke-width:2\" />\n",
       "  <line x1=\"151\" y1=\"49\" x2=\"184\" y2=\"49\" />\n",
       "  <line x1=\"151\" y1=\"56\" x2=\"184\" y2=\"56\" />\n",
       "  <line x1=\"151\" y1=\"63\" x2=\"184\" y2=\"63\" />\n",
       "  <line x1=\"151\" y1=\"69\" x2=\"184\" y2=\"69\" />\n",
       "  <line x1=\"151\" y1=\"76\" x2=\"184\" y2=\"76\" />\n",
       "  <line x1=\"151\" y1=\"81\" x2=\"184\" y2=\"81\" style=\"stroke-width:2\" />\n",
       "\n",
       "  <!-- Vertical lines -->\n",
       "  <line x1=\"151\" y1=\"43\" x2=\"151\" y2=\"81\" style=\"stroke-width:2\" />\n",
       "  <line x1=\"152\" y1=\"43\" x2=\"152\" y2=\"81\" />\n",
       "  <line x1=\"153\" y1=\"43\" x2=\"153\" y2=\"81\" />\n",
       "  <line x1=\"154\" y1=\"43\" x2=\"154\" y2=\"81\" />\n",
       "  <line x1=\"155\" y1=\"43\" x2=\"155\" y2=\"81\" />\n",
       "  <line x1=\"156\" y1=\"43\" x2=\"156\" y2=\"81\" />\n",
       "  <line x1=\"157\" y1=\"43\" x2=\"157\" y2=\"81\" />\n",
       "  <line x1=\"158\" y1=\"43\" x2=\"158\" y2=\"81\" />\n",
       "  <line x1=\"159\" y1=\"43\" x2=\"159\" y2=\"81\" />\n",
       "  <line x1=\"160\" y1=\"43\" x2=\"160\" y2=\"81\" />\n",
       "  <line x1=\"161\" y1=\"43\" x2=\"161\" y2=\"81\" />\n",
       "  <line x1=\"162\" y1=\"43\" x2=\"162\" y2=\"81\" />\n",
       "  <line x1=\"163\" y1=\"43\" x2=\"163\" y2=\"81\" />\n",
       "  <line x1=\"164\" y1=\"43\" x2=\"164\" y2=\"81\" />\n",
       "  <line x1=\"165\" y1=\"43\" x2=\"165\" y2=\"81\" />\n",
       "  <line x1=\"166\" y1=\"43\" x2=\"166\" y2=\"81\" />\n",
       "  <line x1=\"167\" y1=\"43\" x2=\"167\" y2=\"81\" />\n",
       "  <line x1=\"168\" y1=\"43\" x2=\"168\" y2=\"81\" />\n",
       "  <line x1=\"169\" y1=\"43\" x2=\"169\" y2=\"81\" />\n",
       "  <line x1=\"170\" y1=\"43\" x2=\"170\" y2=\"81\" />\n",
       "  <line x1=\"171\" y1=\"43\" x2=\"171\" y2=\"81\" />\n",
       "  <line x1=\"172\" y1=\"43\" x2=\"172\" y2=\"81\" />\n",
       "  <line x1=\"173\" y1=\"43\" x2=\"173\" y2=\"81\" />\n",
       "  <line x1=\"174\" y1=\"43\" x2=\"174\" y2=\"81\" />\n",
       "  <line x1=\"176\" y1=\"43\" x2=\"176\" y2=\"81\" />\n",
       "  <line x1=\"176\" y1=\"43\" x2=\"176\" y2=\"81\" />\n",
       "  <line x1=\"177\" y1=\"43\" x2=\"177\" y2=\"81\" />\n",
       "  <line x1=\"179\" y1=\"43\" x2=\"179\" y2=\"81\" />\n",
       "  <line x1=\"179\" y1=\"43\" x2=\"179\" y2=\"81\" />\n",
       "  <line x1=\"180\" y1=\"43\" x2=\"180\" y2=\"81\" />\n",
       "  <line x1=\"182\" y1=\"43\" x2=\"182\" y2=\"81\" />\n",
       "  <line x1=\"183\" y1=\"43\" x2=\"183\" y2=\"81\" />\n",
       "  <line x1=\"184\" y1=\"43\" x2=\"184\" y2=\"81\" style=\"stroke-width:2\" />\n",
       "\n",
       "  <!-- Colored Rectangle -->\n",
       "  <polygon points=\"151.24050952998073,43.24050952998072 184.4202288733522,43.24050952998072 184.4202288733522,81.80449120386449 151.24050952998073,81.80449120386449\" style=\"fill:#8B4903A0;stroke-width:0\"/>\n",
       "\n",
       "  <!-- Text -->\n",
       "  <text x=\"167.830369\" y=\"101.804491\" font-size=\"1.0rem\" font-weight=\"100\" text-anchor=\"middle\" >75</text>\n",
       "  <text x=\"204.420229\" y=\"62.522500\" font-size=\"1.0rem\" font-weight=\"100\" text-anchor=\"middle\" transform=\"rotate(-90,204.420229,62.522500)\">185</text>\n",
       "  <text x=\"119.620255\" y=\"80.184236\" font-size=\"1.0rem\" font-weight=\"100\" text-anchor=\"middle\" transform=\"rotate(45,119.620255,80.184236)\">1140</text>\n",
       "</svg>\n",
       "        </td>\n",
       "    </tr>\n",
       "</table></div></li></ul></div></li><li class='xr-section-item'><input id='section-6c4140d4-1982-47a7-bb1a-3e7f8073bc8d' class='xr-section-summary-in' type='checkbox' disabled ><label for='section-6c4140d4-1982-47a7-bb1a-3e7f8073bc8d' class='xr-section-summary'  title='Expand/collapse section'>Attributes: <span>(0)</span></label><div class='xr-section-inline-details'></div><div class='xr-section-details'><dl class='xr-attrs'></dl></div></li></ul></div></div>"
      ],
      "text/plain": [
       "<xarray.Dataset>\n",
       "Dimensions:        (x: 1861, y: 169, z: 1140, time: 185, feature: 75)\n",
       "Coordinates:\n",
       "  * x              (x) int64 0 1 2 3 4 5 6 ... 1855 1856 1857 1858 1859 1860\n",
       "  * y              (y) int64 0 1 2 3 4 5 6 7 ... 161 162 163 164 165 166 167 168\n",
       "  * z              (z) int64 0 1 2 3 4 5 6 ... 1134 1135 1136 1137 1138 1139\n",
       "  * time           (time) int64 0 1 2 3 4 5 6 7 ... 178 179 180 181 182 183 184\n",
       "  * feature        (feature) <U27 'Gaussian_4D_Blur_0.0' ... 'median_dynamic_...\n",
       "Data variables:\n",
       "    feature_stack  (x, y, z, time, feature) float64 dask.array<chunksize=(364, 30, 190, 32, 1), meta=np.ndarray>"
      ]
     },
     "execution_count": 271,
     "metadata": {},
     "output_type": "execute_result"
    }
   ],
   "source": [
    "TS.feat_data"
   ]
  },
  {
   "cell_type": "code",
   "execution_count": 251,
   "id": "c3e6bb4a-2806-4ceb-8612-7af59e1280c1",
   "metadata": {},
   "outputs": [],
   "source": [
    "# TS.current_im8 = tfs.adjust_image_contrast(TS.current_im8, 50,200)"
   ]
  },
  {
   "cell_type": "markdown",
   "id": "86eb86f4-ad26-462e-8aab-cb3ac5bef9c7",
   "metadata": {},
   "source": [
    "### when done, maybe save the classifier"
   ]
  },
  {
   "cell_type": "code",
   "execution_count": 734,
   "id": "df610acf-d82f-4d10-862a-ac7a13b5867b",
   "metadata": {},
   "outputs": [],
   "source": [
    "TS.pickle_classifier()"
   ]
  },
  {
   "cell_type": "markdown",
   "id": "851f03e3-156f-43b6-b50c-b651a0e09596",
   "metadata": {},
   "source": [
    "### use an existing trainingset to train classifier (adhere to label iamge naming convention)"
   ]
  },
  {
   "cell_type": "code",
   "execution_count": 37,
   "id": "55c32dde-b5a4-4d22-a461-d1ca325ad03b",
   "metadata": {
    "collapsed": true,
    "jupyter": {
     "outputs_hidden": true
    },
    "tags": []
   },
   "outputs": [
    {
     "name": "stderr",
     "output_type": "stream",
     "text": [
      "2022-09-12 17:01:34,438 - distributed.worker_memory - WARNING - Unmanaged memory use is high. This may indicate a memory leak or the memory may not be released to the OS; see https://distributed.dask.org/en/latest/worker-memory.html#memory-not-released-back-to-the-os for more information. -- Unmanaged memory: 44.48 GiB -- Worker memory limit: 62.96 GiB\n",
      "2022-09-12 17:01:34,538 - distributed.worker_memory - WARNING - Unmanaged memory use is high. This may indicate a memory leak or the memory may not be released to the OS; see https://distributed.dask.org/en/latest/worker-memory.html#memory-not-released-back-to-the-os for more information. -- Unmanaged memory: 44.93 GiB -- Worker memory limit: 62.96 GiB\n",
      "2022-09-12 17:01:34,640 - distributed.worker_memory - WARNING - Unmanaged memory use is high. This may indicate a memory leak or the memory may not be released to the OS; see https://distributed.dask.org/en/latest/worker-memory.html#memory-not-released-back-to-the-os for more information. -- Unmanaged memory: 45.38 GiB -- Worker memory limit: 62.96 GiB\n",
      "2022-09-12 17:01:34,734 - distributed.worker_memory - WARNING - Unmanaged memory use is high. This may indicate a memory leak or the memory may not be released to the OS; see https://distributed.dask.org/en/latest/worker-memory.html#memory-not-released-back-to-the-os for more information. -- Unmanaged memory: 45.75 GiB -- Worker memory limit: 62.96 GiB\n",
      "2022-09-12 17:01:34,840 - distributed.worker_memory - WARNING - Unmanaged memory use is high. This may indicate a memory leak or the memory may not be released to the OS; see https://distributed.dask.org/en/latest/worker-memory.html#memory-not-released-back-to-the-os for more information. -- Unmanaged memory: 46.20 GiB -- Worker memory limit: 62.96 GiB\n",
      "2022-09-12 17:01:34,940 - distributed.worker_memory - WARNING - Unmanaged memory use is high. This may indicate a memory leak or the memory may not be released to the OS; see https://distributed.dask.org/en/latest/worker-memory.html#memory-not-released-back-to-the-os for more information. -- Unmanaged memory: 46.65 GiB -- Worker memory limit: 62.96 GiB\n",
      "2022-09-12 17:01:35,041 - distributed.worker_memory - WARNING - Unmanaged memory use is high. This may indicate a memory leak or the memory may not be released to the OS; see https://distributed.dask.org/en/latest/worker-memory.html#memory-not-released-back-to-the-os for more information. -- Unmanaged memory: 47.11 GiB -- Worker memory limit: 62.96 GiB\n",
      "2022-09-12 17:01:35,142 - distributed.worker_memory - WARNING - Unmanaged memory use is high. This may indicate a memory leak or the memory may not be released to the OS; see https://distributed.dask.org/en/latest/worker-memory.html#memory-not-released-back-to-the-os for more information. -- Unmanaged memory: 47.55 GiB -- Worker memory limit: 62.96 GiB\n",
      "2022-09-12 17:01:35,241 - distributed.worker_memory - WARNING - Unmanaged memory use is high. This may indicate a memory leak or the memory may not be released to the OS; see https://distributed.dask.org/en/latest/worker-memory.html#memory-not-released-back-to-the-os for more information. -- Unmanaged memory: 47.95 GiB -- Worker memory limit: 62.96 GiB\n",
      "2022-09-12 17:01:35,342 - distributed.worker_memory - WARNING - Unmanaged memory use is high. This may indicate a memory leak or the memory may not be released to the OS; see https://distributed.dask.org/en/latest/worker-memory.html#memory-not-released-back-to-the-os for more information. -- Unmanaged memory: 48.39 GiB -- Worker memory limit: 62.96 GiB\n",
      "2022-09-12 17:01:35,442 - distributed.worker_memory - WARNING - Unmanaged memory use is high. This may indicate a memory leak or the memory may not be released to the OS; see https://distributed.dask.org/en/latest/worker-memory.html#memory-not-released-back-to-the-os for more information. -- Unmanaged memory: 48.85 GiB -- Worker memory limit: 62.96 GiB\n",
      "2022-09-12 17:01:35,542 - distributed.worker_memory - WARNING - Unmanaged memory use is high. This may indicate a memory leak or the memory may not be released to the OS; see https://distributed.dask.org/en/latest/worker-memory.html#memory-not-released-back-to-the-os for more information. -- Unmanaged memory: 49.29 GiB -- Worker memory limit: 62.96 GiB\n",
      "2022-09-12 17:01:35,644 - distributed.worker_memory - WARNING - Unmanaged memory use is high. This may indicate a memory leak or the memory may not be released to the OS; see https://distributed.dask.org/en/latest/worker-memory.html#memory-not-released-back-to-the-os for more information. -- Unmanaged memory: 49.74 GiB -- Worker memory limit: 62.96 GiB\n",
      "2022-09-12 17:01:35,741 - distributed.worker_memory - WARNING - Unmanaged memory use is high. This may indicate a memory leak or the memory may not be released to the OS; see https://distributed.dask.org/en/latest/worker-memory.html#memory-not-released-back-to-the-os for more information. -- Unmanaged memory: 50.13 GiB -- Worker memory limit: 62.96 GiB\n",
      "2022-09-12 17:01:35,886 - distributed.worker_memory - WARNING - Worker is at 80% memory usage. Pausing worker.  Process memory: 50.52 GiB -- Worker memory limit: 62.96 GiB\n",
      "2022-09-12 17:01:35,886 - distributed.worker_memory - WARNING - Unmanaged memory use is high. This may indicate a memory leak or the memory may not be released to the OS; see https://distributed.dask.org/en/latest/worker-memory.html#memory-not-released-back-to-the-os for more information. -- Unmanaged memory: 50.52 GiB -- Worker memory limit: 62.96 GiB\n",
      "2022-09-12 17:01:35,936 - distributed.worker_memory - WARNING - Unmanaged memory use is high. This may indicate a memory leak or the memory may not be released to the OS; see https://distributed.dask.org/en/latest/worker-memory.html#memory-not-released-back-to-the-os for more information. -- Unmanaged memory: 50.73 GiB -- Worker memory limit: 62.96 GiB\n",
      "2022-09-12 17:01:36,046 - distributed.worker_memory - WARNING - Unmanaged memory use is high. This may indicate a memory leak or the memory may not be released to the OS; see https://distributed.dask.org/en/latest/worker-memory.html#memory-not-released-back-to-the-os for more information. -- Unmanaged memory: 51.23 GiB -- Worker memory limit: 62.96 GiB\n",
      "2022-09-12 17:01:36,134 - distributed.worker_memory - WARNING - Unmanaged memory use is high. This may indicate a memory leak or the memory may not be released to the OS; see https://distributed.dask.org/en/latest/worker-memory.html#memory-not-released-back-to-the-os for more information. -- Unmanaged memory: 51.62 GiB -- Worker memory limit: 62.96 GiB\n",
      "2022-09-12 17:01:36,237 - distributed.worker_memory - WARNING - Unmanaged memory use is high. This may indicate a memory leak or the memory may not be released to the OS; see https://distributed.dask.org/en/latest/worker-memory.html#memory-not-released-back-to-the-os for more information. -- Unmanaged memory: 52.03 GiB -- Worker memory limit: 62.96 GiB\n",
      "2022-09-12 17:01:36,334 - distributed.worker_memory - WARNING - Unmanaged memory use is high. This may indicate a memory leak or the memory may not be released to the OS; see https://distributed.dask.org/en/latest/worker-memory.html#memory-not-released-back-to-the-os for more information. -- Unmanaged memory: 52.44 GiB -- Worker memory limit: 62.96 GiB\n",
      "2022-09-12 17:01:36,451 - distributed.worker_memory - WARNING - Unmanaged memory use is high. This may indicate a memory leak or the memory may not be released to the OS; see https://distributed.dask.org/en/latest/worker-memory.html#memory-not-released-back-to-the-os for more information. -- Unmanaged memory: 52.95 GiB -- Worker memory limit: 62.96 GiB\n",
      "2022-09-12 17:01:36,551 - distributed.worker_memory - WARNING - Unmanaged memory use is high. This may indicate a memory leak or the memory may not be released to the OS; see https://distributed.dask.org/en/latest/worker-memory.html#memory-not-released-back-to-the-os for more information. -- Unmanaged memory: 53.40 GiB -- Worker memory limit: 62.96 GiB\n",
      "2022-09-12 17:01:36,640 - distributed.worker_memory - WARNING - Unmanaged memory use is high. This may indicate a memory leak or the memory may not be released to the OS; see https://distributed.dask.org/en/latest/worker-memory.html#memory-not-released-back-to-the-os for more information. -- Unmanaged memory: 53.79 GiB -- Worker memory limit: 62.96 GiB\n",
      "2022-09-12 17:01:36,734 - distributed.worker_memory - WARNING - Unmanaged memory use is high. This may indicate a memory leak or the memory may not be released to the OS; see https://distributed.dask.org/en/latest/worker-memory.html#memory-not-released-back-to-the-os for more information. -- Unmanaged memory: 54.17 GiB -- Worker memory limit: 62.96 GiB\n",
      "2022-09-12 17:01:36,835 - distributed.worker_memory - WARNING - Unmanaged memory use is high. This may indicate a memory leak or the memory may not be released to the OS; see https://distributed.dask.org/en/latest/worker-memory.html#memory-not-released-back-to-the-os for more information. -- Unmanaged memory: 54.60 GiB -- Worker memory limit: 62.96 GiB\n",
      "2022-09-12 17:01:36,937 - distributed.worker_memory - WARNING - Unmanaged memory use is high. This may indicate a memory leak or the memory may not be released to the OS; see https://distributed.dask.org/en/latest/worker-memory.html#memory-not-released-back-to-the-os for more information. -- Unmanaged memory: 55.06 GiB -- Worker memory limit: 62.96 GiB\n",
      "2022-09-12 17:01:37,081 - distributed.worker_memory - WARNING - Unmanaged memory use is high. This may indicate a memory leak or the memory may not be released to the OS; see https://distributed.dask.org/en/latest/worker-memory.html#memory-not-released-back-to-the-os for more information. -- Unmanaged memory: 55.51 GiB -- Worker memory limit: 62.96 GiB\n",
      "2022-09-12 17:01:37,138 - distributed.worker_memory - WARNING - Unmanaged memory use is high. This may indicate a memory leak or the memory may not be released to the OS; see https://distributed.dask.org/en/latest/worker-memory.html#memory-not-released-back-to-the-os for more information. -- Unmanaged memory: 55.76 GiB -- Worker memory limit: 62.96 GiB\n",
      "2022-09-12 17:01:37,235 - distributed.worker_memory - WARNING - Unmanaged memory use is high. This may indicate a memory leak or the memory may not be released to the OS; see https://distributed.dask.org/en/latest/worker-memory.html#memory-not-released-back-to-the-os for more information. -- Unmanaged memory: 56.16 GiB -- Worker memory limit: 62.96 GiB\n",
      "2022-09-12 17:01:37,335 - distributed.worker_memory - WARNING - Unmanaged memory use is high. This may indicate a memory leak or the memory may not be released to the OS; see https://distributed.dask.org/en/latest/worker-memory.html#memory-not-released-back-to-the-os for more information. -- Unmanaged memory: 56.59 GiB -- Worker memory limit: 62.96 GiB\n",
      "2022-09-12 17:01:37,437 - distributed.worker_memory - WARNING - Unmanaged memory use is high. This may indicate a memory leak or the memory may not be released to the OS; see https://distributed.dask.org/en/latest/worker-memory.html#memory-not-released-back-to-the-os for more information. -- Unmanaged memory: 57.05 GiB -- Worker memory limit: 62.96 GiB\n",
      "2022-09-12 17:01:37,538 - distributed.worker_memory - WARNING - Unmanaged memory use is high. This may indicate a memory leak or the memory may not be released to the OS; see https://distributed.dask.org/en/latest/worker-memory.html#memory-not-released-back-to-the-os for more information. -- Unmanaged memory: 57.51 GiB -- Worker memory limit: 62.96 GiB\n",
      "2022-09-12 17:01:37,634 - distributed.worker_memory - WARNING - Unmanaged memory use is high. This may indicate a memory leak or the memory may not be released to the OS; see https://distributed.dask.org/en/latest/worker-memory.html#memory-not-released-back-to-the-os for more information. -- Unmanaged memory: 57.93 GiB -- Worker memory limit: 62.96 GiB\n",
      "2022-09-12 17:01:37,735 - distributed.worker_memory - WARNING - Unmanaged memory use is high. This may indicate a memory leak or the memory may not be released to the OS; see https://distributed.dask.org/en/latest/worker-memory.html#memory-not-released-back-to-the-os for more information. -- Unmanaged memory: 58.33 GiB -- Worker memory limit: 62.96 GiB\n",
      "2022-09-12 17:01:37,837 - distributed.worker_memory - WARNING - Unmanaged memory use is high. This may indicate a memory leak or the memory may not be released to the OS; see https://distributed.dask.org/en/latest/worker-memory.html#memory-not-released-back-to-the-os for more information. -- Unmanaged memory: 58.76 GiB -- Worker memory limit: 62.96 GiB\n",
      "2022-09-12 17:01:37,934 - distributed.worker_memory - WARNING - Unmanaged memory use is high. This may indicate a memory leak or the memory may not be released to the OS; see https://distributed.dask.org/en/latest/worker-memory.html#memory-not-released-back-to-the-os for more information. -- Unmanaged memory: 59.20 GiB -- Worker memory limit: 62.96 GiB\n",
      "2022-09-12 17:01:38,046 - distributed.worker_memory - WARNING - Unmanaged memory use is high. This may indicate a memory leak or the memory may not be released to the OS; see https://distributed.dask.org/en/latest/worker-memory.html#memory-not-released-back-to-the-os for more information. -- Unmanaged memory: 59.70 GiB -- Worker memory limit: 62.96 GiB\n",
      "2022-09-12 17:01:38,077 - distributed.worker_memory - WARNING - Worker tcp://127.0.0.1:45479 (pid=1406961) exceeded 95% memory budget. Restarting...\n",
      "2022-09-12 17:01:38,220 - distributed.nanny - WARNING - Restarting worker\n",
      "2022-09-12 17:01:49,014 - distributed.worker_memory - WARNING - Unmanaged memory use is high. This may indicate a memory leak or the memory may not be released to the OS; see https://distributed.dask.org/en/latest/worker-memory.html#memory-not-released-back-to-the-os for more information. -- Unmanaged memory: 44.40 GiB -- Worker memory limit: 62.96 GiB\n",
      "2022-09-12 17:01:49,016 - distributed.worker_memory - WARNING - Unmanaged memory use is high. This may indicate a memory leak or the memory may not be released to the OS; see https://distributed.dask.org/en/latest/worker-memory.html#memory-not-released-back-to-the-os for more information. -- Unmanaged memory: 44.40 GiB -- Worker memory limit: 62.96 GiB\n",
      "2022-09-12 17:01:49,078 - distributed.worker_memory - WARNING - Unmanaged memory use is high. This may indicate a memory leak or the memory may not be released to the OS; see https://distributed.dask.org/en/latest/worker-memory.html#memory-not-released-back-to-the-os for more information. -- Unmanaged memory: 44.68 GiB -- Worker memory limit: 62.96 GiB\n",
      "2022-09-12 17:01:49,178 - distributed.worker_memory - WARNING - Unmanaged memory use is high. This may indicate a memory leak or the memory may not be released to the OS; see https://distributed.dask.org/en/latest/worker-memory.html#memory-not-released-back-to-the-os for more information. -- Unmanaged memory: 45.12 GiB -- Worker memory limit: 62.96 GiB\n",
      "2022-09-12 17:01:49,263 - distributed.worker_memory - WARNING - Unmanaged memory use is high. This may indicate a memory leak or the memory may not be released to the OS; see https://distributed.dask.org/en/latest/worker-memory.html#memory-not-released-back-to-the-os for more information. -- Unmanaged memory: 45.44 GiB -- Worker memory limit: 62.96 GiB\n",
      "2022-09-12 17:01:49,366 - distributed.worker_memory - WARNING - Unmanaged memory use is high. This may indicate a memory leak or the memory may not be released to the OS; see https://distributed.dask.org/en/latest/worker-memory.html#memory-not-released-back-to-the-os for more information. -- Unmanaged memory: 45.88 GiB -- Worker memory limit: 62.96 GiB\n",
      "2022-09-12 17:01:49,467 - distributed.worker_memory - WARNING - Unmanaged memory use is high. This may indicate a memory leak or the memory may not be released to the OS; see https://distributed.dask.org/en/latest/worker-memory.html#memory-not-released-back-to-the-os for more information. -- Unmanaged memory: 46.33 GiB -- Worker memory limit: 62.96 GiB\n",
      "2022-09-12 17:01:49,568 - distributed.worker_memory - WARNING - Unmanaged memory use is high. This may indicate a memory leak or the memory may not be released to the OS; see https://distributed.dask.org/en/latest/worker-memory.html#memory-not-released-back-to-the-os for more information. -- Unmanaged memory: 46.78 GiB -- Worker memory limit: 62.96 GiB\n",
      "2022-09-12 17:01:49,667 - distributed.worker_memory - WARNING - Unmanaged memory use is high. This may indicate a memory leak or the memory may not be released to the OS; see https://distributed.dask.org/en/latest/worker-memory.html#memory-not-released-back-to-the-os for more information. -- Unmanaged memory: 47.22 GiB -- Worker memory limit: 62.96 GiB\n",
      "2022-09-12 17:01:49,765 - distributed.worker_memory - WARNING - Unmanaged memory use is high. This may indicate a memory leak or the memory may not be released to the OS; see https://distributed.dask.org/en/latest/worker-memory.html#memory-not-released-back-to-the-os for more information. -- Unmanaged memory: 47.61 GiB -- Worker memory limit: 62.96 GiB\n",
      "2022-09-12 17:01:49,872 - distributed.worker_memory - WARNING - Unmanaged memory use is high. This may indicate a memory leak or the memory may not be released to the OS; see https://distributed.dask.org/en/latest/worker-memory.html#memory-not-released-back-to-the-os for more information. -- Unmanaged memory: 48.06 GiB -- Worker memory limit: 62.96 GiB\n",
      "2022-09-12 17:01:49,972 - distributed.worker_memory - WARNING - Unmanaged memory use is high. This may indicate a memory leak or the memory may not be released to the OS; see https://distributed.dask.org/en/latest/worker-memory.html#memory-not-released-back-to-the-os for more information. -- Unmanaged memory: 48.50 GiB -- Worker memory limit: 62.96 GiB\n",
      "2022-09-12 17:01:50,064 - distributed.worker_memory - WARNING - Unmanaged memory use is high. This may indicate a memory leak or the memory may not be released to the OS; see https://distributed.dask.org/en/latest/worker-memory.html#memory-not-released-back-to-the-os for more information. -- Unmanaged memory: 48.89 GiB -- Worker memory limit: 62.96 GiB\n",
      "2022-09-12 17:01:50,167 - distributed.worker_memory - WARNING - Unmanaged memory use is high. This may indicate a memory leak or the memory may not be released to the OS; see https://distributed.dask.org/en/latest/worker-memory.html#memory-not-released-back-to-the-os for more information. -- Unmanaged memory: 49.33 GiB -- Worker memory limit: 62.96 GiB\n",
      "2022-09-12 17:01:50,267 - distributed.worker_memory - WARNING - Unmanaged memory use is high. This may indicate a memory leak or the memory may not be released to the OS; see https://distributed.dask.org/en/latest/worker-memory.html#memory-not-released-back-to-the-os for more information. -- Unmanaged memory: 49.70 GiB -- Worker memory limit: 62.96 GiB\n",
      "2022-09-12 17:01:50,367 - distributed.worker_memory - WARNING - Unmanaged memory use is high. This may indicate a memory leak or the memory may not be released to the OS; see https://distributed.dask.org/en/latest/worker-memory.html#memory-not-released-back-to-the-os for more information. -- Unmanaged memory: 50.15 GiB -- Worker memory limit: 62.96 GiB\n",
      "2022-09-12 17:01:50,514 - distributed.worker_memory - WARNING - Worker is at 80% memory usage. Pausing worker.  Process memory: 50.61 GiB -- Worker memory limit: 62.96 GiB\n",
      "2022-09-12 17:01:50,514 - distributed.worker_memory - WARNING - Unmanaged memory use is high. This may indicate a memory leak or the memory may not be released to the OS; see https://distributed.dask.org/en/latest/worker-memory.html#memory-not-released-back-to-the-os for more information. -- Unmanaged memory: 50.61 GiB -- Worker memory limit: 62.96 GiB\n",
      "2022-09-12 17:01:50,566 - distributed.worker_memory - WARNING - Unmanaged memory use is high. This may indicate a memory leak or the memory may not be released to the OS; see https://distributed.dask.org/en/latest/worker-memory.html#memory-not-released-back-to-the-os for more information. -- Unmanaged memory: 50.82 GiB -- Worker memory limit: 62.96 GiB\n",
      "2022-09-12 17:01:50,663 - distributed.worker_memory - WARNING - Unmanaged memory use is high. This may indicate a memory leak or the memory may not be released to the OS; see https://distributed.dask.org/en/latest/worker-memory.html#memory-not-released-back-to-the-os for more information. -- Unmanaged memory: 51.25 GiB -- Worker memory limit: 62.96 GiB\n",
      "2022-09-12 17:01:50,764 - distributed.worker_memory - WARNING - Unmanaged memory use is high. This may indicate a memory leak or the memory may not be released to the OS; see https://distributed.dask.org/en/latest/worker-memory.html#memory-not-released-back-to-the-os for more information. -- Unmanaged memory: 51.63 GiB -- Worker memory limit: 62.96 GiB\n",
      "2022-09-12 17:01:50,865 - distributed.worker_memory - WARNING - Unmanaged memory use is high. This may indicate a memory leak or the memory may not be released to the OS; see https://distributed.dask.org/en/latest/worker-memory.html#memory-not-released-back-to-the-os for more information. -- Unmanaged memory: 52.08 GiB -- Worker memory limit: 62.96 GiB\n",
      "2022-09-12 17:01:50,966 - distributed.worker_memory - WARNING - Unmanaged memory use is high. This may indicate a memory leak or the memory may not be released to the OS; see https://distributed.dask.org/en/latest/worker-memory.html#memory-not-released-back-to-the-os for more information. -- Unmanaged memory: 52.53 GiB -- Worker memory limit: 62.96 GiB\n",
      "2022-09-12 17:01:51,068 - distributed.worker_memory - WARNING - Unmanaged memory use is high. This may indicate a memory leak or the memory may not be released to the OS; see https://distributed.dask.org/en/latest/worker-memory.html#memory-not-released-back-to-the-os for more information. -- Unmanaged memory: 52.99 GiB -- Worker memory limit: 62.96 GiB\n",
      "2022-09-12 17:01:51,167 - distributed.worker_memory - WARNING - Unmanaged memory use is high. This may indicate a memory leak or the memory may not be released to the OS; see https://distributed.dask.org/en/latest/worker-memory.html#memory-not-released-back-to-the-os for more information. -- Unmanaged memory: 53.43 GiB -- Worker memory limit: 62.96 GiB\n",
      "2022-09-12 17:01:51,264 - distributed.worker_memory - WARNING - Unmanaged memory use is high. This may indicate a memory leak or the memory may not be released to the OS; see https://distributed.dask.org/en/latest/worker-memory.html#memory-not-released-back-to-the-os for more information. -- Unmanaged memory: 53.81 GiB -- Worker memory limit: 62.96 GiB\n",
      "2022-09-12 17:01:51,366 - distributed.worker_memory - WARNING - Unmanaged memory use is high. This may indicate a memory leak or the memory may not be released to the OS; see https://distributed.dask.org/en/latest/worker-memory.html#memory-not-released-back-to-the-os for more information. -- Unmanaged memory: 54.28 GiB -- Worker memory limit: 62.96 GiB\n",
      "2022-09-12 17:01:51,466 - distributed.worker_memory - WARNING - Unmanaged memory use is high. This may indicate a memory leak or the memory may not be released to the OS; see https://distributed.dask.org/en/latest/worker-memory.html#memory-not-released-back-to-the-os for more information. -- Unmanaged memory: 54.73 GiB -- Worker memory limit: 62.96 GiB\n",
      "2022-09-12 17:01:51,591 - distributed.worker_memory - WARNING - Unmanaged memory use is high. This may indicate a memory leak or the memory may not be released to the OS; see https://distributed.dask.org/en/latest/worker-memory.html#memory-not-released-back-to-the-os for more information. -- Unmanaged memory: 55.14 GiB -- Worker memory limit: 62.96 GiB\n",
      "2022-09-12 17:01:51,666 - distributed.worker_memory - WARNING - Unmanaged memory use is high. This may indicate a memory leak or the memory may not be released to the OS; see https://distributed.dask.org/en/latest/worker-memory.html#memory-not-released-back-to-the-os for more information. -- Unmanaged memory: 55.48 GiB -- Worker memory limit: 62.96 GiB\n",
      "2022-09-12 17:01:51,765 - distributed.worker_memory - WARNING - Unmanaged memory use is high. This may indicate a memory leak or the memory may not be released to the OS; see https://distributed.dask.org/en/latest/worker-memory.html#memory-not-released-back-to-the-os for more information. -- Unmanaged memory: 55.85 GiB -- Worker memory limit: 62.96 GiB\n",
      "2022-09-12 17:01:51,868 - distributed.worker_memory - WARNING - Unmanaged memory use is high. This may indicate a memory leak or the memory may not be released to the OS; see https://distributed.dask.org/en/latest/worker-memory.html#memory-not-released-back-to-the-os for more information. -- Unmanaged memory: 56.30 GiB -- Worker memory limit: 62.96 GiB\n",
      "2022-09-12 17:01:51,969 - distributed.worker_memory - WARNING - Unmanaged memory use is high. This may indicate a memory leak or the memory may not be released to the OS; see https://distributed.dask.org/en/latest/worker-memory.html#memory-not-released-back-to-the-os for more information. -- Unmanaged memory: 56.75 GiB -- Worker memory limit: 62.96 GiB\n",
      "2022-09-12 17:01:52,072 - distributed.worker_memory - WARNING - Unmanaged memory use is high. This may indicate a memory leak or the memory may not be released to the OS; see https://distributed.dask.org/en/latest/worker-memory.html#memory-not-released-back-to-the-os for more information. -- Unmanaged memory: 57.20 GiB -- Worker memory limit: 62.96 GiB\n",
      "2022-09-12 17:01:52,170 - distributed.worker_memory - WARNING - Unmanaged memory use is high. This may indicate a memory leak or the memory may not be released to the OS; see https://distributed.dask.org/en/latest/worker-memory.html#memory-not-released-back-to-the-os for more information. -- Unmanaged memory: 57.64 GiB -- Worker memory limit: 62.96 GiB\n",
      "2022-09-12 17:01:52,298 - distributed.worker_memory - WARNING - Unmanaged memory use is high. This may indicate a memory leak or the memory may not be released to the OS; see https://distributed.dask.org/en/latest/worker-memory.html#memory-not-released-back-to-the-os for more information. -- Unmanaged memory: 58.02 GiB -- Worker memory limit: 62.96 GiB\n",
      "2022-09-12 17:01:52,371 - distributed.worker_memory - WARNING - Unmanaged memory use is high. This may indicate a memory leak or the memory may not be released to the OS; see https://distributed.dask.org/en/latest/worker-memory.html#memory-not-released-back-to-the-os for more information. -- Unmanaged memory: 58.35 GiB -- Worker memory limit: 62.96 GiB\n",
      "2022-09-12 17:01:52,471 - distributed.worker_memory - WARNING - Unmanaged memory use is high. This may indicate a memory leak or the memory may not be released to the OS; see https://distributed.dask.org/en/latest/worker-memory.html#memory-not-released-back-to-the-os for more information. -- Unmanaged memory: 58.79 GiB -- Worker memory limit: 62.96 GiB\n",
      "2022-09-12 17:01:52,578 - distributed.worker_memory - WARNING - Unmanaged memory use is high. This may indicate a memory leak or the memory may not be released to the OS; see https://distributed.dask.org/en/latest/worker-memory.html#memory-not-released-back-to-the-os for more information. -- Unmanaged memory: 59.27 GiB -- Worker memory limit: 62.96 GiB\n",
      "2022-09-12 17:01:52,664 - distributed.worker_memory - WARNING - Unmanaged memory use is high. This may indicate a memory leak or the memory may not be released to the OS; see https://distributed.dask.org/en/latest/worker-memory.html#memory-not-released-back-to-the-os for more information. -- Unmanaged memory: 59.62 GiB -- Worker memory limit: 62.96 GiB\n",
      "2022-09-12 17:01:52,773 - distributed.worker_memory - WARNING - Unmanaged memory use is high. This may indicate a memory leak or the memory may not be released to the OS; see https://distributed.dask.org/en/latest/worker-memory.html#memory-not-released-back-to-the-os for more information. -- Unmanaged memory: 60.04 GiB -- Worker memory limit: 62.96 GiB\n",
      "2022-09-12 17:01:52,779 - distributed.worker_memory - WARNING - Worker tcp://127.0.0.1:37251 (pid=1410840) exceeded 95% memory budget. Restarting...\n",
      "2022-09-12 17:01:53,247 - distributed.nanny - WARNING - Restarting worker\n",
      "2022-09-12 17:02:04,240 - distributed.worker_memory - WARNING - Unmanaged memory use is high. This may indicate a memory leak or the memory may not be released to the OS; see https://distributed.dask.org/en/latest/worker-memory.html#memory-not-released-back-to-the-os for more information. -- Unmanaged memory: 44.49 GiB -- Worker memory limit: 62.96 GiB\n",
      "2022-09-12 17:02:04,244 - distributed.worker_memory - WARNING - Unmanaged memory use is high. This may indicate a memory leak or the memory may not be released to the OS; see https://distributed.dask.org/en/latest/worker-memory.html#memory-not-released-back-to-the-os for more information. -- Unmanaged memory: 44.50 GiB -- Worker memory limit: 62.96 GiB\n",
      "2022-09-12 17:02:04,304 - distributed.worker_memory - WARNING - Unmanaged memory use is high. This may indicate a memory leak or the memory may not be released to the OS; see https://distributed.dask.org/en/latest/worker-memory.html#memory-not-released-back-to-the-os for more information. -- Unmanaged memory: 44.76 GiB -- Worker memory limit: 62.96 GiB\n",
      "2022-09-12 17:02:04,402 - distributed.worker_memory - WARNING - Unmanaged memory use is high. This may indicate a memory leak or the memory may not be released to the OS; see https://distributed.dask.org/en/latest/worker-memory.html#memory-not-released-back-to-the-os for more information. -- Unmanaged memory: 45.18 GiB -- Worker memory limit: 62.96 GiB\n",
      "2022-09-12 17:02:04,514 - distributed.worker_memory - WARNING - Unmanaged memory use is high. This may indicate a memory leak or the memory may not be released to the OS; see https://distributed.dask.org/en/latest/worker-memory.html#memory-not-released-back-to-the-os for more information. -- Unmanaged memory: 45.64 GiB -- Worker memory limit: 62.96 GiB\n",
      "2022-09-12 17:02:04,609 - distributed.worker_memory - WARNING - Unmanaged memory use is high. This may indicate a memory leak or the memory may not be released to the OS; see https://distributed.dask.org/en/latest/worker-memory.html#memory-not-released-back-to-the-os for more information. -- Unmanaged memory: 46.06 GiB -- Worker memory limit: 62.96 GiB\n",
      "2022-09-12 17:02:04,708 - distributed.worker_memory - WARNING - Unmanaged memory use is high. This may indicate a memory leak or the memory may not be released to the OS; see https://distributed.dask.org/en/latest/worker-memory.html#memory-not-released-back-to-the-os for more information. -- Unmanaged memory: 46.44 GiB -- Worker memory limit: 62.96 GiB\n",
      "2022-09-12 17:02:04,815 - distributed.worker_memory - WARNING - Unmanaged memory use is high. This may indicate a memory leak or the memory may not be released to the OS; see https://distributed.dask.org/en/latest/worker-memory.html#memory-not-released-back-to-the-os for more information. -- Unmanaged memory: 46.87 GiB -- Worker memory limit: 62.96 GiB\n",
      "2022-09-12 17:02:04,916 - distributed.worker_memory - WARNING - Unmanaged memory use is high. This may indicate a memory leak or the memory may not be released to the OS; see https://distributed.dask.org/en/latest/worker-memory.html#memory-not-released-back-to-the-os for more information. -- Unmanaged memory: 47.30 GiB -- Worker memory limit: 62.96 GiB\n",
      "2022-09-12 17:02:05,017 - distributed.worker_memory - WARNING - Unmanaged memory use is high. This may indicate a memory leak or the memory may not be released to the OS; see https://distributed.dask.org/en/latest/worker-memory.html#memory-not-released-back-to-the-os for more information. -- Unmanaged memory: 47.74 GiB -- Worker memory limit: 62.96 GiB\n",
      "2022-09-12 17:02:05,109 - distributed.worker_memory - WARNING - Unmanaged memory use is high. This may indicate a memory leak or the memory may not be released to the OS; see https://distributed.dask.org/en/latest/worker-memory.html#memory-not-released-back-to-the-os for more information. -- Unmanaged memory: 48.14 GiB -- Worker memory limit: 62.96 GiB\n",
      "2022-09-12 17:02:05,207 - distributed.worker_memory - WARNING - Unmanaged memory use is high. This may indicate a memory leak or the memory may not be released to the OS; see https://distributed.dask.org/en/latest/worker-memory.html#memory-not-released-back-to-the-os for more information. -- Unmanaged memory: 48.53 GiB -- Worker memory limit: 62.96 GiB\n",
      "2022-09-12 17:02:05,318 - distributed.worker_memory - WARNING - Unmanaged memory use is high. This may indicate a memory leak or the memory may not be released to the OS; see https://distributed.dask.org/en/latest/worker-memory.html#memory-not-released-back-to-the-os for more information. -- Unmanaged memory: 48.97 GiB -- Worker memory limit: 62.96 GiB\n",
      "2022-09-12 17:02:05,419 - distributed.worker_memory - WARNING - Unmanaged memory use is high. This may indicate a memory leak or the memory may not be released to the OS; see https://distributed.dask.org/en/latest/worker-memory.html#memory-not-released-back-to-the-os for more information. -- Unmanaged memory: 49.41 GiB -- Worker memory limit: 62.96 GiB\n",
      "2022-09-12 17:02:05,520 - distributed.worker_memory - WARNING - Unmanaged memory use is high. This may indicate a memory leak or the memory may not be released to the OS; see https://distributed.dask.org/en/latest/worker-memory.html#memory-not-released-back-to-the-os for more information. -- Unmanaged memory: 49.85 GiB -- Worker memory limit: 62.96 GiB\n",
      "2022-09-12 17:02:05,609 - distributed.worker_memory - WARNING - Unmanaged memory use is high. This may indicate a memory leak or the memory may not be released to the OS; see https://distributed.dask.org/en/latest/worker-memory.html#memory-not-released-back-to-the-os for more information. -- Unmanaged memory: 50.25 GiB -- Worker memory limit: 62.96 GiB\n",
      "2022-09-12 17:02:05,764 - distributed.worker_memory - WARNING - Worker is at 80% memory usage. Pausing worker.  Process memory: 50.64 GiB -- Worker memory limit: 62.96 GiB\n",
      "2022-09-12 17:02:05,764 - distributed.worker_memory - WARNING - Unmanaged memory use is high. This may indicate a memory leak or the memory may not be released to the OS; see https://distributed.dask.org/en/latest/worker-memory.html#memory-not-released-back-to-the-os for more information. -- Unmanaged memory: 50.64 GiB -- Worker memory limit: 62.96 GiB\n",
      "2022-09-12 17:02:05,821 - distributed.worker_memory - WARNING - Unmanaged memory use is high. This may indicate a memory leak or the memory may not be released to the OS; see https://distributed.dask.org/en/latest/worker-memory.html#memory-not-released-back-to-the-os for more information. -- Unmanaged memory: 50.90 GiB -- Worker memory limit: 62.96 GiB\n",
      "2022-09-12 17:02:05,902 - distributed.worker_memory - WARNING - Unmanaged memory use is high. This may indicate a memory leak or the memory may not be released to the OS; see https://distributed.dask.org/en/latest/worker-memory.html#memory-not-released-back-to-the-os for more information. -- Unmanaged memory: 51.22 GiB -- Worker memory limit: 62.96 GiB\n",
      "2022-09-12 17:02:06,002 - distributed.worker_memory - WARNING - Unmanaged memory use is high. This may indicate a memory leak or the memory may not be released to the OS; see https://distributed.dask.org/en/latest/worker-memory.html#memory-not-released-back-to-the-os for more information. -- Unmanaged memory: 51.66 GiB -- Worker memory limit: 62.96 GiB\n",
      "2022-09-12 17:02:06,102 - distributed.worker_memory - WARNING - Unmanaged memory use is high. This may indicate a memory leak or the memory may not be released to the OS; see https://distributed.dask.org/en/latest/worker-memory.html#memory-not-released-back-to-the-os for more information. -- Unmanaged memory: 52.09 GiB -- Worker memory limit: 62.96 GiB\n",
      "2022-09-12 17:02:06,202 - distributed.worker_memory - WARNING - Unmanaged memory use is high. This may indicate a memory leak or the memory may not be released to the OS; see https://distributed.dask.org/en/latest/worker-memory.html#memory-not-released-back-to-the-os for more information. -- Unmanaged memory: 52.51 GiB -- Worker memory limit: 62.96 GiB\n",
      "2022-09-12 17:02:06,302 - distributed.worker_memory - WARNING - Unmanaged memory use is high. This may indicate a memory leak or the memory may not be released to the OS; see https://distributed.dask.org/en/latest/worker-memory.html#memory-not-released-back-to-the-os for more information. -- Unmanaged memory: 52.91 GiB -- Worker memory limit: 62.96 GiB\n",
      "2022-09-12 17:02:06,402 - distributed.worker_memory - WARNING - Unmanaged memory use is high. This may indicate a memory leak or the memory may not be released to the OS; see https://distributed.dask.org/en/latest/worker-memory.html#memory-not-released-back-to-the-os for more information. -- Unmanaged memory: 53.32 GiB -- Worker memory limit: 62.96 GiB\n",
      "2022-09-12 17:02:06,503 - distributed.worker_memory - WARNING - Unmanaged memory use is high. This may indicate a memory leak or the memory may not be released to the OS; see https://distributed.dask.org/en/latest/worker-memory.html#memory-not-released-back-to-the-os for more information. -- Unmanaged memory: 53.77 GiB -- Worker memory limit: 62.96 GiB\n",
      "2022-09-12 17:02:06,606 - distributed.worker_memory - WARNING - Unmanaged memory use is high. This may indicate a memory leak or the memory may not be released to the OS; see https://distributed.dask.org/en/latest/worker-memory.html#memory-not-released-back-to-the-os for more information. -- Unmanaged memory: 54.22 GiB -- Worker memory limit: 62.96 GiB\n",
      "2022-09-12 17:02:06,706 - distributed.worker_memory - WARNING - Unmanaged memory use is high. This may indicate a memory leak or the memory may not be released to the OS; see https://distributed.dask.org/en/latest/worker-memory.html#memory-not-released-back-to-the-os for more information. -- Unmanaged memory: 54.63 GiB -- Worker memory limit: 62.96 GiB\n",
      "2022-09-12 17:02:06,802 - distributed.worker_memory - WARNING - Unmanaged memory use is high. This may indicate a memory leak or the memory may not be released to the OS; see https://distributed.dask.org/en/latest/worker-memory.html#memory-not-released-back-to-the-os for more information. -- Unmanaged memory: 55.00 GiB -- Worker memory limit: 62.96 GiB\n",
      "2022-09-12 17:02:06,903 - distributed.worker_memory - WARNING - Unmanaged memory use is high. This may indicate a memory leak or the memory may not be released to the OS; see https://distributed.dask.org/en/latest/worker-memory.html#memory-not-released-back-to-the-os for more information. -- Unmanaged memory: 55.44 GiB -- Worker memory limit: 62.96 GiB\n",
      "2022-09-12 17:02:07,003 - distributed.worker_memory - WARNING - Unmanaged memory use is high. This may indicate a memory leak or the memory may not be released to the OS; see https://distributed.dask.org/en/latest/worker-memory.html#memory-not-released-back-to-the-os for more information. -- Unmanaged memory: 55.88 GiB -- Worker memory limit: 62.96 GiB\n",
      "2022-09-12 17:02:07,152 - distributed.worker_memory - WARNING - Unmanaged memory use is high. This may indicate a memory leak or the memory may not be released to the OS; see https://distributed.dask.org/en/latest/worker-memory.html#memory-not-released-back-to-the-os for more information. -- Unmanaged memory: 56.32 GiB -- Worker memory limit: 62.96 GiB\n",
      "2022-09-12 17:02:07,204 - distributed.worker_memory - WARNING - Unmanaged memory use is high. This may indicate a memory leak or the memory may not be released to the OS; see https://distributed.dask.org/en/latest/worker-memory.html#memory-not-released-back-to-the-os for more information. -- Unmanaged memory: 56.52 GiB -- Worker memory limit: 62.96 GiB\n",
      "2022-09-12 17:02:07,307 - distributed.worker_memory - WARNING - Unmanaged memory use is high. This may indicate a memory leak or the memory may not be released to the OS; see https://distributed.dask.org/en/latest/worker-memory.html#memory-not-released-back-to-the-os for more information. -- Unmanaged memory: 56.95 GiB -- Worker memory limit: 62.96 GiB\n",
      "2022-09-12 17:02:07,409 - distributed.worker_memory - WARNING - Unmanaged memory use is high. This may indicate a memory leak or the memory may not be released to the OS; see https://distributed.dask.org/en/latest/worker-memory.html#memory-not-released-back-to-the-os for more information. -- Unmanaged memory: 57.38 GiB -- Worker memory limit: 62.96 GiB\n",
      "2022-09-12 17:02:07,510 - distributed.worker_memory - WARNING - Unmanaged memory use is high. This may indicate a memory leak or the memory may not be released to the OS; see https://distributed.dask.org/en/latest/worker-memory.html#memory-not-released-back-to-the-os for more information. -- Unmanaged memory: 57.82 GiB -- Worker memory limit: 62.96 GiB\n",
      "2022-09-12 17:02:07,602 - distributed.worker_memory - WARNING - Unmanaged memory use is high. This may indicate a memory leak or the memory may not be released to the OS; see https://distributed.dask.org/en/latest/worker-memory.html#memory-not-released-back-to-the-os for more information. -- Unmanaged memory: 58.22 GiB -- Worker memory limit: 62.96 GiB\n",
      "2022-09-12 17:02:07,708 - distributed.worker_memory - WARNING - Unmanaged memory use is high. This may indicate a memory leak or the memory may not be released to the OS; see https://distributed.dask.org/en/latest/worker-memory.html#memory-not-released-back-to-the-os for more information. -- Unmanaged memory: 58.63 GiB -- Worker memory limit: 62.96 GiB\n",
      "2022-09-12 17:02:07,814 - distributed.worker_memory - WARNING - Unmanaged memory use is high. This may indicate a memory leak or the memory may not be released to the OS; see https://distributed.dask.org/en/latest/worker-memory.html#memory-not-released-back-to-the-os for more information. -- Unmanaged memory: 59.06 GiB -- Worker memory limit: 62.96 GiB\n",
      "2022-09-12 17:02:07,915 - distributed.worker_memory - WARNING - Unmanaged memory use is high. This may indicate a memory leak or the memory may not be released to the OS; see https://distributed.dask.org/en/latest/worker-memory.html#memory-not-released-back-to-the-os for more information. -- Unmanaged memory: 59.50 GiB -- Worker memory limit: 62.96 GiB\n",
      "2022-09-12 17:02:08,004 - distributed.worker_memory - WARNING - Worker tcp://127.0.0.1:34191 (pid=1406975) exceeded 95% memory budget. Restarting...\n",
      "2022-09-12 17:02:08,387 - distributed.nanny - WARNING - Restarting worker\n",
      "2022-09-12 17:02:19,210 - distributed.worker_memory - WARNING - Unmanaged memory use is high. This may indicate a memory leak or the memory may not be released to the OS; see https://distributed.dask.org/en/latest/worker-memory.html#memory-not-released-back-to-the-os for more information. -- Unmanaged memory: 44.34 GiB -- Worker memory limit: 62.96 GiB\n",
      "2022-09-12 17:02:19,294 - distributed.worker_memory - WARNING - Unmanaged memory use is high. This may indicate a memory leak or the memory may not be released to the OS; see https://distributed.dask.org/en/latest/worker-memory.html#memory-not-released-back-to-the-os for more information. -- Unmanaged memory: 44.66 GiB -- Worker memory limit: 62.96 GiB\n",
      "2022-09-12 17:02:19,396 - distributed.worker_memory - WARNING - Unmanaged memory use is high. This may indicate a memory leak or the memory may not be released to the OS; see https://distributed.dask.org/en/latest/worker-memory.html#memory-not-released-back-to-the-os for more information. -- Unmanaged memory: 45.11 GiB -- Worker memory limit: 62.96 GiB\n",
      "2022-09-12 17:02:19,496 - distributed.worker_memory - WARNING - Unmanaged memory use is high. This may indicate a memory leak or the memory may not be released to the OS; see https://distributed.dask.org/en/latest/worker-memory.html#memory-not-released-back-to-the-os for more information. -- Unmanaged memory: 45.55 GiB -- Worker memory limit: 62.96 GiB\n",
      "2022-09-12 17:02:19,598 - distributed.worker_memory - WARNING - Unmanaged memory use is high. This may indicate a memory leak or the memory may not be released to the OS; see https://distributed.dask.org/en/latest/worker-memory.html#memory-not-released-back-to-the-os for more information. -- Unmanaged memory: 45.99 GiB -- Worker memory limit: 62.96 GiB\n",
      "2022-09-12 17:02:19,695 - distributed.worker_memory - WARNING - Unmanaged memory use is high. This may indicate a memory leak or the memory may not be released to the OS; see https://distributed.dask.org/en/latest/worker-memory.html#memory-not-released-back-to-the-os for more information. -- Unmanaged memory: 46.39 GiB -- Worker memory limit: 62.96 GiB\n",
      "2022-09-12 17:02:19,801 - distributed.worker_memory - WARNING - Unmanaged memory use is high. This may indicate a memory leak or the memory may not be released to the OS; see https://distributed.dask.org/en/latest/worker-memory.html#memory-not-released-back-to-the-os for more information. -- Unmanaged memory: 46.81 GiB -- Worker memory limit: 62.96 GiB\n",
      "2022-09-12 17:02:19,902 - distributed.worker_memory - WARNING - Unmanaged memory use is high. This may indicate a memory leak or the memory may not be released to the OS; see https://distributed.dask.org/en/latest/worker-memory.html#memory-not-released-back-to-the-os for more information. -- Unmanaged memory: 47.26 GiB -- Worker memory limit: 62.96 GiB\n",
      "2022-09-12 17:02:20,002 - distributed.worker_memory - WARNING - Unmanaged memory use is high. This may indicate a memory leak or the memory may not be released to the OS; see https://distributed.dask.org/en/latest/worker-memory.html#memory-not-released-back-to-the-os for more information. -- Unmanaged memory: 47.67 GiB -- Worker memory limit: 62.96 GiB\n",
      "2022-09-12 17:02:20,104 - distributed.worker_memory - WARNING - Unmanaged memory use is high. This may indicate a memory leak or the memory may not be released to the OS; see https://distributed.dask.org/en/latest/worker-memory.html#memory-not-released-back-to-the-os for more information. -- Unmanaged memory: 48.11 GiB -- Worker memory limit: 62.96 GiB\n",
      "2022-09-12 17:02:20,196 - distributed.worker_memory - WARNING - Unmanaged memory use is high. This may indicate a memory leak or the memory may not be released to the OS; see https://distributed.dask.org/en/latest/worker-memory.html#memory-not-released-back-to-the-os for more information. -- Unmanaged memory: 48.47 GiB -- Worker memory limit: 62.96 GiB\n",
      "2022-09-12 17:02:20,298 - distributed.worker_memory - WARNING - Unmanaged memory use is high. This may indicate a memory leak or the memory may not be released to the OS; see https://distributed.dask.org/en/latest/worker-memory.html#memory-not-released-back-to-the-os for more information. -- Unmanaged memory: 48.88 GiB -- Worker memory limit: 62.96 GiB\n",
      "2022-09-12 17:02:20,399 - distributed.worker_memory - WARNING - Unmanaged memory use is high. This may indicate a memory leak or the memory may not be released to the OS; see https://distributed.dask.org/en/latest/worker-memory.html#memory-not-released-back-to-the-os for more information. -- Unmanaged memory: 49.32 GiB -- Worker memory limit: 62.96 GiB\n",
      "2022-09-12 17:02:20,496 - distributed.worker_memory - WARNING - Unmanaged memory use is high. This may indicate a memory leak or the memory may not be released to the OS; see https://distributed.dask.org/en/latest/worker-memory.html#memory-not-released-back-to-the-os for more information. -- Unmanaged memory: 49.75 GiB -- Worker memory limit: 62.96 GiB\n",
      "2022-09-12 17:02:20,596 - distributed.worker_memory - WARNING - Unmanaged memory use is high. This may indicate a memory leak or the memory may not be released to the OS; see https://distributed.dask.org/en/latest/worker-memory.html#memory-not-released-back-to-the-os for more information. -- Unmanaged memory: 50.18 GiB -- Worker memory limit: 62.96 GiB\n",
      "2022-09-12 17:02:20,715 - distributed.worker_memory - WARNING - Worker is at 80% memory usage. Pausing worker.  Process memory: 50.58 GiB -- Worker memory limit: 62.96 GiB\n",
      "2022-09-12 17:02:20,715 - distributed.worker_memory - WARNING - Unmanaged memory use is high. This may indicate a memory leak or the memory may not be released to the OS; see https://distributed.dask.org/en/latest/worker-memory.html#memory-not-released-back-to-the-os for more information. -- Unmanaged memory: 50.58 GiB -- Worker memory limit: 62.96 GiB\n",
      "2022-09-12 17:02:20,795 - distributed.worker_memory - WARNING - Unmanaged memory use is high. This may indicate a memory leak or the memory may not be released to the OS; see https://distributed.dask.org/en/latest/worker-memory.html#memory-not-released-back-to-the-os for more information. -- Unmanaged memory: 50.90 GiB -- Worker memory limit: 62.96 GiB\n",
      "2022-09-12 17:02:20,896 - distributed.worker_memory - WARNING - Unmanaged memory use is high. This may indicate a memory leak or the memory may not be released to the OS; see https://distributed.dask.org/en/latest/worker-memory.html#memory-not-released-back-to-the-os for more information. -- Unmanaged memory: 51.33 GiB -- Worker memory limit: 62.96 GiB\n",
      "2022-09-12 17:02:20,998 - distributed.worker_memory - WARNING - Unmanaged memory use is high. This may indicate a memory leak or the memory may not be released to the OS; see https://distributed.dask.org/en/latest/worker-memory.html#memory-not-released-back-to-the-os for more information. -- Unmanaged memory: 51.78 GiB -- Worker memory limit: 62.96 GiB\n",
      "2022-09-12 17:02:21,098 - distributed.worker_memory - WARNING - Unmanaged memory use is high. This may indicate a memory leak or the memory may not be released to the OS; see https://distributed.dask.org/en/latest/worker-memory.html#memory-not-released-back-to-the-os for more information. -- Unmanaged memory: 52.21 GiB -- Worker memory limit: 62.96 GiB\n",
      "2022-09-12 17:02:21,213 - distributed.worker_memory - WARNING - Unmanaged memory use is high. This may indicate a memory leak or the memory may not be released to the OS; see https://distributed.dask.org/en/latest/worker-memory.html#memory-not-released-back-to-the-os for more information. -- Unmanaged memory: 52.60 GiB -- Worker memory limit: 62.96 GiB\n",
      "2022-09-12 17:02:21,295 - distributed.worker_memory - WARNING - Unmanaged memory use is high. This may indicate a memory leak or the memory may not be released to the OS; see https://distributed.dask.org/en/latest/worker-memory.html#memory-not-released-back-to-the-os for more information. -- Unmanaged memory: 52.94 GiB -- Worker memory limit: 62.96 GiB\n",
      "2022-09-12 17:02:21,395 - distributed.worker_memory - WARNING - Unmanaged memory use is high. This may indicate a memory leak or the memory may not be released to the OS; see https://distributed.dask.org/en/latest/worker-memory.html#memory-not-released-back-to-the-os for more information. -- Unmanaged memory: 53.37 GiB -- Worker memory limit: 62.96 GiB\n",
      "2022-09-12 17:02:21,495 - distributed.worker_memory - WARNING - Unmanaged memory use is high. This may indicate a memory leak or the memory may not be released to the OS; see https://distributed.dask.org/en/latest/worker-memory.html#memory-not-released-back-to-the-os for more information. -- Unmanaged memory: 53.78 GiB -- Worker memory limit: 62.96 GiB\n",
      "2022-09-12 17:02:21,596 - distributed.worker_memory - WARNING - Unmanaged memory use is high. This may indicate a memory leak or the memory may not be released to the OS; see https://distributed.dask.org/en/latest/worker-memory.html#memory-not-released-back-to-the-os for more information. -- Unmanaged memory: 54.17 GiB -- Worker memory limit: 62.96 GiB\n",
      "2022-09-12 17:02:21,713 - distributed.worker_memory - WARNING - Unmanaged memory use is high. This may indicate a memory leak or the memory may not be released to the OS; see https://distributed.dask.org/en/latest/worker-memory.html#memory-not-released-back-to-the-os for more information. -- Unmanaged memory: 54.56 GiB -- Worker memory limit: 62.96 GiB\n",
      "2022-09-12 17:02:21,795 - distributed.worker_memory - WARNING - Unmanaged memory use is high. This may indicate a memory leak or the memory may not be released to the OS; see https://distributed.dask.org/en/latest/worker-memory.html#memory-not-released-back-to-the-os for more information. -- Unmanaged memory: 54.89 GiB -- Worker memory limit: 62.96 GiB\n",
      "2022-09-12 17:02:21,895 - distributed.worker_memory - WARNING - Unmanaged memory use is high. This may indicate a memory leak or the memory may not be released to the OS; see https://distributed.dask.org/en/latest/worker-memory.html#memory-not-released-back-to-the-os for more information. -- Unmanaged memory: 55.32 GiB -- Worker memory limit: 62.96 GiB\n",
      "2022-09-12 17:02:21,996 - distributed.worker_memory - WARNING - Unmanaged memory use is high. This may indicate a memory leak or the memory may not be released to the OS; see https://distributed.dask.org/en/latest/worker-memory.html#memory-not-released-back-to-the-os for more information. -- Unmanaged memory: 55.75 GiB -- Worker memory limit: 62.96 GiB\n",
      "2022-09-12 17:02:22,097 - distributed.worker_memory - WARNING - Unmanaged memory use is high. This may indicate a memory leak or the memory may not be released to the OS; see https://distributed.dask.org/en/latest/worker-memory.html#memory-not-released-back-to-the-os for more information. -- Unmanaged memory: 56.20 GiB -- Worker memory limit: 62.96 GiB\n",
      "2022-09-12 17:02:22,213 - distributed.worker_memory - WARNING - Unmanaged memory use is high. This may indicate a memory leak or the memory may not be released to the OS; see https://distributed.dask.org/en/latest/worker-memory.html#memory-not-released-back-to-the-os for more information. -- Unmanaged memory: 56.60 GiB -- Worker memory limit: 62.96 GiB\n",
      "2022-09-12 17:02:22,296 - distributed.worker_memory - WARNING - Unmanaged memory use is high. This may indicate a memory leak or the memory may not be released to the OS; see https://distributed.dask.org/en/latest/worker-memory.html#memory-not-released-back-to-the-os for more information. -- Unmanaged memory: 56.94 GiB -- Worker memory limit: 62.96 GiB\n",
      "2022-09-12 17:02:22,396 - distributed.worker_memory - WARNING - Unmanaged memory use is high. This may indicate a memory leak or the memory may not be released to the OS; see https://distributed.dask.org/en/latest/worker-memory.html#memory-not-released-back-to-the-os for more information. -- Unmanaged memory: 57.39 GiB -- Worker memory limit: 62.96 GiB\n",
      "2022-09-12 17:02:22,496 - distributed.worker_memory - WARNING - Unmanaged memory use is high. This may indicate a memory leak or the memory may not be released to the OS; see https://distributed.dask.org/en/latest/worker-memory.html#memory-not-released-back-to-the-os for more information. -- Unmanaged memory: 57.83 GiB -- Worker memory limit: 62.96 GiB\n",
      "2022-09-12 17:02:22,598 - distributed.worker_memory - WARNING - Unmanaged memory use is high. This may indicate a memory leak or the memory may not be released to the OS; see https://distributed.dask.org/en/latest/worker-memory.html#memory-not-released-back-to-the-os for more information. -- Unmanaged memory: 58.28 GiB -- Worker memory limit: 62.96 GiB\n",
      "2022-09-12 17:02:22,715 - distributed.worker_memory - WARNING - Unmanaged memory use is high. This may indicate a memory leak or the memory may not be released to the OS; see https://distributed.dask.org/en/latest/worker-memory.html#memory-not-released-back-to-the-os for more information. -- Unmanaged memory: 58.68 GiB -- Worker memory limit: 62.96 GiB\n",
      "2022-09-12 17:02:22,799 - distributed.worker_memory - WARNING - Unmanaged memory use is high. This may indicate a memory leak or the memory may not be released to the OS; see https://distributed.dask.org/en/latest/worker-memory.html#memory-not-released-back-to-the-os for more information. -- Unmanaged memory: 59.04 GiB -- Worker memory limit: 62.96 GiB\n",
      "2022-09-12 17:02:22,900 - distributed.worker_memory - WARNING - Unmanaged memory use is high. This may indicate a memory leak or the memory may not be released to the OS; see https://distributed.dask.org/en/latest/worker-memory.html#memory-not-released-back-to-the-os for more information. -- Unmanaged memory: 59.48 GiB -- Worker memory limit: 62.96 GiB\n",
      "2022-09-12 17:02:22,979 - distributed.worker_memory - WARNING - Worker tcp://127.0.0.1:35109 (pid=1411491) exceeded 95% memory budget. Restarting...\n",
      "2022-09-12 17:02:26,021 - distributed.nanny - WARNING - Restarting worker\n"
     ]
    },
    {
     "ename": "KilledWorker",
     "evalue": "(\"('array-990aa99f48c81f9276ca105ec8aec9cd', 0, 0, 0, 0)\", <WorkerState 'tcp://127.0.0.1:35109', name: 10, status: closed, memory: 0, processing: 87>)",
     "output_type": "error",
     "traceback": [
      "\u001b[0;31m---------------------------------------------------------------------------\u001b[0m",
      "\u001b[0;31mKilledWorker\u001b[0m                              Traceback (most recent call last)",
      "Input \u001b[0;32mIn [37]\u001b[0m, in \u001b[0;36m<cell line: 2>\u001b[0;34m()\u001b[0m\n\u001b[1;32m      1\u001b[0m \u001b[38;5;66;03m#retraining somehow very slow with lazy data\u001b[39;00m\n\u001b[0;32m----> 2\u001b[0m \u001b[43mTS\u001b[49m\u001b[38;5;241;43m.\u001b[39;49m\u001b[43mtrain\u001b[49m\u001b[43m(\u001b[49m\u001b[43m)\u001b[49m\n",
      "File \u001b[0;32m/mnt/nas_Uwrite/fische_r/lib/pytrainseg/training_functions.py:305\u001b[0m, in \u001b[0;36mtrain_segmentation.train\u001b[0;34m(self)\u001b[0m\n\u001b[1;32m    303\u001b[0m flag \u001b[38;5;241m=\u001b[39m \u001b[38;5;28;01mTrue\u001b[39;00m\n\u001b[1;32m    304\u001b[0m \u001b[38;5;28;01mfor\u001b[39;00m label_name \u001b[38;5;129;01min\u001b[39;00m labelnames:\n\u001b[0;32m--> 305\u001b[0m     X, y \u001b[38;5;241m=\u001b[39m \u001b[43mtraining_set_per_image\u001b[49m\u001b[43m(\u001b[49m\u001b[43mlabel_name\u001b[49m\u001b[43m,\u001b[49m\u001b[43m \u001b[49m\u001b[43mpath\u001b[49m\u001b[43m,\u001b[49m\u001b[43m \u001b[49m\u001b[43mfeat_data\u001b[49m\u001b[43m,\u001b[49m\u001b[43m \u001b[49m\u001b[38;5;28;43mself\u001b[39;49m\u001b[38;5;241;43m.\u001b[39;49m\u001b[43mlazy\u001b[49m\u001b[43m)\u001b[49m\n\u001b[1;32m    306\u001b[0m     training_dict[label_name] \u001b[38;5;241m=\u001b[39m X,y\n\u001b[1;32m    307\u001b[0m     \u001b[38;5;28;01mif\u001b[39;00m flag:\n",
      "File \u001b[0;32m/mnt/nas_Uwrite/fische_r/lib/pytrainseg/training_functions.py:130\u001b[0m, in \u001b[0;36mtraining_set_per_image\u001b[0;34m(label_name, trainingpath, feat_data, lazy)\u001b[0m\n\u001b[1;32m    122\u001b[0m \u001b[38;5;66;03m# if lazy:\u001b[39;00m\n\u001b[1;32m    123\u001b[0m \u001b[38;5;66;03m#     print('Need to actually calculate the features for each slice, seems inefficient')\u001b[39;00m\n\u001b[1;32m    124\u001b[0m \u001b[38;5;66;03m# #   not sure how efficient this is\u001b[39;00m\n\u001b[0;32m   (...)\u001b[0m\n\u001b[1;32m    127\u001b[0m \u001b[38;5;66;03m#     feat_stack = feat_stack.compute()\u001b[39;00m\n\u001b[1;32m    128\u001b[0m \u001b[38;5;66;03m# else:\u001b[39;00m\n\u001b[1;32m    129\u001b[0m \u001b[38;5;28;01mif\u001b[39;00m \u001b[38;5;28mtype\u001b[39m(feat_stack) \u001b[38;5;129;01mis\u001b[39;00m \u001b[38;5;129;01mnot\u001b[39;00m np\u001b[38;5;241m.\u001b[39mndarray:\n\u001b[0;32m--> 130\u001b[0m         feat_stack \u001b[38;5;241m=\u001b[39m \u001b[43mfeat_stack\u001b[49m\u001b[38;5;241;43m.\u001b[39;49m\u001b[43mcompute\u001b[49m\u001b[43m(\u001b[49m\u001b[43m)\u001b[49m\n\u001b[1;32m    132\u001b[0m X, y \u001b[38;5;241m=\u001b[39m extract_training_data(truth, feat_stack)\n\u001b[1;32m    133\u001b[0m \u001b[38;5;28;01mreturn\u001b[39;00m X,y\n",
      "File \u001b[0;32m~/miniconda3/lib/python3.9/site-packages/dask/base.py:315\u001b[0m, in \u001b[0;36mDaskMethodsMixin.compute\u001b[0;34m(self, **kwargs)\u001b[0m\n\u001b[1;32m    291\u001b[0m \u001b[38;5;28;01mdef\u001b[39;00m \u001b[38;5;21mcompute\u001b[39m(\u001b[38;5;28mself\u001b[39m, \u001b[38;5;241m*\u001b[39m\u001b[38;5;241m*\u001b[39mkwargs):\n\u001b[1;32m    292\u001b[0m     \u001b[38;5;124;03m\"\"\"Compute this dask collection\u001b[39;00m\n\u001b[1;32m    293\u001b[0m \n\u001b[1;32m    294\u001b[0m \u001b[38;5;124;03m    This turns a lazy Dask collection into its in-memory equivalent.\u001b[39;00m\n\u001b[0;32m   (...)\u001b[0m\n\u001b[1;32m    313\u001b[0m \u001b[38;5;124;03m    dask.base.compute\u001b[39;00m\n\u001b[1;32m    314\u001b[0m \u001b[38;5;124;03m    \"\"\"\u001b[39;00m\n\u001b[0;32m--> 315\u001b[0m     (result,) \u001b[38;5;241m=\u001b[39m \u001b[43mcompute\u001b[49m\u001b[43m(\u001b[49m\u001b[38;5;28;43mself\u001b[39;49m\u001b[43m,\u001b[49m\u001b[43m \u001b[49m\u001b[43mtraverse\u001b[49m\u001b[38;5;241;43m=\u001b[39;49m\u001b[38;5;28;43;01mFalse\u001b[39;49;00m\u001b[43m,\u001b[49m\u001b[43m \u001b[49m\u001b[38;5;241;43m*\u001b[39;49m\u001b[38;5;241;43m*\u001b[39;49m\u001b[43mkwargs\u001b[49m\u001b[43m)\u001b[49m\n\u001b[1;32m    316\u001b[0m     \u001b[38;5;28;01mreturn\u001b[39;00m result\n",
      "File \u001b[0;32m~/miniconda3/lib/python3.9/site-packages/dask/base.py:598\u001b[0m, in \u001b[0;36mcompute\u001b[0;34m(traverse, optimize_graph, scheduler, get, *args, **kwargs)\u001b[0m\n\u001b[1;32m    595\u001b[0m     keys\u001b[38;5;241m.\u001b[39mappend(x\u001b[38;5;241m.\u001b[39m__dask_keys__())\n\u001b[1;32m    596\u001b[0m     postcomputes\u001b[38;5;241m.\u001b[39mappend(x\u001b[38;5;241m.\u001b[39m__dask_postcompute__())\n\u001b[0;32m--> 598\u001b[0m results \u001b[38;5;241m=\u001b[39m \u001b[43mschedule\u001b[49m\u001b[43m(\u001b[49m\u001b[43mdsk\u001b[49m\u001b[43m,\u001b[49m\u001b[43m \u001b[49m\u001b[43mkeys\u001b[49m\u001b[43m,\u001b[49m\u001b[43m \u001b[49m\u001b[38;5;241;43m*\u001b[39;49m\u001b[38;5;241;43m*\u001b[39;49m\u001b[43mkwargs\u001b[49m\u001b[43m)\u001b[49m\n\u001b[1;32m    599\u001b[0m \u001b[38;5;28;01mreturn\u001b[39;00m repack([f(r, \u001b[38;5;241m*\u001b[39ma) \u001b[38;5;28;01mfor\u001b[39;00m r, (f, a) \u001b[38;5;129;01min\u001b[39;00m \u001b[38;5;28mzip\u001b[39m(results, postcomputes)])\n",
      "File \u001b[0;32m~/miniconda3/lib/python3.9/site-packages/distributed/client.py:3001\u001b[0m, in \u001b[0;36mClient.get\u001b[0;34m(self, dsk, keys, workers, allow_other_workers, resources, sync, asynchronous, direct, retries, priority, fifo_timeout, actors, **kwargs)\u001b[0m\n\u001b[1;32m   2999\u001b[0m         should_rejoin \u001b[38;5;241m=\u001b[39m \u001b[38;5;28;01mFalse\u001b[39;00m\n\u001b[1;32m   3000\u001b[0m \u001b[38;5;28;01mtry\u001b[39;00m:\n\u001b[0;32m-> 3001\u001b[0m     results \u001b[38;5;241m=\u001b[39m \u001b[38;5;28;43mself\u001b[39;49m\u001b[38;5;241;43m.\u001b[39;49m\u001b[43mgather\u001b[49m\u001b[43m(\u001b[49m\u001b[43mpacked\u001b[49m\u001b[43m,\u001b[49m\u001b[43m \u001b[49m\u001b[43masynchronous\u001b[49m\u001b[38;5;241;43m=\u001b[39;49m\u001b[43masynchronous\u001b[49m\u001b[43m,\u001b[49m\u001b[43m \u001b[49m\u001b[43mdirect\u001b[49m\u001b[38;5;241;43m=\u001b[39;49m\u001b[43mdirect\u001b[49m\u001b[43m)\u001b[49m\n\u001b[1;32m   3002\u001b[0m \u001b[38;5;28;01mfinally\u001b[39;00m:\n\u001b[1;32m   3003\u001b[0m     \u001b[38;5;28;01mfor\u001b[39;00m f \u001b[38;5;129;01min\u001b[39;00m futures\u001b[38;5;241m.\u001b[39mvalues():\n",
      "File \u001b[0;32m~/miniconda3/lib/python3.9/site-packages/distributed/client.py:2175\u001b[0m, in \u001b[0;36mClient.gather\u001b[0;34m(self, futures, errors, direct, asynchronous)\u001b[0m\n\u001b[1;32m   2173\u001b[0m \u001b[38;5;28;01melse\u001b[39;00m:\n\u001b[1;32m   2174\u001b[0m     local_worker \u001b[38;5;241m=\u001b[39m \u001b[38;5;28;01mNone\u001b[39;00m\n\u001b[0;32m-> 2175\u001b[0m \u001b[38;5;28;01mreturn\u001b[39;00m \u001b[38;5;28;43mself\u001b[39;49m\u001b[38;5;241;43m.\u001b[39;49m\u001b[43msync\u001b[49m\u001b[43m(\u001b[49m\n\u001b[1;32m   2176\u001b[0m \u001b[43m    \u001b[49m\u001b[38;5;28;43mself\u001b[39;49m\u001b[38;5;241;43m.\u001b[39;49m\u001b[43m_gather\u001b[49m\u001b[43m,\u001b[49m\n\u001b[1;32m   2177\u001b[0m \u001b[43m    \u001b[49m\u001b[43mfutures\u001b[49m\u001b[43m,\u001b[49m\n\u001b[1;32m   2178\u001b[0m \u001b[43m    \u001b[49m\u001b[43merrors\u001b[49m\u001b[38;5;241;43m=\u001b[39;49m\u001b[43merrors\u001b[49m\u001b[43m,\u001b[49m\n\u001b[1;32m   2179\u001b[0m \u001b[43m    \u001b[49m\u001b[43mdirect\u001b[49m\u001b[38;5;241;43m=\u001b[39;49m\u001b[43mdirect\u001b[49m\u001b[43m,\u001b[49m\n\u001b[1;32m   2180\u001b[0m \u001b[43m    \u001b[49m\u001b[43mlocal_worker\u001b[49m\u001b[38;5;241;43m=\u001b[39;49m\u001b[43mlocal_worker\u001b[49m\u001b[43m,\u001b[49m\n\u001b[1;32m   2181\u001b[0m \u001b[43m    \u001b[49m\u001b[43masynchronous\u001b[49m\u001b[38;5;241;43m=\u001b[39;49m\u001b[43masynchronous\u001b[49m\u001b[43m,\u001b[49m\n\u001b[1;32m   2182\u001b[0m \u001b[43m\u001b[49m\u001b[43m)\u001b[49m\n",
      "File \u001b[0;32m~/miniconda3/lib/python3.9/site-packages/distributed/utils.py:338\u001b[0m, in \u001b[0;36mSyncMethodMixin.sync\u001b[0;34m(self, func, asynchronous, callback_timeout, *args, **kwargs)\u001b[0m\n\u001b[1;32m    336\u001b[0m     \u001b[38;5;28;01mreturn\u001b[39;00m future\n\u001b[1;32m    337\u001b[0m \u001b[38;5;28;01melse\u001b[39;00m:\n\u001b[0;32m--> 338\u001b[0m     \u001b[38;5;28;01mreturn\u001b[39;00m \u001b[43msync\u001b[49m\u001b[43m(\u001b[49m\n\u001b[1;32m    339\u001b[0m \u001b[43m        \u001b[49m\u001b[38;5;28;43mself\u001b[39;49m\u001b[38;5;241;43m.\u001b[39;49m\u001b[43mloop\u001b[49m\u001b[43m,\u001b[49m\u001b[43m \u001b[49m\u001b[43mfunc\u001b[49m\u001b[43m,\u001b[49m\u001b[43m \u001b[49m\u001b[38;5;241;43m*\u001b[39;49m\u001b[43margs\u001b[49m\u001b[43m,\u001b[49m\u001b[43m \u001b[49m\u001b[43mcallback_timeout\u001b[49m\u001b[38;5;241;43m=\u001b[39;49m\u001b[43mcallback_timeout\u001b[49m\u001b[43m,\u001b[49m\u001b[43m \u001b[49m\u001b[38;5;241;43m*\u001b[39;49m\u001b[38;5;241;43m*\u001b[39;49m\u001b[43mkwargs\u001b[49m\n\u001b[1;32m    340\u001b[0m \u001b[43m    \u001b[49m\u001b[43m)\u001b[49m\n",
      "File \u001b[0;32m~/miniconda3/lib/python3.9/site-packages/distributed/utils.py:405\u001b[0m, in \u001b[0;36msync\u001b[0;34m(loop, func, callback_timeout, *args, **kwargs)\u001b[0m\n\u001b[1;32m    403\u001b[0m \u001b[38;5;28;01mif\u001b[39;00m error:\n\u001b[1;32m    404\u001b[0m     typ, exc, tb \u001b[38;5;241m=\u001b[39m error\n\u001b[0;32m--> 405\u001b[0m     \u001b[38;5;28;01mraise\u001b[39;00m exc\u001b[38;5;241m.\u001b[39mwith_traceback(tb)\n\u001b[1;32m    406\u001b[0m \u001b[38;5;28;01melse\u001b[39;00m:\n\u001b[1;32m    407\u001b[0m     \u001b[38;5;28;01mreturn\u001b[39;00m result\n",
      "File \u001b[0;32m~/miniconda3/lib/python3.9/site-packages/distributed/utils.py:378\u001b[0m, in \u001b[0;36msync.<locals>.f\u001b[0;34m()\u001b[0m\n\u001b[1;32m    376\u001b[0m         future \u001b[38;5;241m=\u001b[39m asyncio\u001b[38;5;241m.\u001b[39mwait_for(future, callback_timeout)\n\u001b[1;32m    377\u001b[0m     future \u001b[38;5;241m=\u001b[39m asyncio\u001b[38;5;241m.\u001b[39mensure_future(future)\n\u001b[0;32m--> 378\u001b[0m     result \u001b[38;5;241m=\u001b[39m \u001b[38;5;28;01myield\u001b[39;00m future\n\u001b[1;32m    379\u001b[0m \u001b[38;5;28;01mexcept\u001b[39;00m \u001b[38;5;167;01mException\u001b[39;00m:\n\u001b[1;32m    380\u001b[0m     error \u001b[38;5;241m=\u001b[39m sys\u001b[38;5;241m.\u001b[39mexc_info()\n",
      "File \u001b[0;32m~/miniconda3/lib/python3.9/site-packages/tornado/gen.py:762\u001b[0m, in \u001b[0;36mRunner.run\u001b[0;34m(self)\u001b[0m\n\u001b[1;32m    759\u001b[0m exc_info \u001b[38;5;241m=\u001b[39m \u001b[38;5;28;01mNone\u001b[39;00m\n\u001b[1;32m    761\u001b[0m \u001b[38;5;28;01mtry\u001b[39;00m:\n\u001b[0;32m--> 762\u001b[0m     value \u001b[38;5;241m=\u001b[39m \u001b[43mfuture\u001b[49m\u001b[38;5;241;43m.\u001b[39;49m\u001b[43mresult\u001b[49m\u001b[43m(\u001b[49m\u001b[43m)\u001b[49m\n\u001b[1;32m    763\u001b[0m \u001b[38;5;28;01mexcept\u001b[39;00m \u001b[38;5;167;01mException\u001b[39;00m:\n\u001b[1;32m    764\u001b[0m     exc_info \u001b[38;5;241m=\u001b[39m sys\u001b[38;5;241m.\u001b[39mexc_info()\n",
      "File \u001b[0;32m~/miniconda3/lib/python3.9/site-packages/distributed/client.py:2038\u001b[0m, in \u001b[0;36mClient._gather\u001b[0;34m(self, futures, errors, direct, local_worker)\u001b[0m\n\u001b[1;32m   2036\u001b[0m         exc \u001b[38;5;241m=\u001b[39m CancelledError(key)\n\u001b[1;32m   2037\u001b[0m     \u001b[38;5;28;01melse\u001b[39;00m:\n\u001b[0;32m-> 2038\u001b[0m         \u001b[38;5;28;01mraise\u001b[39;00m exception\u001b[38;5;241m.\u001b[39mwith_traceback(traceback)\n\u001b[1;32m   2039\u001b[0m     \u001b[38;5;28;01mraise\u001b[39;00m exc\n\u001b[1;32m   2040\u001b[0m \u001b[38;5;28;01mif\u001b[39;00m errors \u001b[38;5;241m==\u001b[39m \u001b[38;5;124m\"\u001b[39m\u001b[38;5;124mskip\u001b[39m\u001b[38;5;124m\"\u001b[39m:\n",
      "\u001b[0;31mKilledWorker\u001b[0m: (\"('array-990aa99f48c81f9276ca105ec8aec9cd', 0, 0, 0, 0)\", <WorkerState 'tcp://127.0.0.1:35109', name: 10, status: closed, memory: 0, processing: 87>)"
     ]
    }
   ],
   "source": [
    "#retraining somehow very slow with lazy data\n",
    "TS.train()"
   ]
  },
  {
   "cell_type": "code",
   "execution_count": 26,
   "id": "fd1312b7-2cb0-46de-b9a8-2b15d49b62e0",
   "metadata": {},
   "outputs": [],
   "source": [
    "# TS.pickle_classifier()"
   ]
  },
  {
   "cell_type": "code",
   "execution_count": 28,
   "id": "88cd6a93-9138-4da1-9e72-add8587c1971",
   "metadata": {},
   "outputs": [],
   "source": [
    "from segmentation import segmentation\n",
    "import pickle"
   ]
  },
  {
   "cell_type": "code",
   "execution_count": 29,
   "id": "f84c17ab-5e43-480c-b8e6-a97a529dd4c6",
   "metadata": {},
   "outputs": [],
   "source": [
    "SM = segmentation(training_path = training_path, classifier_path=os.path.join(training_path, 'classifier.p'))"
   ]
  },
  {
   "cell_type": "code",
   "execution_count": 30,
   "id": "adc08e22-ebb6-45b1-912f-3c89b2471b25",
   "metadata": {},
   "outputs": [],
   "source": [
    "# SM.import_classifier(TS.clf)\n",
    "SM.clf = pickle.load(open(os.path.join(training_path, 'classifier.p'), 'rb'))"
   ]
  },
  {
   "cell_type": "code",
   "execution_count": 31,
   "id": "f1d38fb3-b6bc-447a-a2c3-7bd4aa34ef36",
   "metadata": {},
   "outputs": [],
   "source": [
    "SM.import_feature_data(IF.result)"
   ]
  },
  {
   "cell_type": "code",
   "execution_count": 32,
   "id": "c4598e49-3003-45d2-8b08-dd88eb75f834",
   "metadata": {},
   "outputs": [
    {
     "data": {
      "text/plain": [
       "'/mpc/homes/fische_r/NAS/testing/TIM_tomo/cropped'"
      ]
     },
     "execution_count": 32,
     "metadata": {},
     "output_type": "execute_result"
    }
   ],
   "source": [
    "training_path"
   ]
  },
  {
   "cell_type": "code",
   "execution_count": 33,
   "id": "ce3a0450-2d10-4aa8-a2ed-699b0de10fdb",
   "metadata": {},
   "outputs": [],
   "source": [
    "# SM.lazy = False\n",
    "# part_ds = SM.feat_data.feature_stack[:,:,:,:10,:]"
   ]
  },
  {
   "cell_type": "code",
   "execution_count": 34,
   "id": "6ba09620-ecb1-47fb-87fe-b297990d2db9",
   "metadata": {},
   "outputs": [],
   "source": [
    "# part_ds"
   ]
  },
  {
   "cell_type": "code",
   "execution_count": 35,
   "id": "040d674e-3ed0-4b7e-92c6-b9146837ba74",
   "metadata": {},
   "outputs": [],
   "source": [
    "# part1 = part_ds.data"
   ]
  },
  {
   "cell_type": "code",
   "execution_count": 36,
   "id": "8dcef928-f301-45a5-9de8-e7b3e5efe0a8",
   "metadata": {},
   "outputs": [],
   "source": [
    "# type(part1)"
   ]
  },
  {
   "cell_type": "code",
   "execution_count": 37,
   "id": "004a3e7a-da15-4da5-9dc9-4a035f0a8876",
   "metadata": {
    "tags": []
   },
   "outputs": [],
   "source": [
    "# part1a = part1.compute()"
   ]
  },
  {
   "cell_type": "code",
   "execution_count": 38,
   "id": "19f875ac-ca8f-4c9f-a808-fb7dd89d299a",
   "metadata": {},
   "outputs": [],
   "source": [
    "# type(part1a)"
   ]
  },
  {
   "cell_type": "code",
   "execution_count": 39,
   "id": "ee9997d8-58ff-4212-ac3d-bfbd14870291",
   "metadata": {},
   "outputs": [],
   "source": [
    "# pickle.dump(part1a, open(os.path.join(training_path, 'part1a.p'), 'wb'))"
   ]
  },
  {
   "cell_type": "code",
   "execution_count": 40,
   "id": "ac463fec-b378-41ea-999e-16e68d6daecf",
   "metadata": {},
   "outputs": [],
   "source": [
    "# part1a = pickle.load(open(os.path.join(training_path, 'part1a.p'), 'rb'))"
   ]
  },
  {
   "cell_type": "code",
   "execution_count": 41,
   "id": "1c53dcad-a58c-4f6d-a35e-e4d327b682f2",
   "metadata": {
    "tags": []
   },
   "outputs": [],
   "source": [
    "# shp = part1a.shape\n",
    "# num_feat = shp[-1]"
   ]
  },
  {
   "cell_type": "code",
   "execution_count": 42,
   "id": "372f469a-4a40-42e8-b6e8-7b3f1a246180",
   "metadata": {},
   "outputs": [],
   "source": [
    "# clf = SM.clf"
   ]
  },
  {
   "cell_type": "code",
   "execution_count": 43,
   "id": "720e4f0b-ee3a-4a65-8cdb-501104b513d6",
   "metadata": {},
   "outputs": [],
   "source": [
    "# clf.n_jobs = 32"
   ]
  },
  {
   "cell_type": "code",
   "execution_count": 44,
   "id": "0752c7f1-e7b7-4b14-98d9-21d69b6cfa14",
   "metadata": {},
   "outputs": [],
   "source": [
    "# part1a = part1a.reshape(-1,num_feat)"
   ]
  },
  {
   "cell_type": "code",
   "execution_count": 45,
   "id": "17e20eb8-771a-4e59-bcfd-97b6a9d1b3b7",
   "metadata": {},
   "outputs": [],
   "source": [
    "# seg1 = clf.predict(part1a)"
   ]
  },
  {
   "cell_type": "code",
   "execution_count": 46,
   "id": "561c695c-9d63-4d70-a6e3-787225515eb2",
   "metadata": {},
   "outputs": [],
   "source": [
    "# seg1 = seg1.reshape(shp[:4]).astype(np.uint8)"
   ]
  },
  {
   "cell_type": "code",
   "execution_count": 47,
   "id": "3f3eefff-f108-45d6-afe9-f24a2fa8d6fc",
   "metadata": {
    "tags": []
   },
   "outputs": [],
   "source": [
    "# SM.classify_all()"
   ]
  },
  {
   "cell_type": "code",
   "execution_count": 49,
   "id": "6bf392e8-90c5-4cca-9893-2e12f3eefbe7",
   "metadata": {},
   "outputs": [],
   "source": [
    "clf = SM.clf\n",
    "clf.n_jobs = 16\n",
    "\n",
    "part = SM.feat_data.feature_stack[:,:,:,:10,:]\n",
    "part1 = part.data\n",
    "part1 = part1.compute()"
   ]
  },
  {
   "cell_type": "code",
   "execution_count": 50,
   "id": "43d5cf76-528e-4cf9-bd8a-38d40e1372b6",
   "metadata": {},
   "outputs": [],
   "source": [
    "shp = part1.shape\n",
    "num_feat = part1.shape[-1]\n",
    "part1 = part1.reshape(-1,num_feat)\n",
    "seg1 = clf.predict(part1)"
   ]
  },
  {
   "cell_type": "code",
   "execution_count": 52,
   "id": "4b639fa2-b90a-4d09-9f7d-eebe7793afca",
   "metadata": {},
   "outputs": [],
   "source": [
    "seg1 = seg1.reshape(shp[:4]).astype(np.uint8)"
   ]
  },
  {
   "cell_type": "code",
   "execution_count": 53,
   "id": "17655cca-9983-4c38-9ff5-6db19bf35e1b",
   "metadata": {},
   "outputs": [],
   "source": [
    "segs = seg1\n",
    "pickle.dump(segs, open(os.path.join(training_path, 'seg1.p'), 'wb'))"
   ]
  },
  {
   "cell_type": "code",
   "execution_count": 56,
   "id": "dfa46268-fe04-4a55-9fa3-d86b3d58b193",
   "metadata": {},
   "outputs": [],
   "source": [
    "parts = []\n",
    "for i in range(20,150,10):\n",
    "    parts.append((i-10,i))"
   ]
  },
  {
   "cell_type": "code",
   "execution_count": 57,
   "id": "273bf4a5-bb2d-4c02-97b0-5764e4fdabb5",
   "metadata": {},
   "outputs": [
    {
     "data": {
      "text/plain": [
       "[(10, 20),\n",
       " (20, 30),\n",
       " (30, 40),\n",
       " (40, 50),\n",
       " (50, 60),\n",
       " (60, 70),\n",
       " (70, 80),\n",
       " (80, 90),\n",
       " (90, 100),\n",
       " (100, 110),\n",
       " (110, 120),\n",
       " (120, 130),\n",
       " (130, 140)]"
      ]
     },
     "execution_count": 57,
     "metadata": {},
     "output_type": "execute_result"
    }
   ],
   "source": [
    "parts "
   ]
  },
  {
   "cell_type": "code",
   "execution_count": null,
   "id": "2f5f0d31-91ee-4986-9179-d963304550fe",
   "metadata": {},
   "outputs": [
    {
     "name": "stdout",
     "output_type": "stream",
     "text": [
      "(10, 20)\n",
      "(20, 30)\n",
      "(30, 40)\n",
      "(40, 50)\n",
      "(50, 60)\n",
      "(60, 70)\n",
      "(70, 80)\n",
      "(80, 90)\n",
      "(90, 100)\n"
     ]
    }
   ],
   "source": [
    "# parts = [(20,40),(40,60),(60,80),(80,100),(100,120), (120,140)]\n",
    "\n",
    "for pa in parts:\n",
    "    print(pa)\n",
    "    part = SM.feat_data.feature_stack[:,:,:,pa[0]:pa[1],:]\n",
    "    part = part.data\n",
    "    part1 = part.compute()\n",
    "    shp = part1.shape\n",
    "    num_feat = part1.shape[-1]\n",
    "    part1 = part1.reshape(-1,num_feat)\n",
    "    seg = clf.predict(part1)\n",
    "    seg = seg.reshape(shp[:4]).astype(np.uint8)\n",
    "    segs = np.concatenate([segs,seg])\n",
    "    \n",
    "pickle.dump(segs, open(os.path.join(training_path, 'segs.p'), 'wb'))"
   ]
  },
  {
   "cell_type": "code",
   "execution_count": 49,
   "id": "86b74ef3-49d7-437e-849f-169e03849ef0",
   "metadata": {},
   "outputs": [
    {
     "ename": "NameError",
     "evalue": "name 'seg1' is not defined",
     "output_type": "error",
     "traceback": [
      "\u001b[0;31m---------------------------------------------------------------------------\u001b[0m",
      "\u001b[0;31mNameError\u001b[0m                                 Traceback (most recent call last)",
      "Input \u001b[0;32mIn [49]\u001b[0m, in \u001b[0;36m<cell line: 1>\u001b[0;34m()\u001b[0m\n\u001b[0;32m----> 1\u001b[0m \u001b[43mseg1\u001b[49m\n",
      "\u001b[0;31mNameError\u001b[0m: name 'seg1' is not defined"
     ]
    }
   ],
   "source": [
    "seg1"
   ]
  },
  {
   "cell_type": "code",
   "execution_count": 49,
   "id": "cf4189b8-8ff4-4de5-8cf7-8c028746647e",
   "metadata": {},
   "outputs": [
    {
     "data": {
      "text/plain": [
       "0.2153683453798294"
      ]
     },
     "execution_count": 49,
     "metadata": {},
     "output_type": "execute_result"
    }
   ],
   "source": [
    "seg_data.size/1024**3"
   ]
  },
  {
   "cell_type": "code",
   "execution_count": 47,
   "id": "897879c6-a12d-4d85-8069-2771bf12155f",
   "metadata": {},
   "outputs": [],
   "source": [
    "path = os.path.join(SM.training_path, 'segmented.nc')\n",
    "\n",
    "#TODO: propagate labels from raw data\n",
    "#TODO: if self.segmented_data is a dask array, rechunk for saving\n",
    "shp = seg_data.shape\n",
    "data = xr.Dataset({'segmented': (['x','y','z','time'], seg_data)},\n",
    "                               coords = {'x': np.arange(shp[0]),\n",
    "                               'y': np.arange(shp[1]),\n",
    "                               'z': np.arange(shp[2]),\n",
    "                               'time': np.arange(shp[3]),\n",
    "                               'feature': SM.feature_names}\n",
    "                     )\n",
    "# data.to"
   ]
  },
  {
   "cell_type": "code",
   "execution_count": 50,
   "id": "52621d3e-d386-46a0-b563-7969f9b83e98",
   "metadata": {},
   "outputs": [],
   "source": [
    "data.to_netcdf(path)"
   ]
  },
  {
   "cell_type": "code",
   "execution_count": 51,
   "id": "45ea59ac-2b91-49cf-ae6a-af6d4ae6c82b",
   "metadata": {},
   "outputs": [
    {
     "ename": "NameError",
     "evalue": "name 'TS' is not defined",
     "output_type": "error",
     "traceback": [
      "\u001b[0;31m---------------------------------------------------------------------------\u001b[0m",
      "\u001b[0;31mNameError\u001b[0m                                 Traceback (most recent call last)",
      "Input \u001b[0;32mIn [51]\u001b[0m, in \u001b[0;36m<cell line: 1>\u001b[0;34m()\u001b[0m\n\u001b[0;32m----> 1\u001b[0m \u001b[43mTS\u001b[49m\u001b[38;5;241m.\u001b[39mplot_importance()\n",
      "\u001b[0;31mNameError\u001b[0m: name 'TS' is not defined"
     ]
    }
   ],
   "source": [
    "TS.plot_importance()"
   ]
  },
  {
   "cell_type": "code",
   "execution_count": 40,
   "id": "836fd61b-6ccd-4711-a512-690c74c72ef0",
   "metadata": {},
   "outputs": [
    {
     "ename": "AttributeError",
     "evalue": "'train_segmentation' object has no attribute 'clf'",
     "output_type": "error",
     "traceback": [
      "\u001b[0;31m---------------------------------------------------------------------------\u001b[0m",
      "\u001b[0;31mAttributeError\u001b[0m                            Traceback (most recent call last)",
      "Input \u001b[0;32mIn [40]\u001b[0m, in \u001b[0;36m<cell line: 2>\u001b[0;34m()\u001b[0m\n\u001b[1;32m      1\u001b[0m plt\u001b[38;5;241m.\u001b[39mfigure(figsize\u001b[38;5;241m=\u001b[39m(\u001b[38;5;241m16\u001b[39m,\u001b[38;5;241m9\u001b[39m))\n\u001b[0;32m----> 2\u001b[0m plt\u001b[38;5;241m.\u001b[39mstem(TS\u001b[38;5;241m.\u001b[39mfeature_names, \u001b[43mTS\u001b[49m\u001b[38;5;241;43m.\u001b[39;49m\u001b[43mclf\u001b[49m\u001b[38;5;241m.\u001b[39mfeature_importances_,\u001b[38;5;124m'\u001b[39m\u001b[38;5;124mx\u001b[39m\u001b[38;5;124m'\u001b[39m)\n\u001b[1;32m      3\u001b[0m plt\u001b[38;5;241m.\u001b[39mxticks(rotation\u001b[38;5;241m=\u001b[39m\u001b[38;5;241m90\u001b[39m)\n\u001b[1;32m      4\u001b[0m plt\u001b[38;5;241m.\u001b[39mylabel(\u001b[38;5;124m'\u001b[39m\u001b[38;5;124mimportance\u001b[39m\u001b[38;5;124m'\u001b[39m)\n",
      "\u001b[0;31mAttributeError\u001b[0m: 'train_segmentation' object has no attribute 'clf'"
     ]
    },
    {
     "data": {
      "text/plain": [
       "<Figure size 1152x648 with 0 Axes>"
      ]
     },
     "metadata": {},
     "output_type": "display_data"
    }
   ],
   "source": [
    "plt.figure(figsize=(16,9))\n",
    "plt.stem(TS.feature_names, TS.clf.feature_importances_,'x')\n",
    "plt.xticks(rotation=90)\n",
    "plt.ylabel('importance') "
   ]
  },
  {
   "cell_type": "code",
   "execution_count": 49,
   "id": "12df3a79-ec59-485f-b0cc-122c1cba3e02",
   "metadata": {},
   "outputs": [
    {
     "data": {
      "text/plain": [
       "<matplotlib.image.AxesImage at 0x7fb97046a700>"
      ]
     },
     "execution_count": 49,
     "metadata": {},
     "output_type": "execute_result"
    },
    {
     "data": {
      "image/png": "[encoded data removed]",
      "text/plain": [
       "<Figure size 432x288 with 1 Axes>"
      ]
     },
     "metadata": {
      "needs_background": "light"
     },
     "output_type": "display_data"
    }
   ],
   "source": [
    "plt.imshow(SM.segmented_data[:,10,:,-1])"
   ]
  },
  {
   "cell_type": "code",
   "execution_count": 112,
   "id": "05c5af33-dbce-41ab-8394-9ff8a60d3cb5",
   "metadata": {},
   "outputs": [
    {
     "data": {
      "text/plain": [
       "1"
      ]
     },
     "execution_count": 112,
     "metadata": {},
     "output_type": "execute_result"
    }
   ],
   "source": [
    "1"
   ]
  },
  {
   "cell_type": "code",
   "execution_count": null,
   "id": "2ca75867-63b3-49c9-a294-7e2e9ee2063d",
   "metadata": {},
   "outputs": [],
   "source": []
  }
 ],
 "metadata": {
  "kernelspec": {
   "display_name": "Python 3 (ipykernel)",
   "language": "python",
   "name": "python3"
  },
  "language_info": {
   "codemirror_mode": {
    "name": "ipython",
    "version": 3
   },
   "file_extension": ".py",
   "mimetype": "text/x-python",
   "name": "python",
   "nbconvert_exporter": "python",
   "pygments_lexer": "ipython3",
   "version": "3.9.13"
  }
 },
 "nbformat": 4,
 "nbformat_minor": 5
}
