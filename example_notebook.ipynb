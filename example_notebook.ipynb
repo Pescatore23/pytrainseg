{
 "cells": [
  {
   "cell_type": "code",
   "execution_count": 1,
   "id": "309fd805-71cb-4c0d-b1ff-c8b2123860f1",
   "metadata": {},
   "outputs": [],
   "source": [
    "# modules\n",
    "import os\n",
    "import xarray as xr\n",
    "import matplotlib.pyplot as plt\n",
    "import numpy as np\n",
    "import dask\n",
    "import dask.array\n",
    "from scipy import ndimage\n",
    "from skimage import filters, feature, io\n",
    "from skimage.morphology import disk,ball\n",
    "import sys\n",
    "from itertools import combinations_with_replacement\n",
    "import pickle\n",
    "import imageio\n",
    "import json\n",
    "from dask.distributed import Client, LocalCluster\n",
    "import socket\n",
    "import subprocess\n",
    "import gc\n",
    "import h5py\n",
    "import logging\n",
    "import warnings\n",
    "import datetime\n",
    "warnings.filterwarnings('ignore')\n",
    "\n",
    "\n",
    "from dask import config as cfg\n",
    "# cfg.set({'distributed.scheduler.worker-ttl': None, # Workaround so that dask does not kill workers while they are busy fetching data: https://dask.discourse.group/t/dask-workers-killed-because-of-heartbeat-fail/856, maybe this helps: https://www.youtube.com/watch?v=vF2VItVU5zg?\n",
    "#         'distributed.scheduler.transition-log-length': 100, #potential workaround for ballooning scheduler memory https://baumgartner.io/posts/how-to-reduce-memory-usage-of-dask-scheduler/\n",
    "#          'distributed.scheduler.events-log-length': 100\n",
    "#         }) seems to be outdate\n",
    "\n",
    "cfg.set({'distributed.scheduler.worker-ttl': None, # Workaround so that dask does not kill workers while they are busy fetching data: https://dask.discourse.group/t/dask-workers-killed-because-of-heartbeat-fail/856, maybe this helps: https://www.youtube.com/watch?v=vF2VItVU5zg?\n",
    "        'distributed.admin.low-level-log-length': 100 #potential workaround for ballooning scheduler memory https://baumgartner.io/posts/how-to-reduce-memory-usage-of-dask-scheduler/\n",
    "        }) # still relevant ?\n",
    "\n",
    "#paths\n",
    "host = socket.gethostname()\n",
    "if host[:3] == 'hpc': # experiment with the wood data on the big ESRF cluster node\n",
    "    temppath = '/tmp_14_days/robert'\n",
    "    training_path = '/home/esrf/rofische/data_ihma664/PROCESSED_DATA/TOMCAT/wood'\n",
    "    pytrainpath = '/home/esrf/rofische/lib/pytrainseg'\n",
    "    memlim = '700GB'\n",
    "\n",
    "else:\n",
    "    print('host '+host+' currently not supported')\n",
    "    \n",
    "    \n",
    "    \n",
    "# get the ML functions, TODO: make a library once it works/is in a stable state\n",
    "\n",
    "cwd = os.getcwd()\n",
    "os.chdir(pytrainpath)\n",
    "from feature_stack import image_filter\n",
    "import training as tfs\n",
    "from training import training\n",
    "\n",
    "pytrain_git_sha = subprocess.check_output(['git', 'rev-parse', '--short', 'HEAD']).decode().strip()\n",
    "os.chdir(cwd)\n",
    "\n"
   ]
  },
  {
   "cell_type": "markdown",
   "id": "ce4dd9e6-5b63-4ad6-8a98-c6a12097e95c",
   "metadata": {},
   "source": [
    "### functionalities for interactive training"
   ]
  },
  {
   "cell_type": "code",
   "execution_count": 2,
   "id": "9a5df7a3-4860-4f19-aec8-7c8aa62baeee",
   "metadata": {},
   "outputs": [],
   "source": [
    "from ipywidgets import Image\n",
    "from ipywidgets import ColorPicker, IntSlider, link, AppLayout, HBox\n",
    "from ipycanvas import  hold_canvas,  MultiCanvas #RoughCanvas,Canvas,\n",
    "\n",
    "def on_mouse_down(x, y):\n",
    "    global drawing\n",
    "    global position\n",
    "    global shape\n",
    "    drawing = True\n",
    "    position = (x, y)\n",
    "    shape = [position]\n",
    "\n",
    "def on_mouse_move(x, y):\n",
    "    global drawing\n",
    "    global position\n",
    "    global shape\n",
    "    if not drawing:\n",
    "        return\n",
    "    with hold_canvas():\n",
    "        canvas.stroke_line(position[0], position[1], x, y)\n",
    "        position = (x, y)\n",
    "    shape.append(position)\n",
    "\n",
    "def on_mouse_up(x, y, fill=False):\n",
    "    global drawing\n",
    "    global positiondu\n",
    "    global shape\n",
    "    drawing = False\n",
    "    with hold_canvas():\n",
    "        canvas.stroke_line(position[0], position[1], x, y)\n",
    "        if fill:\n",
    "            canvas.fill_polygon(shape)\n",
    "    shape = []\n",
    "    \n",
    "def display_feature(i, TS, feat_stack):\n",
    "    # print('selected '+TS.feature_names[i])\n",
    "    im = feat_stack[:,:,i]\n",
    "    im8 = im-im.min()\n",
    "    im8 = im8/im8.max()*255\n",
    "    return im8"
   ]
  },
  {
   "cell_type": "markdown",
   "id": "8560ff91-bcd5-40ec-9094-e4f36b7c8099",
   "metadata": {},
   "source": [
    "### fire up dask, distributed Client currently not usable. No idea how not setting up dask affects the computation"
   ]
  },
  {
   "cell_type": "code",
   "execution_count": 3,
   "id": "2542014d-064e-438a-ae38-ca1386c3be3e",
   "metadata": {},
   "outputs": [],
   "source": [
    "dask.config.config['temporary-directory'] = temppath\n",
    "def boot_client(dashboard_address=':35000', memory_limit = memlim, n_workers=2): # 2 workers appears to be the optimum, will still distribute over the full machine\n",
    "    # tempfolder = temppath  #a big SSD is a major adavantage to allow spill to disk and still be efficient. large dataset might crash with too small SSD or be slow with normal HDD\n",
    "# tempfolder = temppath_2\n",
    "# dask.config.config['distributed']['worker']['memory']['recent-to-old-time'] = '200000s'\n",
    "\n",
    "# here you have the option to use a virtual cluster or even slurm on ra (not attempted yet)\n",
    "    cluster = LocalCluster(dashboard_address=dashboard_address, memory_limit = memory_limit, n_workers=n_workers, silence_logs=logging.ERROR) #settings optimised for mpc2959, play around if needed, if you know nothing else is using RAM then you can almost go to the limit\n",
    "# # maybe less workers with more threads makes better use of shared memory \n",
    "\n",
    "# # scheduler_port = 'tcp://129.129.188.222:8786' #<-- if scheduler on mpc2959; scheduler on mpc2053 -> 'tcp://129.129.188.248:8786'\n",
    "# # cluster = scheduler_port\n",
    "\n",
    "    client = Client(cluster) #don't show warnings, too many seem to block execution\n",
    "# # client.amm.start()\n",
    "    print('Dashboard at '+client.dashboard_link)\n",
    "    return client, cluster\n",
    "\n",
    "def reboot_client(client, dashboard_address=':35000', memory_limit = memlim, n_workers=2):\n",
    "    client.shutdown()\n",
    "    cluster = LocalCluster(dashboard_address=dashboard_address, memory_limit = memory_limit, n_workers=n_workers, silence_logs=logging.ERROR)\n",
    "    client = Client(cluster)\n",
    "    return client"
   ]
  },
  {
   "cell_type": "code",
   "execution_count": 4,
   "id": "34ac3066-3519-46a7-82a9-ae325dd8a44e",
   "metadata": {},
   "outputs": [
    {
     "name": "stdout",
     "output_type": "stream",
     "text": [
      "Dashboard at http://127.0.0.1:35000/status\n"
     ]
    }
   ],
   "source": [
    "client, cluster = boot_client()"
   ]
  },
  {
   "cell_type": "markdown",
   "id": "3e9cc8b5-fdbe-44aa-b33e-330f418c4d6c",
   "metadata": {},
   "source": [
    "## Data preparation"
   ]
  },
  {
   "cell_type": "markdown",
   "id": "253645ef-8cba-4104-8106-caa12843177e",
   "metadata": {},
   "source": [
    "### let dask load the data"
   ]
  },
  {
   "cell_type": "markdown",
   "id": "0b429065-b629-4f9b-982c-ebb300e2f840",
   "metadata": {},
   "source": [
    "store data in a hdf5 (eg. xarray to .nc) as an entry 'image_data' containing a 4D array. There is potential in structuring the data on the disk (SSD recommended for fast data streaming)"
   ]
  },
  {
   "cell_type": "code",
   "execution_count": 7,
   "id": "92cb8c50-2675-434d-86ce-2e27b959630a",
   "metadata": {},
   "outputs": [],
   "source": [
    "sample ='T6_BS_05_wetting_4D_fast'\n",
    "# imagepath = os.path.join(training_path, '01_'+sample+'_cropped.nc')\n",
    "imagepath = os.path.join(training_path, '00_'+sample+'_cropped_4D_filtered_fixed.nc')"
   ]
  },
  {
   "cell_type": "code",
   "execution_count": 8,
   "id": "7e4d57ef-beb1-4777-82f7-c149dd26ed81",
   "metadata": {},
   "outputs": [],
   "source": [
    "file = h5py.File(imagepath)"
   ]
  },
  {
   "cell_type": "code",
   "execution_count": 9,
   "id": "ac6b2b37-ff35-45b4-a1b6-8242abf58bb2",
   "metadata": {},
   "outputs": [],
   "source": [
    "chunk_space = 64 # potential for optmisation by matching chunksize with planned image filter kernels and file structure on disk for fast data streaming\n",
    "# chunks = (chunk_space,chunk_space,chunk_space,len(file['time']))\n",
    "chunks = (chunk_space,chunk_space,chunk_space,len(file['timestep']))\n",
    "da = dask.array.from_array(file['image_data'], chunks= chunks)"
   ]
  },
  {
   "cell_type": "markdown",
   "id": "23b67658-e114-4f1d-b504-c1f2d438d226",
   "metadata": {},
   "source": [
    "### get data into image filter class"
   ]
  },
  {
   "cell_type": "code",
   "execution_count": 10,
   "id": "17323a57-2b15-4deb-a09c-3ec30f56fc72",
   "metadata": {},
   "outputs": [],
   "source": [
    "# TODO: include this routine into pytrainseg\n",
    "\n",
    "IF = image_filter(sigmas = [0,1,3,6]) #recommendation: pre-process before loading, i.e. as extra file on disk , preprocess_with_unsharp_mask=True\n",
    "IF.data = da\n",
    "shp = da.shape\n",
    "shp_raw = shp"
   ]
  },
  {
   "cell_type": "markdown",
   "id": "474c8b5e-1960-4d20-b238-7e47128ee15a",
   "metadata": {},
   "source": [
    "### prepare features\n",
    "creates a dask graph with dependent calculations to allow on-demand and larger-than-memory calculation"
   ]
  },
  {
   "cell_type": "raw",
   "id": "d0a28268-96fc-4726-86c2-aadf4af9b6e1",
   "metadata": {},
   "source": [
    "# load a feature list if it exists\n",
    "prefix = 'd001fb3'\n",
    "feature_names_to_use = ['Gaussian_4D_Blur_0.0',\n",
    " 'Gaussian_4D_Blur_1.0',\n",
    " 'Gaussian_4D_Blur_6.0',\n",
    " 'diff_of_gauss_4D_6.0_0.0',\n",
    " 'diff_of_gauss_4D_6.0_1.0',\n",
    " 'Gradient_sigma_1.0_0',\n",
    " 'Gradient_sigma_1.0_1',\n",
    " 'Gradient_sigma_1.0_3',\n",
    " 'hessian_sigma_1.0_00',\n",
    " 'hessian_sigma_1.0_01',\n",
    " 'hessian_sigma_1.0_11',\n",
    " 'Gradient_sigma_3.0_3',\n",
    " 'hessian_sigma_3.0_00',\n",
    " 'hessian_sigma_3.0_01',\n",
    " 'hessian_sigma_3.0_02',\n",
    " 'hessian_sigma_3.0_03',\n",
    " 'hessian_sigma_3.0_11',\n",
    " 'hessian_sigma_3.0_33',\n",
    " 'Gradient_sigma_6.0_0',\n",
    " 'Gradient_sigma_6.0_1',\n",
    " 'Gradient_sigma_6.0_2',\n",
    " 'Gradient_sigma_6.0_3',\n",
    " 'hessian_sigma_6.0_01',\n",
    " 'hessian_sigma_6.0_03',\n",
    " 'hessian_sigma_6.0_11',\n",
    " 'hessian_sigma_6.0_12',\n",
    " 'hessian_sigma_6.0_13',\n",
    " 'hessian_sigma_6.0_22',\n",
    " 'hessian_sigma_6.0_23',\n",
    " 'hessian_sigma_6.0_33',\n",
    " 'Gradient_sigma_2.0_0',\n",
    " 'Gradient_sigma_2.0_3',\n",
    " 'hessian_sigma_2.0_00',\n",
    " 'hessian_sigma_2.0_01',\n",
    " 'hessian_sigma_2.0_02',\n",
    " 'hessian_sigma_2.0_11',\n",
    " 'hessian_sigma_2.0_13',\n",
    " 'Gaussian_time_0.0',\n",
    " 'Gaussian_time_1.0',\n",
    " 'Gaussian_time_6.0',\n",
    " 'Gaussian_time_2.0',\n",
    " 'Gaussian_space_0.0',\n",
    " 'Gaussian_space_6.0',\n",
    " 'diff_of_gauss_space_3.0_0.0',\n",
    " 'diff_of_gauss_space_6.0_0.0',\n",
    " 'diff_of_gauss_space_2.0_0.0',\n",
    " 'diff_of_gauss_space_3.0_1.0',\n",
    " 'diff_of_gauss_space_6.0_1.0',\n",
    " 'diff_of_gauss_space_2.0_1.0',\n",
    " 'diff_of_gauss_space_2.0_3.0',\n",
    " 'diff_temp_min_Gauss_2.0',\n",
    " 'diff_to_first_',\n",
    " 'full_temp_min_Gauss_2.0',\n",
    " 'first_',\n",
    " 'last_']"
   ]
  },
  {
   "cell_type": "code",
   "execution_count": 11,
   "id": "18ec839a-1ff2-43f5-a8b7-82f91ff7c941",
   "metadata": {},
   "outputs": [],
   "source": [
    "IF.prepare()"
   ]
  },
  {
   "cell_type": "code",
   "execution_count": 12,
   "id": "d19ab565-1fc5-460d-ab5a-189cf5995438",
   "metadata": {},
   "outputs": [],
   "source": [
    "IF.stack_features()"
   ]
  },
  {
   "cell_type": "code",
   "execution_count": 13,
   "id": "1c6c793a-d87d-4426-b2f9-83cbf805c225",
   "metadata": {},
   "outputs": [
    {
     "data": {
      "text/html": [
       "<table>\n",
       "    <tr>\n",
       "        <td>\n",
       "            <table style=\"border-collapse: collapse;\">\n",
       "                <thead>\n",
       "                    <tr>\n",
       "                        <td> </td>\n",
       "                        <th> Array </th>\n",
       "                        <th> Chunk </th>\n",
       "                    </tr>\n",
       "                </thead>\n",
       "                <tbody>\n",
       "                    \n",
       "                    <tr>\n",
       "                        <th> Bytes </th>\n",
       "                        <td> 75.13 TiB </td>\n",
       "                        <td> 240.00 MiB </td>\n",
       "                    </tr>\n",
       "                    \n",
       "                    <tr>\n",
       "                        <th> Shape </th>\n",
       "                        <td> (1120, 1120, 1400, 120, 49) </td>\n",
       "                        <td> (64, 64, 64, 120, 1) </td>\n",
       "                    </tr>\n",
       "                    <tr>\n",
       "                        <th> Dask graph </th>\n",
       "                        <td colspan=\"2\"> 349272 chunks in 145 graph layers </td>\n",
       "                    </tr>\n",
       "                    <tr>\n",
       "                        <th> Data type </th>\n",
       "                        <td colspan=\"2\"> float64 numpy.ndarray </td>\n",
       "                    </tr>\n",
       "                </tbody>\n",
       "            </table>\n",
       "        </td>\n",
       "        <td>\n",
       "        <svg width=\"484\" height=\"158\" style=\"stroke:rgb(0,0,0);stroke-width:1\" >\n",
       "\n",
       "  <!-- Horizontal lines -->\n",
       "  <line x1=\"0\" y1=\"0\" x2=\"96\" y2=\"0\" style=\"stroke-width:2\" />\n",
       "  <line x1=\"0\" y1=\"5\" x2=\"96\" y2=\"5\" />\n",
       "  <line x1=\"0\" y1=\"10\" x2=\"96\" y2=\"10\" />\n",
       "  <line x1=\"0\" y1=\"16\" x2=\"96\" y2=\"16\" />\n",
       "  <line x1=\"0\" y1=\"21\" x2=\"96\" y2=\"21\" />\n",
       "  <line x1=\"0\" y1=\"27\" x2=\"96\" y2=\"27\" />\n",
       "  <line x1=\"0\" y1=\"32\" x2=\"96\" y2=\"32\" />\n",
       "  <line x1=\"0\" y1=\"38\" x2=\"96\" y2=\"38\" />\n",
       "  <line x1=\"0\" y1=\"43\" x2=\"96\" y2=\"43\" />\n",
       "  <line x1=\"0\" y1=\"49\" x2=\"96\" y2=\"49\" />\n",
       "  <line x1=\"0\" y1=\"54\" x2=\"96\" y2=\"54\" />\n",
       "  <line x1=\"0\" y1=\"60\" x2=\"96\" y2=\"60\" />\n",
       "  <line x1=\"0\" y1=\"65\" x2=\"96\" y2=\"65\" />\n",
       "  <line x1=\"0\" y1=\"71\" x2=\"96\" y2=\"71\" />\n",
       "  <line x1=\"0\" y1=\"76\" x2=\"96\" y2=\"76\" />\n",
       "  <line x1=\"0\" y1=\"82\" x2=\"96\" y2=\"82\" />\n",
       "  <line x1=\"0\" y1=\"87\" x2=\"96\" y2=\"87\" />\n",
       "  <line x1=\"0\" y1=\"93\" x2=\"96\" y2=\"93\" />\n",
       "  <line x1=\"0\" y1=\"96\" x2=\"96\" y2=\"96\" style=\"stroke-width:2\" />\n",
       "\n",
       "  <!-- Vertical lines -->\n",
       "  <line x1=\"0\" y1=\"0\" x2=\"0\" y2=\"96\" style=\"stroke-width:2\" />\n",
       "  <line x1=\"5\" y1=\"0\" x2=\"5\" y2=\"96\" />\n",
       "  <line x1=\"10\" y1=\"0\" x2=\"10\" y2=\"96\" />\n",
       "  <line x1=\"16\" y1=\"0\" x2=\"16\" y2=\"96\" />\n",
       "  <line x1=\"21\" y1=\"0\" x2=\"21\" y2=\"96\" />\n",
       "  <line x1=\"27\" y1=\"0\" x2=\"27\" y2=\"96\" />\n",
       "  <line x1=\"32\" y1=\"0\" x2=\"32\" y2=\"96\" />\n",
       "  <line x1=\"38\" y1=\"0\" x2=\"38\" y2=\"96\" />\n",
       "  <line x1=\"43\" y1=\"0\" x2=\"43\" y2=\"96\" />\n",
       "  <line x1=\"49\" y1=\"0\" x2=\"49\" y2=\"96\" />\n",
       "  <line x1=\"54\" y1=\"0\" x2=\"54\" y2=\"96\" />\n",
       "  <line x1=\"60\" y1=\"0\" x2=\"60\" y2=\"96\" />\n",
       "  <line x1=\"65\" y1=\"0\" x2=\"65\" y2=\"96\" />\n",
       "  <line x1=\"71\" y1=\"0\" x2=\"71\" y2=\"96\" />\n",
       "  <line x1=\"76\" y1=\"0\" x2=\"76\" y2=\"96\" />\n",
       "  <line x1=\"82\" y1=\"0\" x2=\"82\" y2=\"96\" />\n",
       "  <line x1=\"87\" y1=\"0\" x2=\"87\" y2=\"96\" />\n",
       "  <line x1=\"93\" y1=\"0\" x2=\"93\" y2=\"96\" />\n",
       "  <line x1=\"96\" y1=\"0\" x2=\"96\" y2=\"96\" style=\"stroke-width:2\" />\n",
       "\n",
       "  <!-- Colored Rectangle -->\n",
       "  <polygon points=\"0.0,0.0 96.0,0.0 96.0,96.0 0.0,96.0\" style=\"fill:#ECB172A0;stroke-width:0\"/>\n",
       "\n",
       "  <!-- Text -->\n",
       "  <text x=\"48.000000\" y=\"116.000000\" font-size=\"1.0rem\" font-weight=\"100\" text-anchor=\"middle\" >1120</text>\n",
       "  <text x=\"116.000000\" y=\"48.000000\" font-size=\"1.0rem\" font-weight=\"100\" text-anchor=\"middle\" transform=\"rotate(-90,116.000000,48.000000)\">1120</text>\n",
       "\n",
       "\n",
       "  <!-- Horizontal lines -->\n",
       "  <line x1=\"166\" y1=\"0\" x2=\"236\" y2=\"70\" style=\"stroke-width:2\" />\n",
       "  <line x1=\"166\" y1=\"37\" x2=\"236\" y2=\"108\" style=\"stroke-width:2\" />\n",
       "\n",
       "  <!-- Vertical lines -->\n",
       "  <line x1=\"166\" y1=\"0\" x2=\"166\" y2=\"37\" style=\"stroke-width:2\" />\n",
       "  <line x1=\"169\" y1=\"3\" x2=\"169\" y2=\"40\" />\n",
       "  <line x1=\"172\" y1=\"6\" x2=\"172\" y2=\"44\" />\n",
       "  <line x1=\"175\" y1=\"9\" x2=\"175\" y2=\"47\" />\n",
       "  <line x1=\"178\" y1=\"12\" x2=\"178\" y2=\"50\" />\n",
       "  <line x1=\"182\" y1=\"16\" x2=\"182\" y2=\"53\" />\n",
       "  <line x1=\"185\" y1=\"19\" x2=\"185\" y2=\"57\" />\n",
       "  <line x1=\"188\" y1=\"22\" x2=\"188\" y2=\"60\" />\n",
       "  <line x1=\"191\" y1=\"25\" x2=\"191\" y2=\"63\" />\n",
       "  <line x1=\"195\" y1=\"29\" x2=\"195\" y2=\"66\" />\n",
       "  <line x1=\"198\" y1=\"32\" x2=\"198\" y2=\"69\" />\n",
       "  <line x1=\"201\" y1=\"35\" x2=\"201\" y2=\"73\" />\n",
       "  <line x1=\"204\" y1=\"38\" x2=\"204\" y2=\"76\" />\n",
       "  <line x1=\"207\" y1=\"41\" x2=\"207\" y2=\"79\" />\n",
       "  <line x1=\"211\" y1=\"45\" x2=\"211\" y2=\"82\" />\n",
       "  <line x1=\"214\" y1=\"48\" x2=\"214\" y2=\"86\" />\n",
       "  <line x1=\"217\" y1=\"51\" x2=\"217\" y2=\"89\" />\n",
       "  <line x1=\"220\" y1=\"54\" x2=\"220\" y2=\"92\" />\n",
       "  <line x1=\"224\" y1=\"58\" x2=\"224\" y2=\"95\" />\n",
       "  <line x1=\"227\" y1=\"61\" x2=\"227\" y2=\"99\" />\n",
       "  <line x1=\"230\" y1=\"64\" x2=\"230\" y2=\"102\" />\n",
       "  <line x1=\"233\" y1=\"67\" x2=\"233\" y2=\"105\" />\n",
       "  <line x1=\"236\" y1=\"70\" x2=\"236\" y2=\"108\" style=\"stroke-width:2\" />\n",
       "\n",
       "  <!-- Colored Rectangle -->\n",
       "  <polygon points=\"166.0,0.0 236.58823529411765,70.58823529411765 236.58823529411765,108.314264227063 166.0,37.72602893294536\" style=\"fill:#ECB172A0;stroke-width:0\"/>\n",
       "\n",
       "  <!-- Horizontal lines -->\n",
       "  <line x1=\"166\" y1=\"0\" x2=\"198\" y2=\"0\" style=\"stroke-width:2\" />\n",
       "  <line x1=\"169\" y1=\"3\" x2=\"201\" y2=\"3\" />\n",
       "  <line x1=\"172\" y1=\"6\" x2=\"204\" y2=\"6\" />\n",
       "  <line x1=\"175\" y1=\"9\" x2=\"208\" y2=\"9\" />\n",
       "  <line x1=\"178\" y1=\"12\" x2=\"211\" y2=\"12\" />\n",
       "  <line x1=\"182\" y1=\"16\" x2=\"214\" y2=\"16\" />\n",
       "  <line x1=\"185\" y1=\"19\" x2=\"217\" y2=\"19\" />\n",
       "  <line x1=\"188\" y1=\"22\" x2=\"220\" y2=\"22\" />\n",
       "  <line x1=\"191\" y1=\"25\" x2=\"224\" y2=\"25\" />\n",
       "  <line x1=\"195\" y1=\"29\" x2=\"227\" y2=\"29\" />\n",
       "  <line x1=\"198\" y1=\"32\" x2=\"230\" y2=\"32\" />\n",
       "  <line x1=\"201\" y1=\"35\" x2=\"233\" y2=\"35\" />\n",
       "  <line x1=\"204\" y1=\"38\" x2=\"237\" y2=\"38\" />\n",
       "  <line x1=\"207\" y1=\"41\" x2=\"240\" y2=\"41\" />\n",
       "  <line x1=\"211\" y1=\"45\" x2=\"243\" y2=\"45\" />\n",
       "  <line x1=\"214\" y1=\"48\" x2=\"246\" y2=\"48\" />\n",
       "  <line x1=\"217\" y1=\"51\" x2=\"249\" y2=\"51\" />\n",
       "  <line x1=\"220\" y1=\"54\" x2=\"253\" y2=\"54\" />\n",
       "  <line x1=\"224\" y1=\"58\" x2=\"256\" y2=\"58\" />\n",
       "  <line x1=\"227\" y1=\"61\" x2=\"259\" y2=\"61\" />\n",
       "  <line x1=\"230\" y1=\"64\" x2=\"262\" y2=\"64\" />\n",
       "  <line x1=\"233\" y1=\"67\" x2=\"266\" y2=\"67\" />\n",
       "  <line x1=\"236\" y1=\"70\" x2=\"268\" y2=\"70\" style=\"stroke-width:2\" />\n",
       "\n",
       "  <!-- Vertical lines -->\n",
       "  <line x1=\"166\" y1=\"0\" x2=\"236\" y2=\"70\" style=\"stroke-width:2\" />\n",
       "  <line x1=\"166\" y1=\"0\" x2=\"237\" y2=\"70\" />\n",
       "  <line x1=\"167\" y1=\"0\" x2=\"238\" y2=\"70\" />\n",
       "  <line x1=\"168\" y1=\"0\" x2=\"239\" y2=\"70\" />\n",
       "  <line x1=\"169\" y1=\"0\" x2=\"240\" y2=\"70\" />\n",
       "  <line x1=\"170\" y1=\"0\" x2=\"241\" y2=\"70\" />\n",
       "  <line x1=\"171\" y1=\"0\" x2=\"242\" y2=\"70\" />\n",
       "  <line x1=\"172\" y1=\"0\" x2=\"243\" y2=\"70\" />\n",
       "  <line x1=\"173\" y1=\"0\" x2=\"244\" y2=\"70\" />\n",
       "  <line x1=\"174\" y1=\"0\" x2=\"245\" y2=\"70\" />\n",
       "  <line x1=\"175\" y1=\"0\" x2=\"246\" y2=\"70\" />\n",
       "  <line x1=\"176\" y1=\"0\" x2=\"247\" y2=\"70\" />\n",
       "  <line x1=\"177\" y1=\"0\" x2=\"248\" y2=\"70\" />\n",
       "  <line x1=\"178\" y1=\"0\" x2=\"249\" y2=\"70\" />\n",
       "  <line x1=\"179\" y1=\"0\" x2=\"250\" y2=\"70\" />\n",
       "  <line x1=\"180\" y1=\"0\" x2=\"251\" y2=\"70\" />\n",
       "  <line x1=\"181\" y1=\"0\" x2=\"252\" y2=\"70\" />\n",
       "  <line x1=\"183\" y1=\"0\" x2=\"253\" y2=\"70\" />\n",
       "  <line x1=\"183\" y1=\"0\" x2=\"254\" y2=\"70\" />\n",
       "  <line x1=\"185\" y1=\"0\" x2=\"255\" y2=\"70\" />\n",
       "  <line x1=\"185\" y1=\"0\" x2=\"256\" y2=\"70\" />\n",
       "  <line x1=\"187\" y1=\"0\" x2=\"257\" y2=\"70\" />\n",
       "  <line x1=\"187\" y1=\"0\" x2=\"258\" y2=\"70\" />\n",
       "  <line x1=\"189\" y1=\"0\" x2=\"259\" y2=\"70\" />\n",
       "  <line x1=\"189\" y1=\"0\" x2=\"260\" y2=\"70\" />\n",
       "  <line x1=\"191\" y1=\"0\" x2=\"261\" y2=\"70\" />\n",
       "  <line x1=\"191\" y1=\"0\" x2=\"262\" y2=\"70\" />\n",
       "  <line x1=\"193\" y1=\"0\" x2=\"263\" y2=\"70\" />\n",
       "  <line x1=\"193\" y1=\"0\" x2=\"264\" y2=\"70\" />\n",
       "  <line x1=\"195\" y1=\"0\" x2=\"265\" y2=\"70\" />\n",
       "  <line x1=\"195\" y1=\"0\" x2=\"266\" y2=\"70\" />\n",
       "  <line x1=\"197\" y1=\"0\" x2=\"267\" y2=\"70\" />\n",
       "  <line x1=\"198\" y1=\"0\" x2=\"268\" y2=\"70\" style=\"stroke-width:2\" />\n",
       "\n",
       "  <!-- Colored Rectangle -->\n",
       "  <polygon points=\"166.0,0.0 198.31996803109703,0.0 268.9082033252147,70.58823529411765 236.58823529411765,70.58823529411765\" style=\"fill:#8B4903A0;stroke-width:0\"/>\n",
       "\n",
       "  <!-- Horizontal lines -->\n",
       "  <line x1=\"236\" y1=\"70\" x2=\"268\" y2=\"70\" style=\"stroke-width:2\" />\n",
       "  <line x1=\"236\" y1=\"108\" x2=\"268\" y2=\"108\" style=\"stroke-width:2\" />\n",
       "\n",
       "  <!-- Vertical lines -->\n",
       "  <line x1=\"236\" y1=\"70\" x2=\"236\" y2=\"108\" style=\"stroke-width:2\" />\n",
       "  <line x1=\"237\" y1=\"70\" x2=\"237\" y2=\"108\" />\n",
       "  <line x1=\"238\" y1=\"70\" x2=\"238\" y2=\"108\" />\n",
       "  <line x1=\"239\" y1=\"70\" x2=\"239\" y2=\"108\" />\n",
       "  <line x1=\"240\" y1=\"70\" x2=\"240\" y2=\"108\" />\n",
       "  <line x1=\"241\" y1=\"70\" x2=\"241\" y2=\"108\" />\n",
       "  <line x1=\"242\" y1=\"70\" x2=\"242\" y2=\"108\" />\n",
       "  <line x1=\"243\" y1=\"70\" x2=\"243\" y2=\"108\" />\n",
       "  <line x1=\"244\" y1=\"70\" x2=\"244\" y2=\"108\" />\n",
       "  <line x1=\"245\" y1=\"70\" x2=\"245\" y2=\"108\" />\n",
       "  <line x1=\"246\" y1=\"70\" x2=\"246\" y2=\"108\" />\n",
       "  <line x1=\"247\" y1=\"70\" x2=\"247\" y2=\"108\" />\n",
       "  <line x1=\"248\" y1=\"70\" x2=\"248\" y2=\"108\" />\n",
       "  <line x1=\"249\" y1=\"70\" x2=\"249\" y2=\"108\" />\n",
       "  <line x1=\"250\" y1=\"70\" x2=\"250\" y2=\"108\" />\n",
       "  <line x1=\"251\" y1=\"70\" x2=\"251\" y2=\"108\" />\n",
       "  <line x1=\"252\" y1=\"70\" x2=\"252\" y2=\"108\" />\n",
       "  <line x1=\"253\" y1=\"70\" x2=\"253\" y2=\"108\" />\n",
       "  <line x1=\"254\" y1=\"70\" x2=\"254\" y2=\"108\" />\n",
       "  <line x1=\"255\" y1=\"70\" x2=\"255\" y2=\"108\" />\n",
       "  <line x1=\"256\" y1=\"70\" x2=\"256\" y2=\"108\" />\n",
       "  <line x1=\"257\" y1=\"70\" x2=\"257\" y2=\"108\" />\n",
       "  <line x1=\"258\" y1=\"70\" x2=\"258\" y2=\"108\" />\n",
       "  <line x1=\"259\" y1=\"70\" x2=\"259\" y2=\"108\" />\n",
       "  <line x1=\"260\" y1=\"70\" x2=\"260\" y2=\"108\" />\n",
       "  <line x1=\"261\" y1=\"70\" x2=\"261\" y2=\"108\" />\n",
       "  <line x1=\"262\" y1=\"70\" x2=\"262\" y2=\"108\" />\n",
       "  <line x1=\"263\" y1=\"70\" x2=\"263\" y2=\"108\" />\n",
       "  <line x1=\"264\" y1=\"70\" x2=\"264\" y2=\"108\" />\n",
       "  <line x1=\"265\" y1=\"70\" x2=\"265\" y2=\"108\" />\n",
       "  <line x1=\"266\" y1=\"70\" x2=\"266\" y2=\"108\" />\n",
       "  <line x1=\"267\" y1=\"70\" x2=\"267\" y2=\"108\" />\n",
       "  <line x1=\"268\" y1=\"70\" x2=\"268\" y2=\"108\" style=\"stroke-width:2\" />\n",
       "\n",
       "  <!-- Colored Rectangle -->\n",
       "  <polygon points=\"236.58823529411765,70.58823529411765 268.9082033252147,70.58823529411765 268.9082033252147,108.314264227063 236.58823529411765,108.314264227063\" style=\"fill:#8B4903A0;stroke-width:0\"/>\n",
       "\n",
       "  <!-- Text -->\n",
       "  <text x=\"252.748219\" y=\"128.314264\" font-size=\"1.0rem\" font-weight=\"100\" text-anchor=\"middle\" >49</text>\n",
       "  <text x=\"288.908203\" y=\"89.451250\" font-size=\"1.0rem\" font-weight=\"100\" text-anchor=\"middle\" transform=\"rotate(-90,288.908203,89.451250)\">120</text>\n",
       "  <text x=\"191.294118\" y=\"93.020147\" font-size=\"1.0rem\" font-weight=\"100\" text-anchor=\"middle\" transform=\"rotate(45,191.294118,93.020147)\">1400</text>\n",
       "</svg>\n",
       "        </td>\n",
       "    </tr>\n",
       "</table>"
      ],
      "text/plain": [
       "dask.array<stack, shape=(1120, 1120, 1400, 120, 49), dtype=float64, chunksize=(64, 64, 64, 120, 1), chunktype=numpy.ndarray>"
      ]
     },
     "execution_count": 13,
     "metadata": {},
     "output_type": "execute_result"
    }
   ],
   "source": [
    "IF.feature_stack"
   ]
  },
  {
   "cell_type": "code",
   "execution_count": 14,
   "id": "f0fb1def-d745-4f44-a6d2-112b72b229fd",
   "metadata": {},
   "outputs": [],
   "source": [
    "# uncomment if you want to reduce the feature stack\n",
    "# IF.reduce_feature_stack(feature_names_to_use)"
   ]
  },
  {
   "cell_type": "code",
   "execution_count": 15,
   "id": "5b42712a-4010-4504-a1f5-16204c2385f9",
   "metadata": {},
   "outputs": [
    {
     "name": "stdout",
     "output_type": "stream",
     "text": [
      "using full feature stack because\n",
      "- reduced stack not calculated\n"
     ]
    }
   ],
   "source": [
    "IF.make_xarray()"
   ]
  },
  {
   "cell_type": "markdown",
   "id": "4afe2926-bc44-4537-a082-f57ae4999f13",
   "metadata": {},
   "source": [
    "## Training"
   ]
  },
  {
   "cell_type": "markdown",
   "id": "50172d94-1bbb-432d-8d8f-5346dd5fa894",
   "metadata": {},
   "source": [
    "### set up some objects"
   ]
  },
  {
   "cell_type": "code",
   "execution_count": 16,
   "id": "24cd34dd-e669-4498-824d-c2b2a007b07a",
   "metadata": {},
   "outputs": [],
   "source": [
    "training_path_sample = os.path.join(training_path, sample)\n",
    "if not os.path.exists(training_path_sample):\n",
    "    os.mkdir(training_path_sample)"
   ]
  },
  {
   "cell_type": "code",
   "execution_count": 17,
   "id": "fdfe2300-1562-41db-b914-6156f17bb489",
   "metadata": {},
   "outputs": [
    {
     "data": {
      "text/plain": [
       "'/home/esrf/rofische/data_ihma664/PROCESSED_DATA/TOMCAT/wood/T6_BS_05_wetting_4D_fast'"
      ]
     },
     "execution_count": 17,
     "metadata": {},
     "output_type": "execute_result"
    }
   ],
   "source": [
    "training_path_sample"
   ]
  },
  {
   "cell_type": "code",
   "execution_count": 18,
   "id": "7345b149-95df-4ad9-8d28-e898b4610f59",
   "metadata": {},
   "outputs": [
    {
     "name": "stdout",
     "output_type": "stream",
     "text": [
      "There are existing training sets, run .train() if you want to use them:\n",
      "label_image_x_1059_time_69_.tif\n",
      "label_image_y_1002_time_40_.tif\n",
      "label_image_y_342_time_2_.tif\n",
      "label_image_y_352_time_74_.tif\n",
      "label_image_y_3_time_108_.tif\n",
      "label_image_y_554_time_89_.tif\n",
      "label_image_y_632_time_113_.tif\n",
      "label_image_y_731_time_3_.tif\n",
      "label_image_y_837_time_60_.tif\n",
      "label_image_y_887_time_43_.tif\n",
      "label_image_y_922_time_15_.tif\n",
      "label_image_z_1002_time_2_.tif\n",
      "label_image_z_103_time_95_.tif\n",
      "label_image_z_364_time_103_.tif\n",
      "label_image_z_659_time_63_.tif\n",
      "label_image_z_720_time_39_.tif\n",
      "label_image_z_900_time_78_.tif\n"
     ]
    }
   ],
   "source": [
    "TS = training(training_path=training_path_sample)\n",
    "TS.client = client\n",
    "IF.client = client\n",
    "TS.cluster = cluster\n",
    "IF.cluster = cluster\n",
    "TS.memlim = memlim\n",
    "TS.n_workers = 2"
   ]
  },
  {
   "cell_type": "markdown",
   "id": "3917ccce-73a8-428d-a4f8-d6a3a10935f6",
   "metadata": {},
   "source": [
    "### give the feature stack to the training class"
   ]
  },
  {
   "cell_type": "code",
   "execution_count": 19,
   "id": "3586f10e-8005-49bc-9e4b-75e70e691c65",
   "metadata": {},
   "outputs": [],
   "source": [
    "TS.feat_data = IF.feature_xarray"
   ]
  },
  {
   "cell_type": "code",
   "execution_count": 20,
   "id": "d20dcbde-9a1f-417e-bf8d-d5350ef11fe3",
   "metadata": {},
   "outputs": [],
   "source": [
    "IF.combined_feature_names = list(IF.feature_names) + list(IF.feature_names_time_independent)\n",
    "TS.combined_feature_names = IF.combined_feature_names"
   ]
  },
  {
   "cell_type": "code",
   "execution_count": 21,
   "id": "61efde8c-d48b-4b5d-98d4-92dbc89ae2d5",
   "metadata": {
    "scrolled": true
   },
   "outputs": [
    {
     "name": "stdout",
     "output_type": "stream",
     "text": [
      "0 Gaussian_4D_Blur_0.0\n",
      "1 Gaussian_4D_Blur_1.0\n",
      "2 Gaussian_4D_Blur_3.0\n",
      "3 Gaussian_4D_Blur_6.0\n",
      "4 Gaussian_4D_Blur_2.0\n",
      "5 diff_of_gauss_4D_1.0_0.0\n",
      "6 diff_of_gauss_4D_3.0_0.0\n",
      "7 diff_of_gauss_4D_6.0_0.0\n",
      "8 diff_of_gauss_4D_2.0_0.0\n",
      "9 diff_of_gauss_4D_3.0_1.0\n",
      "10 diff_of_gauss_4D_6.0_1.0\n",
      "11 diff_of_gauss_4D_2.0_1.0\n",
      "12 diff_of_gauss_4D_6.0_3.0\n",
      "13 diff_of_gauss_4D_2.0_3.0\n",
      "14 diff_of_gauss_4D_2.0_6.0\n",
      "15 Laplace_4D_0.0\n",
      "16 Laplace_4D_1.0\n",
      "17 Laplace_4D_3.0\n",
      "18 Laplace_4D_6.0\n",
      "19 Laplace_4D_2.0\n",
      "20 Laplace_3D_0.0\n",
      "21 Laplace_3D_1.0\n",
      "22 Laplace_3D_3.0\n",
      "23 Laplace_3D_6.0\n",
      "24 Laplace_3D_2.0\n",
      "25 Gaussian_time_1.0\n",
      "26 Gaussian_time_3.0\n",
      "27 Gaussian_time_6.0\n",
      "28 Gaussian_time_2.0\n",
      "29 diff_of_gauss_time_3.0_1.0\n",
      "30 diff_of_gauss_time_6.0_1.0\n",
      "31 diff_of_gauss_time_2.0_1.0\n",
      "32 diff_of_gauss_time_6.0_3.0\n",
      "33 diff_of_gauss_time_2.0_3.0\n",
      "34 diff_of_gauss_time_2.0_6.0\n",
      "35 Gaussian_space_1.0\n",
      "36 Gaussian_space_3.0\n",
      "37 Gaussian_space_6.0\n",
      "38 Gaussian_space_2.0\n",
      "39 diff_of_gauss_space_3.0_1.0\n",
      "40 diff_of_gauss_space_6.0_1.0\n",
      "41 diff_of_gauss_space_2.0_1.0\n",
      "42 diff_of_gauss_space_6.0_3.0\n",
      "43 diff_of_gauss_space_2.0_3.0\n",
      "44 diff_of_gauss_space_2.0_6.0\n",
      "45 diff_to_min_\n",
      "46 diff_temp_min_Gauss_2.0\n",
      "47 diff_to_first_\n",
      "48 diff_to_last_\n",
      "49 full_temp_mean_\n",
      "50 full_temp_min_\n",
      "51 full_temp_min_Gauss_2.0\n",
      "52 first_\n",
      "53 last_\n"
     ]
    }
   ],
   "source": [
    "for i in range(len(TS.combined_feature_names)):\n",
    "    print(i, TS.combined_feature_names[i])"
   ]
  },
  {
   "cell_type": "markdown",
   "id": "ace7de1a-1f06-41c3-b889-18062569b54a",
   "metadata": {},
   "source": [
    "### interactive training"
   ]
  },
  {
   "cell_type": "markdown",
   "id": "28dbf4b3-9e2a-49ea-8fa3-cbc2b15999f9",
   "metadata": {},
   "source": [
    "#### load training dict if you have one and want to use it"
   ]
  },
  {
   "cell_type": "code",
   "execution_count": 22,
   "id": "60943ced-cbdd-499a-b869-9f4d52292259",
   "metadata": {},
   "outputs": [],
   "source": [
    "training_prefix = '2025-06-25_git_sha_c0268fd'\n",
    "TS.previous_training_dict = pickle.load(open(os.path.join(training_path, training_prefix+'_training_dict.p'), 'rb'))\n",
    "TS.previous_feature_names = pickle.load(open(os.path.join(training_path, training_prefix+'_feature_names.p'), 'rb'))"
   ]
  },
  {
   "cell_type": "markdown",
   "id": "9cfe513d-4a8c-4d27-8604-942dbfcd8dc9",
   "metadata": {},
   "source": [
    "#### reduce the previous training dict"
   ]
  },
  {
   "cell_type": "code",
   "execution_count": 23,
   "id": "92da87f4-e323-4998-b410-427f5801f603",
   "metadata": {},
   "outputs": [],
   "source": [
    "# num_feat = len(IF.combined_feature_names)\n",
    "# num_feat_to_use = len(feature_names_to_use)\n",
    "# feature_ids = np.zeros(num_feat, dtype=bool)\n",
    "# for i in range(num_feat):\n",
    "#     if IF.combined_feature_names[i] in feature_names_to_use:\n",
    "#         feature_ids[i] = True\n",
    "\n",
    "# TS.training_dict = {}\n",
    "# for training_set in TS.previous_training_dict.keys():\n",
    "#     X,y = TS.previous_training_dict[training_set]\n",
    "#     X = X[:,feature_ids]                          # since there is no copy, probably previous_training_dict and training_dict will become the same, reload the previous dict if necessary\n",
    "#     TS.training_dict[training_set] = X,y\n",
    "\n",
    "# print('Reduced the previous training dict to ',str(np.count_nonzero(feature_ids)),'/',str(num_feat),'features considering the ',str(num_feat_to_use),' desired features.')\n",
    "# print(str(num_feat_to_use-np.count_nonzero(feature_ids)), ' desired features were not found in the training dict.')"
   ]
  },
  {
   "cell_type": "markdown",
   "id": "1347f9cd-c700-4680-a9da-ea6c1268a734",
   "metadata": {},
   "source": [
    "#### re-train with existing label sets. clear the training dictionary if necessary (training_dict)\n",
    "don't use this if you already have a pickled training_dict  \n",
    "TODO: reduce training dict with feature_ids instead of retraining with the label images"
   ]
  },
  {
   "cell_type": "code",
   "execution_count": 24,
   "id": "8644b995-120c-4174-8c03-99e23aa6385b",
   "metadata": {},
   "outputs": [],
   "source": [
    "# TS.training_dict = {}\n",
    "TS.training_dict = TS.previous_training_dict"
   ]
  },
  {
   "cell_type": "code",
   "execution_count": 25,
   "id": "0c11828c-bacf-4e3f-946f-a3b52d357c27",
   "metadata": {
    "scrolled": true
   },
   "outputs": [
    {
     "name": "stdout",
     "output_type": "stream",
     "text": [
      "training with existing label images\n",
      "label_image_y_632_time_113_.tif already done\n",
      "label_image_z_103_time_95_.tif already done\n",
      "label_image_y_922_time_15_.tif already done\n",
      "label_image_z_720_time_39_.tif already done\n",
      "label_image_y_887_time_43_.tif already done\n",
      "label_image_y_1002_time_40_.tif already done\n",
      "label_image_x_1059_time_69_.tif already done\n",
      "label_image_z_1002_time_2_.tif already done\n",
      "label_image_z_659_time_63_.tif already done\n",
      "label_image_z_364_time_103_.tif already done\n",
      "label_image_y_554_time_89_.tif already done\n",
      "label_image_y_837_time_60_.tif already done\n",
      "label_image_z_900_time_78_.tif already done\n",
      "label_image_y_352_time_74_.tif already done\n",
      "label_image_y_731_time_3_.tif already done\n",
      "label_image_y_3_time_108_.tif already done\n",
      "label_image_y_342_time_2_.tif already done\n"
     ]
    }
   ],
   "source": [
    "TS.train()  #does not actually already train a classifier, but creates a training data set based on existing label images and the feature stack"
   ]
  },
  {
   "cell_type": "markdown",
   "id": "612cd613-0f04-4bcb-a949-2fd941a0fe71",
   "metadata": {},
   "source": [
    "#### import training dict of other samples \n",
    "(replace sample name and repeat for multiple samples), if necessary check features for overlap"
   ]
  },
  {
   "cell_type": "code",
   "execution_count": 26,
   "id": "deb31b96-491a-4ba7-bad3-fa2257b22176",
   "metadata": {},
   "outputs": [],
   "source": [
    "# TODO: make better naming convention below when pickling the training_dict\n",
    "\n",
    "# oldsample = '4'\n",
    "# oldgitsha = 'e42ad75' #'109a7ce3' #retrain at one point\n",
    "# # if oldsample == '4':\n",
    "# #     training_dict_old = pickle.load(open(os.path.join(toppathSSD, '05_water_GDL_ML', '4', 'ec4415d_training_dict_without_loc_feat.p'), 'rb'))\n",
    "# # else:\n",
    "# training_dict_old = pickle.load(open(os.path.join(training_path, oldsample,  oldgitsha+'_training_dict.p'),'rb'))\n",
    "# oldfeatures = pickle.load(open(os.path.join(training_path, oldsample,  oldgitsha+'_feature_names.p'),'rb'))\n",
    "    \n",
    "#     # pickle.dump(TS.training_dict, open(os.path.join(TS.training_path, pytrain_git_sha+'_training_dict.p'),'wb'))\n",
    "# # pickle.dump(TS.feature_names, open(os.path.join(TS.training_path, pytrain_git_sha+'_feature_names.p'),'wb'))\n",
    "\n",
    "# for key in training_dict_old.keys():\n",
    "#     TS.training_dict[oldsample+key] = training_dict_old[key]"
   ]
  },
  {
   "cell_type": "markdown",
   "id": "6d8b9278-4e9d-4929-aae6-1acd9f2f0202",
   "metadata": {},
   "source": [
    "#### suggest a new training coordinate\n",
    "currently retraining with new feature stack not properly implemented. Workaround: choose from the exiting training sets and train with them (additional labeling optional)"
   ]
  },
  {
   "cell_type": "code",
   "execution_count": 32,
   "id": "65e9e69a-fe87-4fbb-8ec6-d724149e5411",
   "metadata": {},
   "outputs": [
    {
     "name": "stdout",
     "output_type": "stream",
     "text": [
      "You could try  z = 711  at time step  61\n"
     ]
    }
   ],
   "source": [
    "TS.suggest_training_set()"
   ]
  },
  {
   "cell_type": "code",
   "execution_count": 33,
   "id": "0a0819f1-708a-40e0-90bf-98ad2ace0607",
   "metadata": {},
   "outputs": [],
   "source": [
    "c1 = 'z'\n",
    "p1 = 711\n",
    "c2 = 'time'  # c2 has always to be time currently . Removed option to chose two spatial coordinates because was not useful, but left syntax to keep the potential to add it again in the future\n",
    "p2 = 61"
   ]
  },
  {
   "cell_type": "markdown",
   "id": "62e911d2-28ea-4ec9-b82a-a845d3d42cc1",
   "metadata": {},
   "source": [
    "### activate the training set and load label images if existent"
   ]
  },
  {
   "cell_type": "code",
   "execution_count": null,
   "id": "954cda71-ed7c-4d34-af8e-77c0d1235ad0",
   "metadata": {},
   "outputs": [],
   "source": [
    "TS.load_training_set(c1, p1, c2, p2)"
   ]
  },
  {
   "cell_type": "code",
   "execution_count": null,
   "id": "0c877470-3ea2-46e5-b0c6-f7f5278d7949",
   "metadata": {},
   "outputs": [],
   "source": [
    "# reboot the dask client if it lost a worker\n",
    "if not len(client.cluster.workers)>1:   \n",
    "    client = reboot_client(client)\n",
    "    TS.client = client\n",
    "    IF.client = client"
   ]
  },
  {
   "cell_type": "code",
   "execution_count": null,
   "id": "a87f0453-9c02-426f-8c97-01662cd76ab1",
   "metadata": {},
   "outputs": [],
   "source": [
    "#  TODO: move  the routine into training class\n",
    "# TODO: add if clause to not do anything if the coordinates did not change and the stack has already been calcualted\n",
    "\n",
    "feat_data = TS.feat_data\n",
    "[c1,p1,c2,p2] = TS.current_coordinates\n",
    "newslice = True\n",
    "\n",
    "if c1 == 'x' and c2 == 'time':\n",
    "    feat_stack = feat_data['feature_stack'].sel(x = p1, time = p2)\n",
    "    feat_stack_t_idp = feat_data['feature_stack_time_independent'].sel(x = p1, time_0 = 0)\n",
    "# elif c1 == 'x' and c2 == 'y':\n",
    "#     feat_stack = feat_data['feature_stack'].sel(x = p1, y = p2)#.data\n",
    "#     feat_stack_t_idp = feat_data['feature_stack_time_independent'].sel(x = p1, y = p2)\n",
    "# elif c1 == 'x' and c2 == 'z':\n",
    "#     feat_stack = feat_data['feature_stack'].sel(x = p1, z = p2)#.data\n",
    "#     feat_stack_t_idp = feat_data['feature_stack_time_independent'].sel(x = p1, z = p2)\n",
    "# elif c1 == 'y' and c2 == 'z':\n",
    "#     feat_stack = feat_data['feature_stack'].sel(y = p1, z = p2)#.data\n",
    "#     feat_stack_t_idp = feat_data['feature_stack_time_independent'].sel(y = p1, z = p2)\n",
    "elif c1 == 'y' and c2 == 'time':\n",
    "    feat_stack = feat_data['feature_stack'].sel(y = p1, time = p2)#.data\n",
    "    feat_stack_t_idp = feat_data['feature_stack_time_independent'].sel(y = p1, time_0 = 0)\n",
    "elif c1 == 'z' and c2 == 'time':\n",
    "    feat_stack = feat_data['feature_stack'].sel(z = p1, time = p2)#.data\n",
    "    feat_stack_t_idp = feat_data['feature_stack_time_independent'].sel(z = p1, time_0 = 0)"
   ]
  },
  {
   "cell_type": "code",
   "execution_count": null,
   "id": "e5041ac7-dddb-400f-8bee-82e0f1abdf12",
   "metadata": {},
   "outputs": [],
   "source": [
    "# reboot the dask client if it lost a worker\n",
    "if not len(client.cluster.workers)>1:   \n",
    "    client = reboot_client(client)\n",
    "    TS.client = client\n",
    "    IF.client = client"
   ]
  },
  {
   "cell_type": "markdown",
   "id": "1db7104c-33d5-493b-a44a-6415e78b3d0c",
   "metadata": {},
   "source": [
    "### calculate the feature stack for the selected slice"
   ]
  },
  {
   "cell_type": "markdown",
   "id": "4c60ef8b-3856-4b7c-be66-544c6e8c410c",
   "metadata": {},
   "source": [
    "#### time dependent features"
   ]
  },
  {
   "cell_type": "code",
   "execution_count": null,
   "id": "6b4a9ae4-5397-4d83-87a8-50c0852717d7",
   "metadata": {
    "scrolled": true
   },
   "outputs": [],
   "source": [
    "#  TODO: move into training class and keep up to date with dask development for the best way to do this\n",
    "# watch the dashboard for some colorful process tracing, having a eye on the \"workers\" can help to deal with memory issues\n",
    "if type(feat_stack) is not np.ndarray:\n",
    "        fut = client.scatter(feat_stack)\n",
    "        fut = fut.result()\n",
    "        fut = fut.compute()\n",
    "        feat_stack = fut\n",
    "        try:\n",
    "            # restart dask client to wipe leaked memory\n",
    "            client.restart()\n",
    "        except:\n",
    "            # do a full reboot if this fails\n",
    "            client = reboot_client(client)\n",
    "            TS.client = client\n",
    "            IF.client = client   "
   ]
  },
  {
   "cell_type": "markdown",
   "id": "d152717b-e481-4776-8298-760e8dc79c5d",
   "metadata": {},
   "source": [
    "#### check if the cluster survived the calculation"
   ]
  },
  {
   "cell_type": "code",
   "execution_count": null,
   "id": "e413bea9-9820-4b91-b32c-a95df4f70021",
   "metadata": {},
   "outputs": [],
   "source": [
    "# needs to stay to be interactive\n",
    "client.cluster.workers"
   ]
  },
  {
   "cell_type": "code",
   "execution_count": null,
   "id": "781b6fe8-fdd4-46e9-90f3-69ca679b194f",
   "metadata": {},
   "outputs": [],
   "source": [
    "# # reboot the dask client if it lost a worker\n",
    "if not len(client.cluster.workers)>1:   \n",
    "    client = reboot_client(client)\n",
    "    TS.client = client\n",
    "    IF.client = client"
   ]
  },
  {
   "cell_type": "markdown",
   "id": "bd543110-7e93-44f2-95ca-1b934c0e7dbc",
   "metadata": {},
   "source": [
    "#### time independent features"
   ]
  },
  {
   "cell_type": "code",
   "execution_count": null,
   "id": "f5cffd5f-93aa-4580-9dcc-32b2565ebffa",
   "metadata": {},
   "outputs": [],
   "source": [
    "# move into training class at one pointl\n",
    "if type(feat_stack_t_idp) is not np.ndarray:\n",
    "        fut = client.scatter(feat_stack_t_idp)\n",
    "        fut = fut.result()\n",
    "        fut = fut.compute()\n",
    "        feat_stack_t_idp = fut\n",
    "        try:\n",
    "            client.restart()\n",
    "        except:\n",
    "            client = reboot_client(client)\n",
    "            TS.client = client\n",
    "            IF.client = client   "
   ]
  },
  {
   "cell_type": "markdown",
   "id": "ef3f26f0-87ec-40f8-b8ec-e78a4269a1db",
   "metadata": {},
   "source": [
    "#### check if the cluster survived the calculation"
   ]
  },
  {
   "cell_type": "code",
   "execution_count": null,
   "id": "4f81e1af-6dc0-4e77-9b76-1847cb59eda7",
   "metadata": {},
   "outputs": [],
   "source": [
    "# needs to stay to be interactive\n",
    "client.cluster.workers"
   ]
  },
  {
   "cell_type": "code",
   "execution_count": null,
   "id": "94384d23-6763-4024-9ac7-8548af2fcc1d",
   "metadata": {},
   "outputs": [],
   "source": [
    "print('I am back from calculating and have still '+str(len(client.cluster.workers))+' workers')"
   ]
  },
  {
   "cell_type": "code",
   "execution_count": 36,
   "id": "8c25dde1-5156-4f55-8643-62ad87982a77",
   "metadata": {},
   "outputs": [],
   "source": [
    "# # reboot the dask client if it lost a worker\n",
    "if not len(client.cluster.workers)>1:   \n",
    "    client = reboot_client(client)\n",
    "    TS.client = client\n",
    "    IF.client = client"
   ]
  },
  {
   "cell_type": "markdown",
   "id": "3529eb5f-ac36-47d7-b2f7-5c562ae6642e",
   "metadata": {},
   "source": [
    "#### merge the two feature stacks"
   ]
  },
  {
   "cell_type": "code",
   "execution_count": 37,
   "id": "5821518a-eb06-444e-b84e-9f69ad73bbf6",
   "metadata": {},
   "outputs": [],
   "source": [
    "# needs to stay to be interactive\n",
    "# feat_stack_full = np.concatenate([feat_stack, feat_stack_t_idp], axis = 2)\n",
    "feat_stack = np.concatenate([feat_stack, feat_stack_t_idp], axis = 2) #this line to save a bit RAM"
   ]
  },
  {
   "cell_type": "code",
   "execution_count": 38,
   "id": "bf0c4088-0aec-4ffe-8741-b4db50770e47",
   "metadata": {},
   "outputs": [
    {
     "data": {
      "text/plain": [
       "(720, 2016, 54)"
      ]
     },
     "execution_count": 38,
     "metadata": {},
     "output_type": "execute_result"
    }
   ],
   "source": [
    "feat_stack.shape"
   ]
  },
  {
   "cell_type": "code",
   "execution_count": 39,
   "id": "4b044a99-f5a3-4cb1-b727-bf319ebbcd1e",
   "metadata": {},
   "outputs": [],
   "source": [
    "# this necessary ??\n",
    "# TS.current_feat_stack_full = feat_stack_full\n",
    "TS.current_feat_stack_full = feat_stack\n",
    "if type(TS.current_feat_stack_full) is not np.ndarray:\n",
    "    TS.current_computed = False\n",
    "else:\n",
    "    TS.current_computed = True"
   ]
  },
  {
   "cell_type": "code",
   "execution_count": 40,
   "id": "5b513b56-5f6f-473b-95fc-aa7c593b5339",
   "metadata": {},
   "outputs": [
    {
     "data": {
      "text/plain": [
       "(720, 2016, 54)"
      ]
     },
     "execution_count": 40,
     "metadata": {},
     "output_type": "execute_result"
    }
   ],
   "source": [
    "TS.current_feat_stack_full.shape"
   ]
  },
  {
   "cell_type": "markdown",
   "id": "618c7603-a9ac-457e-989e-cec055800e4a",
   "metadata": {},
   "source": [
    "### canvas for labeling and training"
   ]
  },
  {
   "cell_type": "markdown",
   "id": "aa400a60-f3ed-46d7-9f4c-d5b9e3ac4a6d",
   "metadata": {},
   "source": [
    "#### give index of feature in case you want to use it for training\n",
    "can be very useful to for example label static components"
   ]
  },
  {
   "cell_type": "code",
   "execution_count": 41,
   "id": "90e64935-662f-4c53-91f4-0e9637bee002",
   "metadata": {},
   "outputs": [
    {
     "name": "stdout",
     "output_type": "stream",
     "text": [
      "10 diff_of_gauss_4D_6.0_1.0\n"
     ]
    }
   ],
   "source": [
    "# TODO: consider reduced feature number\n",
    "i  = 10\n",
    "print(i, IF.combined_feature_names[i])"
   ]
  },
  {
   "cell_type": "code",
   "execution_count": 42,
   "id": "8e4971a5-d3f9-4d57-8fcf-96e46ec67947",
   "metadata": {},
   "outputs": [],
   "source": [
    "im8 = TS.current_im8 # execute this line to get the orignal display"
   ]
  },
  {
   "cell_type": "markdown",
   "id": "b2c39bfc-2864-452d-b564-0ade86db21d6",
   "metadata": {},
   "source": [
    "#### set up the canvas"
   ]
  },
  {
   "cell_type": "code",
   "execution_count": 76,
   "id": "0309c0cf-c136-438d-8f72-47778b90e4e5",
   "metadata": {},
   "outputs": [
    {
     "name": "stdout",
     "output_type": "stream",
     "text": [
      "original shape:  (720, 2016)\n"
     ]
    },
    {
     "data": {
      "application/vnd.jupyter.widget-view+json": {
       "model_id": "bf9044889a894387ae0c4d9bbdec69c5",
       "version_major": 2,
       "version_minor": 0
      },
      "text/plain": [
       "HBox(children=(MultiCanvas(height=720, width=2016), ColorPicker(value='#ff0000', description='Color:')))"
      ]
     },
     "execution_count": 76,
     "metadata": {},
     "output_type": "execute_result"
    }
   ],
   "source": [
    "## move to training class at low prio\n",
    "# needs interactive buttons if the code is hidden in class\n",
    "# button for color and alpha\n",
    "# for now, leave exposed\n",
    "\n",
    "alpha = 0.15 #transperancy\n",
    "\n",
    "## in case you want to zoom, but it works better if you pan (not zoom) in the browser. panning can be done with the trackpad of a laptop, but there is also some key combinations TODO lock up\n",
    "# zoom1 = (-500,-1)\n",
    "# zoom2 = (600,1400)\n",
    "# zoom1 = (0, -1)\n",
    "# zoom2 = (0, -1)\n",
    "#trick: use gaussian_time_4_0 to label static phases ()\n",
    "# im8 = display_feature(103, TS, feat_stack)\n",
    "\n",
    "# print(IF.combined_feature_names[-20])\n",
    "print('original shape: ',im8.shape)\n",
    "im8_display = im8.copy() #[zoom1[0]:zoom1[1], zoom2[0]:zoom2[1]]\n",
    "# print('diyplay shape : ',im8_display.shape,' at: ', (zoom1[0], zoom2[0]))\n",
    "\n",
    "resultim = TS.current_result.copy()\n",
    "resultim_display = resultim #[zoom1[0]:zoom1[1], zoom2[0]:zoom2[1]]\n",
    "\n",
    "\n",
    "width = im8_display.shape[1]\n",
    "height = im8_display.shape[0]\n",
    "Mcanvas = MultiCanvas(4, width=width, height=height)\n",
    "background = Mcanvas[0]\n",
    "resultdisplay = Mcanvas[2]\n",
    "truthdisplay = Mcanvas[1]\n",
    "canvas = Mcanvas[3]\n",
    "canvas.sync_image_data = True\n",
    "drawing = False\n",
    "position = None\n",
    "shape = []\n",
    "image_data = np.stack((im8_display, im8_display, im8_display), axis=2)\n",
    "background.put_image_data(image_data, 0, 0)\n",
    "slidealpha = IntSlider(description=\"Result overlay\", value=0.15)\n",
    "resultdisplay.global_alpha = alpha #slidealpha.value\n",
    "if np.any(resultim>0):\n",
    "    result_data = np.stack(((resultim_display==0), (resultim_display==1),(resultim_display==2)), axis=2)*255\n",
    "    mask3 = resultim_display==3\n",
    "    result_data[mask3,0] = 255\n",
    "    result_data[mask3,1] = 255\n",
    "else:\n",
    "    result_data = np.stack((0*resultim, 0*resultim, 0*resultim), axis=2)\n",
    "resultdisplay.put_image_data(result_data, 0, 0)\n",
    "canvas.on_mouse_down(on_mouse_down)\n",
    "canvas.on_mouse_move(on_mouse_move)\n",
    "canvas.on_mouse_up(on_mouse_up)\n",
    "picker = ColorPicker(description=\"Color:\", value=\"#ff0000\") #red\n",
    "# picker = ColorPicker(description=\"Color:\", value=\"#0000ff\") #blue\n",
    "# picker = ColorPicker(description=\"Color:\", value=\"#00ff00\") #green\n",
    "# picker = ColorPicker(description=\"Color:\", value=\"#ffff00\") #yellow\n",
    "### all currently supported color options. -> gives the possibility to label 4 different phases\n",
    "\n",
    "link((picker, \"value\"), (canvas, \"stroke_style\"))\n",
    "link((picker, \"value\"), (canvas, \"fill_style\"))\n",
    "link((slidealpha, \"value\"), (resultdisplay, \"global_alpha\"))\n",
    "\n",
    "HBox((Mcanvas,picker))\n",
    "# HBox((Mcanvas,)) #picker "
   ]
  },
  {
   "cell_type": "markdown",
   "id": "530c9b50-0aeb-4c56-bc1f-d13d18d1c770",
   "metadata": {},
   "source": [
    "#### adjust grayscale range of the display of the image by playing with the lines below\n",
    "has no effect on the data. If you mess up, there are some lines at beggining of the canvas cell or below to get the previous display back"
   ]
  },
  {
   "cell_type": "code",
   "execution_count": 77,
   "id": "29f81dff-2aa0-4a93-950b-fca5a5c8144b",
   "metadata": {},
   "outputs": [
    {
     "data": {
      "image/png": "[encoded data removed]",
      "text/plain": [
       "<Figure size 640x480 with 1 Axes>"
      ]
     },
     "metadata": {},
     "output_type": "display_data"
    }
   ],
   "source": [
    "tfs.display.plot_im_histogram(im8)\n",
    "# im8 = TS.current_im8 # uncomment this line to get the original back display (raw at original grayscale range)\n",
    "# im8 = tfs.display.adjust_image_contrast(im8,20,200)"
   ]
  },
  {
   "cell_type": "markdown",
   "id": "1141eddf-c56f-4212-9d23-9bc6a3d5cfb2",
   "metadata": {},
   "source": [
    "#### update training set if labels are ok or clear the current canvas by re-running the cell above if not\n",
    "automatically updates the stored label image on the disk"
   ]
  },
  {
   "cell_type": "code",
   "execution_count": 78,
   "id": "3400c108-f8af-48f0-947d-72c29eb5450d",
   "metadata": {},
   "outputs": [],
   "source": [
    "# same as above\n",
    "\n",
    "label_set = canvas.get_image_data()\n",
    "\n",
    "test = TS.current_truth.copy()\n",
    "\n",
    "test[np.bitwise_and(label_set[:,:,0]>0,np.bitwise_xor(label_set[:,:,0]>0,label_set[:,:,1]>0))] = 1\n",
    "test[label_set[:,:,1]>0] = 2\n",
    "test[label_set[:,:,2]>0] = 4 #order of 4&3 flipped for legacy reasons (existing training labels)\n",
    "test[np.bitwise_and(label_set[:,:,0]>0,label_set[:,:,1]>0)] = 3\n",
    "\n",
    "TS.current_truth = test.copy()\n",
    "imageio.imsave(TS.current_truthpath, TS.current_truth)"
   ]
  },
  {
   "cell_type": "markdown",
   "id": "0ed185c4-d8c3-4e8d-bbbc-10d260e2c8ea",
   "metadata": {},
   "source": [
    "#### inspect labels and training progress\n",
    "can be sometimes useful"
   ]
  },
  {
   "cell_type": "code",
   "execution_count": 79,
   "id": "ada177cb-fc0f-4ef9-9e1f-eeb177be55aa",
   "metadata": {},
   "outputs": [
    {
     "data": {
      "image/png": "[encoded data removed]",
      "text/plain": [
       "<Figure size 2000x1000 with 4 Axes>"
      ]
     },
     "metadata": {},
     "output_type": "display_data"
    }
   ],
   "source": [
    "# same as above\n",
    "\n",
    "fig, axes = plt.subplots(1,4, figsize=(20,10))\n",
    "axes[0].imshow(TS.current_result, 'gray', interpolation=None)\n",
    "axes[0].set_title('current result')\n",
    "axes[1].imshow(TS.current_im8, 'gray', interpolation=None)\n",
    "axes[1].set_title('original grayscale')\n",
    "\n",
    "# TS.current_diff_im = TS.current_im-TS.current_first_im\n",
    "# TS.current_diff_im = TS.current_diff_im/TS.current_diff_im.max()*255\n",
    "# axes[2].imshow(-TS.current_diff_im)#,vmin=6e4)\n",
    "# axes[3].imshow(im8old, 'gray')\n",
    "# axes[3].imshow(TS.current_first_im, 'gray')\n",
    "axes[2].imshow(TS.current_truth, interpolation=None)\n",
    "axes[2].set_title('label image')\n",
    "if TS.current_computed:\n",
    "    axes[3].imshow(TS.current_feat_stack_full[:,:,i], 'gray', interpolation=None)\n",
    "    axes[3].set_title(str(i)+': '+IF.combined_feature_names[i])\n",
    "else:\n",
    "    axes[3].imshow(TS.current_result, 'gray', interpolation=None)\n",
    "    axes[3].set_title('current result')\n",
    "# for ax in axes:\n",
    "    # ax.set_xticks([])\n",
    "    # ax.set_yticks([])"
   ]
  },
  {
   "cell_type": "markdown",
   "id": "3836ae72-b55b-4187-9ed0-56cf99f4114c",
   "metadata": {},
   "source": [
    "#### train!"
   ]
  },
  {
   "cell_type": "code",
   "execution_count": 80,
   "id": "8769b6d8-4e1a-454d-af12-cfde57083178",
   "metadata": {},
   "outputs": [
    {
     "name": "stdout",
     "output_type": "stream",
     "text": [
      "training and classifying\n"
     ]
    }
   ],
   "source": [
    "TS.train_slice()"
   ]
  },
  {
   "cell_type": "markdown",
   "id": "83df5eb3-2749-4135-8365-deb72495a507",
   "metadata": {},
   "source": [
    "#### revise feature importance to decide on omiting a few to make calculation more efficient\n",
    "TODO implementation to be done"
   ]
  },
  {
   "cell_type": "code",
   "execution_count": 81,
   "id": "ab3271f0-51bc-4975-8437-e329cf42b4eb",
   "metadata": {},
   "outputs": [
    {
     "data": {
      "text/plain": [
       "Text(0, 0.5, 'importance')"
      ]
     },
     "execution_count": 81,
     "metadata": {},
     "output_type": "execute_result"
    },
    {
     "data": {
      "image/png": "[encoded data removed]",
      "text/plain": [
       "<Figure size 1600x900 with 1 Axes>"
      ]
     },
     "metadata": {},
     "output_type": "display_data"
    }
   ],
   "source": [
    "# TODO consider reduced feature stack\n",
    "plt.figure(figsize=(16,9))\n",
    "# plt.stem(np.array(IF.combined_feature_names)[feature_ids], TS.clf.feature_importances_,'x')\n",
    "plt.stem(np.array(IF.combined_feature_names), TS.clf.feature_importances_,'x')\n",
    "plt.xticks(rotation=90)\n",
    "plt.ylabel('importance') "
   ]
  },
  {
   "cell_type": "code",
   "execution_count": 82,
   "id": "4599c5b3-65c3-43fa-8f33-305c878a0dc1",
   "metadata": {},
   "outputs": [],
   "source": [
    "# use date in front of git sha for easier tracking\n",
    "date = str(datetime.datetime.now().date())\n",
    "pickle.dump(TS.training_dict, open(os.path.join(training_path, date+'_git_sha_'+pytrain_git_sha+'_training_dict.p'),'wb'))\n",
    "pickle.dump(TS.combined_feature_names, open(os.path.join(training_path, date+'_git_sha_'+pytrain_git_sha+'_feature_names.p'),'wb'))"
   ]
  },
  {
   "cell_type": "code",
   "execution_count": 83,
   "id": "1a002427-0728-48ce-bf4f-d62a0a44f3c9",
   "metadata": {},
   "outputs": [
    {
     "data": {
      "text/plain": [
       "'2025-06-26_git_sha_59a9df3'"
      ]
     },
     "execution_count": 83,
     "metadata": {},
     "output_type": "execute_result"
    }
   ],
   "source": [
    "date+'_git_sha_'+pytrain_git_sha"
   ]
  },
  {
   "cell_type": "code",
   "execution_count": 53,
   "id": "42b23ce5-75ef-43ce-bdaa-ed8372aef184",
   "metadata": {},
   "outputs": [
    {
     "data": {
      "text/plain": [
       "dict_keys(['label_image_y_408_time_98_.tif', 'label_image_x_439_time_26_.tif', 'label_image_x_470_time_108_.tif', 'label_image_x_602_time_46_.tif', 'label_image_y_437_time_19_.tif', 'label_image_z_1726_time_31_.tif', 'label_image_x_460_time_88_.tif', 'label_image_z_1501_time_117_.tif', 'z_220_time_32_', 'z_260_time_51_', 'z_930_time_21_', 'z_934_time_38_', 'y_370_time_61_', 'x_314_time_111_', 'z_1251_time_99_', 'y_355_time_43_'])"
      ]
     },
     "execution_count": 53,
     "metadata": {},
     "output_type": "execute_result"
    }
   ],
   "source": [
    "TS.training_dict.keys()"
   ]
  },
  {
   "cell_type": "markdown",
   "id": "7e0335ac-cdac-40f5-84b6-780a2a25bffa",
   "metadata": {},
   "source": [
    "### Select features to keep to reduce feature stack\n",
    "throw away 50% of the features by using the median of the feature importance  \n",
    "the yarn sample showed no susceptible redcution of segmentation quality"
   ]
  },
  {
   "cell_type": "code",
   "execution_count": 54,
   "id": "5ba898d6-eff1-4c10-9023-98ad4dcd59fe",
   "metadata": {},
   "outputs": [],
   "source": [
    "importance_median = np.median(TS.clf.feature_importances_)\n",
    "feature_ids = TS.clf.feature_importances_>importance_median"
   ]
  },
  {
   "cell_type": "code",
   "execution_count": 57,
   "id": "afec8b5f-4326-4d7a-beb5-cce5adbef9b7",
   "metadata": {},
   "outputs": [],
   "source": [
    "features_to_use = []\n",
    "for i in range(len(feature_ids)):\n",
    "    if feature_ids[i]:\n",
    "        features_to_use.append(IF.combined_feature_names[i])\n",
    "    "
   ]
  },
  {
   "cell_type": "code",
   "execution_count": 58,
   "id": "01440b49-4789-412d-b25a-543df4ffd30f",
   "metadata": {},
   "outputs": [
    {
     "name": "stdout",
     "output_type": "stream",
     "text": [
      "093c73c\n"
     ]
    }
   ],
   "source": [
    "# TODO write txt instead of pickle dump"
   ]
  },
  {
   "cell_type": "code",
   "execution_count": 59,
   "id": "23eef3c6-d786-4f8b-a222-c47c98d099e9",
   "metadata": {
    "scrolled": true
   },
   "outputs": [
    {
     "data": {
      "text/plain": [
       "['Gaussian_4D_Blur_0.0',\n",
       " 'Gaussian_4D_Blur_1.0',\n",
       " 'Gaussian_4D_Blur_6.0',\n",
       " 'diff_of_gauss_4D_6.0_0.0',\n",
       " 'diff_of_gauss_4D_6.0_1.0',\n",
       " 'Gradient_sigma_1.0_0',\n",
       " 'Gradient_sigma_1.0_1',\n",
       " 'Gradient_sigma_1.0_3',\n",
       " 'hessian_sigma_1.0_00',\n",
       " 'hessian_sigma_1.0_01',\n",
       " 'hessian_sigma_1.0_11',\n",
       " 'Gradient_sigma_3.0_3',\n",
       " 'hessian_sigma_3.0_00',\n",
       " 'hessian_sigma_3.0_01',\n",
       " 'hessian_sigma_3.0_02',\n",
       " 'hessian_sigma_3.0_03',\n",
       " 'hessian_sigma_3.0_11',\n",
       " 'hessian_sigma_3.0_33',\n",
       " 'Gradient_sigma_6.0_0',\n",
       " 'Gradient_sigma_6.0_1',\n",
       " 'Gradient_sigma_6.0_2',\n",
       " 'Gradient_sigma_6.0_3',\n",
       " 'hessian_sigma_6.0_01',\n",
       " 'hessian_sigma_6.0_03',\n",
       " 'hessian_sigma_6.0_11',\n",
       " 'hessian_sigma_6.0_12',\n",
       " 'hessian_sigma_6.0_13',\n",
       " 'hessian_sigma_6.0_22',\n",
       " 'hessian_sigma_6.0_23',\n",
       " 'hessian_sigma_6.0_33',\n",
       " 'Gradient_sigma_2.0_0',\n",
       " 'Gradient_sigma_2.0_3',\n",
       " 'hessian_sigma_2.0_00',\n",
       " 'hessian_sigma_2.0_01',\n",
       " 'hessian_sigma_2.0_02',\n",
       " 'hessian_sigma_2.0_11',\n",
       " 'hessian_sigma_2.0_13',\n",
       " 'Gaussian_time_0.0',\n",
       " 'Gaussian_time_1.0',\n",
       " 'Gaussian_time_6.0',\n",
       " 'Gaussian_time_2.0',\n",
       " 'Gaussian_space_0.0',\n",
       " 'Gaussian_space_6.0',\n",
       " 'diff_of_gauss_space_3.0_0.0',\n",
       " 'diff_of_gauss_space_6.0_0.0',\n",
       " 'diff_of_gauss_space_2.0_0.0',\n",
       " 'diff_of_gauss_space_3.0_1.0',\n",
       " 'diff_of_gauss_space_6.0_1.0',\n",
       " 'diff_of_gauss_space_2.0_1.0',\n",
       " 'diff_of_gauss_space_2.0_3.0',\n",
       " 'diff_temp_min_Gauss_2.0',\n",
       " 'diff_to_first_',\n",
       " 'full_temp_min_Gauss_2.0',\n",
       " 'first_',\n",
       " 'last_']"
      ]
     },
     "execution_count": 59,
     "metadata": {},
     "output_type": "execute_result"
    }
   ],
   "source": [
    "features_to_use"
   ]
  },
  {
   "cell_type": "markdown",
   "id": "dd9de65d-3c14-4021-820b-32b52bed3318",
   "metadata": {},
   "source": [
    "#### Save classifier"
   ]
  },
  {
   "cell_type": "code",
   "execution_count": 84,
   "id": "c1eabc86-44be-4221-b5d0-f5da6190924d",
   "metadata": {},
   "outputs": [],
   "source": [
    "clf = TS.clf\n",
    "pickle.dump(clf, open(os.path.join(training_path,  date+'_git_sha_'+pytrain_git_sha+'_clf.p'),'wb'))"
   ]
  },
  {
   "cell_type": "markdown",
   "id": "fb46cb8d-ed6e-47af-bd16-aa3f57301c42",
   "metadata": {},
   "source": [
    "## Segmentation"
   ]
  },
  {
   "cell_type": "markdown",
   "id": "bdafb7f4-2740-4633-b0ab-b5e75f823bfe",
   "metadata": {},
   "source": [
    "### load classifier\n"
   ]
  },
  {
   "cell_type": "code",
   "execution_count": 56,
   "id": "e3b46f98-52d4-4e37-9f17-7c95ec1edd84",
   "metadata": {},
   "outputs": [
    {
     "data": {
      "text/plain": [
       "'2025-06-26_git_sha_59a9df3'"
      ]
     },
     "execution_count": 56,
     "metadata": {},
     "output_type": "execute_result"
    }
   ],
   "source": [
    "date+'_git_sha_'+pytrain_git_sha"
   ]
  },
  {
   "cell_type": "code",
   "execution_count": 118,
   "id": "602d6693-5ce4-42c0-aba6-f6fe28154883",
   "metadata": {},
   "outputs": [],
   "source": [
    "prefix = '2025-05-27_git_sha_1712925'\n",
    "clf = pickle.load(open(os.path.join(training_path, prefix+'_clf.p'),'rb'))\n",
    "# clf.n_jobs = 40 #threads to be used for classifier. more is faster but needs more RAM, default is all available, tune if you get memory issues"
   ]
  },
  {
   "cell_type": "code",
   "execution_count": 119,
   "id": "6a65dc42-b9de-4373-983f-3dc45460e3a6",
   "metadata": {},
   "outputs": [],
   "source": [
    "feat = TS.feat_data['feature_stack']\n",
    "feat_idp = TS.feat_data['feature_stack_time_independent']"
   ]
  },
  {
   "cell_type": "markdown",
   "id": "6c3eb4b7-301e-4242-be57-c8ecfcec5ed3",
   "metadata": {},
   "source": [
    "### figure out good dimensions for peacewise segmentation\n",
    "the chunks contain the entire time series --> makes no sense to split in time  \n",
    "take the two biggest dimensions an don't split along the smallest spatial dimension --> saves one loop if you get away with it  \n",
    "TODO: automate somehow"
   ]
  },
  {
   "cell_type": "code",
   "execution_count": 120,
   "id": "6fb7c8a8-4013-46e1-a286-1577647bb207",
   "metadata": {},
   "outputs": [],
   "source": [
    "def round_up(val, dec=1):\n",
    "    rval = np.round(val, dec)\n",
    "    if rval < val:\n",
    "        rval = rval+10**(-dec)\n",
    "    rval = np.round(rval, dec) # to get rid of floating point uncertainties\n",
    "    return rval\n",
    "\n",
    "def calculate_part(part):\n",
    "    if type(part) is not np.ndarray:\n",
    "        fut = client.scatter(part)\n",
    "        fut = fut.result()\n",
    "        fut = fut.compute()\n",
    "        part = fut\n",
    "    return part\n",
    "\n",
    "def get_the_client_back(client):\n",
    "    try:\n",
    "        client.restart()\n",
    "    except:\n",
    "        client = reboot_client(client)\n",
    "    if not len(client.cluster.workers)>1:   \n",
    "        client = reboot_client(client)\n",
    "    return client"
   ]
  },
  {
   "cell_type": "code",
   "execution_count": 121,
   "id": "05450ff5-ca88-4894-a202-cdcf47cf8979",
   "metadata": {},
   "outputs": [
    {
     "name": "stdout",
     "output_type": "stream",
     "text": [
      "10 10\n"
     ]
    },
    {
     "data": {
      "text/html": [
       "<div><svg style=\"position: absolute; width: 0; height: 0; overflow: hidden\">\n",
       "<defs>\n",
       "<symbol id=\"icon-database\" viewBox=\"0 0 32 32\">\n",
       "<path d=\"M16 0c-8.837 0-16 2.239-16 5v4c0 2.761 7.163 5 16 5s16-2.239 16-5v-4c0-2.761-7.163-5-16-5z\"></path>\n",
       "<path d=\"M16 17c-8.837 0-16-2.239-16-5v6c0 2.761 7.163 5 16 5s16-2.239 16-5v-6c0 2.761-7.163 5-16 5z\"></path>\n",
       "<path d=\"M16 26c-8.837 0-16-2.239-16-5v6c0 2.761 7.163 5 16 5s16-2.239 16-5v-6c0 2.761-7.163 5-16 5z\"></path>\n",
       "</symbol>\n",
       "<symbol id=\"icon-file-text2\" viewBox=\"0 0 32 32\">\n",
       "<path d=\"M28.681 7.159c-0.694-0.947-1.662-2.053-2.724-3.116s-2.169-2.030-3.116-2.724c-1.612-1.182-2.393-1.319-2.841-1.319h-15.5c-1.378 0-2.5 1.121-2.5 2.5v27c0 1.378 1.122 2.5 2.5 2.5h23c1.378 0 2.5-1.122 2.5-2.5v-19.5c0-0.448-0.137-1.23-1.319-2.841zM24.543 5.457c0.959 0.959 1.712 1.825 2.268 2.543h-4.811v-4.811c0.718 0.556 1.584 1.309 2.543 2.268zM28 29.5c0 0.271-0.229 0.5-0.5 0.5h-23c-0.271 0-0.5-0.229-0.5-0.5v-27c0-0.271 0.229-0.5 0.5-0.5 0 0 15.499-0 15.5 0v7c0 0.552 0.448 1 1 1h7v19.5z\"></path>\n",
       "<path d=\"M23 26h-14c-0.552 0-1-0.448-1-1s0.448-1 1-1h14c0.552 0 1 0.448 1 1s-0.448 1-1 1z\"></path>\n",
       "<path d=\"M23 22h-14c-0.552 0-1-0.448-1-1s0.448-1 1-1h14c0.552 0 1 0.448 1 1s-0.448 1-1 1z\"></path>\n",
       "<path d=\"M23 18h-14c-0.552 0-1-0.448-1-1s0.448-1 1-1h14c0.552 0 1 0.448 1 1s-0.448 1-1 1z\"></path>\n",
       "</symbol>\n",
       "</defs>\n",
       "</svg>\n",
       "<style>/* CSS stylesheet for displaying xarray objects in jupyterlab.\n",
       " *\n",
       " */\n",
       "\n",
       ":root {\n",
       "  --xr-font-color0: var(--jp-content-font-color0, rgba(0, 0, 0, 1));\n",
       "  --xr-font-color2: var(--jp-content-font-color2, rgba(0, 0, 0, 0.54));\n",
       "  --xr-font-color3: var(--jp-content-font-color3, rgba(0, 0, 0, 0.38));\n",
       "  --xr-border-color: var(--jp-border-color2, #e0e0e0);\n",
       "  --xr-disabled-color: var(--jp-layout-color3, #bdbdbd);\n",
       "  --xr-background-color: var(--jp-layout-color0, white);\n",
       "  --xr-background-color-row-even: var(--jp-layout-color1, white);\n",
       "  --xr-background-color-row-odd: var(--jp-layout-color2, #eeeeee);\n",
       "}\n",
       "\n",
       "html[theme=\"dark\"],\n",
       "html[data-theme=\"dark\"],\n",
       "body[data-theme=\"dark\"],\n",
       "body.vscode-dark {\n",
       "  --xr-font-color0: rgba(255, 255, 255, 1);\n",
       "  --xr-font-color2: rgba(255, 255, 255, 0.54);\n",
       "  --xr-font-color3: rgba(255, 255, 255, 0.38);\n",
       "  --xr-border-color: #1f1f1f;\n",
       "  --xr-disabled-color: #515151;\n",
       "  --xr-background-color: #111111;\n",
       "  --xr-background-color-row-even: #111111;\n",
       "  --xr-background-color-row-odd: #313131;\n",
       "}\n",
       "\n",
       ".xr-wrap {\n",
       "  display: block !important;\n",
       "  min-width: 300px;\n",
       "  max-width: 700px;\n",
       "}\n",
       "\n",
       ".xr-text-repr-fallback {\n",
       "  /* fallback to plain text repr when CSS is not injected (untrusted notebook) */\n",
       "  display: none;\n",
       "}\n",
       "\n",
       ".xr-header {\n",
       "  padding-top: 6px;\n",
       "  padding-bottom: 6px;\n",
       "  margin-bottom: 4px;\n",
       "  border-bottom: solid 1px var(--xr-border-color);\n",
       "}\n",
       "\n",
       ".xr-header > div,\n",
       ".xr-header > ul {\n",
       "  display: inline;\n",
       "  margin-top: 0;\n",
       "  margin-bottom: 0;\n",
       "}\n",
       "\n",
       ".xr-obj-type,\n",
       ".xr-array-name {\n",
       "  margin-left: 2px;\n",
       "  margin-right: 10px;\n",
       "}\n",
       "\n",
       ".xr-obj-type {\n",
       "  color: var(--xr-font-color2);\n",
       "}\n",
       "\n",
       ".xr-sections {\n",
       "  padding-left: 0 !important;\n",
       "  display: grid;\n",
       "  grid-template-columns: 150px auto auto 1fr 0 20px 0 20px;\n",
       "}\n",
       "\n",
       ".xr-section-item {\n",
       "  display: contents;\n",
       "}\n",
       "\n",
       ".xr-section-item input {\n",
       "  display: inline-block;\n",
       "  opacity: 0;\n",
       "  height: 0;\n",
       "}\n",
       "\n",
       ".xr-section-item input + label {\n",
       "  color: var(--xr-disabled-color);\n",
       "}\n",
       "\n",
       ".xr-section-item input:enabled + label {\n",
       "  cursor: pointer;\n",
       "  color: var(--xr-font-color2);\n",
       "}\n",
       "\n",
       ".xr-section-item input:focus + label {\n",
       "  border: 2px solid var(--xr-font-color0);\n",
       "}\n",
       "\n",
       ".xr-section-item input:enabled + label:hover {\n",
       "  color: var(--xr-font-color0);\n",
       "}\n",
       "\n",
       ".xr-section-summary {\n",
       "  grid-column: 1;\n",
       "  color: var(--xr-font-color2);\n",
       "  font-weight: 500;\n",
       "}\n",
       "\n",
       ".xr-section-summary > span {\n",
       "  display: inline-block;\n",
       "  padding-left: 0.5em;\n",
       "}\n",
       "\n",
       ".xr-section-summary-in:disabled + label {\n",
       "  color: var(--xr-font-color2);\n",
       "}\n",
       "\n",
       ".xr-section-summary-in + label:before {\n",
       "  display: inline-block;\n",
       "  content: \"►\";\n",
       "  font-size: 11px;\n",
       "  width: 15px;\n",
       "  text-align: center;\n",
       "}\n",
       "\n",
       ".xr-section-summary-in:disabled + label:before {\n",
       "  color: var(--xr-disabled-color);\n",
       "}\n",
       "\n",
       ".xr-section-summary-in:checked + label:before {\n",
       "  content: \"▼\";\n",
       "}\n",
       "\n",
       ".xr-section-summary-in:checked + label > span {\n",
       "  display: none;\n",
       "}\n",
       "\n",
       ".xr-section-summary,\n",
       ".xr-section-inline-details {\n",
       "  padding-top: 4px;\n",
       "  padding-bottom: 4px;\n",
       "}\n",
       "\n",
       ".xr-section-inline-details {\n",
       "  grid-column: 2 / -1;\n",
       "}\n",
       "\n",
       ".xr-section-details {\n",
       "  display: none;\n",
       "  grid-column: 1 / -1;\n",
       "  margin-bottom: 5px;\n",
       "}\n",
       "\n",
       ".xr-section-summary-in:checked ~ .xr-section-details {\n",
       "  display: contents;\n",
       "}\n",
       "\n",
       ".xr-array-wrap {\n",
       "  grid-column: 1 / -1;\n",
       "  display: grid;\n",
       "  grid-template-columns: 20px auto;\n",
       "}\n",
       "\n",
       ".xr-array-wrap > label {\n",
       "  grid-column: 1;\n",
       "  vertical-align: top;\n",
       "}\n",
       "\n",
       ".xr-preview {\n",
       "  color: var(--xr-font-color3);\n",
       "}\n",
       "\n",
       ".xr-array-preview,\n",
       ".xr-array-data {\n",
       "  padding: 0 5px !important;\n",
       "  grid-column: 2;\n",
       "}\n",
       "\n",
       ".xr-array-data,\n",
       ".xr-array-in:checked ~ .xr-array-preview {\n",
       "  display: none;\n",
       "}\n",
       "\n",
       ".xr-array-in:checked ~ .xr-array-data,\n",
       ".xr-array-preview {\n",
       "  display: inline-block;\n",
       "}\n",
       "\n",
       ".xr-dim-list {\n",
       "  display: inline-block !important;\n",
       "  list-style: none;\n",
       "  padding: 0 !important;\n",
       "  margin: 0;\n",
       "}\n",
       "\n",
       ".xr-dim-list li {\n",
       "  display: inline-block;\n",
       "  padding: 0;\n",
       "  margin: 0;\n",
       "}\n",
       "\n",
       ".xr-dim-list:before {\n",
       "  content: \"(\";\n",
       "}\n",
       "\n",
       ".xr-dim-list:after {\n",
       "  content: \")\";\n",
       "}\n",
       "\n",
       ".xr-dim-list li:not(:last-child):after {\n",
       "  content: \",\";\n",
       "  padding-right: 5px;\n",
       "}\n",
       "\n",
       ".xr-has-index {\n",
       "  font-weight: bold;\n",
       "}\n",
       "\n",
       ".xr-var-list,\n",
       ".xr-var-item {\n",
       "  display: contents;\n",
       "}\n",
       "\n",
       ".xr-var-item > div,\n",
       ".xr-var-item label,\n",
       ".xr-var-item > .xr-var-name span {\n",
       "  background-color: var(--xr-background-color-row-even);\n",
       "  margin-bottom: 0;\n",
       "}\n",
       "\n",
       ".xr-var-item > .xr-var-name:hover span {\n",
       "  padding-right: 5px;\n",
       "}\n",
       "\n",
       ".xr-var-list > li:nth-child(odd) > div,\n",
       ".xr-var-list > li:nth-child(odd) > label,\n",
       ".xr-var-list > li:nth-child(odd) > .xr-var-name span {\n",
       "  background-color: var(--xr-background-color-row-odd);\n",
       "}\n",
       "\n",
       ".xr-var-name {\n",
       "  grid-column: 1;\n",
       "}\n",
       "\n",
       ".xr-var-dims {\n",
       "  grid-column: 2;\n",
       "}\n",
       "\n",
       ".xr-var-dtype {\n",
       "  grid-column: 3;\n",
       "  text-align: right;\n",
       "  color: var(--xr-font-color2);\n",
       "}\n",
       "\n",
       ".xr-var-preview {\n",
       "  grid-column: 4;\n",
       "}\n",
       "\n",
       ".xr-index-preview {\n",
       "  grid-column: 2 / 5;\n",
       "  color: var(--xr-font-color2);\n",
       "}\n",
       "\n",
       ".xr-var-name,\n",
       ".xr-var-dims,\n",
       ".xr-var-dtype,\n",
       ".xr-preview,\n",
       ".xr-attrs dt {\n",
       "  white-space: nowrap;\n",
       "  overflow: hidden;\n",
       "  text-overflow: ellipsis;\n",
       "  padding-right: 10px;\n",
       "}\n",
       "\n",
       ".xr-var-name:hover,\n",
       ".xr-var-dims:hover,\n",
       ".xr-var-dtype:hover,\n",
       ".xr-attrs dt:hover {\n",
       "  overflow: visible;\n",
       "  width: auto;\n",
       "  z-index: 1;\n",
       "}\n",
       "\n",
       ".xr-var-attrs,\n",
       ".xr-var-data,\n",
       ".xr-index-data {\n",
       "  display: none;\n",
       "  background-color: var(--xr-background-color) !important;\n",
       "  padding-bottom: 5px !important;\n",
       "}\n",
       "\n",
       ".xr-var-attrs-in:checked ~ .xr-var-attrs,\n",
       ".xr-var-data-in:checked ~ .xr-var-data,\n",
       ".xr-index-data-in:checked ~ .xr-index-data {\n",
       "  display: block;\n",
       "}\n",
       "\n",
       ".xr-var-data > table {\n",
       "  float: right;\n",
       "}\n",
       "\n",
       ".xr-var-name span,\n",
       ".xr-var-data,\n",
       ".xr-index-name div,\n",
       ".xr-index-data,\n",
       ".xr-attrs {\n",
       "  padding-left: 25px !important;\n",
       "}\n",
       "\n",
       ".xr-attrs,\n",
       ".xr-var-attrs,\n",
       ".xr-var-data,\n",
       ".xr-index-data {\n",
       "  grid-column: 1 / -1;\n",
       "}\n",
       "\n",
       "dl.xr-attrs {\n",
       "  padding: 0;\n",
       "  margin: 0;\n",
       "  display: grid;\n",
       "  grid-template-columns: 125px auto;\n",
       "}\n",
       "\n",
       ".xr-attrs dt,\n",
       ".xr-attrs dd {\n",
       "  padding: 0;\n",
       "  margin: 0;\n",
       "  float: left;\n",
       "  padding-right: 10px;\n",
       "  width: auto;\n",
       "}\n",
       "\n",
       ".xr-attrs dt {\n",
       "  font-weight: normal;\n",
       "  grid-column: 1;\n",
       "}\n",
       "\n",
       ".xr-attrs dt:hover span {\n",
       "  display: inline-block;\n",
       "  background: var(--xr-background-color);\n",
       "  padding-right: 10px;\n",
       "}\n",
       "\n",
       ".xr-attrs dd {\n",
       "  grid-column: 2;\n",
       "  white-space: pre-wrap;\n",
       "  word-break: break-all;\n",
       "}\n",
       "\n",
       ".xr-icon-database,\n",
       ".xr-icon-file-text2,\n",
       ".xr-no-icon {\n",
       "  display: inline-block;\n",
       "  vertical-align: middle;\n",
       "  width: 1em;\n",
       "  height: 1.5em !important;\n",
       "  stroke-width: 0;\n",
       "  stroke: currentColor;\n",
       "  fill: currentColor;\n",
       "}\n",
       "</style><pre class='xr-text-repr-fallback'>&lt;xarray.DataArray &#x27;feature_stack&#x27; (x: 72, y: 720, z: 202, time: 120,\n",
       "                                   feature: 105)&gt; Size: 1TB\n",
       "dask.array&lt;getitem, shape=(72, 720, 202, 120, 105), dtype=float64, chunksize=(36, 36, 36, 120, 1), chunktype=numpy.ndarray&gt;\n",
       "Coordinates:\n",
       "  * x        (x) int64 576B 576 577 578 579 580 581 ... 642 643 644 645 646 647\n",
       "  * y        (y) int64 6kB 0 1 2 3 4 5 6 7 8 ... 712 713 714 715 716 717 718 719\n",
       "  * z        (z) int64 2kB 1616 1617 1618 1619 1620 ... 1813 1814 1815 1816 1817\n",
       "  * time     (time) int64 960B 0 1 2 3 4 5 6 7 ... 113 114 115 116 117 118 119\n",
       "  * feature  (feature) &lt;U27 11kB &#x27;Gaussian_4D_Blur_0.0&#x27; ... &#x27;diff_to_last_&#x27;</pre><div class='xr-wrap' style='display:none'><div class='xr-header'><div class='xr-obj-type'>xarray.DataArray</div><div class='xr-array-name'>'feature_stack'</div><ul class='xr-dim-list'><li><span class='xr-has-index'>x</span>: 72</li><li><span class='xr-has-index'>y</span>: 720</li><li><span class='xr-has-index'>z</span>: 202</li><li><span class='xr-has-index'>time</span>: 120</li><li><span class='xr-has-index'>feature</span>: 105</li></ul></div><ul class='xr-sections'><li class='xr-section-item'><div class='xr-array-wrap'><input id='section-cfb2e616-1fb0-4055-90db-6ce4c8f4f29d' class='xr-array-in' type='checkbox' checked><label for='section-cfb2e616-1fb0-4055-90db-6ce4c8f4f29d' title='Show/hide data repr'><svg class='icon xr-icon-database'><use xlink:href='#icon-database'></use></svg></label><div class='xr-array-preview xr-preview'><span>dask.array&lt;chunksize=(36, 36, 4, 120, 1), meta=np.ndarray&gt;</span></div><div class='xr-array-data'><table>\n",
       "    <tr>\n",
       "        <td>\n",
       "            <table style=\"border-collapse: collapse;\">\n",
       "                <thead>\n",
       "                    <tr>\n",
       "                        <td> </td>\n",
       "                        <th> Array </th>\n",
       "                        <th> Chunk </th>\n",
       "                    </tr>\n",
       "                </thead>\n",
       "                <tbody>\n",
       "                    \n",
       "                    <tr>\n",
       "                        <th> Bytes </th>\n",
       "                        <td> 0.96 TiB </td>\n",
       "                        <td> 42.71 MiB </td>\n",
       "                    </tr>\n",
       "                    \n",
       "                    <tr>\n",
       "                        <th> Shape </th>\n",
       "                        <td> (72, 720, 202, 120, 105) </td>\n",
       "                        <td> (36, 36, 36, 120, 1) </td>\n",
       "                    </tr>\n",
       "                    <tr>\n",
       "                        <th> Dask graph </th>\n",
       "                        <td colspan=\"2\"> 29400 chunks in 304 graph layers </td>\n",
       "                    </tr>\n",
       "                    <tr>\n",
       "                        <th> Data type </th>\n",
       "                        <td colspan=\"2\"> float64 numpy.ndarray </td>\n",
       "                    </tr>\n",
       "                </tbody>\n",
       "            </table>\n",
       "        </td>\n",
       "        <td>\n",
       "        <svg width=\"496\" height=\"116\" style=\"stroke:rgb(0,0,0);stroke-width:1\" >\n",
       "\n",
       "  <!-- Horizontal lines -->\n",
       "  <line x1=\"0\" y1=\"0\" x2=\"120\" y2=\"0\" style=\"stroke-width:2\" />\n",
       "  <line x1=\"0\" y1=\"19\" x2=\"120\" y2=\"19\" />\n",
       "  <line x1=\"0\" y1=\"38\" x2=\"120\" y2=\"38\" style=\"stroke-width:2\" />\n",
       "\n",
       "  <!-- Vertical lines -->\n",
       "  <line x1=\"0\" y1=\"0\" x2=\"0\" y2=\"38\" style=\"stroke-width:2\" />\n",
       "  <line x1=\"6\" y1=\"0\" x2=\"6\" y2=\"38\" />\n",
       "  <line x1=\"12\" y1=\"0\" x2=\"12\" y2=\"38\" />\n",
       "  <line x1=\"18\" y1=\"0\" x2=\"18\" y2=\"38\" />\n",
       "  <line x1=\"24\" y1=\"0\" x2=\"24\" y2=\"38\" />\n",
       "  <line x1=\"30\" y1=\"0\" x2=\"30\" y2=\"38\" />\n",
       "  <line x1=\"36\" y1=\"0\" x2=\"36\" y2=\"38\" />\n",
       "  <line x1=\"42\" y1=\"0\" x2=\"42\" y2=\"38\" />\n",
       "  <line x1=\"48\" y1=\"0\" x2=\"48\" y2=\"38\" />\n",
       "  <line x1=\"54\" y1=\"0\" x2=\"54\" y2=\"38\" />\n",
       "  <line x1=\"60\" y1=\"0\" x2=\"60\" y2=\"38\" />\n",
       "  <line x1=\"66\" y1=\"0\" x2=\"66\" y2=\"38\" />\n",
       "  <line x1=\"72\" y1=\"0\" x2=\"72\" y2=\"38\" />\n",
       "  <line x1=\"78\" y1=\"0\" x2=\"78\" y2=\"38\" />\n",
       "  <line x1=\"84\" y1=\"0\" x2=\"84\" y2=\"38\" />\n",
       "  <line x1=\"90\" y1=\"0\" x2=\"90\" y2=\"38\" />\n",
       "  <line x1=\"96\" y1=\"0\" x2=\"96\" y2=\"38\" />\n",
       "  <line x1=\"102\" y1=\"0\" x2=\"102\" y2=\"38\" />\n",
       "  <line x1=\"108\" y1=\"0\" x2=\"108\" y2=\"38\" />\n",
       "  <line x1=\"114\" y1=\"0\" x2=\"114\" y2=\"38\" />\n",
       "  <line x1=\"120\" y1=\"0\" x2=\"120\" y2=\"38\" style=\"stroke-width:2\" />\n",
       "\n",
       "  <!-- Colored Rectangle -->\n",
       "  <polygon points=\"0.0,0.0 120.0,0.0 120.0,38.596863036086 0.0,38.596863036086\" style=\"fill:#ECB172A0;stroke-width:0\"/>\n",
       "\n",
       "  <!-- Text -->\n",
       "  <text x=\"60.000000\" y=\"58.596863\" font-size=\"1.0rem\" font-weight=\"100\" text-anchor=\"middle\" >720</text>\n",
       "  <text x=\"140.000000\" y=\"19.298432\" font-size=\"1.0rem\" font-weight=\"100\" text-anchor=\"middle\" transform=\"rotate(0,140.000000,19.298432)\">72</text>\n",
       "\n",
       "\n",
       "  <!-- Horizontal lines -->\n",
       "  <line x1=\"190\" y1=\"0\" x2=\"215\" y2=\"25\" style=\"stroke-width:2\" />\n",
       "  <line x1=\"190\" y1=\"41\" x2=\"215\" y2=\"66\" style=\"stroke-width:2\" />\n",
       "\n",
       "  <!-- Vertical lines -->\n",
       "  <line x1=\"190\" y1=\"0\" x2=\"190\" y2=\"41\" style=\"stroke-width:2\" />\n",
       "  <line x1=\"190\" y1=\"0\" x2=\"190\" y2=\"41\" />\n",
       "  <line x1=\"195\" y1=\"5\" x2=\"195\" y2=\"46\" />\n",
       "  <line x1=\"199\" y1=\"9\" x2=\"199\" y2=\"50\" />\n",
       "  <line x1=\"204\" y1=\"14\" x2=\"204\" y2=\"55\" />\n",
       "  <line x1=\"208\" y1=\"18\" x2=\"208\" y2=\"59\" />\n",
       "  <line x1=\"213\" y1=\"23\" x2=\"213\" y2=\"64\" />\n",
       "  <line x1=\"215\" y1=\"25\" x2=\"215\" y2=\"66\" style=\"stroke-width:2\" />\n",
       "\n",
       "  <!-- Colored Rectangle -->\n",
       "  <polygon points=\"190.0,0.0 215.47981964325686,25.479819643256864 215.47981964325686,66.68364906462428 190.0,41.20382942136741\" style=\"fill:#ECB172A0;stroke-width:0\"/>\n",
       "\n",
       "  <!-- Horizontal lines -->\n",
       "  <line x1=\"190\" y1=\"0\" x2=\"230\" y2=\"0\" style=\"stroke-width:2\" />\n",
       "  <line x1=\"190\" y1=\"0\" x2=\"231\" y2=\"0\" />\n",
       "  <line x1=\"195\" y1=\"5\" x2=\"235\" y2=\"5\" />\n",
       "  <line x1=\"199\" y1=\"9\" x2=\"240\" y2=\"9\" />\n",
       "  <line x1=\"204\" y1=\"14\" x2=\"244\" y2=\"14\" />\n",
       "  <line x1=\"208\" y1=\"18\" x2=\"249\" y2=\"18\" />\n",
       "  <line x1=\"213\" y1=\"23\" x2=\"253\" y2=\"23\" />\n",
       "  <line x1=\"215\" y1=\"25\" x2=\"256\" y2=\"25\" style=\"stroke-width:2\" />\n",
       "\n",
       "  <!-- Vertical lines -->\n",
       "  <line x1=\"190\" y1=\"0\" x2=\"215\" y2=\"25\" style=\"stroke-width:2\" />\n",
       "  <line x1=\"191\" y1=\"0\" x2=\"216\" y2=\"25\" />\n",
       "  <line x1=\"192\" y1=\"0\" x2=\"217\" y2=\"25\" />\n",
       "  <line x1=\"193\" y1=\"0\" x2=\"218\" y2=\"25\" />\n",
       "  <line x1=\"195\" y1=\"0\" x2=\"220\" y2=\"25\" />\n",
       "  <line x1=\"196\" y1=\"0\" x2=\"221\" y2=\"25\" />\n",
       "  <line x1=\"197\" y1=\"0\" x2=\"222\" y2=\"25\" />\n",
       "  <line x1=\"198\" y1=\"0\" x2=\"223\" y2=\"25\" />\n",
       "  <line x1=\"200\" y1=\"0\" x2=\"225\" y2=\"25\" />\n",
       "  <line x1=\"201\" y1=\"0\" x2=\"226\" y2=\"25\" />\n",
       "  <line x1=\"202\" y1=\"0\" x2=\"227\" y2=\"25\" />\n",
       "  <line x1=\"203\" y1=\"0\" x2=\"229\" y2=\"25\" />\n",
       "  <line x1=\"205\" y1=\"0\" x2=\"230\" y2=\"25\" />\n",
       "  <line x1=\"206\" y1=\"0\" x2=\"231\" y2=\"25\" />\n",
       "  <line x1=\"207\" y1=\"0\" x2=\"232\" y2=\"25\" />\n",
       "  <line x1=\"208\" y1=\"0\" x2=\"234\" y2=\"25\" />\n",
       "  <line x1=\"210\" y1=\"0\" x2=\"235\" y2=\"25\" />\n",
       "  <line x1=\"211\" y1=\"0\" x2=\"236\" y2=\"25\" />\n",
       "  <line x1=\"212\" y1=\"0\" x2=\"238\" y2=\"25\" />\n",
       "  <line x1=\"213\" y1=\"0\" x2=\"239\" y2=\"25\" />\n",
       "  <line x1=\"215\" y1=\"0\" x2=\"240\" y2=\"25\" />\n",
       "  <line x1=\"216\" y1=\"0\" x2=\"241\" y2=\"25\" />\n",
       "  <line x1=\"217\" y1=\"0\" x2=\"243\" y2=\"25\" />\n",
       "  <line x1=\"218\" y1=\"0\" x2=\"244\" y2=\"25\" />\n",
       "  <line x1=\"220\" y1=\"0\" x2=\"245\" y2=\"25\" />\n",
       "  <line x1=\"221\" y1=\"0\" x2=\"247\" y2=\"25\" />\n",
       "  <line x1=\"222\" y1=\"0\" x2=\"248\" y2=\"25\" />\n",
       "  <line x1=\"224\" y1=\"0\" x2=\"249\" y2=\"25\" />\n",
       "  <line x1=\"225\" y1=\"0\" x2=\"250\" y2=\"25\" />\n",
       "  <line x1=\"226\" y1=\"0\" x2=\"252\" y2=\"25\" />\n",
       "  <line x1=\"227\" y1=\"0\" x2=\"253\" y2=\"25\" />\n",
       "  <line x1=\"229\" y1=\"0\" x2=\"254\" y2=\"25\" />\n",
       "  <line x1=\"230\" y1=\"0\" x2=\"256\" y2=\"25\" style=\"stroke-width:2\" />\n",
       "\n",
       "  <!-- Colored Rectangle -->\n",
       "  <polygon points=\"190.0,0.0 230.56956903451,0.0 256.0493886777669,25.479819643256864 215.47981964325686,25.479819643256864\" style=\"fill:#8B4903A0;stroke-width:0\"/>\n",
       "\n",
       "  <!-- Horizontal lines -->\n",
       "  <line x1=\"215\" y1=\"25\" x2=\"256\" y2=\"25\" style=\"stroke-width:2\" />\n",
       "  <line x1=\"215\" y1=\"66\" x2=\"256\" y2=\"66\" style=\"stroke-width:2\" />\n",
       "\n",
       "  <!-- Vertical lines -->\n",
       "  <line x1=\"215\" y1=\"25\" x2=\"215\" y2=\"66\" style=\"stroke-width:2\" />\n",
       "  <line x1=\"216\" y1=\"25\" x2=\"216\" y2=\"66\" />\n",
       "  <line x1=\"217\" y1=\"25\" x2=\"217\" y2=\"66\" />\n",
       "  <line x1=\"218\" y1=\"25\" x2=\"218\" y2=\"66\" />\n",
       "  <line x1=\"220\" y1=\"25\" x2=\"220\" y2=\"66\" />\n",
       "  <line x1=\"221\" y1=\"25\" x2=\"221\" y2=\"66\" />\n",
       "  <line x1=\"222\" y1=\"25\" x2=\"222\" y2=\"66\" />\n",
       "  <line x1=\"223\" y1=\"25\" x2=\"223\" y2=\"66\" />\n",
       "  <line x1=\"225\" y1=\"25\" x2=\"225\" y2=\"66\" />\n",
       "  <line x1=\"226\" y1=\"25\" x2=\"226\" y2=\"66\" />\n",
       "  <line x1=\"227\" y1=\"25\" x2=\"227\" y2=\"66\" />\n",
       "  <line x1=\"229\" y1=\"25\" x2=\"229\" y2=\"66\" />\n",
       "  <line x1=\"230\" y1=\"25\" x2=\"230\" y2=\"66\" />\n",
       "  <line x1=\"231\" y1=\"25\" x2=\"231\" y2=\"66\" />\n",
       "  <line x1=\"232\" y1=\"25\" x2=\"232\" y2=\"66\" />\n",
       "  <line x1=\"234\" y1=\"25\" x2=\"234\" y2=\"66\" />\n",
       "  <line x1=\"235\" y1=\"25\" x2=\"235\" y2=\"66\" />\n",
       "  <line x1=\"236\" y1=\"25\" x2=\"236\" y2=\"66\" />\n",
       "  <line x1=\"238\" y1=\"25\" x2=\"238\" y2=\"66\" />\n",
       "  <line x1=\"239\" y1=\"25\" x2=\"239\" y2=\"66\" />\n",
       "  <line x1=\"240\" y1=\"25\" x2=\"240\" y2=\"66\" />\n",
       "  <line x1=\"241\" y1=\"25\" x2=\"241\" y2=\"66\" />\n",
       "  <line x1=\"243\" y1=\"25\" x2=\"243\" y2=\"66\" />\n",
       "  <line x1=\"244\" y1=\"25\" x2=\"244\" y2=\"66\" />\n",
       "  <line x1=\"245\" y1=\"25\" x2=\"245\" y2=\"66\" />\n",
       "  <line x1=\"247\" y1=\"25\" x2=\"247\" y2=\"66\" />\n",
       "  <line x1=\"248\" y1=\"25\" x2=\"248\" y2=\"66\" />\n",
       "  <line x1=\"249\" y1=\"25\" x2=\"249\" y2=\"66\" />\n",
       "  <line x1=\"250\" y1=\"25\" x2=\"250\" y2=\"66\" />\n",
       "  <line x1=\"252\" y1=\"25\" x2=\"252\" y2=\"66\" />\n",
       "  <line x1=\"253\" y1=\"25\" x2=\"253\" y2=\"66\" />\n",
       "  <line x1=\"254\" y1=\"25\" x2=\"254\" y2=\"66\" />\n",
       "  <line x1=\"256\" y1=\"25\" x2=\"256\" y2=\"66\" style=\"stroke-width:2\" />\n",
       "\n",
       "  <!-- Colored Rectangle -->\n",
       "  <polygon points=\"215.47981964325686,25.479819643256864 256.04938867776684,25.479819643256864 256.04938867776684,66.68364906462428 215.47981964325686,66.68364906462428\" style=\"fill:#8B4903A0;stroke-width:0\"/>\n",
       "\n",
       "  <!-- Text -->\n",
       "  <text x=\"235.764604\" y=\"86.683649\" font-size=\"1.0rem\" font-weight=\"100\" text-anchor=\"middle\" >105</text>\n",
       "  <text x=\"276.049389\" y=\"46.081734\" font-size=\"1.0rem\" font-weight=\"100\" text-anchor=\"middle\" transform=\"rotate(-90,276.049389,46.081734)\">120</text>\n",
       "  <text x=\"192.739910\" y=\"73.943739\" font-size=\"1.0rem\" font-weight=\"100\" text-anchor=\"middle\" transform=\"rotate(45,192.739910,73.943739)\">202</text>\n",
       "</svg>\n",
       "        </td>\n",
       "    </tr>\n",
       "</table></div></div></li><li class='xr-section-item'><input id='section-f6308fe3-b380-4366-ab8c-0f3e2bf1f1ea' class='xr-section-summary-in' type='checkbox'  checked><label for='section-f6308fe3-b380-4366-ab8c-0f3e2bf1f1ea' class='xr-section-summary' >Coordinates: <span>(5)</span></label><div class='xr-section-inline-details'></div><div class='xr-section-details'><ul class='xr-var-list'><li class='xr-var-item'><div class='xr-var-name'><span class='xr-has-index'>x</span></div><div class='xr-var-dims'>(x)</div><div class='xr-var-dtype'>int64</div><div class='xr-var-preview xr-preview'>576 577 578 579 ... 644 645 646 647</div><input id='attrs-544957ff-88e6-4676-b3f4-12ff122b38ff' class='xr-var-attrs-in' type='checkbox' disabled><label for='attrs-544957ff-88e6-4676-b3f4-12ff122b38ff' title='Show/Hide attributes'><svg class='icon xr-icon-file-text2'><use xlink:href='#icon-file-text2'></use></svg></label><input id='data-48d5bd9b-597e-45ff-a2fb-f3e49864f8c8' class='xr-var-data-in' type='checkbox'><label for='data-48d5bd9b-597e-45ff-a2fb-f3e49864f8c8' title='Show/Hide data repr'><svg class='icon xr-icon-database'><use xlink:href='#icon-database'></use></svg></label><div class='xr-var-attrs'><dl class='xr-attrs'></dl></div><div class='xr-var-data'><pre>array([576, 577, 578, 579, 580, 581, 582, 583, 584, 585, 586, 587, 588, 589,\n",
       "       590, 591, 592, 593, 594, 595, 596, 597, 598, 599, 600, 601, 602, 603,\n",
       "       604, 605, 606, 607, 608, 609, 610, 611, 612, 613, 614, 615, 616, 617,\n",
       "       618, 619, 620, 621, 622, 623, 624, 625, 626, 627, 628, 629, 630, 631,\n",
       "       632, 633, 634, 635, 636, 637, 638, 639, 640, 641, 642, 643, 644, 645,\n",
       "       646, 647])</pre></div></li><li class='xr-var-item'><div class='xr-var-name'><span class='xr-has-index'>y</span></div><div class='xr-var-dims'>(y)</div><div class='xr-var-dtype'>int64</div><div class='xr-var-preview xr-preview'>0 1 2 3 4 5 ... 715 716 717 718 719</div><input id='attrs-18fe6659-ad62-4e2c-b244-178825d86862' class='xr-var-attrs-in' type='checkbox' disabled><label for='attrs-18fe6659-ad62-4e2c-b244-178825d86862' title='Show/Hide attributes'><svg class='icon xr-icon-file-text2'><use xlink:href='#icon-file-text2'></use></svg></label><input id='data-f5f45f79-16a0-4b37-b79e-d2d42c1a08b7' class='xr-var-data-in' type='checkbox'><label for='data-f5f45f79-16a0-4b37-b79e-d2d42c1a08b7' title='Show/Hide data repr'><svg class='icon xr-icon-database'><use xlink:href='#icon-database'></use></svg></label><div class='xr-var-attrs'><dl class='xr-attrs'></dl></div><div class='xr-var-data'><pre>array([  0,   1,   2, ..., 717, 718, 719], shape=(720,))</pre></div></li><li class='xr-var-item'><div class='xr-var-name'><span class='xr-has-index'>z</span></div><div class='xr-var-dims'>(z)</div><div class='xr-var-dtype'>int64</div><div class='xr-var-preview xr-preview'>1616 1617 1618 ... 1815 1816 1817</div><input id='attrs-79269822-938a-4970-abfc-3f9f0d353bbc' class='xr-var-attrs-in' type='checkbox' disabled><label for='attrs-79269822-938a-4970-abfc-3f9f0d353bbc' title='Show/Hide attributes'><svg class='icon xr-icon-file-text2'><use xlink:href='#icon-file-text2'></use></svg></label><input id='data-ff81a581-3c88-4c6d-bc4c-cdc8f915cbdd' class='xr-var-data-in' type='checkbox'><label for='data-ff81a581-3c88-4c6d-bc4c-cdc8f915cbdd' title='Show/Hide data repr'><svg class='icon xr-icon-database'><use xlink:href='#icon-database'></use></svg></label><div class='xr-var-attrs'><dl class='xr-attrs'></dl></div><div class='xr-var-data'><pre>array([1616, 1617, 1618, ..., 1815, 1816, 1817], shape=(202,))</pre></div></li><li class='xr-var-item'><div class='xr-var-name'><span class='xr-has-index'>time</span></div><div class='xr-var-dims'>(time)</div><div class='xr-var-dtype'>int64</div><div class='xr-var-preview xr-preview'>0 1 2 3 4 5 ... 115 116 117 118 119</div><input id='attrs-fd496a8d-cdce-4a43-8e71-efb79c64ceea' class='xr-var-attrs-in' type='checkbox' disabled><label for='attrs-fd496a8d-cdce-4a43-8e71-efb79c64ceea' title='Show/Hide attributes'><svg class='icon xr-icon-file-text2'><use xlink:href='#icon-file-text2'></use></svg></label><input id='data-0b91e45a-f14d-491b-9f84-84939cc11b02' class='xr-var-data-in' type='checkbox'><label for='data-0b91e45a-f14d-491b-9f84-84939cc11b02' title='Show/Hide data repr'><svg class='icon xr-icon-database'><use xlink:href='#icon-database'></use></svg></label><div class='xr-var-attrs'><dl class='xr-attrs'></dl></div><div class='xr-var-data'><pre>array([  0,   1,   2,   3,   4,   5,   6,   7,   8,   9,  10,  11,  12,  13,\n",
       "        14,  15,  16,  17,  18,  19,  20,  21,  22,  23,  24,  25,  26,  27,\n",
       "        28,  29,  30,  31,  32,  33,  34,  35,  36,  37,  38,  39,  40,  41,\n",
       "        42,  43,  44,  45,  46,  47,  48,  49,  50,  51,  52,  53,  54,  55,\n",
       "        56,  57,  58,  59,  60,  61,  62,  63,  64,  65,  66,  67,  68,  69,\n",
       "        70,  71,  72,  73,  74,  75,  76,  77,  78,  79,  80,  81,  82,  83,\n",
       "        84,  85,  86,  87,  88,  89,  90,  91,  92,  93,  94,  95,  96,  97,\n",
       "        98,  99, 100, 101, 102, 103, 104, 105, 106, 107, 108, 109, 110, 111,\n",
       "       112, 113, 114, 115, 116, 117, 118, 119])</pre></div></li><li class='xr-var-item'><div class='xr-var-name'><span class='xr-has-index'>feature</span></div><div class='xr-var-dims'>(feature)</div><div class='xr-var-dtype'>&lt;U27</div><div class='xr-var-preview xr-preview'>&#x27;Gaussian_4D_Blur_0.0&#x27; ... &#x27;diff...</div><input id='attrs-a95d9b16-4ebb-4aa8-9766-f77a2c16c29e' class='xr-var-attrs-in' type='checkbox' disabled><label for='attrs-a95d9b16-4ebb-4aa8-9766-f77a2c16c29e' title='Show/Hide attributes'><svg class='icon xr-icon-file-text2'><use xlink:href='#icon-file-text2'></use></svg></label><input id='data-14d70992-03dc-476b-95b6-d772df41fbd0' class='xr-var-data-in' type='checkbox'><label for='data-14d70992-03dc-476b-95b6-d772df41fbd0' title='Show/Hide data repr'><svg class='icon xr-icon-database'><use xlink:href='#icon-database'></use></svg></label><div class='xr-var-attrs'><dl class='xr-attrs'></dl></div><div class='xr-var-data'><pre>array([&#x27;Gaussian_4D_Blur_0.0&#x27;, &#x27;Gaussian_4D_Blur_1.0&#x27;, &#x27;Gaussian_4D_Blur_3.0&#x27;,\n",
       "       &#x27;Gaussian_4D_Blur_6.0&#x27;, &#x27;Gaussian_4D_Blur_2.0&#x27;,\n",
       "       &#x27;diff_of_gauss_4D_1.0_0.0&#x27;, &#x27;diff_of_gauss_4D_3.0_0.0&#x27;,\n",
       "       &#x27;diff_of_gauss_4D_6.0_0.0&#x27;, &#x27;diff_of_gauss_4D_2.0_0.0&#x27;,\n",
       "       &#x27;diff_of_gauss_4D_3.0_1.0&#x27;, &#x27;diff_of_gauss_4D_6.0_1.0&#x27;,\n",
       "       &#x27;diff_of_gauss_4D_2.0_1.0&#x27;, &#x27;diff_of_gauss_4D_6.0_3.0&#x27;,\n",
       "       &#x27;diff_of_gauss_4D_2.0_3.0&#x27;, &#x27;diff_of_gauss_4D_2.0_6.0&#x27;,\n",
       "       &#x27;Gradient_sigma_1.0_0&#x27;, &#x27;Gradient_sigma_1.0_1&#x27;, &#x27;Gradient_sigma_1.0_2&#x27;,\n",
       "       &#x27;Gradient_sigma_1.0_3&#x27;, &#x27;hessian_sigma_1.0_00&#x27;, &#x27;hessian_sigma_1.0_01&#x27;,\n",
       "       &#x27;hessian_sigma_1.0_02&#x27;, &#x27;hessian_sigma_1.0_03&#x27;, &#x27;hessian_sigma_1.0_11&#x27;,\n",
       "       &#x27;hessian_sigma_1.0_12&#x27;, &#x27;hessian_sigma_1.0_13&#x27;, &#x27;hessian_sigma_1.0_22&#x27;,\n",
       "       &#x27;hessian_sigma_1.0_23&#x27;, &#x27;hessian_sigma_1.0_33&#x27;, &#x27;Gradient_sigma_3.0_0&#x27;,\n",
       "       &#x27;Gradient_sigma_3.0_1&#x27;, &#x27;Gradient_sigma_3.0_2&#x27;, &#x27;Gradient_sigma_3.0_3&#x27;,\n",
       "       &#x27;hessian_sigma_3.0_00&#x27;, &#x27;hessian_sigma_3.0_01&#x27;, &#x27;hessian_sigma_3.0_02&#x27;,\n",
       "       &#x27;hessian_sigma_3.0_03&#x27;, &#x27;hessian_sigma_3.0_11&#x27;, &#x27;hessian_sigma_3.0_12&#x27;,\n",
       "       &#x27;hessian_sigma_3.0_13&#x27;, &#x27;hessian_sigma_3.0_22&#x27;, &#x27;hessian_sigma_3.0_23&#x27;,\n",
       "       &#x27;hessian_sigma_3.0_33&#x27;, &#x27;Gradient_sigma_6.0_0&#x27;, &#x27;Gradient_sigma_6.0_1&#x27;,\n",
       "       &#x27;Gradient_sigma_6.0_2&#x27;, &#x27;Gradient_sigma_6.0_3&#x27;, &#x27;hessian_sigma_6.0_00&#x27;,\n",
       "       &#x27;hessian_sigma_6.0_01&#x27;, &#x27;hessian_sigma_6.0_02&#x27;, &#x27;hessian_sigma_6.0_03&#x27;,\n",
       "       &#x27;hessian_sigma_6.0_11&#x27;, &#x27;hessian_sigma_6.0_12&#x27;, &#x27;hessian_sigma_6.0_13&#x27;,\n",
       "       &#x27;hessian_sigma_6.0_22&#x27;, &#x27;hessian_sigma_6.0_23&#x27;, &#x27;hessian_sigma_6.0_33&#x27;,\n",
       "       &#x27;Gradient_sigma_2.0_0&#x27;, &#x27;Gradient_sigma_2.0_1&#x27;, &#x27;Gradient_sigma_2.0_2&#x27;,\n",
       "       &#x27;Gradient_sigma_2.0_3&#x27;, &#x27;hessian_sigma_2.0_00&#x27;, &#x27;hessian_sigma_2.0_01&#x27;,\n",
       "       &#x27;hessian_sigma_2.0_02&#x27;, &#x27;hessian_sigma_2.0_03&#x27;, &#x27;hessian_sigma_2.0_11&#x27;,\n",
       "       &#x27;hessian_sigma_2.0_12&#x27;, &#x27;hessian_sigma_2.0_13&#x27;, &#x27;hessian_sigma_2.0_22&#x27;,\n",
       "       &#x27;hessian_sigma_2.0_23&#x27;, &#x27;hessian_sigma_2.0_33&#x27;, &#x27;Gaussian_time_0.0&#x27;,\n",
       "       &#x27;Gaussian_time_1.0&#x27;, &#x27;Gaussian_time_3.0&#x27;, &#x27;Gaussian_time_6.0&#x27;,\n",
       "       &#x27;Gaussian_time_2.0&#x27;, &#x27;diff_of_gauss_time_1.0_0.0&#x27;,\n",
       "       &#x27;diff_of_gauss_time_3.0_0.0&#x27;, &#x27;diff_of_gauss_time_6.0_0.0&#x27;,\n",
       "       &#x27;diff_of_gauss_time_2.0_0.0&#x27;, &#x27;diff_of_gauss_time_3.0_1.0&#x27;,\n",
       "       &#x27;diff_of_gauss_time_6.0_1.0&#x27;, &#x27;diff_of_gauss_time_2.0_1.0&#x27;,\n",
       "       &#x27;diff_of_gauss_time_6.0_3.0&#x27;, &#x27;diff_of_gauss_time_2.0_3.0&#x27;,\n",
       "       &#x27;diff_of_gauss_time_2.0_6.0&#x27;, &#x27;Gaussian_space_0.0&#x27;,\n",
       "       &#x27;Gaussian_space_1.0&#x27;, &#x27;Gaussian_space_3.0&#x27;, &#x27;Gaussian_space_6.0&#x27;,\n",
       "       &#x27;Gaussian_space_2.0&#x27;, &#x27;diff_of_gauss_space_1.0_0.0&#x27;,\n",
       "       &#x27;diff_of_gauss_space_3.0_0.0&#x27;, &#x27;diff_of_gauss_space_6.0_0.0&#x27;,\n",
       "       &#x27;diff_of_gauss_space_2.0_0.0&#x27;, &#x27;diff_of_gauss_space_3.0_1.0&#x27;,\n",
       "       &#x27;diff_of_gauss_space_6.0_1.0&#x27;, &#x27;diff_of_gauss_space_2.0_1.0&#x27;,\n",
       "       &#x27;diff_of_gauss_space_6.0_3.0&#x27;, &#x27;diff_of_gauss_space_2.0_3.0&#x27;,\n",
       "       &#x27;diff_of_gauss_space_2.0_6.0&#x27;, &#x27;diff_to_min_&#x27;,\n",
       "       &#x27;diff_temp_min_Gauss_2.0&#x27;, &#x27;diff_to_first_&#x27;, &#x27;diff_to_last_&#x27;],\n",
       "      dtype=&#x27;&lt;U27&#x27;)</pre></div></li></ul></div></li><li class='xr-section-item'><input id='section-df9214fb-c506-4d90-80ff-f906b8af8296' class='xr-section-summary-in' type='checkbox'  ><label for='section-df9214fb-c506-4d90-80ff-f906b8af8296' class='xr-section-summary' >Indexes: <span>(5)</span></label><div class='xr-section-inline-details'></div><div class='xr-section-details'><ul class='xr-var-list'><li class='xr-var-item'><div class='xr-index-name'><div>x</div></div><div class='xr-index-preview'>PandasIndex</div><input type='checkbox' disabled/><label></label><input id='index-6d85c8a3-083e-49f5-9133-810aa3b1af35' class='xr-index-data-in' type='checkbox'/><label for='index-6d85c8a3-083e-49f5-9133-810aa3b1af35' title='Show/Hide index repr'><svg class='icon xr-icon-database'><use xlink:href='#icon-database'></use></svg></label><div class='xr-index-data'><pre>PandasIndex(Index([576, 577, 578, 579, 580, 581, 582, 583, 584, 585, 586, 587, 588, 589,\n",
       "       590, 591, 592, 593, 594, 595, 596, 597, 598, 599, 600, 601, 602, 603,\n",
       "       604, 605, 606, 607, 608, 609, 610, 611, 612, 613, 614, 615, 616, 617,\n",
       "       618, 619, 620, 621, 622, 623, 624, 625, 626, 627, 628, 629, 630, 631,\n",
       "       632, 633, 634, 635, 636, 637, 638, 639, 640, 641, 642, 643, 644, 645,\n",
       "       646, 647],\n",
       "      dtype=&#x27;int64&#x27;, name=&#x27;x&#x27;))</pre></div></li><li class='xr-var-item'><div class='xr-index-name'><div>y</div></div><div class='xr-index-preview'>PandasIndex</div><input type='checkbox' disabled/><label></label><input id='index-0dffbff7-2d8f-4dae-839d-55802859135d' class='xr-index-data-in' type='checkbox'/><label for='index-0dffbff7-2d8f-4dae-839d-55802859135d' title='Show/Hide index repr'><svg class='icon xr-icon-database'><use xlink:href='#icon-database'></use></svg></label><div class='xr-index-data'><pre>PandasIndex(Index([  0,   1,   2,   3,   4,   5,   6,   7,   8,   9,\n",
       "       ...\n",
       "       710, 711, 712, 713, 714, 715, 716, 717, 718, 719],\n",
       "      dtype=&#x27;int64&#x27;, name=&#x27;y&#x27;, length=720))</pre></div></li><li class='xr-var-item'><div class='xr-index-name'><div>z</div></div><div class='xr-index-preview'>PandasIndex</div><input type='checkbox' disabled/><label></label><input id='index-a04fcd91-5cbb-4c8b-9f68-8d06a2e09b04' class='xr-index-data-in' type='checkbox'/><label for='index-a04fcd91-5cbb-4c8b-9f68-8d06a2e09b04' title='Show/Hide index repr'><svg class='icon xr-icon-database'><use xlink:href='#icon-database'></use></svg></label><div class='xr-index-data'><pre>PandasIndex(Index([1616, 1617, 1618, 1619, 1620, 1621, 1622, 1623, 1624, 1625,\n",
       "       ...\n",
       "       1808, 1809, 1810, 1811, 1812, 1813, 1814, 1815, 1816, 1817],\n",
       "      dtype=&#x27;int64&#x27;, name=&#x27;z&#x27;, length=202))</pre></div></li><li class='xr-var-item'><div class='xr-index-name'><div>time</div></div><div class='xr-index-preview'>PandasIndex</div><input type='checkbox' disabled/><label></label><input id='index-17014450-7eea-48a8-9431-8f630899a605' class='xr-index-data-in' type='checkbox'/><label for='index-17014450-7eea-48a8-9431-8f630899a605' title='Show/Hide index repr'><svg class='icon xr-icon-database'><use xlink:href='#icon-database'></use></svg></label><div class='xr-index-data'><pre>PandasIndex(Index([  0,   1,   2,   3,   4,   5,   6,   7,   8,   9,\n",
       "       ...\n",
       "       110, 111, 112, 113, 114, 115, 116, 117, 118, 119],\n",
       "      dtype=&#x27;int64&#x27;, name=&#x27;time&#x27;, length=120))</pre></div></li><li class='xr-var-item'><div class='xr-index-name'><div>feature</div></div><div class='xr-index-preview'>PandasIndex</div><input type='checkbox' disabled/><label></label><input id='index-56895eea-37bd-4e2f-b873-a09459e8d49f' class='xr-index-data-in' type='checkbox'/><label for='index-56895eea-37bd-4e2f-b873-a09459e8d49f' title='Show/Hide index repr'><svg class='icon xr-icon-database'><use xlink:href='#icon-database'></use></svg></label><div class='xr-index-data'><pre>PandasIndex(Index([&#x27;Gaussian_4D_Blur_0.0&#x27;, &#x27;Gaussian_4D_Blur_1.0&#x27;, &#x27;Gaussian_4D_Blur_3.0&#x27;,\n",
       "       &#x27;Gaussian_4D_Blur_6.0&#x27;, &#x27;Gaussian_4D_Blur_2.0&#x27;,\n",
       "       &#x27;diff_of_gauss_4D_1.0_0.0&#x27;, &#x27;diff_of_gauss_4D_3.0_0.0&#x27;,\n",
       "       &#x27;diff_of_gauss_4D_6.0_0.0&#x27;, &#x27;diff_of_gauss_4D_2.0_0.0&#x27;,\n",
       "       &#x27;diff_of_gauss_4D_3.0_1.0&#x27;,\n",
       "       ...\n",
       "       &#x27;diff_of_gauss_space_3.0_1.0&#x27;, &#x27;diff_of_gauss_space_6.0_1.0&#x27;,\n",
       "       &#x27;diff_of_gauss_space_2.0_1.0&#x27;, &#x27;diff_of_gauss_space_6.0_3.0&#x27;,\n",
       "       &#x27;diff_of_gauss_space_2.0_3.0&#x27;, &#x27;diff_of_gauss_space_2.0_6.0&#x27;,\n",
       "       &#x27;diff_to_min_&#x27;, &#x27;diff_temp_min_Gauss_2.0&#x27;, &#x27;diff_to_first_&#x27;,\n",
       "       &#x27;diff_to_last_&#x27;],\n",
       "      dtype=&#x27;object&#x27;, name=&#x27;feature&#x27;, length=105))</pre></div></li></ul></div></li><li class='xr-section-item'><input id='section-95426778-c354-4e4e-a639-c91d845f50df' class='xr-section-summary-in' type='checkbox' disabled ><label for='section-95426778-c354-4e4e-a639-c91d845f50df' class='xr-section-summary'  title='Expand/collapse section'>Attributes: <span>(0)</span></label><div class='xr-section-inline-details'></div><div class='xr-section-details'><dl class='xr-attrs'></dl></div></li></ul></div></div>"
      ],
      "text/plain": [
       "<xarray.DataArray 'feature_stack' (x: 72, y: 720, z: 202, time: 120,\n",
       "                                   feature: 105)> Size: 1TB\n",
       "dask.array<getitem, shape=(72, 720, 202, 120, 105), dtype=float64, chunksize=(36, 36, 36, 120, 1), chunktype=numpy.ndarray>\n",
       "Coordinates:\n",
       "  * x        (x) int64 576B 576 577 578 579 580 581 ... 642 643 644 645 646 647\n",
       "  * y        (y) int64 6kB 0 1 2 3 4 5 6 7 8 ... 712 713 714 715 716 717 718 719\n",
       "  * z        (z) int64 2kB 1616 1617 1618 1619 1620 ... 1813 1814 1815 1816 1817\n",
       "  * time     (time) int64 960B 0 1 2 3 4 5 6 7 ... 113 114 115 116 117 118 119\n",
       "  * feature  (feature) <U27 11kB 'Gaussian_4D_Blur_0.0' ... 'diff_to_last_'"
      ]
     },
     "execution_count": 121,
     "metadata": {},
     "output_type": "execute_result"
    }
   ],
   "source": [
    "dim1 = 72#better use multiple of chunk size !?  <-- tune this parameter to minimize imax, jmax and the size of the result\n",
    "\n",
    "# shp = feat.shape[:-1]\n",
    "shp = shp_raw\n",
    "\n",
    "# aspect ratio \n",
    "dimsize = np.sort(shp[:-1] )\n",
    "aspect = round_up(dimsize[-1]/dimsize[-2])\n",
    "\n",
    "# check length of loops to process entire dataset, estimate size of obtained sub-feature to avoid out-of-memory issues\n",
    "\n",
    "dim2 = int(round_up(aspect*dim1, 0))\n",
    "jmax = int(round_up(dimsize[-2]/dim1, 0))\n",
    "imax = int(round_up(dimsize[-1]/dim2, 0))\n",
    "\n",
    "i = imax -2\n",
    "j = jmax -2\n",
    "print(imax,jmax)\n",
    "feat[i*dim1:(i+1)*dim1,:,j*dim2:(j+1)*dim2,:,:]"
   ]
  },
  {
   "cell_type": "code",
   "execution_count": 122,
   "id": "0699380a-be7f-4a1d-ba4b-ce8c7b410957",
   "metadata": {
    "scrolled": true
   },
   "outputs": [],
   "source": [
    "# segs = np.zeros(feat.shape[:4], dtype=np.uint8)\n",
    "# segs = pickle.load(open(os.path.join(training_path, 'segs.p'),'rb')"
   ]
  },
  {
   "cell_type": "code",
   "execution_count": 123,
   "id": "53504d99-a4c4-4840-ab23-ec564e296b4d",
   "metadata": {},
   "outputs": [
    {
     "data": {
      "text/plain": [
       "'/home/esrf/rofische/data_robert/Tomcat_2/R_m4_33_050_2'"
      ]
     },
     "execution_count": 123,
     "metadata": {},
     "output_type": "execute_result"
    }
   ],
   "source": [
    "training_path_sample"
   ]
  },
  {
   "cell_type": "code",
   "execution_count": 124,
   "id": "19500c3c-2fdc-4504-ab26-09b3765dcd5c",
   "metadata": {},
   "outputs": [
    {
     "name": "stdout",
     "output_type": "stream",
     "text": [
      "0 0\n"
     ]
    }
   ],
   "source": [
    "piecepath = os.path.join(os.path.join(training_path_sample, 'segmentation_pieces')) #TODO: use the training path and not the temppath\n",
    "\n",
    "restart_i = 0\n",
    "restart_j = 0  #replace with the iterations you coudl reach before dask crashed\n",
    "# get from the written files the restart coordinates\n",
    "if os.path.exists(piecepath):\n",
    "    ij_mat = np.zeros((imax,jmax), dtype=bool)\n",
    "    for filename in os.listdir(piecepath):\n",
    "        i = int(filename.split('_')[2])\n",
    "        j = int(filename.split('_')[4])\n",
    "        ij_mat[i,j] = True\n",
    "        restart_i = int(np.min(np.argmin(ij_mat, axis=0)))\n",
    "        restart_j = int(np.max(np.argmin(ij_mat, axis=1)))\n",
    "\n",
    "print(restart_i, restart_j)"
   ]
  },
  {
   "cell_type": "code",
   "execution_count": null,
   "id": "558c2163-a274-450c-9007-25cf7bd77945",
   "metadata": {
    "scrolled": true
   },
   "outputs": [
    {
     "name": "stdout",
     "output_type": "stream",
     "text": [
      "1/10\n",
      "0\n"
     ]
    }
   ],
   "source": [
    "# restart_i = 0\n",
    "# restart_j = 14\n",
    "\n",
    "# elapsed walltime: subprocess.check_output(['squeue','-u', 'fische_r']).decode().strip().split(' ')[-8]\n",
    "\n",
    "# piecepath = os.path.join(os.path.join(temppath, 'segmentation_pieces'))\n",
    "if not os.path.exists(piecepath):\n",
    "    os.mkdir(piecepath)\n",
    "\n",
    "for i in range(restart_i,imax):\n",
    "    print(str(i+1)+'/'+str(imax))\n",
    "    start_j = 0\n",
    "    if i == restart_i:\n",
    "        start_j = restart_j\n",
    "    for j in range(start_j,jmax):\n",
    "        print(j)\n",
    "        part = feat[i*dim1:(i+1)*dim1,:,j*dim2:(j+1)*dim2,:,:] \n",
    "        part_idp = feat_idp[i*dim1:(i+1)*dim1,:,j*dim2:(j+1)*dim2,:]  \n",
    "        if 0 in part.shape:\n",
    "            print('hit the edge (one dimension 0), ignore')\n",
    "            continue\n",
    "        part = calculate_part(part)\n",
    "        client = get_the_client_back(client)\n",
    "        part_idp = calculate_part(part_idp)\n",
    "        client = get_the_client_back(client)\n",
    "        \n",
    "        part_idp = np.stack([part_idp]*shp[-1], axis=-2)[:,:,:,0,:,:] #expand in time, a bit ugly, could maybe more elegant\n",
    "        part = np.concatenate([part, part_idp], axis = -1)\n",
    "        del part_idp # drop the time independent part, is this garbage collected?\n",
    "\n",
    "        shp_orig = part.shape\n",
    "        num_feat = part.shape[-1]  \n",
    "        part = part.reshape(-1,num_feat)\n",
    "\n",
    "        seg = clf.predict(part).astype(np.uint8)\n",
    "\n",
    "        # put segs together when all calculated\n",
    "        seg = seg.reshape(shp_orig[:4])\n",
    "\n",
    "        pickle.dump(seg, open(os.path.join(piecepath, 'seg_i_'+str(i)+'_j_'+str(j)+'_.p'), 'wb'))"
   ]
  },
  {
   "cell_type": "code",
   "execution_count": 273,
   "id": "abb91dff-a5a0-42ac-ba88-52422e9b187c",
   "metadata": {},
   "outputs": [
    {
     "name": "stdout",
     "output_type": "stream",
     "text": [
      "You got until i 0 & j 0\n"
     ]
    }
   ],
   "source": [
    "print('You got until i',i,'& j',j)\n"
   ]
  },
  {
   "cell_type": "markdown",
   "id": "df4b7e8f-8b4f-48db-9f87-d83304091244",
   "metadata": {},
   "source": [
    "### piece segmentation back together"
   ]
  },
  {
   "cell_type": "code",
   "execution_count": null,
   "id": "8ede4145-bbab-493a-b5ae-fb8ca981543a",
   "metadata": {},
   "outputs": [],
   "source": [
    "segs = np.zeros(shp_raw, dtype=np.uint8)\n",
    "\n",
    "for filename in os.listdir(piecepath):\n",
    "    i = int(filename.split('_')[2])\n",
    "    j = int(filename.split('_')[4])\n",
    "    ### not sure if this switch cases are necessary\n",
    "    seg = pickle.load(open(os.path.join(piecepath, filename),'rb'))\n",
    "    if i < imax-1 and j < jmax-1:\n",
    "        segs[i*dim1:(i+1)*dim1,:,j*dim2:(j+1)*dim2,:] = seg\n",
    "    elif not i < imax-1 and j < jmax-1:\n",
    "        segs[i*dim1:,:,j*dim2:(j+1)*dim2,:] =  seg\n",
    "    elif not j < jmax-1 and i < imax-1:\n",
    "        segs[i*dim1:(i+1)*dim1,:,j*dim2:,:] =  seg\n",
    "    else:\n",
    "        segs[i*dim1:,:,j*dim2:,:] = seg\n",
    "    "
   ]
  },
  {
   "cell_type": "markdown",
   "id": "f17dd106-e0be-46f9-96e0-4a2daecdbac5",
   "metadata": {},
   "source": [
    "### save result to disk when full volume has been processed"
   ]
  },
  {
   "cell_type": "code",
   "execution_count": null,
   "id": "8632bff7-e96f-4011-abde-e804e1245d1c",
   "metadata": {
    "tags": []
   },
   "outputs": [],
   "source": [
    "# TODO: include metadata in segmented nc\n",
    "\n",
    "shp = segs.shape\n",
    "segdata = xr.Dataset({'segmented': (['x','y','z','timestep'], segs),\n",
    "                     't_utc': ('timestep', t_utc),\n",
    "                     'time': ('timestep', time)},\n",
    "                               coords = {'x': np.arange(shp[0]),\n",
    "                               'y': np.arange(shp[1]),\n",
    "                               'z': np.arange(shp[2]),\n",
    "                               'timestep': np.arange(shp[3]),\n",
    "                               'feature': TS.combined_feature_names}\n",
    "                     )\n",
    "segdata.attrs = data.attrs.copy()\n",
    "segdata.attrs['pytrain_git'] = pytrain_git_sha"
   ]
  },
  {
   "cell_type": "code",
   "execution_count": null,
   "id": "f37888c8-a425-4338-9bb4-e79c5f1b82e8",
   "metadata": {
    "tags": []
   },
   "outputs": [],
   "source": [
    "segpath = os.path.join(training_path_sample, sample+'_segmentation.nc')"
   ]
  },
  {
   "cell_type": "code",
   "execution_count": null,
   "id": "9b10814b-a909-4aa4-ac9f-6267b1a662bf",
   "metadata": {
    "tags": []
   },
   "outputs": [],
   "source": [
    "segdata.to_netcdf(segpath)"
   ]
  },
  {
   "cell_type": "code",
   "execution_count": null,
   "id": "2d68ce6a-96d1-44d0-95f9-673e858c9509",
   "metadata": {},
   "outputs": [],
   "source": []
  }
 ],
 "metadata": {
  "kernelspec": {
   "display_name": "Python 3 (ipykernel)",
   "language": "python",
   "name": "python3"
  },
  "language_info": {
   "codemirror_mode": {
    "name": "ipython",
    "version": 3
   },
   "file_extension": ".py",
   "mimetype": "text/x-python",
   "name": "python",
   "nbconvert_exporter": "python",
   "pygments_lexer": "ipython3",
   "version": "3.12.9"
  }
 },
 "nbformat": 4,
 "nbformat_minor": 5
}
