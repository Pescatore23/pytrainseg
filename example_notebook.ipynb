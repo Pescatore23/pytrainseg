{
 "cells": [
  {
   "cell_type": "markdown",
   "id": "b2e0202e-fa47-4462-91f5-a066a2d3c01b",
   "metadata": {},
   "source": [
    "# Example: Segment water in GDL to quantify influence of liquid water on electrochemistry"
   ]
  },
  {
   "cell_type": "code",
   "execution_count": 1,
   "id": "18d12790-31e0-4677-8f13-abbf958444a3",
   "metadata": {
    "tags": []
   },
   "outputs": [
    {
     "ename": "NameError",
     "evalue": "name 'gitpath' is not defined",
     "output_type": "error",
     "traceback": [
      "\u001b[0;31m---------------------------------------------------------------------------\u001b[0m",
      "\u001b[0;31mNameError\u001b[0m                                 Traceback (most recent call last)",
      "Cell \u001b[0;32mIn[1], line 53\u001b[0m\n\u001b[1;32m     51\u001b[0m \u001b[38;5;66;03m# fetch githash\u001b[39;00m\n\u001b[1;32m     52\u001b[0m cwd \u001b[38;5;241m=\u001b[39m os\u001b[38;5;241m.\u001b[39mgetcwd()\n\u001b[0;32m---> 53\u001b[0m os\u001b[38;5;241m.\u001b[39mchdir(\u001b[43mgitpath\u001b[49m)\n\u001b[1;32m     54\u001b[0m git_sha \u001b[38;5;241m=\u001b[39m subprocess\u001b[38;5;241m.\u001b[39mcheck_output([\u001b[38;5;124m'\u001b[39m\u001b[38;5;124mgit\u001b[39m\u001b[38;5;124m'\u001b[39m, \u001b[38;5;124m'\u001b[39m\u001b[38;5;124mrev-parse\u001b[39m\u001b[38;5;124m'\u001b[39m, \u001b[38;5;124m'\u001b[39m\u001b[38;5;124m--short\u001b[39m\u001b[38;5;124m'\u001b[39m, \u001b[38;5;124m'\u001b[39m\u001b[38;5;124mHEAD\u001b[39m\u001b[38;5;124m'\u001b[39m])\u001b[38;5;241m.\u001b[39mdecode()\u001b[38;5;241m.\u001b[39mstrip()\n\u001b[1;32m     55\u001b[0m githash \u001b[38;5;241m=\u001b[39m subprocess\u001b[38;5;241m.\u001b[39mcheck_output([\u001b[38;5;124m'\u001b[39m\u001b[38;5;124mgit\u001b[39m\u001b[38;5;124m'\u001b[39m, \u001b[38;5;124m'\u001b[39m\u001b[38;5;124mrev-parse\u001b[39m\u001b[38;5;124m'\u001b[39m, \u001b[38;5;124m'\u001b[39m\u001b[38;5;124mHEAD\u001b[39m\u001b[38;5;124m'\u001b[39m])\u001b[38;5;241m.\u001b[39mdecode()\u001b[38;5;241m.\u001b[39mstrip()\n",
      "\u001b[0;31mNameError\u001b[0m: name 'gitpath' is not defined"
     ]
    }
   ],
   "source": [
    "# modules\n",
    "import os\n",
    "import xarray as xr\n",
    "import matplotlib.pyplot as plt\n",
    "import numpy as np\n",
    "import dask\n",
    "import dask.array\n",
    "from scipy import ndimage\n",
    "from skimage import filters, feature, io\n",
    "from skimage.morphology import disk,ball\n",
    "import sys\n",
    "from itertools import combinations_with_replacement\n",
    "import pickle\n",
    "import imageio\n",
    "import json\n",
    "from dask.distributed import Client, LocalCluster\n",
    "import subprocess\n",
    "import gc\n",
    "import h5py\n",
    "import logging\n",
    "import warnings\n",
    "warnings.filterwarnings('ignore')\n",
    "\n",
    "from dask import config as cfg\n",
    "\n",
    "# did not see noticeable effects:\n",
    "cfg.set({'distributed.scheduler.worker-ttl': None, # Workaround so that dask does not kill workers while they are busy fetching data: https://dask.discourse.group/t/dask-workers-killed-because-of-heartbeat-fail/856, maybe this helps: https://www.youtube.com/watch?v=vF2VItVU5zg?\n",
    "        'distributed.admin.low-level-log-length': 100 #potential workaround for ballooning scheduler memory https://baumgartner.io/posts/how-to-reduce-memory-usage-of-dask-scheduler/\n",
    "        })\n",
    "\n",
    "# get the ML functions, TODO: make a library once it works/is in a stable state\n",
    "pytrainpath = '/mpc/homes/fische_r/lib/pytrainseg' #path of git repo\n",
    "cwd = os.getcwd()\n",
    "os.chdir(pytrainpath)\n",
    "from filter_functions import image_filter\n",
    "import training_functions as tfs\n",
    "from training_functions import train_segmentation\n",
    "from segmentation import segmentation\n",
    "pytrain_git_sha = subprocess.check_output(['git', 'rev-parse', '--short', 'HEAD']).decode().strip()\n",
    "os.chdir(cwd)\n",
    "\n",
    "#paths\n",
    "toppath = '/mpc/homes/fische_r/NAS/DASCOELY'\n",
    "toppathSSD = '/mnt/SSD/fische_r/COELY'\n",
    "temppath = '/mnt/SSD/fische_r/tmp'\n",
    "training_path =  '/mnt/SSD/fische_r/COELY/05_water_GDL_ML/'\n",
    "# memlim = '840GB'\n",
    "memlim = '440GB' #per worker, sum should be leave some head room, needs experimenting to find right balance, sometimes there is unexplainable memeroy demand by dask\n",
    "\n",
    "path_04_4D = os.path.join(toppathSSD, '04_lowpass_filtered_4D')\n",
    "# fetch githash\n",
    "cwd = os.getcwd()\n",
    "\n",
    "# provide the path of the pytrainseg repo\n",
    "gitpath = ''\n",
    "os.chdir(gitpath)\n",
    "git_sha = subprocess.check_output(['git', 'rev-parse', '--short', 'HEAD']).decode().strip()\n",
    "githash = subprocess.check_output(['git', 'rev-parse', 'HEAD']).decode().strip()\n",
    "os.chdir(cwd)"
   ]
  },
  {
   "cell_type": "markdown",
   "id": "4c87d6c7-b66b-4760-9514-3bd771c1b981",
   "metadata": {},
   "source": [
    "### functionalities for interactive training"
   ]
  },
  {
   "cell_type": "code",
   "execution_count": 2,
   "id": "5e71b819-2866-4d0c-b3ed-01f137baa0a5",
   "metadata": {
    "tags": []
   },
   "outputs": [],
   "source": [
    "from ipywidgets import Image\n",
    "from ipywidgets import ColorPicker, IntSlider, link, AppLayout, HBox\n",
    "from ipycanvas import  hold_canvas,  MultiCanvas #RoughCanvas,Canvas,\n",
    "\n",
    "def on_mouse_down(x, y):\n",
    "    global drawing\n",
    "    global position\n",
    "    global shape\n",
    "    drawing = True\n",
    "    position = (x, y)\n",
    "    shape = [position]\n",
    "\n",
    "def on_mouse_move(x, y):\n",
    "    global drawing\n",
    "    global position\n",
    "    global shape\n",
    "    if not drawing:\n",
    "        return\n",
    "    with hold_canvas():\n",
    "        canvas.stroke_line(position[0], position[1], x, y)\n",
    "        position = (x, y)\n",
    "    shape.append(position)\n",
    "\n",
    "def on_mouse_up(x, y):\n",
    "    global drawing\n",
    "    global positiondu\n",
    "    global shape\n",
    "    drawing = False\n",
    "    with hold_canvas():\n",
    "        canvas.stroke_line(position[0], position[1], x, y)\n",
    "        canvas.fill_polygon(shape)\n",
    "    shape = []\n",
    "    \n",
    "def display_feature(i, TS, feat_stack):\n",
    "    # print('selected '+TS.feature_names[i])\n",
    "    im = feat_stack[:,:,i]\n",
    "    im8 = im-im.min()\n",
    "    im8 = im8/im8.max()*255\n",
    "    return im8"
   ]
  },
  {
   "cell_type": "markdown",
   "id": "e0cca3d3-dbb1-4064-93cb-996b23edb5c0",
   "metadata": {},
   "source": [
    "### fire up dask, distributed Client currently not usable. No idea how not setting up dask affects the computation"
   ]
  },
  {
   "cell_type": "code",
   "execution_count": 3,
   "id": "0fbdc6da-382c-4123-9fef-e621f9049bf3",
   "metadata": {
    "tags": []
   },
   "outputs": [],
   "source": [
    "dask.config.config['temporary-directory'] = temppath\n",
    "def boot_client(dashboard_address=':35000', memory_limit = memlim, n_workers=2):\n",
    "    tempfolder = temppath  #a big SSD is a major adavantage to allow spill to disk and still be efficient. large dataset might crash with too small SSD or be slow with normal HDD\n",
    "    \n",
    "# here you have the option to use a virtual cluster or even slurm on ra (not attempted yet)\n",
    "    cluster = LocalCluster(dashboard_address=dashboard_address, memory_limit = memory_limit, n_workers=n_workers, silence_logs=logging.ERROR) #settings optimised for mpc2959, play around if needed, if you know nothing else is using RAM then you can almost go to the limit\n",
    "# # maybe less workers with more threads makes better use of shared memory \n",
    "#don't show warnings, too many seem to block execution\n",
    "    client = Client(cluster) \n",
    "    print('Dashboard at '+client.dashboard_link)\n",
    "    return client, cluster"
   ]
  },
  {
   "cell_type": "code",
   "execution_count": 4,
   "id": "45ae7fa8-6898-495d-99af-ce03629f58c8",
   "metadata": {},
   "outputs": [
    {
     "name": "stdout",
     "output_type": "stream",
     "text": [
      "Dashboard at http://127.0.0.1:35000/status\n"
     ]
    }
   ],
   "source": [
    "client, cluster = boot_client()"
   ]
  },
  {
   "cell_type": "code",
   "execution_count": 5,
   "id": "9e633111-d456-40ec-8f36-33d0da691094",
   "metadata": {},
   "outputs": [],
   "source": [
    "def reboot_client(client, dashboard_address=':35000', memory_limit = memlim, n_workers=2):\n",
    "    client.shutdown()\n",
    "    cluster = LocalCluster(dashboard_address=dashboard_address, memory_limit = memory_limit, n_workers=n_workers, silence_logs=logging.ERROR)\n",
    "    client = Client(cluster)\n",
    "    return client"
   ]
  },
  {
   "cell_type": "markdown",
   "id": "4228967c-0755-4d36-8ba3-504228c1bac8",
   "metadata": {},
   "source": [
    "## Data preparation"
   ]
  },
  {
   "cell_type": "markdown",
   "id": "ae5f2640-1277-45db-a144-60032be2d3c2",
   "metadata": {},
   "source": [
    "### let dask load the data\n",
    "4D data dimesnions should be in the order xyzt, important is that time is the last dimension"
   ]
  },
  {
   "cell_type": "code",
   "execution_count": 22,
   "id": "b0216ed5-ab65-46ef-9360-516bb1ba0553",
   "metadata": {},
   "outputs": [],
   "source": [
    "filename = '04_'+sample+'_lowpass_filteres_4D.nc'\n",
    "imagepath = os.path.join(path_04_4D, filename)"
   ]
  },
  {
   "cell_type": "code",
   "execution_count": null,
   "id": "f7d257cd-e491-42c0-8afd-27748de2abfb",
   "metadata": {},
   "outputs": [],
   "source": [
    "# get size of 4D array, can be achieved also differently\n",
    "data = xr.open_dataset(imagepath)\n",
    "shp = data['image_data'].shape #replace 'image_data' of the entry name in the h5py-file containing the 4D-data\n",
    "data.close()"
   ]
  },
  {
   "cell_type": "code",
   "execution_count": 23,
   "id": "0b60d6ea-5c12-446b-92aa-245ba5e859e7",
   "metadata": {},
   "outputs": [],
   "source": [
    "file = h5py.File(imagepath)\n"
   ]
  },
  {
   "cell_type": "code",
   "execution_count": 24,
   "id": "dda67f36-fc78-435f-8898-58bc4696dc0d",
   "metadata": {
    "tags": []
   },
   "outputs": [],
   "source": [
    "chunk_space = 36 #maybe experiment with this value\n",
    "chunks = (chunk_space,chunk_space,chunk_space,shp[-1]) #it seems useful to have all timesteps in one chunk\n",
    "da = dask.array.from_array(file['image_data'], chunks= chunks) #replace 'image_data' of the entry name in the h5py-file containing the 4D-data"
   ]
  },
  {
   "cell_type": "code",
   "execution_count": 25,
   "id": "66807e1f-237a-47b3-a4c0-8cbfc099b0d9",
   "metadata": {},
   "outputs": [
    {
     "data": {
      "text/html": [
       "<table>\n",
       "    <tr>\n",
       "        <td>\n",
       "            <table style=\"border-collapse: collapse;\">\n",
       "                <thead>\n",
       "                    <tr>\n",
       "                        <td> </td>\n",
       "                        <th> Array </th>\n",
       "                        <th> Chunk </th>\n",
       "                    </tr>\n",
       "                </thead>\n",
       "                <tbody>\n",
       "                    \n",
       "                    <tr>\n",
       "                        <th> Bytes </th>\n",
       "                        <td> 57.33 GiB </td>\n",
       "                        <td> 5.61 MiB </td>\n",
       "                    </tr>\n",
       "                    \n",
       "                    <tr>\n",
       "                        <th> Shape </th>\n",
       "                        <td> (750, 340, 1916, 63) </td>\n",
       "                        <td> (36, 36, 36, 63) </td>\n",
       "                    </tr>\n",
       "                    <tr>\n",
       "                        <th> Dask graph </th>\n",
       "                        <td colspan=\"2\"> 11340 chunks in 1 graph layer </td>\n",
       "                    </tr>\n",
       "                    <tr>\n",
       "                        <th> Data type </th>\n",
       "                        <td colspan=\"2\"> uint16 numpy.ndarray </td>\n",
       "                    </tr>\n",
       "                </tbody>\n",
       "            </table>\n",
       "        </td>\n",
       "        <td>\n",
       "        <svg width=\"338\" height=\"194\" style=\"stroke:rgb(0,0,0);stroke-width:1\" >\n",
       "\n",
       "  <!-- Horizontal lines -->\n",
       "  <line x1=\"0\" y1=\"0\" x2=\"46\" y2=\"0\" style=\"stroke-width:2\" />\n",
       "  <line x1=\"0\" y1=\"25\" x2=\"46\" y2=\"25\" style=\"stroke-width:2\" />\n",
       "\n",
       "  <!-- Vertical lines -->\n",
       "  <line x1=\"0\" y1=\"0\" x2=\"0\" y2=\"25\" style=\"stroke-width:2\" />\n",
       "  <line x1=\"2\" y1=\"0\" x2=\"2\" y2=\"25\" />\n",
       "  <line x1=\"4\" y1=\"0\" x2=\"4\" y2=\"25\" />\n",
       "  <line x1=\"6\" y1=\"0\" x2=\"6\" y2=\"25\" />\n",
       "  <line x1=\"9\" y1=\"0\" x2=\"9\" y2=\"25\" />\n",
       "  <line x1=\"11\" y1=\"0\" x2=\"11\" y2=\"25\" />\n",
       "  <line x1=\"13\" y1=\"0\" x2=\"13\" y2=\"25\" />\n",
       "  <line x1=\"15\" y1=\"0\" x2=\"15\" y2=\"25\" />\n",
       "  <line x1=\"18\" y1=\"0\" x2=\"18\" y2=\"25\" />\n",
       "  <line x1=\"20\" y1=\"0\" x2=\"20\" y2=\"25\" />\n",
       "  <line x1=\"22\" y1=\"0\" x2=\"22\" y2=\"25\" />\n",
       "  <line x1=\"24\" y1=\"0\" x2=\"24\" y2=\"25\" />\n",
       "  <line x1=\"27\" y1=\"0\" x2=\"27\" y2=\"25\" />\n",
       "  <line x1=\"29\" y1=\"0\" x2=\"29\" y2=\"25\" />\n",
       "  <line x1=\"31\" y1=\"0\" x2=\"31\" y2=\"25\" />\n",
       "  <line x1=\"33\" y1=\"0\" x2=\"33\" y2=\"25\" />\n",
       "  <line x1=\"36\" y1=\"0\" x2=\"36\" y2=\"25\" />\n",
       "  <line x1=\"38\" y1=\"0\" x2=\"38\" y2=\"25\" />\n",
       "  <line x1=\"40\" y1=\"0\" x2=\"40\" y2=\"25\" />\n",
       "  <line x1=\"42\" y1=\"0\" x2=\"42\" y2=\"25\" />\n",
       "  <line x1=\"45\" y1=\"0\" x2=\"45\" y2=\"25\" />\n",
       "  <line x1=\"46\" y1=\"0\" x2=\"46\" y2=\"25\" style=\"stroke-width:2\" />\n",
       "\n",
       "  <!-- Colored Rectangle -->\n",
       "  <polygon points=\"0.0,0.0 46.97286012526096,0.0 46.97286012526096,25.412616514582485 0.0,25.412616514582485\" style=\"fill:#ECB172A0;stroke-width:0\"/>\n",
       "\n",
       "  <!-- Text -->\n",
       "  <text x=\"23.486430\" y=\"45.412617\" font-size=\"1.0rem\" font-weight=\"100\" text-anchor=\"middle\" >750</text>\n",
       "  <text x=\"66.972860\" y=\"12.706308\" font-size=\"1.0rem\" font-weight=\"100\" text-anchor=\"middle\" transform=\"rotate(0,66.972860,12.706308)\">1</text>\n",
       "\n",
       "\n",
       "  <!-- Horizontal lines -->\n",
       "  <line x1=\"116\" y1=\"0\" x2=\"140\" y2=\"24\" style=\"stroke-width:2\" />\n",
       "  <line x1=\"116\" y1=\"2\" x2=\"140\" y2=\"26\" />\n",
       "  <line x1=\"116\" y1=\"6\" x2=\"140\" y2=\"31\" />\n",
       "  <line x1=\"116\" y1=\"11\" x2=\"140\" y2=\"35\" />\n",
       "  <line x1=\"116\" y1=\"13\" x2=\"140\" y2=\"37\" />\n",
       "  <line x1=\"116\" y1=\"18\" x2=\"140\" y2=\"42\" />\n",
       "  <line x1=\"116\" y1=\"22\" x2=\"140\" y2=\"46\" />\n",
       "  <line x1=\"116\" y1=\"24\" x2=\"140\" y2=\"49\" />\n",
       "  <line x1=\"116\" y1=\"29\" x2=\"140\" y2=\"53\" />\n",
       "  <line x1=\"116\" y1=\"33\" x2=\"140\" y2=\"58\" />\n",
       "  <line x1=\"116\" y1=\"36\" x2=\"140\" y2=\"60\" />\n",
       "  <line x1=\"116\" y1=\"40\" x2=\"140\" y2=\"64\" />\n",
       "  <line x1=\"116\" y1=\"45\" x2=\"140\" y2=\"69\" />\n",
       "  <line x1=\"116\" y1=\"47\" x2=\"140\" y2=\"71\" />\n",
       "  <line x1=\"116\" y1=\"51\" x2=\"140\" y2=\"76\" />\n",
       "  <line x1=\"116\" y1=\"56\" x2=\"140\" y2=\"80\" />\n",
       "  <line x1=\"116\" y1=\"60\" x2=\"140\" y2=\"85\" />\n",
       "  <line x1=\"116\" y1=\"63\" x2=\"140\" y2=\"87\" />\n",
       "  <line x1=\"116\" y1=\"67\" x2=\"140\" y2=\"92\" />\n",
       "  <line x1=\"116\" y1=\"72\" x2=\"140\" y2=\"96\" />\n",
       "  <line x1=\"116\" y1=\"74\" x2=\"140\" y2=\"98\" />\n",
       "  <line x1=\"116\" y1=\"78\" x2=\"140\" y2=\"103\" />\n",
       "  <line x1=\"116\" y1=\"83\" x2=\"140\" y2=\"107\" />\n",
       "  <line x1=\"116\" y1=\"85\" x2=\"140\" y2=\"110\" />\n",
       "  <line x1=\"116\" y1=\"90\" x2=\"140\" y2=\"114\" />\n",
       "  <line x1=\"116\" y1=\"94\" x2=\"140\" y2=\"119\" />\n",
       "  <line x1=\"116\" y1=\"96\" x2=\"140\" y2=\"121\" />\n",
       "  <line x1=\"116\" y1=\"101\" x2=\"140\" y2=\"125\" />\n",
       "  <line x1=\"116\" y1=\"105\" x2=\"140\" y2=\"130\" />\n",
       "  <line x1=\"116\" y1=\"108\" x2=\"140\" y2=\"132\" />\n",
       "  <line x1=\"116\" y1=\"112\" x2=\"140\" y2=\"137\" />\n",
       "  <line x1=\"116\" y1=\"117\" x2=\"140\" y2=\"141\" />\n",
       "  <line x1=\"116\" y1=\"120\" x2=\"140\" y2=\"144\" style=\"stroke-width:2\" />\n",
       "\n",
       "  <!-- Vertical lines -->\n",
       "  <line x1=\"116\" y1=\"0\" x2=\"116\" y2=\"120\" style=\"stroke-width:2\" />\n",
       "  <line x1=\"118\" y1=\"2\" x2=\"118\" y2=\"122\" />\n",
       "  <line x1=\"121\" y1=\"5\" x2=\"121\" y2=\"125\" />\n",
       "  <line x1=\"123\" y1=\"7\" x2=\"123\" y2=\"127\" />\n",
       "  <line x1=\"126\" y1=\"10\" x2=\"126\" y2=\"130\" />\n",
       "  <line x1=\"128\" y1=\"12\" x2=\"128\" y2=\"132\" />\n",
       "  <line x1=\"131\" y1=\"15\" x2=\"131\" y2=\"135\" />\n",
       "  <line x1=\"134\" y1=\"18\" x2=\"134\" y2=\"138\" />\n",
       "  <line x1=\"136\" y1=\"20\" x2=\"136\" y2=\"140\" />\n",
       "  <line x1=\"139\" y1=\"23\" x2=\"139\" y2=\"143\" />\n",
       "  <line x1=\"140\" y1=\"24\" x2=\"140\" y2=\"144\" style=\"stroke-width:2\" />\n",
       "\n",
       "  <!-- Colored Rectangle -->\n",
       "  <polygon points=\"116.0,0.0 140.40531339947452,24.405313399474522 140.40531339947452,144.40531339947452 116.0,120.0\" style=\"fill:#8B4903A0;stroke-width:0\"/>\n",
       "\n",
       "  <!-- Horizontal lines -->\n",
       "  <line x1=\"116\" y1=\"0\" x2=\"147\" y2=\"0\" style=\"stroke-width:2\" />\n",
       "  <line x1=\"118\" y1=\"2\" x2=\"150\" y2=\"2\" />\n",
       "  <line x1=\"121\" y1=\"5\" x2=\"153\" y2=\"5\" />\n",
       "  <line x1=\"123\" y1=\"7\" x2=\"155\" y2=\"7\" />\n",
       "  <line x1=\"126\" y1=\"10\" x2=\"158\" y2=\"10\" />\n",
       "  <line x1=\"128\" y1=\"12\" x2=\"160\" y2=\"12\" />\n",
       "  <line x1=\"131\" y1=\"15\" x2=\"163\" y2=\"15\" />\n",
       "  <line x1=\"134\" y1=\"18\" x2=\"166\" y2=\"18\" />\n",
       "  <line x1=\"136\" y1=\"20\" x2=\"168\" y2=\"20\" />\n",
       "  <line x1=\"139\" y1=\"23\" x2=\"171\" y2=\"23\" />\n",
       "  <line x1=\"140\" y1=\"24\" x2=\"172\" y2=\"24\" style=\"stroke-width:2\" />\n",
       "\n",
       "  <!-- Vertical lines -->\n",
       "  <line x1=\"116\" y1=\"0\" x2=\"140\" y2=\"24\" style=\"stroke-width:2\" />\n",
       "  <line x1=\"147\" y1=\"0\" x2=\"172\" y2=\"24\" style=\"stroke-width:2\" />\n",
       "\n",
       "  <!-- Colored Rectangle -->\n",
       "  <polygon points=\"116.0,0.0 147.94178290248797,0.0 172.3470963019625,24.405313399474522 140.40531339947452,24.405313399474522\" style=\"fill:#ECB172A0;stroke-width:0\"/>\n",
       "\n",
       "  <!-- Horizontal lines -->\n",
       "  <line x1=\"140\" y1=\"24\" x2=\"172\" y2=\"24\" style=\"stroke-width:2\" />\n",
       "  <line x1=\"140\" y1=\"26\" x2=\"172\" y2=\"26\" />\n",
       "  <line x1=\"140\" y1=\"31\" x2=\"172\" y2=\"31\" />\n",
       "  <line x1=\"140\" y1=\"35\" x2=\"172\" y2=\"35\" />\n",
       "  <line x1=\"140\" y1=\"37\" x2=\"172\" y2=\"37\" />\n",
       "  <line x1=\"140\" y1=\"42\" x2=\"172\" y2=\"42\" />\n",
       "  <line x1=\"140\" y1=\"46\" x2=\"172\" y2=\"46\" />\n",
       "  <line x1=\"140\" y1=\"49\" x2=\"172\" y2=\"49\" />\n",
       "  <line x1=\"140\" y1=\"53\" x2=\"172\" y2=\"53\" />\n",
       "  <line x1=\"140\" y1=\"58\" x2=\"172\" y2=\"58\" />\n",
       "  <line x1=\"140\" y1=\"60\" x2=\"172\" y2=\"60\" />\n",
       "  <line x1=\"140\" y1=\"64\" x2=\"172\" y2=\"64\" />\n",
       "  <line x1=\"140\" y1=\"69\" x2=\"172\" y2=\"69\" />\n",
       "  <line x1=\"140\" y1=\"71\" x2=\"172\" y2=\"71\" />\n",
       "  <line x1=\"140\" y1=\"76\" x2=\"172\" y2=\"76\" />\n",
       "  <line x1=\"140\" y1=\"80\" x2=\"172\" y2=\"80\" />\n",
       "  <line x1=\"140\" y1=\"85\" x2=\"172\" y2=\"85\" />\n",
       "  <line x1=\"140\" y1=\"87\" x2=\"172\" y2=\"87\" />\n",
       "  <line x1=\"140\" y1=\"92\" x2=\"172\" y2=\"92\" />\n",
       "  <line x1=\"140\" y1=\"96\" x2=\"172\" y2=\"96\" />\n",
       "  <line x1=\"140\" y1=\"98\" x2=\"172\" y2=\"98\" />\n",
       "  <line x1=\"140\" y1=\"103\" x2=\"172\" y2=\"103\" />\n",
       "  <line x1=\"140\" y1=\"107\" x2=\"172\" y2=\"107\" />\n",
       "  <line x1=\"140\" y1=\"110\" x2=\"172\" y2=\"110\" />\n",
       "  <line x1=\"140\" y1=\"114\" x2=\"172\" y2=\"114\" />\n",
       "  <line x1=\"140\" y1=\"119\" x2=\"172\" y2=\"119\" />\n",
       "  <line x1=\"140\" y1=\"121\" x2=\"172\" y2=\"121\" />\n",
       "  <line x1=\"140\" y1=\"125\" x2=\"172\" y2=\"125\" />\n",
       "  <line x1=\"140\" y1=\"130\" x2=\"172\" y2=\"130\" />\n",
       "  <line x1=\"140\" y1=\"132\" x2=\"172\" y2=\"132\" />\n",
       "  <line x1=\"140\" y1=\"137\" x2=\"172\" y2=\"137\" />\n",
       "  <line x1=\"140\" y1=\"141\" x2=\"172\" y2=\"141\" />\n",
       "  <line x1=\"140\" y1=\"144\" x2=\"172\" y2=\"144\" style=\"stroke-width:2\" />\n",
       "\n",
       "  <!-- Vertical lines -->\n",
       "  <line x1=\"140\" y1=\"24\" x2=\"140\" y2=\"144\" style=\"stroke-width:2\" />\n",
       "  <line x1=\"172\" y1=\"24\" x2=\"172\" y2=\"144\" style=\"stroke-width:2\" />\n",
       "\n",
       "  <!-- Colored Rectangle -->\n",
       "  <polygon points=\"140.40531339947452,24.405313399474522 172.3470963019625,24.405313399474522 172.3470963019625,144.40531339947452 140.40531339947452,144.40531339947452\" style=\"fill:#8B4903A0;stroke-width:0\"/>\n",
       "\n",
       "  <!-- Text -->\n",
       "  <text x=\"156.376205\" y=\"164.405313\" font-size=\"1.0rem\" font-weight=\"100\" text-anchor=\"middle\" >63</text>\n",
       "  <text x=\"192.347096\" y=\"84.405313\" font-size=\"1.0rem\" font-weight=\"100\" text-anchor=\"middle\" transform=\"rotate(-90,192.347096,84.405313)\">1916</text>\n",
       "  <text x=\"118.202657\" y=\"152.202657\" font-size=\"1.0rem\" font-weight=\"100\" text-anchor=\"middle\" transform=\"rotate(45,118.202657,152.202657)\">340</text>\n",
       "</svg>\n",
       "        </td>\n",
       "    </tr>\n",
       "</table>"
      ],
      "text/plain": [
       "dask.array<array, shape=(750, 340, 1916, 63), dtype=uint16, chunksize=(36, 36, 36, 63), chunktype=numpy.ndarray>"
      ]
     },
     "execution_count": 25,
     "metadata": {},
     "output_type": "execute_result"
    }
   ],
   "source": [
    "da #check the loaded dask array"
   ]
  },
  {
   "cell_type": "markdown",
   "id": "6b7ee45c-59e9-44de-9aeb-f91018510c72",
   "metadata": {},
   "source": [
    "### get data into image filter class"
   ]
  },
  {
   "cell_type": "code",
   "execution_count": 26,
   "id": "a68eb724-7ecc-44e0-a053-71e22166b561",
   "metadata": {
    "tags": []
   },
   "outputs": [],
   "source": [
    "IF = image_filter(sigmas = [0,1,3,6]) #based on the experience with weka, larger sigmas are useful and should be considered\n",
    "IF.data = da\n",
    "shp = da.shape\n",
    "coords = {'x': np.arange(shp[0]), 'y': np.arange(shp[1]), 'z': np.arange(shp[2]), 'time': np.arange(shp[3])}\n",
    "IF.original_dataset = xr.Dataset({'tomo': (['x','y','z','time'], da)},\n",
    "                                 coords = coords\n",
    "                                )"
   ]
  },
  {
   "cell_type": "markdown",
   "id": "512b2d36-9911-4cb8-94e0-37de5efc0a1e",
   "metadata": {},
   "source": [
    "### prepare features"
   ]
  },
  {
   "cell_type": "code",
   "execution_count": 27,
   "id": "43a7e59e-b6d6-4bc7-b175-63e6545de742",
   "metadata": {
    "scrolled": true,
    "tags": []
   },
   "outputs": [],
   "source": [
    "IF.prepare()"
   ]
  },
  {
   "cell_type": "code",
   "execution_count": 28,
   "id": "470dbe8f-f3f4-45b6-a829-3a0fe170d23f",
   "metadata": {
    "tags": []
   },
   "outputs": [],
   "source": [
    "IF.stack_features()"
   ]
  },
  {
   "cell_type": "code",
   "execution_count": 30,
   "id": "9b64faf6-38bb-4d89-9bdf-60672831c5f3",
   "metadata": {
    "tags": []
   },
   "outputs": [
    {
     "data": {
      "text/html": [
       "<table>\n",
       "    <tr>\n",
       "        <td>\n",
       "            <table style=\"border-collapse: collapse;\">\n",
       "                <thead>\n",
       "                    <tr>\n",
       "                        <td> </td>\n",
       "                        <th> Array </th>\n",
       "                        <th> Chunk </th>\n",
       "                    </tr>\n",
       "                </thead>\n",
       "                <tbody>\n",
       "                    \n",
       "                    <tr>\n",
       "                        <th> Bytes </th>\n",
       "                        <td> 23.07 TiB </td>\n",
       "                        <td> 22.43 MiB </td>\n",
       "                    </tr>\n",
       "                    \n",
       "                    <tr>\n",
       "                        <th> Shape </th>\n",
       "                        <td> (750, 340, 1916, 63, 103) </td>\n",
       "                        <td> (36, 36, 36, 63, 1) </td>\n",
       "                    </tr>\n",
       "                    <tr>\n",
       "                        <th> Dask graph </th>\n",
       "                        <td colspan=\"2\"> 1308615 chunks in 540 graph layers </td>\n",
       "                    </tr>\n",
       "                    <tr>\n",
       "                        <th> Data type </th>\n",
       "                        <td colspan=\"2\"> float64 numpy.ndarray </td>\n",
       "                    </tr>\n",
       "                </tbody>\n",
       "            </table>\n",
       "        </td>\n",
       "        <td>\n",
       "        <svg width=\"377\" height=\"152\" style=\"stroke:rgb(0,0,0);stroke-width:1\" >\n",
       "\n",
       "  <!-- Horizontal lines -->\n",
       "  <line x1=\"0\" y1=\"0\" x2=\"41\" y2=\"0\" style=\"stroke-width:2\" />\n",
       "  <line x1=\"0\" y1=\"2\" x2=\"41\" y2=\"2\" />\n",
       "  <line x1=\"0\" y1=\"4\" x2=\"41\" y2=\"4\" />\n",
       "  <line x1=\"0\" y1=\"6\" x2=\"41\" y2=\"6\" />\n",
       "  <line x1=\"0\" y1=\"9\" x2=\"41\" y2=\"9\" />\n",
       "  <line x1=\"0\" y1=\"11\" x2=\"41\" y2=\"11\" />\n",
       "  <line x1=\"0\" y1=\"13\" x2=\"41\" y2=\"13\" />\n",
       "  <line x1=\"0\" y1=\"15\" x2=\"41\" y2=\"15\" />\n",
       "  <line x1=\"0\" y1=\"18\" x2=\"41\" y2=\"18\" />\n",
       "  <line x1=\"0\" y1=\"20\" x2=\"41\" y2=\"20\" />\n",
       "  <line x1=\"0\" y1=\"22\" x2=\"41\" y2=\"22\" />\n",
       "  <line x1=\"0\" y1=\"24\" x2=\"41\" y2=\"24\" />\n",
       "  <line x1=\"0\" y1=\"27\" x2=\"41\" y2=\"27\" />\n",
       "  <line x1=\"0\" y1=\"29\" x2=\"41\" y2=\"29\" />\n",
       "  <line x1=\"0\" y1=\"31\" x2=\"41\" y2=\"31\" />\n",
       "  <line x1=\"0\" y1=\"33\" x2=\"41\" y2=\"33\" />\n",
       "  <line x1=\"0\" y1=\"36\" x2=\"41\" y2=\"36\" />\n",
       "  <line x1=\"0\" y1=\"38\" x2=\"41\" y2=\"38\" />\n",
       "  <line x1=\"0\" y1=\"40\" x2=\"41\" y2=\"40\" />\n",
       "  <line x1=\"0\" y1=\"42\" x2=\"41\" y2=\"42\" />\n",
       "  <line x1=\"0\" y1=\"45\" x2=\"41\" y2=\"45\" />\n",
       "  <line x1=\"0\" y1=\"46\" x2=\"41\" y2=\"46\" style=\"stroke-width:2\" />\n",
       "\n",
       "  <!-- Vertical lines -->\n",
       "  <line x1=\"0\" y1=\"0\" x2=\"0\" y2=\"46\" style=\"stroke-width:2\" />\n",
       "  <line x1=\"4\" y1=\"0\" x2=\"4\" y2=\"46\" />\n",
       "  <line x1=\"8\" y1=\"0\" x2=\"8\" y2=\"46\" />\n",
       "  <line x1=\"13\" y1=\"0\" x2=\"13\" y2=\"46\" />\n",
       "  <line x1=\"17\" y1=\"0\" x2=\"17\" y2=\"46\" />\n",
       "  <line x1=\"21\" y1=\"0\" x2=\"21\" y2=\"46\" />\n",
       "  <line x1=\"26\" y1=\"0\" x2=\"26\" y2=\"46\" />\n",
       "  <line x1=\"30\" y1=\"0\" x2=\"30\" y2=\"46\" />\n",
       "  <line x1=\"35\" y1=\"0\" x2=\"35\" y2=\"46\" />\n",
       "  <line x1=\"38\" y1=\"0\" x2=\"38\" y2=\"46\" />\n",
       "  <line x1=\"39\" y1=\"0\" x2=\"39\" y2=\"46\" />\n",
       "  <line x1=\"41\" y1=\"0\" x2=\"41\" y2=\"46\" style=\"stroke-width:2\" />\n",
       "\n",
       "  <!-- Colored Rectangle -->\n",
       "  <polygon points=\"0.0,0.0 41.48903277910669,0.0 41.48903277910669,46.97286012526096 0.0,46.97286012526096\" style=\"fill:#ECB172A0;stroke-width:0\"/>\n",
       "\n",
       "  <!-- Text -->\n",
       "  <text x=\"20.744516\" y=\"66.972860\" font-size=\"1.0rem\" font-weight=\"100\" text-anchor=\"middle\" >340</text>\n",
       "  <text x=\"61.489033\" y=\"23.486430\" font-size=\"1.0rem\" font-weight=\"100\" text-anchor=\"middle\" transform=\"rotate(-90,61.489033,23.486430)\">750</text>\n",
       "\n",
       "\n",
       "  <!-- Horizontal lines -->\n",
       "  <line x1=\"111\" y1=\"0\" x2=\"181\" y2=\"70\" style=\"stroke-width:2\" />\n",
       "  <line x1=\"111\" y1=\"31\" x2=\"181\" y2=\"102\" style=\"stroke-width:2\" />\n",
       "\n",
       "  <!-- Vertical lines -->\n",
       "  <line x1=\"111\" y1=\"0\" x2=\"111\" y2=\"31\" style=\"stroke-width:2\" />\n",
       "  <line x1=\"112\" y1=\"1\" x2=\"112\" y2=\"33\" />\n",
       "  <line x1=\"114\" y1=\"3\" x2=\"114\" y2=\"35\" />\n",
       "  <line x1=\"117\" y1=\"6\" x2=\"117\" y2=\"38\" />\n",
       "  <line x1=\"118\" y1=\"7\" x2=\"118\" y2=\"39\" />\n",
       "  <line x1=\"121\" y1=\"10\" x2=\"121\" y2=\"42\" />\n",
       "  <line x1=\"124\" y1=\"13\" x2=\"124\" y2=\"45\" />\n",
       "  <line x1=\"126\" y1=\"15\" x2=\"126\" y2=\"47\" />\n",
       "  <line x1=\"128\" y1=\"17\" x2=\"128\" y2=\"49\" />\n",
       "  <line x1=\"130\" y1=\"19\" x2=\"130\" y2=\"51\" />\n",
       "  <line x1=\"133\" y1=\"22\" x2=\"133\" y2=\"54\" />\n",
       "  <line x1=\"134\" y1=\"23\" x2=\"134\" y2=\"55\" />\n",
       "  <line x1=\"137\" y1=\"26\" x2=\"137\" y2=\"58\" />\n",
       "  <line x1=\"140\" y1=\"29\" x2=\"140\" y2=\"61\" />\n",
       "  <line x1=\"142\" y1=\"31\" x2=\"142\" y2=\"63\" />\n",
       "  <line x1=\"144\" y1=\"33\" x2=\"144\" y2=\"65\" />\n",
       "  <line x1=\"146\" y1=\"35\" x2=\"146\" y2=\"67\" />\n",
       "  <line x1=\"149\" y1=\"38\" x2=\"149\" y2=\"70\" />\n",
       "  <line x1=\"150\" y1=\"39\" x2=\"150\" y2=\"71\" />\n",
       "  <line x1=\"153\" y1=\"42\" x2=\"153\" y2=\"74\" />\n",
       "  <line x1=\"156\" y1=\"45\" x2=\"156\" y2=\"77\" />\n",
       "  <line x1=\"158\" y1=\"47\" x2=\"158\" y2=\"79\" />\n",
       "  <line x1=\"160\" y1=\"49\" x2=\"160\" y2=\"81\" />\n",
       "  <line x1=\"162\" y1=\"51\" x2=\"162\" y2=\"83\" />\n",
       "  <line x1=\"165\" y1=\"54\" x2=\"165\" y2=\"86\" />\n",
       "  <line x1=\"166\" y1=\"55\" x2=\"166\" y2=\"87\" />\n",
       "  <line x1=\"169\" y1=\"58\" x2=\"169\" y2=\"90\" />\n",
       "  <line x1=\"172\" y1=\"61\" x2=\"172\" y2=\"92\" />\n",
       "  <line x1=\"174\" y1=\"63\" x2=\"174\" y2=\"95\" />\n",
       "  <line x1=\"175\" y1=\"64\" x2=\"175\" y2=\"96\" />\n",
       "  <line x1=\"178\" y1=\"67\" x2=\"178\" y2=\"99\" />\n",
       "  <line x1=\"181\" y1=\"70\" x2=\"181\" y2=\"102\" />\n",
       "  <line x1=\"181\" y1=\"70\" x2=\"181\" y2=\"102\" style=\"stroke-width:2\" />\n",
       "\n",
       "  <!-- Colored Rectangle -->\n",
       "  <polygon points=\"111.0,0.0 181.58823529411765,70.58823529411765 181.58823529411765,102.53001819660562 111.0,31.941782902487976\" style=\"fill:#8B4903A0;stroke-width:0\"/>\n",
       "\n",
       "  <!-- Horizontal lines -->\n",
       "  <line x1=\"111\" y1=\"0\" x2=\"145\" y2=\"0\" style=\"stroke-width:2\" />\n",
       "  <line x1=\"112\" y1=\"1\" x2=\"147\" y2=\"1\" />\n",
       "  <line x1=\"114\" y1=\"3\" x2=\"149\" y2=\"3\" />\n",
       "  <line x1=\"117\" y1=\"6\" x2=\"152\" y2=\"6\" />\n",
       "  <line x1=\"118\" y1=\"7\" x2=\"153\" y2=\"7\" />\n",
       "  <line x1=\"121\" y1=\"10\" x2=\"156\" y2=\"10\" />\n",
       "  <line x1=\"124\" y1=\"13\" x2=\"159\" y2=\"13\" />\n",
       "  <line x1=\"126\" y1=\"15\" x2=\"161\" y2=\"15\" />\n",
       "  <line x1=\"128\" y1=\"17\" x2=\"163\" y2=\"17\" />\n",
       "  <line x1=\"130\" y1=\"19\" x2=\"165\" y2=\"19\" />\n",
       "  <line x1=\"133\" y1=\"22\" x2=\"168\" y2=\"22\" />\n",
       "  <line x1=\"134\" y1=\"23\" x2=\"169\" y2=\"23\" />\n",
       "  <line x1=\"137\" y1=\"26\" x2=\"172\" y2=\"26\" />\n",
       "  <line x1=\"140\" y1=\"29\" x2=\"175\" y2=\"29\" />\n",
       "  <line x1=\"142\" y1=\"31\" x2=\"177\" y2=\"31\" />\n",
       "  <line x1=\"144\" y1=\"33\" x2=\"179\" y2=\"33\" />\n",
       "  <line x1=\"146\" y1=\"35\" x2=\"181\" y2=\"35\" />\n",
       "  <line x1=\"149\" y1=\"38\" x2=\"184\" y2=\"38\" />\n",
       "  <line x1=\"150\" y1=\"39\" x2=\"185\" y2=\"39\" />\n",
       "  <line x1=\"153\" y1=\"42\" x2=\"188\" y2=\"42\" />\n",
       "  <line x1=\"156\" y1=\"45\" x2=\"191\" y2=\"45\" />\n",
       "  <line x1=\"158\" y1=\"47\" x2=\"193\" y2=\"47\" />\n",
       "  <line x1=\"160\" y1=\"49\" x2=\"195\" y2=\"49\" />\n",
       "  <line x1=\"162\" y1=\"51\" x2=\"197\" y2=\"51\" />\n",
       "  <line x1=\"165\" y1=\"54\" x2=\"200\" y2=\"54\" />\n",
       "  <line x1=\"166\" y1=\"55\" x2=\"201\" y2=\"55\" />\n",
       "  <line x1=\"169\" y1=\"58\" x2=\"204\" y2=\"58\" />\n",
       "  <line x1=\"172\" y1=\"61\" x2=\"206\" y2=\"61\" />\n",
       "  <line x1=\"174\" y1=\"63\" x2=\"209\" y2=\"63\" />\n",
       "  <line x1=\"175\" y1=\"64\" x2=\"210\" y2=\"64\" />\n",
       "  <line x1=\"178\" y1=\"67\" x2=\"213\" y2=\"67\" />\n",
       "  <line x1=\"181\" y1=\"70\" x2=\"216\" y2=\"70\" />\n",
       "  <line x1=\"181\" y1=\"70\" x2=\"216\" y2=\"70\" style=\"stroke-width:2\" />\n",
       "\n",
       "  <!-- Vertical lines -->\n",
       "  <line x1=\"111\" y1=\"0\" x2=\"181\" y2=\"70\" style=\"stroke-width:2\" />\n",
       "  <line x1=\"112\" y1=\"0\" x2=\"182\" y2=\"70\" />\n",
       "  <line x1=\"113\" y1=\"0\" x2=\"183\" y2=\"70\" />\n",
       "  <line x1=\"114\" y1=\"0\" x2=\"184\" y2=\"70\" />\n",
       "  <line x1=\"115\" y1=\"0\" x2=\"185\" y2=\"70\" />\n",
       "  <line x1=\"116\" y1=\"0\" x2=\"187\" y2=\"70\" />\n",
       "  <line x1=\"117\" y1=\"0\" x2=\"188\" y2=\"70\" />\n",
       "  <line x1=\"118\" y1=\"0\" x2=\"189\" y2=\"70\" />\n",
       "  <line x1=\"119\" y1=\"0\" x2=\"190\" y2=\"70\" />\n",
       "  <line x1=\"120\" y1=\"0\" x2=\"191\" y2=\"70\" />\n",
       "  <line x1=\"121\" y1=\"0\" x2=\"192\" y2=\"70\" />\n",
       "  <line x1=\"122\" y1=\"0\" x2=\"193\" y2=\"70\" />\n",
       "  <line x1=\"123\" y1=\"0\" x2=\"194\" y2=\"70\" />\n",
       "  <line x1=\"124\" y1=\"0\" x2=\"195\" y2=\"70\" />\n",
       "  <line x1=\"126\" y1=\"0\" x2=\"196\" y2=\"70\" />\n",
       "  <line x1=\"127\" y1=\"0\" x2=\"197\" y2=\"70\" />\n",
       "  <line x1=\"128\" y1=\"0\" x2=\"198\" y2=\"70\" />\n",
       "  <line x1=\"129\" y1=\"0\" x2=\"199\" y2=\"70\" />\n",
       "  <line x1=\"130\" y1=\"0\" x2=\"200\" y2=\"70\" />\n",
       "  <line x1=\"131\" y1=\"0\" x2=\"202\" y2=\"70\" />\n",
       "  <line x1=\"132\" y1=\"0\" x2=\"203\" y2=\"70\" />\n",
       "  <line x1=\"133\" y1=\"0\" x2=\"204\" y2=\"70\" />\n",
       "  <line x1=\"134\" y1=\"0\" x2=\"205\" y2=\"70\" />\n",
       "  <line x1=\"136\" y1=\"0\" x2=\"206\" y2=\"70\" />\n",
       "  <line x1=\"137\" y1=\"0\" x2=\"207\" y2=\"70\" />\n",
       "  <line x1=\"138\" y1=\"0\" x2=\"208\" y2=\"70\" />\n",
       "  <line x1=\"139\" y1=\"0\" x2=\"209\" y2=\"70\" />\n",
       "  <line x1=\"140\" y1=\"0\" x2=\"210\" y2=\"70\" />\n",
       "  <line x1=\"141\" y1=\"0\" x2=\"212\" y2=\"70\" />\n",
       "  <line x1=\"142\" y1=\"0\" x2=\"213\" y2=\"70\" />\n",
       "  <line x1=\"143\" y1=\"0\" x2=\"214\" y2=\"70\" />\n",
       "  <line x1=\"144\" y1=\"0\" x2=\"215\" y2=\"70\" />\n",
       "  <line x1=\"145\" y1=\"0\" x2=\"216\" y2=\"70\" style=\"stroke-width:2\" />\n",
       "\n",
       "  <!-- Colored Rectangle -->\n",
       "  <polygon points=\"111.0,0.0 145.9441637736988,0.0 216.53239906781644,70.58823529411765 181.58823529411765,70.58823529411765\" style=\"fill:#8B4903A0;stroke-width:0\"/>\n",
       "\n",
       "  <!-- Horizontal lines -->\n",
       "  <line x1=\"181\" y1=\"70\" x2=\"216\" y2=\"70\" style=\"stroke-width:2\" />\n",
       "  <line x1=\"181\" y1=\"102\" x2=\"216\" y2=\"102\" style=\"stroke-width:2\" />\n",
       "\n",
       "  <!-- Vertical lines -->\n",
       "  <line x1=\"181\" y1=\"70\" x2=\"181\" y2=\"102\" style=\"stroke-width:2\" />\n",
       "  <line x1=\"182\" y1=\"70\" x2=\"182\" y2=\"102\" />\n",
       "  <line x1=\"183\" y1=\"70\" x2=\"183\" y2=\"102\" />\n",
       "  <line x1=\"184\" y1=\"70\" x2=\"184\" y2=\"102\" />\n",
       "  <line x1=\"185\" y1=\"70\" x2=\"185\" y2=\"102\" />\n",
       "  <line x1=\"187\" y1=\"70\" x2=\"187\" y2=\"102\" />\n",
       "  <line x1=\"188\" y1=\"70\" x2=\"188\" y2=\"102\" />\n",
       "  <line x1=\"189\" y1=\"70\" x2=\"189\" y2=\"102\" />\n",
       "  <line x1=\"190\" y1=\"70\" x2=\"190\" y2=\"102\" />\n",
       "  <line x1=\"191\" y1=\"70\" x2=\"191\" y2=\"102\" />\n",
       "  <line x1=\"192\" y1=\"70\" x2=\"192\" y2=\"102\" />\n",
       "  <line x1=\"193\" y1=\"70\" x2=\"193\" y2=\"102\" />\n",
       "  <line x1=\"194\" y1=\"70\" x2=\"194\" y2=\"102\" />\n",
       "  <line x1=\"195\" y1=\"70\" x2=\"195\" y2=\"102\" />\n",
       "  <line x1=\"196\" y1=\"70\" x2=\"196\" y2=\"102\" />\n",
       "  <line x1=\"197\" y1=\"70\" x2=\"197\" y2=\"102\" />\n",
       "  <line x1=\"198\" y1=\"70\" x2=\"198\" y2=\"102\" />\n",
       "  <line x1=\"199\" y1=\"70\" x2=\"199\" y2=\"102\" />\n",
       "  <line x1=\"200\" y1=\"70\" x2=\"200\" y2=\"102\" />\n",
       "  <line x1=\"202\" y1=\"70\" x2=\"202\" y2=\"102\" />\n",
       "  <line x1=\"203\" y1=\"70\" x2=\"203\" y2=\"102\" />\n",
       "  <line x1=\"204\" y1=\"70\" x2=\"204\" y2=\"102\" />\n",
       "  <line x1=\"205\" y1=\"70\" x2=\"205\" y2=\"102\" />\n",
       "  <line x1=\"206\" y1=\"70\" x2=\"206\" y2=\"102\" />\n",
       "  <line x1=\"207\" y1=\"70\" x2=\"207\" y2=\"102\" />\n",
       "  <line x1=\"208\" y1=\"70\" x2=\"208\" y2=\"102\" />\n",
       "  <line x1=\"209\" y1=\"70\" x2=\"209\" y2=\"102\" />\n",
       "  <line x1=\"210\" y1=\"70\" x2=\"210\" y2=\"102\" />\n",
       "  <line x1=\"212\" y1=\"70\" x2=\"212\" y2=\"102\" />\n",
       "  <line x1=\"213\" y1=\"70\" x2=\"213\" y2=\"102\" />\n",
       "  <line x1=\"214\" y1=\"70\" x2=\"214\" y2=\"102\" />\n",
       "  <line x1=\"215\" y1=\"70\" x2=\"215\" y2=\"102\" />\n",
       "  <line x1=\"216\" y1=\"70\" x2=\"216\" y2=\"102\" style=\"stroke-width:2\" />\n",
       "\n",
       "  <!-- Colored Rectangle -->\n",
       "  <polygon points=\"181.58823529411765,70.58823529411765 216.53239906781644,70.58823529411765 216.53239906781644,102.53001819660562 181.58823529411765,102.53001819660562\" style=\"fill:#8B4903A0;stroke-width:0\"/>\n",
       "\n",
       "  <!-- Text -->\n",
       "  <text x=\"199.060317\" y=\"122.530018\" font-size=\"1.0rem\" font-weight=\"100\" text-anchor=\"middle\" >103</text>\n",
       "  <text x=\"236.532399\" y=\"86.559127\" font-size=\"1.0rem\" font-weight=\"100\" text-anchor=\"middle\" transform=\"rotate(0,236.532399,86.559127)\">63</text>\n",
       "  <text x=\"136.294118\" y=\"87.235901\" font-size=\"1.0rem\" font-weight=\"100\" text-anchor=\"middle\" transform=\"rotate(45,136.294118,87.235901)\">1916</text>\n",
       "</svg>\n",
       "        </td>\n",
       "    </tr>\n",
       "</table>"
      ],
      "text/plain": [
       "dask.array<stack, shape=(750, 340, 1916, 63, 103), dtype=float64, chunksize=(36, 36, 36, 63, 1), chunktype=numpy.ndarray>"
      ]
     },
     "execution_count": 30,
     "metadata": {},
     "output_type": "execute_result"
    }
   ],
   "source": [
    "IF.feature_stack #check the outlined feature stack"
   ]
  },
  {
   "cell_type": "code",
   "execution_count": 31,
   "id": "211364a8-dc50-41c8-be71-c79c42df2908",
   "metadata": {
    "scrolled": true,
    "tags": []
   },
   "outputs": [],
   "source": [
    "IF.make_xarray_nc()"
   ]
  },
  {
   "cell_type": "markdown",
   "id": "da251274-27b9-4f8e-854d-6f0bec7d173f",
   "metadata": {},
   "source": [
    "## Training"
   ]
  },
  {
   "cell_type": "markdown",
   "id": "e9e2123a-f35f-4edb-84c5-d969ad98daec",
   "metadata": {},
   "source": [
    "### set up objects"
   ]
  },
  {
   "cell_type": "code",
   "execution_count": 33,
   "id": "676bffbb-b75a-4b65-bebe-ecdf33cdb881",
   "metadata": {
    "tags": []
   },
   "outputs": [],
   "source": [
    "# where to save label data\n",
    "training_path_sample = os.path.join(training_path, sample)\n",
    "if not os.path.exists(training_path_sample):\n",
    "    os.mkdir(training_path_sample)"
   ]
  },
  {
   "cell_type": "code",
   "execution_count": 34,
   "id": "b5577d73-1fb1-4668-b704-89bd0ffe9e91",
   "metadata": {
    "tags": []
   },
   "outputs": [],
   "source": [
    "TS = train_segmentation(training_path=training_path_sample)\n",
    "TS.client = client\n",
    "IF.client = client\n",
    "TS.cluster = cluster\n",
    "IF.cluster = cluster\n",
    "TS.memlim = memlim\n",
    "TS.n_workers = 2"
   ]
  },
  {
   "cell_type": "code",
   "execution_count": 35,
   "id": "a8d8d911-acaa-49e4-8e8a-6a57e9d7965d",
   "metadata": {
    "tags": []
   },
   "outputs": [],
   "source": [
    "# TS.training_dict_full = {}"
   ]
  },
  {
   "cell_type": "code",
   "execution_count": 36,
   "id": "a91b1361-1e5a-4e39-a49c-40c3d999577b",
   "metadata": {
    "tags": []
   },
   "outputs": [],
   "source": [
    "TS.import_lazy_feature_data(IF.result, IF.original_dataset)"
   ]
  },
  {
   "cell_type": "code",
   "execution_count": 37,
   "id": "829ffdcb-a08b-4474-97c3-db43c082543d",
   "metadata": {
    "tags": []
   },
   "outputs": [],
   "source": [
    "IF.combined_feature_names = list(IF.feature_names) + list(IF.feature_names_time_independent)"
   ]
  },
  {
   "cell_type": "code",
   "execution_count": 38,
   "id": "9c2c411a-18e6-4b7a-8aa1-c3989d4a487d",
   "metadata": {
    "tags": []
   },
   "outputs": [],
   "source": [
    "TS.combined_feature_names = IF.combined_feature_names"
   ]
  },
  {
   "cell_type": "code",
   "execution_count": 39,
   "id": "bc2536ae-993d-45dd-810d-b008769b265e",
   "metadata": {
    "scrolled": true
   },
   "outputs": [
    {
     "data": {
      "text/plain": [
       "['Gaussian_4D_Blur_0.0',\n",
       " 'Gaussian_4D_Blur_1.0',\n",
       " 'Gaussian_4D_Blur_3.0',\n",
       " 'Gaussian_4D_Blur_6.0',\n",
       " 'Gaussian_4D_Blur_2.0',\n",
       " 'diff_of_gauss_4D_1.0_0.0',\n",
       " 'diff_of_gauss_4D_3.0_0.0',\n",
       " 'diff_of_gauss_4D_6.0_0.0',\n",
       " 'diff_of_gauss_4D_2.0_0.0',\n",
       " 'diff_of_gauss_4D_3.0_1.0',\n",
       " 'diff_of_gauss_4D_6.0_1.0',\n",
       " 'diff_of_gauss_4D_2.0_1.0',\n",
       " 'diff_of_gauss_4D_6.0_3.0',\n",
       " 'diff_of_gauss_4D_2.0_3.0',\n",
       " 'diff_of_gauss_4D_2.0_6.0',\n",
       " 'Gradient_sigma_1.0_0',\n",
       " 'Gradient_sigma_1.0_1',\n",
       " 'Gradient_sigma_1.0_2',\n",
       " 'Gradient_sigma_1.0_3',\n",
       " 'hessian_sigma_1.0_00',\n",
       " 'hessian_sigma_1.0_01',\n",
       " 'hessian_sigma_1.0_02',\n",
       " 'hessian_sigma_1.0_03',\n",
       " 'hessian_sigma_1.0_11',\n",
       " 'hessian_sigma_1.0_12',\n",
       " 'hessian_sigma_1.0_13',\n",
       " 'hessian_sigma_1.0_22',\n",
       " 'hessian_sigma_1.0_23',\n",
       " 'hessian_sigma_1.0_33',\n",
       " 'Gradient_sigma_3.0_0',\n",
       " 'Gradient_sigma_3.0_1',\n",
       " 'Gradient_sigma_3.0_2',\n",
       " 'Gradient_sigma_3.0_3',\n",
       " 'hessian_sigma_3.0_00',\n",
       " 'hessian_sigma_3.0_01',\n",
       " 'hessian_sigma_3.0_02',\n",
       " 'hessian_sigma_3.0_03',\n",
       " 'hessian_sigma_3.0_11',\n",
       " 'hessian_sigma_3.0_12',\n",
       " 'hessian_sigma_3.0_13',\n",
       " 'hessian_sigma_3.0_22',\n",
       " 'hessian_sigma_3.0_23',\n",
       " 'hessian_sigma_3.0_33',\n",
       " 'Gradient_sigma_6.0_0',\n",
       " 'Gradient_sigma_6.0_1',\n",
       " 'Gradient_sigma_6.0_2',\n",
       " 'Gradient_sigma_6.0_3',\n",
       " 'hessian_sigma_6.0_00',\n",
       " 'hessian_sigma_6.0_01',\n",
       " 'hessian_sigma_6.0_02',\n",
       " 'hessian_sigma_6.0_03',\n",
       " 'hessian_sigma_6.0_11',\n",
       " 'hessian_sigma_6.0_12',\n",
       " 'hessian_sigma_6.0_13',\n",
       " 'hessian_sigma_6.0_22',\n",
       " 'hessian_sigma_6.0_23',\n",
       " 'hessian_sigma_6.0_33',\n",
       " 'Gradient_sigma_2.0_0',\n",
       " 'Gradient_sigma_2.0_1',\n",
       " 'Gradient_sigma_2.0_2',\n",
       " 'Gradient_sigma_2.0_3',\n",
       " 'hessian_sigma_2.0_00',\n",
       " 'hessian_sigma_2.0_01',\n",
       " 'hessian_sigma_2.0_02',\n",
       " 'hessian_sigma_2.0_03',\n",
       " 'hessian_sigma_2.0_11',\n",
       " 'hessian_sigma_2.0_12',\n",
       " 'hessian_sigma_2.0_13',\n",
       " 'hessian_sigma_2.0_22',\n",
       " 'hessian_sigma_2.0_23',\n",
       " 'hessian_sigma_2.0_33',\n",
       " 'Gaussian_time_0.0',\n",
       " 'Gaussian_time_1.0',\n",
       " 'Gaussian_time_3.0',\n",
       " 'Gaussian_time_6.0',\n",
       " 'Gaussian_time_2.0',\n",
       " 'diff_of_gauss_time_1.0_0.0',\n",
       " 'diff_of_gauss_time_3.0_0.0',\n",
       " 'diff_of_gauss_time_6.0_0.0',\n",
       " 'diff_of_gauss_time_2.0_0.0',\n",
       " 'diff_of_gauss_time_3.0_1.0',\n",
       " 'diff_of_gauss_time_6.0_1.0',\n",
       " 'diff_of_gauss_time_2.0_1.0',\n",
       " 'diff_of_gauss_time_6.0_3.0',\n",
       " 'diff_of_gauss_time_2.0_3.0',\n",
       " 'diff_of_gauss_time_2.0_6.0',\n",
       " 'Gaussian_space_0.0',\n",
       " 'Gaussian_space_1.0',\n",
       " 'Gaussian_space_3.0',\n",
       " 'Gaussian_space_6.0',\n",
       " 'Gaussian_space_2.0',\n",
       " 'diff_of_gauss_space_1.0_0.0',\n",
       " 'diff_of_gauss_space_3.0_0.0',\n",
       " 'diff_of_gauss_space_6.0_0.0',\n",
       " 'diff_of_gauss_space_2.0_0.0',\n",
       " 'diff_of_gauss_space_3.0_1.0',\n",
       " 'diff_of_gauss_space_6.0_1.0',\n",
       " 'diff_of_gauss_space_2.0_1.0',\n",
       " 'diff_of_gauss_space_6.0_3.0',\n",
       " 'diff_of_gauss_space_2.0_3.0',\n",
       " 'diff_of_gauss_space_2.0_6.0',\n",
       " 'diff_to_min_',\n",
       " 'diff_temp_min_Gauss_2.0',\n",
       " 'full_temp_mean_',\n",
       " 'full_temp_min_',\n",
       " 'full_temp_min_Gauss_2.0']"
      ]
     },
     "execution_count": 39,
     "metadata": {},
     "output_type": "execute_result"
    }
   ],
   "source": [
    "TS.combined_feature_names #print out all features"
   ]
  },
  {
   "cell_type": "markdown",
   "id": "c6fcd46d-9e4d-4167-ad48-39feb2d2d8b1",
   "metadata": {
    "tags": []
   },
   "source": [
    "### interactive training"
   ]
  },
  {
   "cell_type": "markdown",
   "id": "860f4a50-d113-4f1a-a0e2-3cc24303dcea",
   "metadata": {},
   "source": [
    "#### check for existing training sets"
   ]
  },
  {
   "cell_type": "code",
   "execution_count": 40,
   "id": "a66df7f4-ad56-40ca-8f36-147bf642753d",
   "metadata": {
    "tags": []
   },
   "outputs": [
    {
     "data": {
      "text/plain": [
       "[]"
      ]
     },
     "execution_count": 40,
     "metadata": {},
     "output_type": "execute_result"
    }
   ],
   "source": [
    "existing_sets = os.listdir(os.path.join(training_path_sample, 'label_images'))\n",
    "existing_sets.sort()\n",
    "existing_sets"
   ]
  },
  {
   "cell_type": "code",
   "execution_count": 41,
   "id": "a72d39ff-a38c-47d5-a7ad-c015c00fb415",
   "metadata": {
    "tags": []
   },
   "outputs": [
    {
     "data": {
      "text/plain": [
       "'/mpc/homes/fische_r/NAS/DASCOELY/processing/05_water_GDL_ML/'"
      ]
     },
     "execution_count": 41,
     "metadata": {},
     "output_type": "execute_result"
    }
   ],
   "source": [
    "training_path"
   ]
  },
  {
   "cell_type": "code",
   "execution_count": 42,
   "id": "6ec3f726-7ff1-4a3a-876c-98ec4bf89a79",
   "metadata": {
    "tags": []
   },
   "outputs": [],
   "source": [
    "# you can load a compatible pickled training dict, check feature names\n",
    "# TS.training_dict = pickle.load(open(os.path.join(TS.training_path, pytrain_git_sha+'_training_dict.p'),'rb'))"
   ]
  },
  {
   "cell_type": "code",
   "execution_count": 43,
   "id": "f584347a-423e-40f2-a9c3-64ed0504a4d1",
   "metadata": {
    "tags": []
   },
   "outputs": [],
   "source": [
    "TS.training_dict = {}"
   ]
  },
  {
   "cell_type": "markdown",
   "id": "d96d4538-ba10-40dd-9da5-fea66813bd72",
   "metadata": {
    "tags": []
   },
   "source": [
    "#### re-train with existing label sets. clear the training dictionary if necessary (training_dict)"
   ]
  },
  {
   "cell_type": "code",
   "execution_count": 44,
   "id": "191820b0-1cf1-4dc3-b0d8-1098cd1f84dc",
   "metadata": {
    "scrolled": true,
    "tags": []
   },
   "outputs": [],
   "source": [
    "# TS.train()"
   ]
  },
  {
   "cell_type": "markdown",
   "id": "2b1e9874-0898-4eed-8264-722540398743",
   "metadata": {},
   "source": [
    "#### import training dict of other samples \n",
    "(replace sample name and repeat for multiple samples), if necessary check features for overlap"
   ]
  },
  {
   "cell_type": "code",
   "execution_count": 45,
   "id": "9ef7faa5-925a-4916-bc13-309364ab3e7c",
   "metadata": {
    "tags": []
   },
   "outputs": [],
   "source": [
    "# oldsample = '4'\n",
    "# oldgitsha = 'e42ad75' \n",
    "# training_dict_old = pickle.load(open(os.path.join(training_path, oldsample,  oldgitsha+'_training_dict.p'),'rb'))\n",
    "# oldfeatures = pickle.load(open(os.path.join(training_path, oldsample,  oldgitsha+'_feature_names.p'),'rb'))\n",
    "    \n",
    "#     # pickle.dump(TS.training_dict, open(os.path.join(TS.training_path, pytrain_git_sha+'_training_dict.p'),'wb'))\n",
    "# # pickle.dump(TS.feature_names, open(os.path.join(TS.training_path, pytrain_git_sha+'_feature_names.p'),'wb'))\n",
    "\n",
    "# for key in training_dict_old.keys():\n",
    "#     TS.training_dict[oldsample+key] = training_dict_old[key]"
   ]
  },
  {
   "cell_type": "markdown",
   "id": "49f80ce0-f19c-4e50-979b-53738597cd66",
   "metadata": {},
   "source": [
    "#### suggest a new training coordinate\n",
    "currently retraining with new feature stack not properly implemented. Workaround: choose from the exiting training sets and train with them (additional labeling optional)"
   ]
  },
  {
   "cell_type": "code",
   "execution_count": 49,
   "id": "98880a87-86c9-455e-86cd-11c7b7dfc9e6",
   "metadata": {
    "tags": []
   },
   "outputs": [
    {
     "name": "stdout",
     "output_type": "stream",
     "text": [
      "You could try  x = 680  and  feature = 8\n",
      "However, please sort it like the original xyztimetime_0feature\n"
     ]
    }
   ],
   "source": [
    "TS.suggest_training_set() #this function does not work anymoere as intended, run it a few times until it gives a reasonable suggestion"
   ]
  },
  {
   "cell_type": "code",
   "execution_count": 50,
   "id": "49d6537c-9d9f-437c-836b-656045b694df",
   "metadata": {
    "tags": []
   },
   "outputs": [],
   "source": [
    "c1 = 'x'\n",
    "p1 = 530\n",
    "c2 = 'time'\n",
    "p2 = 16"
   ]
  },
  {
   "cell_type": "code",
   "execution_count": 111,
   "id": "3ba0c4ca-e904-4215-ae89-f62bc2fc1134",
   "metadata": {
    "tags": []
   },
   "outputs": [
    {
     "name": "stderr",
     "output_type": "stream",
     "text": [
      "2023-10-16 16:35:37,076 - distributed.nanny - WARNING - Restarting worker\n",
      "2023-10-16 16:35:37,084 - distributed.nanny - WARNING - Restarting worker\n"
     ]
    }
   ],
   "source": [
    "TS.load_training_set(c1, p1, c2, p2)"
   ]
  },
  {
   "cell_type": "code",
   "execution_count": 115,
   "id": "c6cc5f4d-ecba-4aa4-b731-ff847f8bd822",
   "metadata": {
    "scrolled": true
   },
   "outputs": [],
   "source": [
    "if not len(client.cluster.workers)>1:   \n",
    "    client = reboot_client(client)\n",
    "    TS.client = client\n",
    "    IF.client = client"
   ]
  },
  {
   "cell_type": "code",
   "execution_count": 116,
   "id": "71748fb7-5575-4011-82d2-87d876205fe0",
   "metadata": {
    "tags": []
   },
   "outputs": [],
   "source": [
    "im8 = TS.current_im8"
   ]
  },
  {
   "cell_type": "code",
   "execution_count": 117,
   "id": "a9681280-2ecf-4cbb-8237-1c786c92b07e",
   "metadata": {
    "scrolled": true
   },
   "outputs": [
    {
     "data": {
      "text/plain": [
       "(340, 1916)"
      ]
     },
     "execution_count": 117,
     "metadata": {},
     "output_type": "execute_result"
    }
   ],
   "source": [
    "im8.shape"
   ]
  },
  {
   "cell_type": "code",
   "execution_count": 118,
   "id": "83f3be2c-4bb2-4189-8f11-b03f3b7c3a13",
   "metadata": {
    "tags": []
   },
   "outputs": [],
   "source": [
    "# TS.get_slice_feat_stack()"
   ]
  },
  {
   "cell_type": "code",
   "execution_count": 119,
   "id": "32a7e62d-0896-46d5-b4c6-48af57a88fab",
   "metadata": {
    "tags": []
   },
   "outputs": [],
   "source": [
    "feat_data = TS.feat_data\n",
    "[c1,p1,c2,p2] = TS.current_coordinates\n",
    "newslice = True\n",
    "\n",
    "if c1 == 'x' and c2 == 'time':\n",
    "    feat_stack = feat_data['feature_stack'].sel(x = p1, time = p2)\n",
    "    feat_stack_t_idp = feat_data['feature_stack_time_independent'].sel(x = p1, time_0 = 0)\n",
    "elif c1 == 'x' and c2 == 'y':\n",
    "    feat_stack = feat_data['feature_stack'].sel(x = p1, y = p2)#.data\n",
    "    feat_stack_t_idp = feat_data['feature_stack_time_independent'].sel(x = p1, y = p2)\n",
    "elif c1 == 'x' and c2 == 'z':\n",
    "    feat_stack = feat_data['feature_stack'].sel(x = p1, z = p2)#.data\n",
    "    feat_stack_t_idp = feat_data['feature_stack_time_independent'].sel(x = p1, z = p2)\n",
    "elif c1 == 'y' and c2 == 'z':\n",
    "    feat_stack = feat_data['feature_stack'].sel(y = p1, z = p2)#.data\n",
    "    feat_stack_t_idp = feat_data['feature_stack_time_independent'].sel(y = p1, z = p2)\n",
    "elif c1 == 'y' and c2 == 'time':\n",
    "    feat_stack = feat_data['feature_stack'].sel(y = p1, time = p2)#.data\n",
    "    feat_stack_t_idp = feat_data['feature_stack_time_independent'].sel(y = p1, time_0 = 0)\n",
    "elif c1 == 'z' and c2 == 'time':\n",
    "    feat_stack = feat_data['feature_stack'].sel(z = p1, time = p2)#.data\n",
    "    feat_stack_t_idp = feat_data['feature_stack_time_independent'].sel(z = p1, time_0 = 0)"
   ]
  },
  {
   "cell_type": "code",
   "execution_count": 120,
   "id": "b2d8c931-d16c-40b4-b58d-a652ba02bb42",
   "metadata": {
    "scrolled": true,
    "tags": []
   },
   "outputs": [
    {
     "name": "stderr",
     "output_type": "stream",
     "text": [
      "/mpc/homes/fische_r/miniconda3/lib/python3.11/site-packages/distributed/client.py:3149: UserWarning: Sending large graph of size 70.32 MiB.\n",
      "This may cause some slowdown.\n",
      "Consider scattering data ahead of time and using futures.\n",
      "  warnings.warn(\n",
      "2023-10-16 16:48:40,746 - distributed.utils_perf - WARNING - full garbage collections took 14% CPU time recently (threshold: 10%)\n",
      "2023-10-16 16:48:43,874 - distributed.utils_perf - WARNING - full garbage collections took 17% CPU time recently (threshold: 10%)\n",
      "2023-10-16 16:48:45,807 - distributed.utils_perf - WARNING - full garbage collections took 17% CPU time recently (threshold: 10%)\n",
      "2023-10-16 16:48:48,566 - distributed.utils_perf - WARNING - full garbage collections took 18% CPU time recently (threshold: 10%)\n",
      "2023-10-16 16:48:52,023 - distributed.utils_perf - WARNING - full garbage collections took 18% CPU time recently (threshold: 10%)\n",
      "2023-10-16 16:48:54,870 - distributed.utils_perf - WARNING - full garbage collections took 18% CPU time recently (threshold: 10%)\n",
      "2023-10-16 16:48:57,613 - distributed.utils_perf - WARNING - full garbage collections took 18% CPU time recently (threshold: 10%)\n",
      "2023-10-16 16:49:00,164 - distributed.utils_perf - WARNING - full garbage collections took 18% CPU time recently (threshold: 10%)\n",
      "2023-10-16 16:49:02,913 - distributed.utils_perf - WARNING - full garbage collections took 19% CPU time recently (threshold: 10%)\n",
      "2023-10-16 16:49:05,388 - distributed.utils_perf - WARNING - full garbage collections took 19% CPU time recently (threshold: 10%)\n",
      "2023-10-16 16:49:10,057 - distributed.utils_perf - WARNING - full garbage collections took 19% CPU time recently (threshold: 10%)\n",
      "2023-10-16 16:49:14,945 - distributed.utils_perf - WARNING - full garbage collections took 19% CPU time recently (threshold: 10%)\n",
      "2023-10-16 16:49:20,364 - distributed.utils_perf - WARNING - full garbage collections took 19% CPU time recently (threshold: 10%)\n",
      "2023-10-16 16:49:25,251 - distributed.utils_perf - WARNING - full garbage collections took 18% CPU time recently (threshold: 10%)\n",
      "2023-10-16 16:49:36,043 - distributed.utils_perf - WARNING - full garbage collections took 17% CPU time recently (threshold: 10%)\n",
      "2023-10-16 16:49:47,614 - distributed.utils_perf - WARNING - full garbage collections took 17% CPU time recently (threshold: 10%)\n",
      "2023-10-16 16:49:53,204 - distributed.utils_perf - WARNING - full garbage collections took 17% CPU time recently (threshold: 10%)\n",
      "2023-10-16 16:49:59,902 - distributed.utils_perf - WARNING - full garbage collections took 17% CPU time recently (threshold: 10%)\n",
      "2023-10-16 16:50:04,744 - distributed.utils_perf - WARNING - full garbage collections took 18% CPU time recently (threshold: 10%)\n",
      "2023-10-16 16:50:11,602 - distributed.utils_perf - WARNING - full garbage collections took 18% CPU time recently (threshold: 10%)\n",
      "2023-10-16 16:50:20,690 - distributed.utils_perf - WARNING - full garbage collections took 18% CPU time recently (threshold: 10%)\n",
      "2023-10-16 16:50:26,324 - distributed.utils_perf - WARNING - full garbage collections took 18% CPU time recently (threshold: 10%)\n",
      "2023-10-16 16:50:37,569 - distributed.utils_perf - WARNING - full garbage collections took 18% CPU time recently (threshold: 10%)\n",
      "2023-10-16 16:50:48,366 - distributed.utils_perf - WARNING - full garbage collections took 17% CPU time recently (threshold: 10%)\n",
      "2023-10-16 16:51:27,134 - distributed.worker.memory - WARNING - gc.collect() took 4.416s. This is usually a sign that some tasks handle too many Python objects at the same time. Rechunking the work into smaller tasks might help.\n",
      "2023-10-16 16:51:58,619 - distributed.utils_perf - WARNING - full garbage collections took 16% CPU time recently (threshold: 10%)\n",
      "2023-10-16 16:52:21,992 - distributed.utils_perf - WARNING - full garbage collections took 16% CPU time recently (threshold: 10%)\n",
      "2023-10-16 16:52:48,301 - distributed.utils_perf - WARNING - full garbage collections took 15% CPU time recently (threshold: 10%)\n",
      "2023-10-16 16:53:27,298 - distributed.worker.memory - WARNING - gc.collect() took 3.806s. This is usually a sign that some tasks handle too many Python objects at the same time. Rechunking the work into smaller tasks might help.\n",
      "2023-10-16 16:53:40,754 - distributed.utils_perf - WARNING - full garbage collections took 14% CPU time recently (threshold: 10%)\n",
      "2023-10-16 16:54:02,620 - distributed.utils_perf - WARNING - full garbage collections took 14% CPU time recently (threshold: 10%)\n",
      "2023-10-16 16:54:52,449 - distributed.utils_perf - WARNING - full garbage collections took 13% CPU time recently (threshold: 10%)\n",
      "2023-10-16 16:56:02,341 - distributed.utils_perf - WARNING - full garbage collections took 12% CPU time recently (threshold: 10%)\n",
      "2023-10-16 16:56:53,988 - distributed.utils_perf - WARNING - full garbage collections took 11% CPU time recently (threshold: 10%)\n",
      "2023-10-16 16:57:42,095 - distributed.utils_perf - WARNING - full garbage collections took 11% CPU time recently (threshold: 10%)\n",
      "2023-10-16 16:58:11,898 - distributed.utils_perf - WARNING - full garbage collections took 11% CPU time recently (threshold: 10%)\n",
      "2023-10-16 16:58:50,714 - distributed.utils_perf - WARNING - full garbage collections took 11% CPU time recently (threshold: 10%)\n",
      "2023-10-16 16:59:13,292 - distributed.utils_perf - WARNING - full garbage collections took 10% CPU time recently (threshold: 10%)\n",
      "2023-10-16 16:59:31,361 - distributed.utils_perf - WARNING - full garbage collections took 10% CPU time recently (threshold: 10%)\n",
      "2023-10-16 16:59:54,830 - distributed.utils_perf - WARNING - full garbage collections took 11% CPU time recently (threshold: 10%)\n",
      "2023-10-16 17:00:18,192 - distributed.utils_perf - WARNING - full garbage collections took 11% CPU time recently (threshold: 10%)\n",
      "2023-10-16 17:00:30,861 - distributed.utils_perf - WARNING - full garbage collections took 11% CPU time recently (threshold: 10%)\n",
      "2023-10-16 17:00:49,957 - distributed.nanny - WARNING - Restarting worker\n",
      "2023-10-16 17:00:57,938 - distributed.nanny - WARNING - Restarting worker\n"
     ]
    }
   ],
   "source": [
    "if type(feat_stack) is not np.ndarray:\n",
    "        fut = client.scatter(feat_stack)\n",
    "        fut = fut.result()\n",
    "        fut = fut.compute()\n",
    "        feat_stack = fut\n",
    "        try:\n",
    "            client.restart()\n",
    "        except:\n",
    "            client = reboot_client(client)\n",
    "            TS.client = client\n",
    "            IF.client = client   "
   ]
  },
  {
   "cell_type": "markdown",
   "id": "7efbaf06-eb2d-4abc-b532-23a8ac9d94aa",
   "metadata": {},
   "source": [
    "#### calculate feature stack and reboot cluster if workers do not return\n",
    "client restart seemingly appears to appear unexplainable memory leak"
   ]
  },
  {
   "cell_type": "code",
   "execution_count": null,
   "id": "bb36b213-4026-447b-80c2-a5842a4c1700",
   "metadata": {
    "scrolled": true,
    "tags": []
   },
   "outputs": [],
   "source": [
    "if type(feat_stack_t_idp) is not np.ndarray:\n",
    "        fut = client.scatter(feat_stack_t_idp)\n",
    "        fut = fut.result()\n",
    "        fut = fut.compute()\n",
    "        feat_stack_t_idp = fut\n",
    "        try:\n",
    "            client.restart()\n",
    "        except:\n",
    "            client = reboot_client(client)\n",
    "            TS.client = client\n",
    "            IF.client = client   \n",
    "    "
   ]
  },
  {
   "cell_type": "code",
   "execution_count": null,
   "id": "76729b05-fcf1-4c3e-b35d-a56bb6ee9e40",
   "metadata": {
    "scrolled": true,
    "tags": []
   },
   "outputs": [],
   "source": [
    "feat_stack = np.concatenate([feat_stack, feat_stack_t_idp], axis = 2)"
   ]
  },
  {
   "cell_type": "code",
   "execution_count": null,
   "id": "4e0f4378-8b08-416e-902a-536c247eefb6",
   "metadata": {
    "tags": []
   },
   "outputs": [],
   "source": [
    "TS.current_feat_stack = feat_stack\n",
    "if type(TS.current_feat_stack) is not np.ndarray:\n",
    "    TS.current_computed = False\n",
    "else:\n",
    "    TS.current_computed = True"
   ]
  },
  {
   "cell_type": "markdown",
   "id": "554c0ff3-0c2c-4370-b037-be197b5bcc27",
   "metadata": {},
   "source": [
    "#### canvas for labeling"
   ]
  },
  {
   "cell_type": "code",
   "execution_count": null,
   "id": "92e0fc4a-b158-493d-b8d9-9c74e07218c5",
   "metadata": {
    "tags": []
   },
   "outputs": [],
   "source": [
    "# imm = mean[:,p1,:].copy()\n",
    "# im8m= imm-imm.min()\n",
    "# im8m = im8m/im8m.max()*255\n",
    "# im8 = im8m"
   ]
  },
  {
   "cell_type": "code",
   "execution_count": null,
   "id": "c51991ea-03cb-4172-8018-4cc11d7712b8",
   "metadata": {
    "scrolled": true
   },
   "outputs": [],
   "source": [
    "# give a list of features with indices, you can display any feature to help labeling\n",
    "for i in range(len(IF.combined_feature_names)):\n",
    "    print(i, IF.combined_feature_names[i])"
   ]
  },
  {
   "cell_type": "code",
   "execution_count": null,
   "id": "d2fec1da-0753-4805-b13e-90bad5cc343e",
   "metadata": {},
   "outputs": [],
   "source": [
    "# double check index\n",
    "i  = 74\n",
    "print(i, IF.combined_feature_names[i])"
   ]
  },
  {
   "cell_type": "markdown",
   "id": "dba6ee06-4937-45d1-bee8-6e8b2a1e0b3e",
   "metadata": {},
   "source": [
    "### label the training image by setting the color and drawing on the canvas\n",
    "- currently 4 options possible: #ff0000, #00ff00, #0000ff, #ffff00\n",
    "- rerun cell to clear labeling\n",
    "- tip: use the trackpad (panning?) zoom instead of ctrl+scrollwheel"
   ]
  },
  {
   "cell_type": "code",
   "execution_count": 178,
   "id": "c0fe6bf7-4040-4e4a-b235-601dae6e489a",
   "metadata": {
    "tags": []
   },
   "outputs": [
    {
     "name": "stdout",
     "output_type": "stream",
     "text": [
      "original shape:  (340, 1916)\n"
     ]
    },
    {
     "data": {
      "application/vnd.jupyter.widget-view+json": {
       "model_id": "206d0a6ee3674a158b0e99da9019a5c0",
       "version_major": 2,
       "version_minor": 0
      },
      "text/plain": [
       "HBox(children=(MultiCanvas(height=340, width=1916), ColorPicker(value='#ff0000', description='Color:')))"
      ]
     },
     "execution_count": 178,
     "metadata": {},
     "output_type": "execute_result"
    }
   ],
   "source": [
    "alpha = 0.35\n",
    "# zoom1 = (-500,-1)\n",
    "# zoom2 = (600,1400)\n",
    "\n",
    "# zoom1 = (0, -1)\n",
    "# zoom2 = (0, -1)\n",
    "\n",
    "# im8 = TS.current_im8\n",
    "#trick: use gaussian_time_4_0 to label static phases ()\n",
    "# im8 = display_feature(104, TS, feat_stack)\n",
    "# im8 = display_feature(0, TS)\n",
    "# print(IF.combined_feature_names[-20])\n",
    "print('original shape: ',im8.shape)\n",
    "im8_display = im8.copy() #[zoom1[0]:zoom1[1], zoom2[0]:zoom2[1]]\n",
    "# print('diyplay shape : ',im8_display.shape,' at: ', (zoom1[0], zoom2[0]))\n",
    "\n",
    "resultim = TS.current_result.copy()\n",
    "\n",
    "resultim_display = resultim #[zoom1[0]:zoom1[1], zoom2[0]:zoom2[1]]\n",
    "\n",
    "\n",
    "width = im8_display.shape[1]\n",
    "height = im8_display.shape[0]\n",
    "Mcanvas = MultiCanvas(4, width=width, height=height)\n",
    "background = Mcanvas[0]\n",
    "resultdisplay = Mcanvas[2]\n",
    "truthdisplay = Mcanvas[1]\n",
    "canvas = Mcanvas[3]\n",
    "canvas.sync_image_data = True\n",
    "drawing = False\n",
    "position = None\n",
    "shape = []\n",
    "image_data = np.stack((im8_display, im8_display, im8_display), axis=2)\n",
    "background.put_image_data(image_data, 0, 0)\n",
    "slidealpha = IntSlider(description=\"Result overlay\", value=0.15)\n",
    "resultdisplay.global_alpha = alpha #slidealpha.value\n",
    "if np.any(resultim>0):\n",
    "    result_data = np.stack(((resultim_display==0), (resultim_display==1),(resultim_display==2)), axis=2)*255\n",
    "    mask3 = resultim_display==3\n",
    "    result_data[mask3,0] = 255\n",
    "    result_data[mask3,1] = 255\n",
    "else:\n",
    "    result_data = np.stack((0*resultim, 0*resultim, 0*resultim), axis=2)\n",
    "resultdisplay.put_image_data(result_data, 0, 0)\n",
    "canvas.on_mouse_down(on_mouse_down)\n",
    "canvas.on_mouse_move(on_mouse_move)\n",
    "canvas.on_mouse_up(on_mouse_up)\n",
    "picker = ColorPicker(description=\"Color:\", value=\"#ff0000\") #red\n",
    "# picker = ColorPicker(description=\"Color:\", value=\"#0000ff\") #blue\n",
    "# picker = ColorPicker(description=\"Color:\", value=\"#00ff00\") #green\n",
    "\n",
    "link((picker, \"value\"), (canvas, \"stroke_style\"))\n",
    "link((picker, \"value\"), (canvas, \"fill_style\"))\n",
    "link((slidealpha, \"value\"), (resultdisplay, \"global_alpha\"))\n",
    "\n",
    "HBox((Mcanvas,picker))\n",
    "# HBox((Mcanvas,)) #picker "
   ]
  },
  {
   "cell_type": "code",
   "execution_count": 170,
   "id": "0e32c35a-e644-4dfd-b52e-be2a1bd1e940",
   "metadata": {
    "tags": []
   },
   "outputs": [
    {
     "data": {
      "image/png": "[encoded data removed]",
      "text/plain": [
       "<Figure size 640x480 with 1 Axes>"
      ]
     },
     "metadata": {},
     "output_type": "display_data"
    }
   ],
   "source": [
    "# comment/uncomment to adjust brightness/contrast of displayed image\n",
    "tfs.plot_im_histogram(im8)\n",
    "# im8 = TS.current_im8\n",
    "# im8 = tfs.adjust_image_contrast(im8,30,110)"
   ]
  },
  {
   "cell_type": "markdown",
   "id": "5d51d5d9-398d-4ee9-b50a-98ba94a0b6f7",
   "metadata": {},
   "source": [
    "#### inspect labels and training progress"
   ]
  },
  {
   "cell_type": "code",
   "execution_count": 171,
   "id": "733006e0-b8c5-4de8-9b23-80df9e53e1c2",
   "metadata": {
    "tags": []
   },
   "outputs": [
    {
     "data": {
      "image/png": "[encoded data removed]",
      "text/plain": [
       "<Figure size 2000x1000 with 4 Axes>"
      ]
     },
     "metadata": {},
     "output_type": "display_data"
    }
   ],
   "source": [
    "fig, axes = plt.subplots(1,4, figsize=(20,10))\n",
    "axes[0].imshow(TS.current_result, 'gray')\n",
    "axes[1].imshow(TS.current_im8, 'gray')\n",
    "\n",
    "axes[2].imshow(TS.current_truth)\n",
    "if TS.current_computed:\n",
    "    axes[3].imshow(TS.current_feat_stack[:,:,-10])\n",
    "else:\n",
    "    axes[3].imshow(TS.current_result, 'gray')\n",
    "\n",
    "for ax in axes:\n",
    "    ax.set_xticks([])\n",
    "    ax.set_yticks([])"
   ]
  },
  {
   "cell_type": "markdown",
   "id": "c81a6e0c-33c5-4d82-8cd3-0a258015e95d",
   "metadata": {},
   "source": [
    "#### update training set if labels are ok"
   ]
  },
  {
   "cell_type": "code",
   "execution_count": 172,
   "id": "9a95cb65-3f1f-4a42-83f3-af3e2be2f537",
   "metadata": {},
   "outputs": [],
   "source": [
    "label_set = canvas.get_image_data()\n",
    "\n",
    "test = TS.current_truth.copy()\n",
    "\n",
    "test[np.bitwise_and(label_set[:,:,0]>0,np.bitwise_xor(label_set[:,:,0]>0,label_set[:,:,1]>0))] = 1\n",
    "test[label_set[:,:,1]>0] = 2\n",
    "test[label_set[:,:,2]>0] = 4 #order of 4&3 flipped for legacy reasons (existing training labels)\n",
    "test[np.bitwise_and(label_set[:,:,0]>0,label_set[:,:,1]>0)] = 3\n",
    "\n",
    "TS.current_truth = test.copy()\n",
    "imageio.imsave(TS.current_truthpath, TS.current_truth)"
   ]
  },
  {
   "cell_type": "markdown",
   "id": "d994e7f8-8809-4b3b-910a-2b55d36db397",
   "metadata": {},
   "source": [
    "#### train!"
   ]
  },
  {
   "cell_type": "code",
   "execution_count": 175,
   "id": "0a243dc8-89c0-43cd-a32d-89f1a9abbade",
   "metadata": {
    "tags": []
   },
   "outputs": [
    {
     "name": "stdout",
     "output_type": "stream",
     "text": [
      "training and classifying\n"
     ]
    }
   ],
   "source": [
    "TS.train_slice()"
   ]
  },
  {
   "cell_type": "markdown",
   "id": "43679e17-b6f7-4d9f-9eee-ee7917c9f145",
   "metadata": {},
   "source": [
    "#### iterate labeling and training on current training slice until happy then repeat on different slice"
   ]
  },
  {
   "cell_type": "markdown",
   "id": "af84a18a-7416-4636-a63c-82959a47c09c",
   "metadata": {},
   "source": [
    "#### check on training progress by plausible feature importance"
   ]
  },
  {
   "cell_type": "code",
   "execution_count": 180,
   "id": "c63cb1db-d578-4560-9211-deb3fc7b3065",
   "metadata": {
    "tags": []
   },
   "outputs": [
    {
     "data": {
      "text/plain": [
       "Text(0, 0.5, 'importance')"
      ]
     },
     "execution_count": 180,
     "metadata": {},
     "output_type": "execute_result"
    },
    {
     "data": {
      "image/png": "[encoded data removed]",
      "text/plain": [
       "<Figure size 1600x900 with 1 Axes>"
      ]
     },
     "metadata": {},
     "output_type": "display_data"
    }
   ],
   "source": [
    "plt.figure(figsize=(16,9))\n",
    "plt.stem(IF.combined_feature_names, TS.clf.feature_importances_,'x')\n",
    "plt.xticks(rotation=90)\n",
    "plt.ylabel('importance') \n",
    "# plt.xticks(rotation = 60)\n",
    "# plt.yscale('log')"
   ]
  },
  {
   "cell_type": "markdown",
   "id": "611ed636-ff8c-4c16-af1f-6528ff9f5b5a",
   "metadata": {},
   "source": [
    "### when done, maybe save the classifier and optional the training dict (avoids recalculating the training sets, but might be large)"
   ]
  },
  {
   "cell_type": "code",
   "execution_count": 181,
   "id": "e8bbe689-6711-48f5-b805-2324ed47ecca",
   "metadata": {
    "tags": []
   },
   "outputs": [],
   "source": [
    "TS.pickle_classifier()\n",
    "pickle.dump(TS.training_dict, open(os.path.join(TS.training_path, pytrain_git_sha+'_training_dict.p'),'wb'))\n",
    "pickle.dump(TS.combined_feature_names, open(os.path.join(TS.training_path, pytrain_git_sha+'_feature_names.p'),'wb'))"
   ]
  },
  {
   "cell_type": "code",
   "execution_count": 182,
   "id": "d1232485-1632-4a77-83fc-47ab30584d01",
   "metadata": {
    "tags": []
   },
   "outputs": [
    {
     "data": {
      "text/plain": [
       "'/mpc/homes/fische_r/NAS/DASCOELY/processing/05_water_GDL_ML/4'"
      ]
     },
     "execution_count": 182,
     "metadata": {},
     "output_type": "execute_result"
    }
   ],
   "source": [
    "TS.training_path"
   ]
  },
  {
   "cell_type": "code",
   "execution_count": 183,
   "id": "6b27074a-2385-46a8-bb40-aabfc1a187c0",
   "metadata": {
    "tags": []
   },
   "outputs": [
    {
     "data": {
      "text/plain": [
       "'e42ad75'"
      ]
     },
     "execution_count": 183,
     "metadata": {},
     "output_type": "execute_result"
    }
   ],
   "source": [
    "pytrain_git_sha"
   ]
  },
  {
   "cell_type": "markdown",
   "id": "d2c2235f-c2f1-4b28-8489-55fc81a25f7e",
   "metadata": {
    "tags": []
   },
   "source": [
    "## Segmentation of full data set\n",
    "Sometimes the dask esxecution stops randomly. Cancel notebook, save intermediate results and restart the notebook to continue"
   ]
  },
  {
   "cell_type": "code",
   "execution_count": 40,
   "id": "fc88e550-abba-47cf-bfdb-eb310aa3fc73",
   "metadata": {
    "tags": []
   },
   "outputs": [],
   "source": [
    "from segmentation import segmentation"
   ]
  },
  {
   "cell_type": "code",
   "execution_count": 41,
   "id": "23511242-75c9-4546-8a83-4ce54915c067",
   "metadata": {
    "tags": []
   },
   "outputs": [],
   "source": [
    "classifier_path=os.path.join(training_path, 'classifier.p')\n",
    "SM = segmentation(training_path = training_path, classifier_path=classifier_path)"
   ]
  },
  {
   "cell_type": "code",
   "execution_count": 42,
   "id": "7223408a-63f1-4ff1-a6df-29f9e9f872e8",
   "metadata": {
    "tags": []
   },
   "outputs": [],
   "source": [
    "SM.clf = pickle.load(open(os.path.join(training_path, 'classifier.p'), 'rb')) "
   ]
  },
  {
   "cell_type": "code",
   "execution_count": 43,
   "id": "2db024b7-c3ea-4b8e-9c09-6de7db817b67",
   "metadata": {
    "tags": []
   },
   "outputs": [],
   "source": [
    "clf = SM.clf\n",
    "clf.n_jobs = 64 #threads to be used for classifier. more is faster but needs more RAM"
   ]
  },
  {
   "cell_type": "markdown",
   "id": "197aa63c-812a-4a0c-aa51-724fcc83e39f",
   "metadata": {},
   "source": [
    "### merge time-independent features"
   ]
  },
  {
   "cell_type": "code",
   "execution_count": 47,
   "id": "f8a0c7b6-163e-4b9b-8599-dd7f91c5e174",
   "metadata": {
    "tags": []
   },
   "outputs": [],
   "source": [
    "# dask.array.stack([TS.feat_data['feature_stack_time_independent'][:,:,:,0,:]]*da.shape[-1], axis=-2)\n",
    "feat_idp = TS.feat_data['feature_stack_time_independent'][:,:,:,0,:]"
   ]
  },
  {
   "cell_type": "code",
   "execution_count": 49,
   "id": "b7453b61-86d3-4767-bfc9-00e8f3e12594",
   "metadata": {
    "tags": []
   },
   "outputs": [],
   "source": [
    "# feat = dask.array.concatenate([TS.feat_data['feature_stack'], test], axis=-1)\n",
    "feat = TS.feat_data['feature_stack']"
   ]
  },
  {
   "cell_type": "code",
   "execution_count": 51,
   "id": "f8815953-be31-4ef3-b2fb-f247c4daddaf",
   "metadata": {
    "tags": []
   },
   "outputs": [
    {
     "data": {
      "text/html": [
       "<div><svg style=\"position: absolute; width: 0; height: 0; overflow: hidden\">\n",
       "<defs>\n",
       "<symbol id=\"icon-database\" viewBox=\"0 0 32 32\">\n",
       "<path d=\"M16 0c-8.837 0-16 2.239-16 5v4c0 2.761 7.163 5 16 5s16-2.239 16-5v-4c0-2.761-7.163-5-16-5z\"></path>\n",
       "<path d=\"M16 17c-8.837 0-16-2.239-16-5v6c0 2.761 7.163 5 16 5s16-2.239 16-5v-6c0 2.761-7.163 5-16 5z\"></path>\n",
       "<path d=\"M16 26c-8.837 0-16-2.239-16-5v6c0 2.761 7.163 5 16 5s16-2.239 16-5v-6c0 2.761-7.163 5-16 5z\"></path>\n",
       "</symbol>\n",
       "<symbol id=\"icon-file-text2\" viewBox=\"0 0 32 32\">\n",
       "<path d=\"M28.681 7.159c-0.694-0.947-1.662-2.053-2.724-3.116s-2.169-2.030-3.116-2.724c-1.612-1.182-2.393-1.319-2.841-1.319h-15.5c-1.378 0-2.5 1.121-2.5 2.5v27c0 1.378 1.122 2.5 2.5 2.5h23c1.378 0 2.5-1.122 2.5-2.5v-19.5c0-0.448-0.137-1.23-1.319-2.841zM24.543 5.457c0.959 0.959 1.712 1.825 2.268 2.543h-4.811v-4.811c0.718 0.556 1.584 1.309 2.543 2.268zM28 29.5c0 0.271-0.229 0.5-0.5 0.5h-23c-0.271 0-0.5-0.229-0.5-0.5v-27c0-0.271 0.229-0.5 0.5-0.5 0 0 15.499-0 15.5 0v7c0 0.552 0.448 1 1 1h7v19.5z\"></path>\n",
       "<path d=\"M23 26h-14c-0.552 0-1-0.448-1-1s0.448-1 1-1h14c0.552 0 1 0.448 1 1s-0.448 1-1 1z\"></path>\n",
       "<path d=\"M23 22h-14c-0.552 0-1-0.448-1-1s0.448-1 1-1h14c0.552 0 1 0.448 1 1s-0.448 1-1 1z\"></path>\n",
       "<path d=\"M23 18h-14c-0.552 0-1-0.448-1-1s0.448-1 1-1h14c0.552 0 1 0.448 1 1s-0.448 1-1 1z\"></path>\n",
       "</symbol>\n",
       "</defs>\n",
       "</svg>\n",
       "<style>/* CSS stylesheet for displaying xarray objects in jupyterlab.\n",
       " *\n",
       " */\n",
       "\n",
       ":root {\n",
       "  --xr-font-color0: var(--jp-content-font-color0, rgba(0, 0, 0, 1));\n",
       "  --xr-font-color2: var(--jp-content-font-color2, rgba(0, 0, 0, 0.54));\n",
       "  --xr-font-color3: var(--jp-content-font-color3, rgba(0, 0, 0, 0.38));\n",
       "  --xr-border-color: var(--jp-border-color2, #e0e0e0);\n",
       "  --xr-disabled-color: var(--jp-layout-color3, #bdbdbd);\n",
       "  --xr-background-color: var(--jp-layout-color0, white);\n",
       "  --xr-background-color-row-even: var(--jp-layout-color1, white);\n",
       "  --xr-background-color-row-odd: var(--jp-layout-color2, #eeeeee);\n",
       "}\n",
       "\n",
       "html[theme=dark],\n",
       "body[data-theme=dark],\n",
       "body.vscode-dark {\n",
       "  --xr-font-color0: rgba(255, 255, 255, 1);\n",
       "  --xr-font-color2: rgba(255, 255, 255, 0.54);\n",
       "  --xr-font-color3: rgba(255, 255, 255, 0.38);\n",
       "  --xr-border-color: #1F1F1F;\n",
       "  --xr-disabled-color: #515151;\n",
       "  --xr-background-color: #111111;\n",
       "  --xr-background-color-row-even: #111111;\n",
       "  --xr-background-color-row-odd: #313131;\n",
       "}\n",
       "\n",
       ".xr-wrap {\n",
       "  display: block !important;\n",
       "  min-width: 300px;\n",
       "  max-width: 700px;\n",
       "}\n",
       "\n",
       ".xr-text-repr-fallback {\n",
       "  /* fallback to plain text repr when CSS is not injected (untrusted notebook) */\n",
       "  display: none;\n",
       "}\n",
       "\n",
       ".xr-header {\n",
       "  padding-top: 6px;\n",
       "  padding-bottom: 6px;\n",
       "  margin-bottom: 4px;\n",
       "  border-bottom: solid 1px var(--xr-border-color);\n",
       "}\n",
       "\n",
       ".xr-header > div,\n",
       ".xr-header > ul {\n",
       "  display: inline;\n",
       "  margin-top: 0;\n",
       "  margin-bottom: 0;\n",
       "}\n",
       "\n",
       ".xr-obj-type,\n",
       ".xr-array-name {\n",
       "  margin-left: 2px;\n",
       "  margin-right: 10px;\n",
       "}\n",
       "\n",
       ".xr-obj-type {\n",
       "  color: var(--xr-font-color2);\n",
       "}\n",
       "\n",
       ".xr-sections {\n",
       "  padding-left: 0 !important;\n",
       "  display: grid;\n",
       "  grid-template-columns: 150px auto auto 1fr 20px 20px;\n",
       "}\n",
       "\n",
       ".xr-section-item {\n",
       "  display: contents;\n",
       "}\n",
       "\n",
       ".xr-section-item input {\n",
       "  display: none;\n",
       "}\n",
       "\n",
       ".xr-section-item input + label {\n",
       "  color: var(--xr-disabled-color);\n",
       "}\n",
       "\n",
       ".xr-section-item input:enabled + label {\n",
       "  cursor: pointer;\n",
       "  color: var(--xr-font-color2);\n",
       "}\n",
       "\n",
       ".xr-section-item input:enabled + label:hover {\n",
       "  color: var(--xr-font-color0);\n",
       "}\n",
       "\n",
       ".xr-section-summary {\n",
       "  grid-column: 1;\n",
       "  color: var(--xr-font-color2);\n",
       "  font-weight: 500;\n",
       "}\n",
       "\n",
       ".xr-section-summary > span {\n",
       "  display: inline-block;\n",
       "  padding-left: 0.5em;\n",
       "}\n",
       "\n",
       ".xr-section-summary-in:disabled + label {\n",
       "  color: var(--xr-font-color2);\n",
       "}\n",
       "\n",
       ".xr-section-summary-in + label:before {\n",
       "  display: inline-block;\n",
       "  content: '►';\n",
       "  font-size: 11px;\n",
       "  width: 15px;\n",
       "  text-align: center;\n",
       "}\n",
       "\n",
       ".xr-section-summary-in:disabled + label:before {\n",
       "  color: var(--xr-disabled-color);\n",
       "}\n",
       "\n",
       ".xr-section-summary-in:checked + label:before {\n",
       "  content: '▼';\n",
       "}\n",
       "\n",
       ".xr-section-summary-in:checked + label > span {\n",
       "  display: none;\n",
       "}\n",
       "\n",
       ".xr-section-summary,\n",
       ".xr-section-inline-details {\n",
       "  padding-top: 4px;\n",
       "  padding-bottom: 4px;\n",
       "}\n",
       "\n",
       ".xr-section-inline-details {\n",
       "  grid-column: 2 / -1;\n",
       "}\n",
       "\n",
       ".xr-section-details {\n",
       "  display: none;\n",
       "  grid-column: 1 / -1;\n",
       "  margin-bottom: 5px;\n",
       "}\n",
       "\n",
       ".xr-section-summary-in:checked ~ .xr-section-details {\n",
       "  display: contents;\n",
       "}\n",
       "\n",
       ".xr-array-wrap {\n",
       "  grid-column: 1 / -1;\n",
       "  display: grid;\n",
       "  grid-template-columns: 20px auto;\n",
       "}\n",
       "\n",
       ".xr-array-wrap > label {\n",
       "  grid-column: 1;\n",
       "  vertical-align: top;\n",
       "}\n",
       "\n",
       ".xr-preview {\n",
       "  color: var(--xr-font-color3);\n",
       "}\n",
       "\n",
       ".xr-array-preview,\n",
       ".xr-array-data {\n",
       "  padding: 0 5px !important;\n",
       "  grid-column: 2;\n",
       "}\n",
       "\n",
       ".xr-array-data,\n",
       ".xr-array-in:checked ~ .xr-array-preview {\n",
       "  display: none;\n",
       "}\n",
       "\n",
       ".xr-array-in:checked ~ .xr-array-data,\n",
       ".xr-array-preview {\n",
       "  display: inline-block;\n",
       "}\n",
       "\n",
       ".xr-dim-list {\n",
       "  display: inline-block !important;\n",
       "  list-style: none;\n",
       "  padding: 0 !important;\n",
       "  margin: 0;\n",
       "}\n",
       "\n",
       ".xr-dim-list li {\n",
       "  display: inline-block;\n",
       "  padding: 0;\n",
       "  margin: 0;\n",
       "}\n",
       "\n",
       ".xr-dim-list:before {\n",
       "  content: '(';\n",
       "}\n",
       "\n",
       ".xr-dim-list:after {\n",
       "  content: ')';\n",
       "}\n",
       "\n",
       ".xr-dim-list li:not(:last-child):after {\n",
       "  content: ',';\n",
       "  padding-right: 5px;\n",
       "}\n",
       "\n",
       ".xr-has-index {\n",
       "  font-weight: bold;\n",
       "}\n",
       "\n",
       ".xr-var-list,\n",
       ".xr-var-item {\n",
       "  display: contents;\n",
       "}\n",
       "\n",
       ".xr-var-item > div,\n",
       ".xr-var-item label,\n",
       ".xr-var-item > .xr-var-name span {\n",
       "  background-color: var(--xr-background-color-row-even);\n",
       "  margin-bottom: 0;\n",
       "}\n",
       "\n",
       ".xr-var-item > .xr-var-name:hover span {\n",
       "  padding-right: 5px;\n",
       "}\n",
       "\n",
       ".xr-var-list > li:nth-child(odd) > div,\n",
       ".xr-var-list > li:nth-child(odd) > label,\n",
       ".xr-var-list > li:nth-child(odd) > .xr-var-name span {\n",
       "  background-color: var(--xr-background-color-row-odd);\n",
       "}\n",
       "\n",
       ".xr-var-name {\n",
       "  grid-column: 1;\n",
       "}\n",
       "\n",
       ".xr-var-dims {\n",
       "  grid-column: 2;\n",
       "}\n",
       "\n",
       ".xr-var-dtype {\n",
       "  grid-column: 3;\n",
       "  text-align: right;\n",
       "  color: var(--xr-font-color2);\n",
       "}\n",
       "\n",
       ".xr-var-preview {\n",
       "  grid-column: 4;\n",
       "}\n",
       "\n",
       ".xr-index-preview {\n",
       "  grid-column: 2 / 5;\n",
       "  color: var(--xr-font-color2);\n",
       "}\n",
       "\n",
       ".xr-var-name,\n",
       ".xr-var-dims,\n",
       ".xr-var-dtype,\n",
       ".xr-preview,\n",
       ".xr-attrs dt {\n",
       "  white-space: nowrap;\n",
       "  overflow: hidden;\n",
       "  text-overflow: ellipsis;\n",
       "  padding-right: 10px;\n",
       "}\n",
       "\n",
       ".xr-var-name:hover,\n",
       ".xr-var-dims:hover,\n",
       ".xr-var-dtype:hover,\n",
       ".xr-attrs dt:hover {\n",
       "  overflow: visible;\n",
       "  width: auto;\n",
       "  z-index: 1;\n",
       "}\n",
       "\n",
       ".xr-var-attrs,\n",
       ".xr-var-data,\n",
       ".xr-index-data {\n",
       "  display: none;\n",
       "  background-color: var(--xr-background-color) !important;\n",
       "  padding-bottom: 5px !important;\n",
       "}\n",
       "\n",
       ".xr-var-attrs-in:checked ~ .xr-var-attrs,\n",
       ".xr-var-data-in:checked ~ .xr-var-data,\n",
       ".xr-index-data-in:checked ~ .xr-index-data {\n",
       "  display: block;\n",
       "}\n",
       "\n",
       ".xr-var-data > table {\n",
       "  float: right;\n",
       "}\n",
       "\n",
       ".xr-var-name span,\n",
       ".xr-var-data,\n",
       ".xr-index-name div,\n",
       ".xr-index-data,\n",
       ".xr-attrs {\n",
       "  padding-left: 25px !important;\n",
       "}\n",
       "\n",
       ".xr-attrs,\n",
       ".xr-var-attrs,\n",
       ".xr-var-data,\n",
       ".xr-index-data {\n",
       "  grid-column: 1 / -1;\n",
       "}\n",
       "\n",
       "dl.xr-attrs {\n",
       "  padding: 0;\n",
       "  margin: 0;\n",
       "  display: grid;\n",
       "  grid-template-columns: 125px auto;\n",
       "}\n",
       "\n",
       ".xr-attrs dt,\n",
       ".xr-attrs dd {\n",
       "  padding: 0;\n",
       "  margin: 0;\n",
       "  float: left;\n",
       "  padding-right: 10px;\n",
       "  width: auto;\n",
       "}\n",
       "\n",
       ".xr-attrs dt {\n",
       "  font-weight: normal;\n",
       "  grid-column: 1;\n",
       "}\n",
       "\n",
       ".xr-attrs dt:hover span {\n",
       "  display: inline-block;\n",
       "  background: var(--xr-background-color);\n",
       "  padding-right: 10px;\n",
       "}\n",
       "\n",
       ".xr-attrs dd {\n",
       "  grid-column: 2;\n",
       "  white-space: pre-wrap;\n",
       "  word-break: break-all;\n",
       "}\n",
       "\n",
       ".xr-icon-database,\n",
       ".xr-icon-file-text2,\n",
       ".xr-no-icon {\n",
       "  display: inline-block;\n",
       "  vertical-align: middle;\n",
       "  width: 1em;\n",
       "  height: 1.5em !important;\n",
       "  stroke-width: 0;\n",
       "  stroke: currentColor;\n",
       "  fill: currentColor;\n",
       "}\n",
       "</style><pre class='xr-text-repr-fallback'>&lt;xarray.DataArray &#x27;feature_stack&#x27; (x: 750, y: 340, z: 1916, time: 63,\n",
       "                                   feature: 103)&gt;\n",
       "dask.array&lt;stack, shape=(750, 340, 1916, 63, 103), dtype=float64, chunksize=(36, 36, 36, 63, 1), chunktype=numpy.ndarray&gt;\n",
       "Coordinates:\n",
       "  * x        (x) int64 0 1 2 3 4 5 6 7 8 ... 741 742 743 744 745 746 747 748 749\n",
       "  * y        (y) int64 0 1 2 3 4 5 6 7 8 ... 331 332 333 334 335 336 337 338 339\n",
       "  * z        (z) int64 0 1 2 3 4 5 6 7 ... 1909 1910 1911 1912 1913 1914 1915\n",
       "  * time     (time) int64 0 1 2 3 4 5 6 7 8 9 ... 53 54 55 56 57 58 59 60 61 62\n",
       "  * feature  (feature) &lt;U27 &#x27;Gaussian_4D_Blur_0.0&#x27; ... &#x27;diff_temp_min_Gauss_2.0&#x27;</pre><div class='xr-wrap' style='display:none'><div class='xr-header'><div class='xr-obj-type'>xarray.DataArray</div><div class='xr-array-name'>'feature_stack'</div><ul class='xr-dim-list'><li><span class='xr-has-index'>x</span>: 750</li><li><span class='xr-has-index'>y</span>: 340</li><li><span class='xr-has-index'>z</span>: 1916</li><li><span class='xr-has-index'>time</span>: 63</li><li><span class='xr-has-index'>feature</span>: 103</li></ul></div><ul class='xr-sections'><li class='xr-section-item'><div class='xr-array-wrap'><input id='section-b6c3f70b-0f2c-4660-9d7b-204f5ca80bc7' class='xr-array-in' type='checkbox' checked><label for='section-b6c3f70b-0f2c-4660-9d7b-204f5ca80bc7' title='Show/hide data repr'><svg class='icon xr-icon-database'><use xlink:href='#icon-database'></use></svg></label><div class='xr-array-preview xr-preview'><span>dask.array&lt;chunksize=(36, 36, 36, 63, 1), meta=np.ndarray&gt;</span></div><div class='xr-array-data'><table>\n",
       "    <tr>\n",
       "        <td>\n",
       "            <table style=\"border-collapse: collapse;\">\n",
       "                <thead>\n",
       "                    <tr>\n",
       "                        <td> </td>\n",
       "                        <th> Array </th>\n",
       "                        <th> Chunk </th>\n",
       "                    </tr>\n",
       "                </thead>\n",
       "                <tbody>\n",
       "                    \n",
       "                    <tr>\n",
       "                        <th> Bytes </th>\n",
       "                        <td> 23.07 TiB </td>\n",
       "                        <td> 22.43 MiB </td>\n",
       "                    </tr>\n",
       "                    \n",
       "                    <tr>\n",
       "                        <th> Shape </th>\n",
       "                        <td> (750, 340, 1916, 63, 103) </td>\n",
       "                        <td> (36, 36, 36, 63, 1) </td>\n",
       "                    </tr>\n",
       "                    <tr>\n",
       "                        <th> Dask graph </th>\n",
       "                        <td colspan=\"2\"> 1308615 chunks in 540 graph layers </td>\n",
       "                    </tr>\n",
       "                    <tr>\n",
       "                        <th> Data type </th>\n",
       "                        <td colspan=\"2\"> float64 numpy.ndarray </td>\n",
       "                    </tr>\n",
       "                </tbody>\n",
       "            </table>\n",
       "        </td>\n",
       "        <td>\n",
       "        <svg width=\"377\" height=\"152\" style=\"stroke:rgb(0,0,0);stroke-width:1\" >\n",
       "\n",
       "  <!-- Horizontal lines -->\n",
       "  <line x1=\"0\" y1=\"0\" x2=\"41\" y2=\"0\" style=\"stroke-width:2\" />\n",
       "  <line x1=\"0\" y1=\"2\" x2=\"41\" y2=\"2\" />\n",
       "  <line x1=\"0\" y1=\"4\" x2=\"41\" y2=\"4\" />\n",
       "  <line x1=\"0\" y1=\"6\" x2=\"41\" y2=\"6\" />\n",
       "  <line x1=\"0\" y1=\"9\" x2=\"41\" y2=\"9\" />\n",
       "  <line x1=\"0\" y1=\"11\" x2=\"41\" y2=\"11\" />\n",
       "  <line x1=\"0\" y1=\"13\" x2=\"41\" y2=\"13\" />\n",
       "  <line x1=\"0\" y1=\"15\" x2=\"41\" y2=\"15\" />\n",
       "  <line x1=\"0\" y1=\"18\" x2=\"41\" y2=\"18\" />\n",
       "  <line x1=\"0\" y1=\"20\" x2=\"41\" y2=\"20\" />\n",
       "  <line x1=\"0\" y1=\"22\" x2=\"41\" y2=\"22\" />\n",
       "  <line x1=\"0\" y1=\"24\" x2=\"41\" y2=\"24\" />\n",
       "  <line x1=\"0\" y1=\"27\" x2=\"41\" y2=\"27\" />\n",
       "  <line x1=\"0\" y1=\"29\" x2=\"41\" y2=\"29\" />\n",
       "  <line x1=\"0\" y1=\"31\" x2=\"41\" y2=\"31\" />\n",
       "  <line x1=\"0\" y1=\"33\" x2=\"41\" y2=\"33\" />\n",
       "  <line x1=\"0\" y1=\"36\" x2=\"41\" y2=\"36\" />\n",
       "  <line x1=\"0\" y1=\"38\" x2=\"41\" y2=\"38\" />\n",
       "  <line x1=\"0\" y1=\"40\" x2=\"41\" y2=\"40\" />\n",
       "  <line x1=\"0\" y1=\"42\" x2=\"41\" y2=\"42\" />\n",
       "  <line x1=\"0\" y1=\"45\" x2=\"41\" y2=\"45\" />\n",
       "  <line x1=\"0\" y1=\"46\" x2=\"41\" y2=\"46\" style=\"stroke-width:2\" />\n",
       "\n",
       "  <!-- Vertical lines -->\n",
       "  <line x1=\"0\" y1=\"0\" x2=\"0\" y2=\"46\" style=\"stroke-width:2\" />\n",
       "  <line x1=\"4\" y1=\"0\" x2=\"4\" y2=\"46\" />\n",
       "  <line x1=\"8\" y1=\"0\" x2=\"8\" y2=\"46\" />\n",
       "  <line x1=\"13\" y1=\"0\" x2=\"13\" y2=\"46\" />\n",
       "  <line x1=\"17\" y1=\"0\" x2=\"17\" y2=\"46\" />\n",
       "  <line x1=\"21\" y1=\"0\" x2=\"21\" y2=\"46\" />\n",
       "  <line x1=\"26\" y1=\"0\" x2=\"26\" y2=\"46\" />\n",
       "  <line x1=\"30\" y1=\"0\" x2=\"30\" y2=\"46\" />\n",
       "  <line x1=\"35\" y1=\"0\" x2=\"35\" y2=\"46\" />\n",
       "  <line x1=\"38\" y1=\"0\" x2=\"38\" y2=\"46\" />\n",
       "  <line x1=\"39\" y1=\"0\" x2=\"39\" y2=\"46\" />\n",
       "  <line x1=\"41\" y1=\"0\" x2=\"41\" y2=\"46\" style=\"stroke-width:2\" />\n",
       "\n",
       "  <!-- Colored Rectangle -->\n",
       "  <polygon points=\"0.0,0.0 41.48903277910669,0.0 41.48903277910669,46.97286012526096 0.0,46.97286012526096\" style=\"fill:#ECB172A0;stroke-width:0\"/>\n",
       "\n",
       "  <!-- Text -->\n",
       "  <text x=\"20.744516\" y=\"66.972860\" font-size=\"1.0rem\" font-weight=\"100\" text-anchor=\"middle\" >340</text>\n",
       "  <text x=\"61.489033\" y=\"23.486430\" font-size=\"1.0rem\" font-weight=\"100\" text-anchor=\"middle\" transform=\"rotate(-90,61.489033,23.486430)\">750</text>\n",
       "\n",
       "\n",
       "  <!-- Horizontal lines -->\n",
       "  <line x1=\"111\" y1=\"0\" x2=\"181\" y2=\"70\" style=\"stroke-width:2\" />\n",
       "  <line x1=\"111\" y1=\"31\" x2=\"181\" y2=\"102\" style=\"stroke-width:2\" />\n",
       "\n",
       "  <!-- Vertical lines -->\n",
       "  <line x1=\"111\" y1=\"0\" x2=\"111\" y2=\"31\" style=\"stroke-width:2\" />\n",
       "  <line x1=\"112\" y1=\"1\" x2=\"112\" y2=\"33\" />\n",
       "  <line x1=\"114\" y1=\"3\" x2=\"114\" y2=\"35\" />\n",
       "  <line x1=\"117\" y1=\"6\" x2=\"117\" y2=\"38\" />\n",
       "  <line x1=\"118\" y1=\"7\" x2=\"118\" y2=\"39\" />\n",
       "  <line x1=\"121\" y1=\"10\" x2=\"121\" y2=\"42\" />\n",
       "  <line x1=\"124\" y1=\"13\" x2=\"124\" y2=\"45\" />\n",
       "  <line x1=\"126\" y1=\"15\" x2=\"126\" y2=\"47\" />\n",
       "  <line x1=\"128\" y1=\"17\" x2=\"128\" y2=\"49\" />\n",
       "  <line x1=\"130\" y1=\"19\" x2=\"130\" y2=\"51\" />\n",
       "  <line x1=\"133\" y1=\"22\" x2=\"133\" y2=\"54\" />\n",
       "  <line x1=\"134\" y1=\"23\" x2=\"134\" y2=\"55\" />\n",
       "  <line x1=\"137\" y1=\"26\" x2=\"137\" y2=\"58\" />\n",
       "  <line x1=\"140\" y1=\"29\" x2=\"140\" y2=\"61\" />\n",
       "  <line x1=\"142\" y1=\"31\" x2=\"142\" y2=\"63\" />\n",
       "  <line x1=\"144\" y1=\"33\" x2=\"144\" y2=\"65\" />\n",
       "  <line x1=\"146\" y1=\"35\" x2=\"146\" y2=\"67\" />\n",
       "  <line x1=\"149\" y1=\"38\" x2=\"149\" y2=\"70\" />\n",
       "  <line x1=\"150\" y1=\"39\" x2=\"150\" y2=\"71\" />\n",
       "  <line x1=\"153\" y1=\"42\" x2=\"153\" y2=\"74\" />\n",
       "  <line x1=\"156\" y1=\"45\" x2=\"156\" y2=\"77\" />\n",
       "  <line x1=\"158\" y1=\"47\" x2=\"158\" y2=\"79\" />\n",
       "  <line x1=\"160\" y1=\"49\" x2=\"160\" y2=\"81\" />\n",
       "  <line x1=\"162\" y1=\"51\" x2=\"162\" y2=\"83\" />\n",
       "  <line x1=\"165\" y1=\"54\" x2=\"165\" y2=\"86\" />\n",
       "  <line x1=\"166\" y1=\"55\" x2=\"166\" y2=\"87\" />\n",
       "  <line x1=\"169\" y1=\"58\" x2=\"169\" y2=\"90\" />\n",
       "  <line x1=\"172\" y1=\"61\" x2=\"172\" y2=\"92\" />\n",
       "  <line x1=\"174\" y1=\"63\" x2=\"174\" y2=\"95\" />\n",
       "  <line x1=\"175\" y1=\"64\" x2=\"175\" y2=\"96\" />\n",
       "  <line x1=\"178\" y1=\"67\" x2=\"178\" y2=\"99\" />\n",
       "  <line x1=\"181\" y1=\"70\" x2=\"181\" y2=\"102\" />\n",
       "  <line x1=\"181\" y1=\"70\" x2=\"181\" y2=\"102\" style=\"stroke-width:2\" />\n",
       "\n",
       "  <!-- Colored Rectangle -->\n",
       "  <polygon points=\"111.0,0.0 181.58823529411765,70.58823529411765 181.58823529411765,102.53001819660562 111.0,31.941782902487976\" style=\"fill:#8B4903A0;stroke-width:0\"/>\n",
       "\n",
       "  <!-- Horizontal lines -->\n",
       "  <line x1=\"111\" y1=\"0\" x2=\"145\" y2=\"0\" style=\"stroke-width:2\" />\n",
       "  <line x1=\"112\" y1=\"1\" x2=\"147\" y2=\"1\" />\n",
       "  <line x1=\"114\" y1=\"3\" x2=\"149\" y2=\"3\" />\n",
       "  <line x1=\"117\" y1=\"6\" x2=\"152\" y2=\"6\" />\n",
       "  <line x1=\"118\" y1=\"7\" x2=\"153\" y2=\"7\" />\n",
       "  <line x1=\"121\" y1=\"10\" x2=\"156\" y2=\"10\" />\n",
       "  <line x1=\"124\" y1=\"13\" x2=\"159\" y2=\"13\" />\n",
       "  <line x1=\"126\" y1=\"15\" x2=\"161\" y2=\"15\" />\n",
       "  <line x1=\"128\" y1=\"17\" x2=\"163\" y2=\"17\" />\n",
       "  <line x1=\"130\" y1=\"19\" x2=\"165\" y2=\"19\" />\n",
       "  <line x1=\"133\" y1=\"22\" x2=\"168\" y2=\"22\" />\n",
       "  <line x1=\"134\" y1=\"23\" x2=\"169\" y2=\"23\" />\n",
       "  <line x1=\"137\" y1=\"26\" x2=\"172\" y2=\"26\" />\n",
       "  <line x1=\"140\" y1=\"29\" x2=\"175\" y2=\"29\" />\n",
       "  <line x1=\"142\" y1=\"31\" x2=\"177\" y2=\"31\" />\n",
       "  <line x1=\"144\" y1=\"33\" x2=\"179\" y2=\"33\" />\n",
       "  <line x1=\"146\" y1=\"35\" x2=\"181\" y2=\"35\" />\n",
       "  <line x1=\"149\" y1=\"38\" x2=\"184\" y2=\"38\" />\n",
       "  <line x1=\"150\" y1=\"39\" x2=\"185\" y2=\"39\" />\n",
       "  <line x1=\"153\" y1=\"42\" x2=\"188\" y2=\"42\" />\n",
       "  <line x1=\"156\" y1=\"45\" x2=\"191\" y2=\"45\" />\n",
       "  <line x1=\"158\" y1=\"47\" x2=\"193\" y2=\"47\" />\n",
       "  <line x1=\"160\" y1=\"49\" x2=\"195\" y2=\"49\" />\n",
       "  <line x1=\"162\" y1=\"51\" x2=\"197\" y2=\"51\" />\n",
       "  <line x1=\"165\" y1=\"54\" x2=\"200\" y2=\"54\" />\n",
       "  <line x1=\"166\" y1=\"55\" x2=\"201\" y2=\"55\" />\n",
       "  <line x1=\"169\" y1=\"58\" x2=\"204\" y2=\"58\" />\n",
       "  <line x1=\"172\" y1=\"61\" x2=\"206\" y2=\"61\" />\n",
       "  <line x1=\"174\" y1=\"63\" x2=\"209\" y2=\"63\" />\n",
       "  <line x1=\"175\" y1=\"64\" x2=\"210\" y2=\"64\" />\n",
       "  <line x1=\"178\" y1=\"67\" x2=\"213\" y2=\"67\" />\n",
       "  <line x1=\"181\" y1=\"70\" x2=\"216\" y2=\"70\" />\n",
       "  <line x1=\"181\" y1=\"70\" x2=\"216\" y2=\"70\" style=\"stroke-width:2\" />\n",
       "\n",
       "  <!-- Vertical lines -->\n",
       "  <line x1=\"111\" y1=\"0\" x2=\"181\" y2=\"70\" style=\"stroke-width:2\" />\n",
       "  <line x1=\"112\" y1=\"0\" x2=\"182\" y2=\"70\" />\n",
       "  <line x1=\"113\" y1=\"0\" x2=\"183\" y2=\"70\" />\n",
       "  <line x1=\"114\" y1=\"0\" x2=\"184\" y2=\"70\" />\n",
       "  <line x1=\"115\" y1=\"0\" x2=\"185\" y2=\"70\" />\n",
       "  <line x1=\"116\" y1=\"0\" x2=\"187\" y2=\"70\" />\n",
       "  <line x1=\"117\" y1=\"0\" x2=\"188\" y2=\"70\" />\n",
       "  <line x1=\"118\" y1=\"0\" x2=\"189\" y2=\"70\" />\n",
       "  <line x1=\"119\" y1=\"0\" x2=\"190\" y2=\"70\" />\n",
       "  <line x1=\"120\" y1=\"0\" x2=\"191\" y2=\"70\" />\n",
       "  <line x1=\"121\" y1=\"0\" x2=\"192\" y2=\"70\" />\n",
       "  <line x1=\"122\" y1=\"0\" x2=\"193\" y2=\"70\" />\n",
       "  <line x1=\"123\" y1=\"0\" x2=\"194\" y2=\"70\" />\n",
       "  <line x1=\"124\" y1=\"0\" x2=\"195\" y2=\"70\" />\n",
       "  <line x1=\"126\" y1=\"0\" x2=\"196\" y2=\"70\" />\n",
       "  <line x1=\"127\" y1=\"0\" x2=\"197\" y2=\"70\" />\n",
       "  <line x1=\"128\" y1=\"0\" x2=\"198\" y2=\"70\" />\n",
       "  <line x1=\"129\" y1=\"0\" x2=\"199\" y2=\"70\" />\n",
       "  <line x1=\"130\" y1=\"0\" x2=\"200\" y2=\"70\" />\n",
       "  <line x1=\"131\" y1=\"0\" x2=\"202\" y2=\"70\" />\n",
       "  <line x1=\"132\" y1=\"0\" x2=\"203\" y2=\"70\" />\n",
       "  <line x1=\"133\" y1=\"0\" x2=\"204\" y2=\"70\" />\n",
       "  <line x1=\"134\" y1=\"0\" x2=\"205\" y2=\"70\" />\n",
       "  <line x1=\"136\" y1=\"0\" x2=\"206\" y2=\"70\" />\n",
       "  <line x1=\"137\" y1=\"0\" x2=\"207\" y2=\"70\" />\n",
       "  <line x1=\"138\" y1=\"0\" x2=\"208\" y2=\"70\" />\n",
       "  <line x1=\"139\" y1=\"0\" x2=\"209\" y2=\"70\" />\n",
       "  <line x1=\"140\" y1=\"0\" x2=\"210\" y2=\"70\" />\n",
       "  <line x1=\"141\" y1=\"0\" x2=\"212\" y2=\"70\" />\n",
       "  <line x1=\"142\" y1=\"0\" x2=\"213\" y2=\"70\" />\n",
       "  <line x1=\"143\" y1=\"0\" x2=\"214\" y2=\"70\" />\n",
       "  <line x1=\"144\" y1=\"0\" x2=\"215\" y2=\"70\" />\n",
       "  <line x1=\"145\" y1=\"0\" x2=\"216\" y2=\"70\" style=\"stroke-width:2\" />\n",
       "\n",
       "  <!-- Colored Rectangle -->\n",
       "  <polygon points=\"111.0,0.0 145.9441637736988,0.0 216.53239906781644,70.58823529411765 181.58823529411765,70.58823529411765\" style=\"fill:#8B4903A0;stroke-width:0\"/>\n",
       "\n",
       "  <!-- Horizontal lines -->\n",
       "  <line x1=\"181\" y1=\"70\" x2=\"216\" y2=\"70\" style=\"stroke-width:2\" />\n",
       "  <line x1=\"181\" y1=\"102\" x2=\"216\" y2=\"102\" style=\"stroke-width:2\" />\n",
       "\n",
       "  <!-- Vertical lines -->\n",
       "  <line x1=\"181\" y1=\"70\" x2=\"181\" y2=\"102\" style=\"stroke-width:2\" />\n",
       "  <line x1=\"182\" y1=\"70\" x2=\"182\" y2=\"102\" />\n",
       "  <line x1=\"183\" y1=\"70\" x2=\"183\" y2=\"102\" />\n",
       "  <line x1=\"184\" y1=\"70\" x2=\"184\" y2=\"102\" />\n",
       "  <line x1=\"185\" y1=\"70\" x2=\"185\" y2=\"102\" />\n",
       "  <line x1=\"187\" y1=\"70\" x2=\"187\" y2=\"102\" />\n",
       "  <line x1=\"188\" y1=\"70\" x2=\"188\" y2=\"102\" />\n",
       "  <line x1=\"189\" y1=\"70\" x2=\"189\" y2=\"102\" />\n",
       "  <line x1=\"190\" y1=\"70\" x2=\"190\" y2=\"102\" />\n",
       "  <line x1=\"191\" y1=\"70\" x2=\"191\" y2=\"102\" />\n",
       "  <line x1=\"192\" y1=\"70\" x2=\"192\" y2=\"102\" />\n",
       "  <line x1=\"193\" y1=\"70\" x2=\"193\" y2=\"102\" />\n",
       "  <line x1=\"194\" y1=\"70\" x2=\"194\" y2=\"102\" />\n",
       "  <line x1=\"195\" y1=\"70\" x2=\"195\" y2=\"102\" />\n",
       "  <line x1=\"196\" y1=\"70\" x2=\"196\" y2=\"102\" />\n",
       "  <line x1=\"197\" y1=\"70\" x2=\"197\" y2=\"102\" />\n",
       "  <line x1=\"198\" y1=\"70\" x2=\"198\" y2=\"102\" />\n",
       "  <line x1=\"199\" y1=\"70\" x2=\"199\" y2=\"102\" />\n",
       "  <line x1=\"200\" y1=\"70\" x2=\"200\" y2=\"102\" />\n",
       "  <line x1=\"202\" y1=\"70\" x2=\"202\" y2=\"102\" />\n",
       "  <line x1=\"203\" y1=\"70\" x2=\"203\" y2=\"102\" />\n",
       "  <line x1=\"204\" y1=\"70\" x2=\"204\" y2=\"102\" />\n",
       "  <line x1=\"205\" y1=\"70\" x2=\"205\" y2=\"102\" />\n",
       "  <line x1=\"206\" y1=\"70\" x2=\"206\" y2=\"102\" />\n",
       "  <line x1=\"207\" y1=\"70\" x2=\"207\" y2=\"102\" />\n",
       "  <line x1=\"208\" y1=\"70\" x2=\"208\" y2=\"102\" />\n",
       "  <line x1=\"209\" y1=\"70\" x2=\"209\" y2=\"102\" />\n",
       "  <line x1=\"210\" y1=\"70\" x2=\"210\" y2=\"102\" />\n",
       "  <line x1=\"212\" y1=\"70\" x2=\"212\" y2=\"102\" />\n",
       "  <line x1=\"213\" y1=\"70\" x2=\"213\" y2=\"102\" />\n",
       "  <line x1=\"214\" y1=\"70\" x2=\"214\" y2=\"102\" />\n",
       "  <line x1=\"215\" y1=\"70\" x2=\"215\" y2=\"102\" />\n",
       "  <line x1=\"216\" y1=\"70\" x2=\"216\" y2=\"102\" style=\"stroke-width:2\" />\n",
       "\n",
       "  <!-- Colored Rectangle -->\n",
       "  <polygon points=\"181.58823529411765,70.58823529411765 216.53239906781644,70.58823529411765 216.53239906781644,102.53001819660562 181.58823529411765,102.53001819660562\" style=\"fill:#8B4903A0;stroke-width:0\"/>\n",
       "\n",
       "  <!-- Text -->\n",
       "  <text x=\"199.060317\" y=\"122.530018\" font-size=\"1.0rem\" font-weight=\"100\" text-anchor=\"middle\" >103</text>\n",
       "  <text x=\"236.532399\" y=\"86.559127\" font-size=\"1.0rem\" font-weight=\"100\" text-anchor=\"middle\" transform=\"rotate(0,236.532399,86.559127)\">63</text>\n",
       "  <text x=\"136.294118\" y=\"87.235901\" font-size=\"1.0rem\" font-weight=\"100\" text-anchor=\"middle\" transform=\"rotate(45,136.294118,87.235901)\">1916</text>\n",
       "</svg>\n",
       "        </td>\n",
       "    </tr>\n",
       "</table></div></div></li><li class='xr-section-item'><input id='section-cebeb30f-cd21-46c0-a49b-408eeaed4333' class='xr-section-summary-in' type='checkbox'  checked><label for='section-cebeb30f-cd21-46c0-a49b-408eeaed4333' class='xr-section-summary' >Coordinates: <span>(5)</span></label><div class='xr-section-inline-details'></div><div class='xr-section-details'><ul class='xr-var-list'><li class='xr-var-item'><div class='xr-var-name'><span class='xr-has-index'>x</span></div><div class='xr-var-dims'>(x)</div><div class='xr-var-dtype'>int64</div><div class='xr-var-preview xr-preview'>0 1 2 3 4 5 ... 745 746 747 748 749</div><input id='attrs-c1f6a69f-a96c-4548-b878-89af689e2008' class='xr-var-attrs-in' type='checkbox' disabled><label for='attrs-c1f6a69f-a96c-4548-b878-89af689e2008' title='Show/Hide attributes'><svg class='icon xr-icon-file-text2'><use xlink:href='#icon-file-text2'></use></svg></label><input id='data-5a30f056-0904-402c-b4f0-7511e9d18bea' class='xr-var-data-in' type='checkbox'><label for='data-5a30f056-0904-402c-b4f0-7511e9d18bea' title='Show/Hide data repr'><svg class='icon xr-icon-database'><use xlink:href='#icon-database'></use></svg></label><div class='xr-var-attrs'><dl class='xr-attrs'></dl></div><div class='xr-var-data'><pre>array([  0,   1,   2, ..., 747, 748, 749])</pre></div></li><li class='xr-var-item'><div class='xr-var-name'><span class='xr-has-index'>y</span></div><div class='xr-var-dims'>(y)</div><div class='xr-var-dtype'>int64</div><div class='xr-var-preview xr-preview'>0 1 2 3 4 5 ... 335 336 337 338 339</div><input id='attrs-0ead1729-7107-4543-92fb-34b163e1f25d' class='xr-var-attrs-in' type='checkbox' disabled><label for='attrs-0ead1729-7107-4543-92fb-34b163e1f25d' title='Show/Hide attributes'><svg class='icon xr-icon-file-text2'><use xlink:href='#icon-file-text2'></use></svg></label><input id='data-beaacb7a-1115-450b-b7ae-a2232ced08d5' class='xr-var-data-in' type='checkbox'><label for='data-beaacb7a-1115-450b-b7ae-a2232ced08d5' title='Show/Hide data repr'><svg class='icon xr-icon-database'><use xlink:href='#icon-database'></use></svg></label><div class='xr-var-attrs'><dl class='xr-attrs'></dl></div><div class='xr-var-data'><pre>array([  0,   1,   2, ..., 337, 338, 339])</pre></div></li><li class='xr-var-item'><div class='xr-var-name'><span class='xr-has-index'>z</span></div><div class='xr-var-dims'>(z)</div><div class='xr-var-dtype'>int64</div><div class='xr-var-preview xr-preview'>0 1 2 3 4 ... 1912 1913 1914 1915</div><input id='attrs-d22a35e3-9e76-43c9-9905-ebb11ca89055' class='xr-var-attrs-in' type='checkbox' disabled><label for='attrs-d22a35e3-9e76-43c9-9905-ebb11ca89055' title='Show/Hide attributes'><svg class='icon xr-icon-file-text2'><use xlink:href='#icon-file-text2'></use></svg></label><input id='data-d44b8af6-f798-453d-b170-d65697eafc10' class='xr-var-data-in' type='checkbox'><label for='data-d44b8af6-f798-453d-b170-d65697eafc10' title='Show/Hide data repr'><svg class='icon xr-icon-database'><use xlink:href='#icon-database'></use></svg></label><div class='xr-var-attrs'><dl class='xr-attrs'></dl></div><div class='xr-var-data'><pre>array([   0,    1,    2, ..., 1913, 1914, 1915])</pre></div></li><li class='xr-var-item'><div class='xr-var-name'><span class='xr-has-index'>time</span></div><div class='xr-var-dims'>(time)</div><div class='xr-var-dtype'>int64</div><div class='xr-var-preview xr-preview'>0 1 2 3 4 5 6 ... 57 58 59 60 61 62</div><input id='attrs-0911b5c8-5623-4d4c-b9b1-4672f941f343' class='xr-var-attrs-in' type='checkbox' disabled><label for='attrs-0911b5c8-5623-4d4c-b9b1-4672f941f343' title='Show/Hide attributes'><svg class='icon xr-icon-file-text2'><use xlink:href='#icon-file-text2'></use></svg></label><input id='data-4526ca2a-7f76-4857-866c-d6303aa32a40' class='xr-var-data-in' type='checkbox'><label for='data-4526ca2a-7f76-4857-866c-d6303aa32a40' title='Show/Hide data repr'><svg class='icon xr-icon-database'><use xlink:href='#icon-database'></use></svg></label><div class='xr-var-attrs'><dl class='xr-attrs'></dl></div><div class='xr-var-data'><pre>array([ 0,  1,  2,  3,  4,  5,  6,  7,  8,  9, 10, 11, 12, 13, 14, 15, 16, 17,\n",
       "       18, 19, 20, 21, 22, 23, 24, 25, 26, 27, 28, 29, 30, 31, 32, 33, 34, 35,\n",
       "       36, 37, 38, 39, 40, 41, 42, 43, 44, 45, 46, 47, 48, 49, 50, 51, 52, 53,\n",
       "       54, 55, 56, 57, 58, 59, 60, 61, 62])</pre></div></li><li class='xr-var-item'><div class='xr-var-name'><span class='xr-has-index'>feature</span></div><div class='xr-var-dims'>(feature)</div><div class='xr-var-dtype'>&lt;U27</div><div class='xr-var-preview xr-preview'>&#x27;Gaussian_4D_Blur_0.0&#x27; ... &#x27;diff...</div><input id='attrs-87dd61d0-cae9-48a2-abb3-8a2a31451bb5' class='xr-var-attrs-in' type='checkbox' disabled><label for='attrs-87dd61d0-cae9-48a2-abb3-8a2a31451bb5' title='Show/Hide attributes'><svg class='icon xr-icon-file-text2'><use xlink:href='#icon-file-text2'></use></svg></label><input id='data-fe0a1f5a-e5c9-4ed4-87a6-900daab5a44a' class='xr-var-data-in' type='checkbox'><label for='data-fe0a1f5a-e5c9-4ed4-87a6-900daab5a44a' title='Show/Hide data repr'><svg class='icon xr-icon-database'><use xlink:href='#icon-database'></use></svg></label><div class='xr-var-attrs'><dl class='xr-attrs'></dl></div><div class='xr-var-data'><pre>array([&#x27;Gaussian_4D_Blur_0.0&#x27;, &#x27;Gaussian_4D_Blur_1.0&#x27;, &#x27;Gaussian_4D_Blur_3.0&#x27;,\n",
       "       &#x27;Gaussian_4D_Blur_6.0&#x27;, &#x27;Gaussian_4D_Blur_2.0&#x27;,\n",
       "       &#x27;diff_of_gauss_4D_1.0_0.0&#x27;, &#x27;diff_of_gauss_4D_3.0_0.0&#x27;,\n",
       "       &#x27;diff_of_gauss_4D_6.0_0.0&#x27;, &#x27;diff_of_gauss_4D_2.0_0.0&#x27;,\n",
       "       &#x27;diff_of_gauss_4D_3.0_1.0&#x27;, &#x27;diff_of_gauss_4D_6.0_1.0&#x27;,\n",
       "       &#x27;diff_of_gauss_4D_2.0_1.0&#x27;, &#x27;diff_of_gauss_4D_6.0_3.0&#x27;,\n",
       "       &#x27;diff_of_gauss_4D_2.0_3.0&#x27;, &#x27;diff_of_gauss_4D_2.0_6.0&#x27;,\n",
       "       &#x27;Gradient_sigma_1.0_0&#x27;, &#x27;Gradient_sigma_1.0_1&#x27;, &#x27;Gradient_sigma_1.0_2&#x27;,\n",
       "       &#x27;Gradient_sigma_1.0_3&#x27;, &#x27;hessian_sigma_1.0_00&#x27;, &#x27;hessian_sigma_1.0_01&#x27;,\n",
       "       &#x27;hessian_sigma_1.0_02&#x27;, &#x27;hessian_sigma_1.0_03&#x27;, &#x27;hessian_sigma_1.0_11&#x27;,\n",
       "       &#x27;hessian_sigma_1.0_12&#x27;, &#x27;hessian_sigma_1.0_13&#x27;, &#x27;hessian_sigma_1.0_22&#x27;,\n",
       "       &#x27;hessian_sigma_1.0_23&#x27;, &#x27;hessian_sigma_1.0_33&#x27;, &#x27;Gradient_sigma_3.0_0&#x27;,\n",
       "       &#x27;Gradient_sigma_3.0_1&#x27;, &#x27;Gradient_sigma_3.0_2&#x27;, &#x27;Gradient_sigma_3.0_3&#x27;,\n",
       "       &#x27;hessian_sigma_3.0_00&#x27;, &#x27;hessian_sigma_3.0_01&#x27;, &#x27;hessian_sigma_3.0_02&#x27;,\n",
       "       &#x27;hessian_sigma_3.0_03&#x27;, &#x27;hessian_sigma_3.0_11&#x27;, &#x27;hessian_sigma_3.0_12&#x27;,\n",
       "       &#x27;hessian_sigma_3.0_13&#x27;, &#x27;hessian_sigma_3.0_22&#x27;, &#x27;hessian_sigma_3.0_23&#x27;,\n",
       "       &#x27;hessian_sigma_3.0_33&#x27;, &#x27;Gradient_sigma_6.0_0&#x27;, &#x27;Gradient_sigma_6.0_1&#x27;,\n",
       "       &#x27;Gradient_sigma_6.0_2&#x27;, &#x27;Gradient_sigma_6.0_3&#x27;, &#x27;hessian_sigma_6.0_00&#x27;,\n",
       "       &#x27;hessian_sigma_6.0_01&#x27;, &#x27;hessian_sigma_6.0_02&#x27;, &#x27;hessian_sigma_6.0_03&#x27;,\n",
       "       &#x27;hessian_sigma_6.0_11&#x27;, &#x27;hessian_sigma_6.0_12&#x27;, &#x27;hessian_sigma_6.0_13&#x27;,\n",
       "       &#x27;hessian_sigma_6.0_22&#x27;, &#x27;hessian_sigma_6.0_23&#x27;, &#x27;hessian_sigma_6.0_33&#x27;,\n",
       "       &#x27;Gradient_sigma_2.0_0&#x27;, &#x27;Gradient_sigma_2.0_1&#x27;, &#x27;Gradient_sigma_2.0_2&#x27;,\n",
       "       &#x27;Gradient_sigma_2.0_3&#x27;, &#x27;hessian_sigma_2.0_00&#x27;, &#x27;hessian_sigma_2.0_01&#x27;,\n",
       "       &#x27;hessian_sigma_2.0_02&#x27;, &#x27;hessian_sigma_2.0_03&#x27;, &#x27;hessian_sigma_2.0_11&#x27;,\n",
       "       &#x27;hessian_sigma_2.0_12&#x27;, &#x27;hessian_sigma_2.0_13&#x27;, &#x27;hessian_sigma_2.0_22&#x27;,\n",
       "       &#x27;hessian_sigma_2.0_23&#x27;, &#x27;hessian_sigma_2.0_33&#x27;, &#x27;Gaussian_time_0.0&#x27;,\n",
       "       &#x27;Gaussian_time_1.0&#x27;, &#x27;Gaussian_time_3.0&#x27;, &#x27;Gaussian_time_6.0&#x27;,\n",
       "       &#x27;Gaussian_time_2.0&#x27;, &#x27;diff_of_gauss_time_1.0_0.0&#x27;,\n",
       "       &#x27;diff_of_gauss_time_3.0_0.0&#x27;, &#x27;diff_of_gauss_time_6.0_0.0&#x27;,\n",
       "       &#x27;diff_of_gauss_time_2.0_0.0&#x27;, &#x27;diff_of_gauss_time_3.0_1.0&#x27;,\n",
       "       &#x27;diff_of_gauss_time_6.0_1.0&#x27;, &#x27;diff_of_gauss_time_2.0_1.0&#x27;,\n",
       "       &#x27;diff_of_gauss_time_6.0_3.0&#x27;, &#x27;diff_of_gauss_time_2.0_3.0&#x27;,\n",
       "       &#x27;diff_of_gauss_time_2.0_6.0&#x27;, &#x27;Gaussian_space_0.0&#x27;,\n",
       "       &#x27;Gaussian_space_1.0&#x27;, &#x27;Gaussian_space_3.0&#x27;, &#x27;Gaussian_space_6.0&#x27;,\n",
       "       &#x27;Gaussian_space_2.0&#x27;, &#x27;diff_of_gauss_space_1.0_0.0&#x27;,\n",
       "       &#x27;diff_of_gauss_space_3.0_0.0&#x27;, &#x27;diff_of_gauss_space_6.0_0.0&#x27;,\n",
       "       &#x27;diff_of_gauss_space_2.0_0.0&#x27;, &#x27;diff_of_gauss_space_3.0_1.0&#x27;,\n",
       "       &#x27;diff_of_gauss_space_6.0_1.0&#x27;, &#x27;diff_of_gauss_space_2.0_1.0&#x27;,\n",
       "       &#x27;diff_of_gauss_space_6.0_3.0&#x27;, &#x27;diff_of_gauss_space_2.0_3.0&#x27;,\n",
       "       &#x27;diff_of_gauss_space_2.0_6.0&#x27;, &#x27;diff_to_min_&#x27;,\n",
       "       &#x27;diff_temp_min_Gauss_2.0&#x27;], dtype=&#x27;&lt;U27&#x27;)</pre></div></li></ul></div></li><li class='xr-section-item'><input id='section-83a07d82-3d10-485f-88bb-8e4e878e6778' class='xr-section-summary-in' type='checkbox'  ><label for='section-83a07d82-3d10-485f-88bb-8e4e878e6778' class='xr-section-summary' >Indexes: <span>(5)</span></label><div class='xr-section-inline-details'></div><div class='xr-section-details'><ul class='xr-var-list'><li class='xr-var-item'><div class='xr-index-name'><div>x</div></div><div class='xr-index-preview'>PandasIndex</div><div></div><input id='index-10b072d9-22cb-46d1-bec9-e36aa45afe66' class='xr-index-data-in' type='checkbox'/><label for='index-10b072d9-22cb-46d1-bec9-e36aa45afe66' title='Show/Hide index repr'><svg class='icon xr-icon-database'><use xlink:href='#icon-database'></use></svg></label><div class='xr-index-data'><pre>PandasIndex(Index([  0,   1,   2,   3,   4,   5,   6,   7,   8,   9,\n",
       "       ...\n",
       "       740, 741, 742, 743, 744, 745, 746, 747, 748, 749],\n",
       "      dtype=&#x27;int64&#x27;, name=&#x27;x&#x27;, length=750))</pre></div></li><li class='xr-var-item'><div class='xr-index-name'><div>y</div></div><div class='xr-index-preview'>PandasIndex</div><div></div><input id='index-1cc57120-aa27-47ac-8cda-7bf960a35c9e' class='xr-index-data-in' type='checkbox'/><label for='index-1cc57120-aa27-47ac-8cda-7bf960a35c9e' title='Show/Hide index repr'><svg class='icon xr-icon-database'><use xlink:href='#icon-database'></use></svg></label><div class='xr-index-data'><pre>PandasIndex(Index([  0,   1,   2,   3,   4,   5,   6,   7,   8,   9,\n",
       "       ...\n",
       "       330, 331, 332, 333, 334, 335, 336, 337, 338, 339],\n",
       "      dtype=&#x27;int64&#x27;, name=&#x27;y&#x27;, length=340))</pre></div></li><li class='xr-var-item'><div class='xr-index-name'><div>z</div></div><div class='xr-index-preview'>PandasIndex</div><div></div><input id='index-debb0b48-0b9f-4291-bb55-10efea237f7c' class='xr-index-data-in' type='checkbox'/><label for='index-debb0b48-0b9f-4291-bb55-10efea237f7c' title='Show/Hide index repr'><svg class='icon xr-icon-database'><use xlink:href='#icon-database'></use></svg></label><div class='xr-index-data'><pre>PandasIndex(Index([   0,    1,    2,    3,    4,    5,    6,    7,    8,    9,\n",
       "       ...\n",
       "       1906, 1907, 1908, 1909, 1910, 1911, 1912, 1913, 1914, 1915],\n",
       "      dtype=&#x27;int64&#x27;, name=&#x27;z&#x27;, length=1916))</pre></div></li><li class='xr-var-item'><div class='xr-index-name'><div>time</div></div><div class='xr-index-preview'>PandasIndex</div><div></div><input id='index-4eedf584-3fb0-47bf-9f36-bac38d878094' class='xr-index-data-in' type='checkbox'/><label for='index-4eedf584-3fb0-47bf-9f36-bac38d878094' title='Show/Hide index repr'><svg class='icon xr-icon-database'><use xlink:href='#icon-database'></use></svg></label><div class='xr-index-data'><pre>PandasIndex(Index([ 0,  1,  2,  3,  4,  5,  6,  7,  8,  9, 10, 11, 12, 13, 14, 15, 16, 17,\n",
       "       18, 19, 20, 21, 22, 23, 24, 25, 26, 27, 28, 29, 30, 31, 32, 33, 34, 35,\n",
       "       36, 37, 38, 39, 40, 41, 42, 43, 44, 45, 46, 47, 48, 49, 50, 51, 52, 53,\n",
       "       54, 55, 56, 57, 58, 59, 60, 61, 62],\n",
       "      dtype=&#x27;int64&#x27;, name=&#x27;time&#x27;))</pre></div></li><li class='xr-var-item'><div class='xr-index-name'><div>feature</div></div><div class='xr-index-preview'>PandasIndex</div><div></div><input id='index-2e90863d-7875-4efb-8b31-8268947cc725' class='xr-index-data-in' type='checkbox'/><label for='index-2e90863d-7875-4efb-8b31-8268947cc725' title='Show/Hide index repr'><svg class='icon xr-icon-database'><use xlink:href='#icon-database'></use></svg></label><div class='xr-index-data'><pre>PandasIndex(Index([&#x27;Gaussian_4D_Blur_0.0&#x27;, &#x27;Gaussian_4D_Blur_1.0&#x27;, &#x27;Gaussian_4D_Blur_3.0&#x27;,\n",
       "       &#x27;Gaussian_4D_Blur_6.0&#x27;, &#x27;Gaussian_4D_Blur_2.0&#x27;,\n",
       "       &#x27;diff_of_gauss_4D_1.0_0.0&#x27;, &#x27;diff_of_gauss_4D_3.0_0.0&#x27;,\n",
       "       &#x27;diff_of_gauss_4D_6.0_0.0&#x27;, &#x27;diff_of_gauss_4D_2.0_0.0&#x27;,\n",
       "       &#x27;diff_of_gauss_4D_3.0_1.0&#x27;,\n",
       "       ...\n",
       "       &#x27;diff_of_gauss_space_6.0_0.0&#x27;, &#x27;diff_of_gauss_space_2.0_0.0&#x27;,\n",
       "       &#x27;diff_of_gauss_space_3.0_1.0&#x27;, &#x27;diff_of_gauss_space_6.0_1.0&#x27;,\n",
       "       &#x27;diff_of_gauss_space_2.0_1.0&#x27;, &#x27;diff_of_gauss_space_6.0_3.0&#x27;,\n",
       "       &#x27;diff_of_gauss_space_2.0_3.0&#x27;, &#x27;diff_of_gauss_space_2.0_6.0&#x27;,\n",
       "       &#x27;diff_to_min_&#x27;, &#x27;diff_temp_min_Gauss_2.0&#x27;],\n",
       "      dtype=&#x27;object&#x27;, name=&#x27;feature&#x27;, length=103))</pre></div></li></ul></div></li><li class='xr-section-item'><input id='section-26d40cf5-c85d-40a2-af5f-261171eb8a9e' class='xr-section-summary-in' type='checkbox' disabled ><label for='section-26d40cf5-c85d-40a2-af5f-261171eb8a9e' class='xr-section-summary'  title='Expand/collapse section'>Attributes: <span>(0)</span></label><div class='xr-section-inline-details'></div><div class='xr-section-details'><dl class='xr-attrs'></dl></div></li></ul></div></div>"
      ],
      "text/plain": [
       "<xarray.DataArray 'feature_stack' (x: 750, y: 340, z: 1916, time: 63,\n",
       "                                   feature: 103)>\n",
       "dask.array<stack, shape=(750, 340, 1916, 63, 103), dtype=float64, chunksize=(36, 36, 36, 63, 1), chunktype=numpy.ndarray>\n",
       "Coordinates:\n",
       "  * x        (x) int64 0 1 2 3 4 5 6 7 8 ... 741 742 743 744 745 746 747 748 749\n",
       "  * y        (y) int64 0 1 2 3 4 5 6 7 8 ... 331 332 333 334 335 336 337 338 339\n",
       "  * z        (z) int64 0 1 2 3 4 5 6 7 ... 1909 1910 1911 1912 1913 1914 1915\n",
       "  * time     (time) int64 0 1 2 3 4 5 6 7 8 9 ... 53 54 55 56 57 58 59 60 61 62\n",
       "  * feature  (feature) <U27 'Gaussian_4D_Blur_0.0' ... 'diff_temp_min_Gauss_2.0'"
      ]
     },
     "execution_count": 51,
     "metadata": {},
     "output_type": "execute_result"
    }
   ],
   "source": [
    "feat #check "
   ]
  },
  {
   "cell_type": "markdown",
   "id": "9175532e-5cc4-4867-bd5d-bbf51ea4ca71",
   "metadata": {},
   "source": [
    "### check aligment of chunks and select suitable \"super-chunk\" shape to split calculation in parts, example below\n",
    "superchunk has unfortunately and apparently to fit twice into RAM, no idea what's going there"
   ]
  },
  {
   "cell_type": "code",
   "execution_count": 52,
   "id": "8fe48b5f-20e2-4b87-9894-ca6f4c5eae02",
   "metadata": {
    "tags": []
   },
   "outputs": [
    {
     "data": {
      "text/plain": [
       "1950.0"
      ]
     },
     "execution_count": 52,
     "metadata": {},
     "output_type": "execute_result"
    }
   ],
   "source": [
    "750*2.6"
   ]
  },
  {
   "cell_type": "code",
   "execution_count": 53,
   "id": "721a5cf7-84b7-4f21-9035-a04b24ddb9c1",
   "metadata": {
    "tags": []
   },
   "outputs": [
    {
     "data": {
      "text/plain": [
       "7.0"
      ]
     },
     "execution_count": 53,
     "metadata": {},
     "output_type": "execute_result"
    }
   ],
   "source": [
    "350/50"
   ]
  },
  {
   "cell_type": "code",
   "execution_count": 54,
   "id": "fddb3805-230d-4267-abcc-46f99d2e1191",
   "metadata": {
    "tags": []
   },
   "outputs": [
    {
     "data": {
      "text/html": [
       "<div><svg style=\"position: absolute; width: 0; height: 0; overflow: hidden\">\n",
       "<defs>\n",
       "<symbol id=\"icon-database\" viewBox=\"0 0 32 32\">\n",
       "<path d=\"M16 0c-8.837 0-16 2.239-16 5v4c0 2.761 7.163 5 16 5s16-2.239 16-5v-4c0-2.761-7.163-5-16-5z\"></path>\n",
       "<path d=\"M16 17c-8.837 0-16-2.239-16-5v6c0 2.761 7.163 5 16 5s16-2.239 16-5v-6c0 2.761-7.163 5-16 5z\"></path>\n",
       "<path d=\"M16 26c-8.837 0-16-2.239-16-5v6c0 2.761 7.163 5 16 5s16-2.239 16-5v-6c0 2.761-7.163 5-16 5z\"></path>\n",
       "</symbol>\n",
       "<symbol id=\"icon-file-text2\" viewBox=\"0 0 32 32\">\n",
       "<path d=\"M28.681 7.159c-0.694-0.947-1.662-2.053-2.724-3.116s-2.169-2.030-3.116-2.724c-1.612-1.182-2.393-1.319-2.841-1.319h-15.5c-1.378 0-2.5 1.121-2.5 2.5v27c0 1.378 1.122 2.5 2.5 2.5h23c1.378 0 2.5-1.122 2.5-2.5v-19.5c0-0.448-0.137-1.23-1.319-2.841zM24.543 5.457c0.959 0.959 1.712 1.825 2.268 2.543h-4.811v-4.811c0.718 0.556 1.584 1.309 2.543 2.268zM28 29.5c0 0.271-0.229 0.5-0.5 0.5h-23c-0.271 0-0.5-0.229-0.5-0.5v-27c0-0.271 0.229-0.5 0.5-0.5 0 0 15.499-0 15.5 0v7c0 0.552 0.448 1 1 1h7v19.5z\"></path>\n",
       "<path d=\"M23 26h-14c-0.552 0-1-0.448-1-1s0.448-1 1-1h14c0.552 0 1 0.448 1 1s-0.448 1-1 1z\"></path>\n",
       "<path d=\"M23 22h-14c-0.552 0-1-0.448-1-1s0.448-1 1-1h14c0.552 0 1 0.448 1 1s-0.448 1-1 1z\"></path>\n",
       "<path d=\"M23 18h-14c-0.552 0-1-0.448-1-1s0.448-1 1-1h14c0.552 0 1 0.448 1 1s-0.448 1-1 1z\"></path>\n",
       "</symbol>\n",
       "</defs>\n",
       "</svg>\n",
       "<style>/* CSS stylesheet for displaying xarray objects in jupyterlab.\n",
       " *\n",
       " */\n",
       "\n",
       ":root {\n",
       "  --xr-font-color0: var(--jp-content-font-color0, rgba(0, 0, 0, 1));\n",
       "  --xr-font-color2: var(--jp-content-font-color2, rgba(0, 0, 0, 0.54));\n",
       "  --xr-font-color3: var(--jp-content-font-color3, rgba(0, 0, 0, 0.38));\n",
       "  --xr-border-color: var(--jp-border-color2, #e0e0e0);\n",
       "  --xr-disabled-color: var(--jp-layout-color3, #bdbdbd);\n",
       "  --xr-background-color: var(--jp-layout-color0, white);\n",
       "  --xr-background-color-row-even: var(--jp-layout-color1, white);\n",
       "  --xr-background-color-row-odd: var(--jp-layout-color2, #eeeeee);\n",
       "}\n",
       "\n",
       "html[theme=dark],\n",
       "body[data-theme=dark],\n",
       "body.vscode-dark {\n",
       "  --xr-font-color0: rgba(255, 255, 255, 1);\n",
       "  --xr-font-color2: rgba(255, 255, 255, 0.54);\n",
       "  --xr-font-color3: rgba(255, 255, 255, 0.38);\n",
       "  --xr-border-color: #1F1F1F;\n",
       "  --xr-disabled-color: #515151;\n",
       "  --xr-background-color: #111111;\n",
       "  --xr-background-color-row-even: #111111;\n",
       "  --xr-background-color-row-odd: #313131;\n",
       "}\n",
       "\n",
       ".xr-wrap {\n",
       "  display: block !important;\n",
       "  min-width: 300px;\n",
       "  max-width: 700px;\n",
       "}\n",
       "\n",
       ".xr-text-repr-fallback {\n",
       "  /* fallback to plain text repr when CSS is not injected (untrusted notebook) */\n",
       "  display: none;\n",
       "}\n",
       "\n",
       ".xr-header {\n",
       "  padding-top: 6px;\n",
       "  padding-bottom: 6px;\n",
       "  margin-bottom: 4px;\n",
       "  border-bottom: solid 1px var(--xr-border-color);\n",
       "}\n",
       "\n",
       ".xr-header > div,\n",
       ".xr-header > ul {\n",
       "  display: inline;\n",
       "  margin-top: 0;\n",
       "  margin-bottom: 0;\n",
       "}\n",
       "\n",
       ".xr-obj-type,\n",
       ".xr-array-name {\n",
       "  margin-left: 2px;\n",
       "  margin-right: 10px;\n",
       "}\n",
       "\n",
       ".xr-obj-type {\n",
       "  color: var(--xr-font-color2);\n",
       "}\n",
       "\n",
       ".xr-sections {\n",
       "  padding-left: 0 !important;\n",
       "  display: grid;\n",
       "  grid-template-columns: 150px auto auto 1fr 20px 20px;\n",
       "}\n",
       "\n",
       ".xr-section-item {\n",
       "  display: contents;\n",
       "}\n",
       "\n",
       ".xr-section-item input {\n",
       "  display: none;\n",
       "}\n",
       "\n",
       ".xr-section-item input + label {\n",
       "  color: var(--xr-disabled-color);\n",
       "}\n",
       "\n",
       ".xr-section-item input:enabled + label {\n",
       "  cursor: pointer;\n",
       "  color: var(--xr-font-color2);\n",
       "}\n",
       "\n",
       ".xr-section-item input:enabled + label:hover {\n",
       "  color: var(--xr-font-color0);\n",
       "}\n",
       "\n",
       ".xr-section-summary {\n",
       "  grid-column: 1;\n",
       "  color: var(--xr-font-color2);\n",
       "  font-weight: 500;\n",
       "}\n",
       "\n",
       ".xr-section-summary > span {\n",
       "  display: inline-block;\n",
       "  padding-left: 0.5em;\n",
       "}\n",
       "\n",
       ".xr-section-summary-in:disabled + label {\n",
       "  color: var(--xr-font-color2);\n",
       "}\n",
       "\n",
       ".xr-section-summary-in + label:before {\n",
       "  display: inline-block;\n",
       "  content: '►';\n",
       "  font-size: 11px;\n",
       "  width: 15px;\n",
       "  text-align: center;\n",
       "}\n",
       "\n",
       ".xr-section-summary-in:disabled + label:before {\n",
       "  color: var(--xr-disabled-color);\n",
       "}\n",
       "\n",
       ".xr-section-summary-in:checked + label:before {\n",
       "  content: '▼';\n",
       "}\n",
       "\n",
       ".xr-section-summary-in:checked + label > span {\n",
       "  display: none;\n",
       "}\n",
       "\n",
       ".xr-section-summary,\n",
       ".xr-section-inline-details {\n",
       "  padding-top: 4px;\n",
       "  padding-bottom: 4px;\n",
       "}\n",
       "\n",
       ".xr-section-inline-details {\n",
       "  grid-column: 2 / -1;\n",
       "}\n",
       "\n",
       ".xr-section-details {\n",
       "  display: none;\n",
       "  grid-column: 1 / -1;\n",
       "  margin-bottom: 5px;\n",
       "}\n",
       "\n",
       ".xr-section-summary-in:checked ~ .xr-section-details {\n",
       "  display: contents;\n",
       "}\n",
       "\n",
       ".xr-array-wrap {\n",
       "  grid-column: 1 / -1;\n",
       "  display: grid;\n",
       "  grid-template-columns: 20px auto;\n",
       "}\n",
       "\n",
       ".xr-array-wrap > label {\n",
       "  grid-column: 1;\n",
       "  vertical-align: top;\n",
       "}\n",
       "\n",
       ".xr-preview {\n",
       "  color: var(--xr-font-color3);\n",
       "}\n",
       "\n",
       ".xr-array-preview,\n",
       ".xr-array-data {\n",
       "  padding: 0 5px !important;\n",
       "  grid-column: 2;\n",
       "}\n",
       "\n",
       ".xr-array-data,\n",
       ".xr-array-in:checked ~ .xr-array-preview {\n",
       "  display: none;\n",
       "}\n",
       "\n",
       ".xr-array-in:checked ~ .xr-array-data,\n",
       ".xr-array-preview {\n",
       "  display: inline-block;\n",
       "}\n",
       "\n",
       ".xr-dim-list {\n",
       "  display: inline-block !important;\n",
       "  list-style: none;\n",
       "  padding: 0 !important;\n",
       "  margin: 0;\n",
       "}\n",
       "\n",
       ".xr-dim-list li {\n",
       "  display: inline-block;\n",
       "  padding: 0;\n",
       "  margin: 0;\n",
       "}\n",
       "\n",
       ".xr-dim-list:before {\n",
       "  content: '(';\n",
       "}\n",
       "\n",
       ".xr-dim-list:after {\n",
       "  content: ')';\n",
       "}\n",
       "\n",
       ".xr-dim-list li:not(:last-child):after {\n",
       "  content: ',';\n",
       "  padding-right: 5px;\n",
       "}\n",
       "\n",
       ".xr-has-index {\n",
       "  font-weight: bold;\n",
       "}\n",
       "\n",
       ".xr-var-list,\n",
       ".xr-var-item {\n",
       "  display: contents;\n",
       "}\n",
       "\n",
       ".xr-var-item > div,\n",
       ".xr-var-item label,\n",
       ".xr-var-item > .xr-var-name span {\n",
       "  background-color: var(--xr-background-color-row-even);\n",
       "  margin-bottom: 0;\n",
       "}\n",
       "\n",
       ".xr-var-item > .xr-var-name:hover span {\n",
       "  padding-right: 5px;\n",
       "}\n",
       "\n",
       ".xr-var-list > li:nth-child(odd) > div,\n",
       ".xr-var-list > li:nth-child(odd) > label,\n",
       ".xr-var-list > li:nth-child(odd) > .xr-var-name span {\n",
       "  background-color: var(--xr-background-color-row-odd);\n",
       "}\n",
       "\n",
       ".xr-var-name {\n",
       "  grid-column: 1;\n",
       "}\n",
       "\n",
       ".xr-var-dims {\n",
       "  grid-column: 2;\n",
       "}\n",
       "\n",
       ".xr-var-dtype {\n",
       "  grid-column: 3;\n",
       "  text-align: right;\n",
       "  color: var(--xr-font-color2);\n",
       "}\n",
       "\n",
       ".xr-var-preview {\n",
       "  grid-column: 4;\n",
       "}\n",
       "\n",
       ".xr-index-preview {\n",
       "  grid-column: 2 / 5;\n",
       "  color: var(--xr-font-color2);\n",
       "}\n",
       "\n",
       ".xr-var-name,\n",
       ".xr-var-dims,\n",
       ".xr-var-dtype,\n",
       ".xr-preview,\n",
       ".xr-attrs dt {\n",
       "  white-space: nowrap;\n",
       "  overflow: hidden;\n",
       "  text-overflow: ellipsis;\n",
       "  padding-right: 10px;\n",
       "}\n",
       "\n",
       ".xr-var-name:hover,\n",
       ".xr-var-dims:hover,\n",
       ".xr-var-dtype:hover,\n",
       ".xr-attrs dt:hover {\n",
       "  overflow: visible;\n",
       "  width: auto;\n",
       "  z-index: 1;\n",
       "}\n",
       "\n",
       ".xr-var-attrs,\n",
       ".xr-var-data,\n",
       ".xr-index-data {\n",
       "  display: none;\n",
       "  background-color: var(--xr-background-color) !important;\n",
       "  padding-bottom: 5px !important;\n",
       "}\n",
       "\n",
       ".xr-var-attrs-in:checked ~ .xr-var-attrs,\n",
       ".xr-var-data-in:checked ~ .xr-var-data,\n",
       ".xr-index-data-in:checked ~ .xr-index-data {\n",
       "  display: block;\n",
       "}\n",
       "\n",
       ".xr-var-data > table {\n",
       "  float: right;\n",
       "}\n",
       "\n",
       ".xr-var-name span,\n",
       ".xr-var-data,\n",
       ".xr-index-name div,\n",
       ".xr-index-data,\n",
       ".xr-attrs {\n",
       "  padding-left: 25px !important;\n",
       "}\n",
       "\n",
       ".xr-attrs,\n",
       ".xr-var-attrs,\n",
       ".xr-var-data,\n",
       ".xr-index-data {\n",
       "  grid-column: 1 / -1;\n",
       "}\n",
       "\n",
       "dl.xr-attrs {\n",
       "  padding: 0;\n",
       "  margin: 0;\n",
       "  display: grid;\n",
       "  grid-template-columns: 125px auto;\n",
       "}\n",
       "\n",
       ".xr-attrs dt,\n",
       ".xr-attrs dd {\n",
       "  padding: 0;\n",
       "  margin: 0;\n",
       "  float: left;\n",
       "  padding-right: 10px;\n",
       "  width: auto;\n",
       "}\n",
       "\n",
       ".xr-attrs dt {\n",
       "  font-weight: normal;\n",
       "  grid-column: 1;\n",
       "}\n",
       "\n",
       ".xr-attrs dt:hover span {\n",
       "  display: inline-block;\n",
       "  background: var(--xr-background-color);\n",
       "  padding-right: 10px;\n",
       "}\n",
       "\n",
       ".xr-attrs dd {\n",
       "  grid-column: 2;\n",
       "  white-space: pre-wrap;\n",
       "  word-break: break-all;\n",
       "}\n",
       "\n",
       ".xr-icon-database,\n",
       ".xr-icon-file-text2,\n",
       ".xr-no-icon {\n",
       "  display: inline-block;\n",
       "  vertical-align: middle;\n",
       "  width: 1em;\n",
       "  height: 1.5em !important;\n",
       "  stroke-width: 0;\n",
       "  stroke: currentColor;\n",
       "  fill: currentColor;\n",
       "}\n",
       "</style><pre class='xr-text-repr-fallback'>&lt;xarray.DataArray &#x27;feature_stack&#x27; (x: 0, y: 340, z: 0, time: 63, feature: 103)&gt;\n",
       "dask.array&lt;getitem, shape=(0, 340, 0, 63, 103), dtype=float64, chunksize=(0, 36, 0, 63, 1), chunktype=numpy.ndarray&gt;\n",
       "Coordinates:\n",
       "  * x        (x) int64 \n",
       "  * y        (y) int64 0 1 2 3 4 5 6 7 8 ... 331 332 333 334 335 336 337 338 339\n",
       "  * z        (z) int64 \n",
       "  * time     (time) int64 0 1 2 3 4 5 6 7 8 9 ... 53 54 55 56 57 58 59 60 61 62\n",
       "  * feature  (feature) &lt;U27 &#x27;Gaussian_4D_Blur_0.0&#x27; ... &#x27;diff_temp_min_Gauss_2.0&#x27;</pre><div class='xr-wrap' style='display:none'><div class='xr-header'><div class='xr-obj-type'>xarray.DataArray</div><div class='xr-array-name'>'feature_stack'</div><ul class='xr-dim-list'><li><span class='xr-has-index'>x</span>: 0</li><li><span class='xr-has-index'>y</span>: 340</li><li><span class='xr-has-index'>z</span>: 0</li><li><span class='xr-has-index'>time</span>: 63</li><li><span class='xr-has-index'>feature</span>: 103</li></ul></div><ul class='xr-sections'><li class='xr-section-item'><div class='xr-array-wrap'><input id='section-a8d62761-f1d0-41f5-9698-18036cd62280' class='xr-array-in' type='checkbox' checked><label for='section-a8d62761-f1d0-41f5-9698-18036cd62280' title='Show/hide data repr'><svg class='icon xr-icon-database'><use xlink:href='#icon-database'></use></svg></label><div class='xr-array-preview xr-preview'><span>dask.array&lt;chunksize=(0, 36, 0, 63, 1), meta=np.ndarray&gt;</span></div><div class='xr-array-data'><table>\n",
       "    <tr>\n",
       "        <td>\n",
       "            <table style=\"border-collapse: collapse;\">\n",
       "                <thead>\n",
       "                    <tr>\n",
       "                        <td> </td>\n",
       "                        <th> Array </th>\n",
       "                        <th> Chunk </th>\n",
       "                    </tr>\n",
       "                </thead>\n",
       "                <tbody>\n",
       "                    \n",
       "                    <tr>\n",
       "                        <th> Bytes </th>\n",
       "                        <td> 0 B </td>\n",
       "                        <td> 0 B </td>\n",
       "                    </tr>\n",
       "                    \n",
       "                    <tr>\n",
       "                        <th> Shape </th>\n",
       "                        <td> (0, 340, 0, 63, 103) </td>\n",
       "                        <td> (0, 36, 0, 63, 1) </td>\n",
       "                    </tr>\n",
       "                    <tr>\n",
       "                        <th> Dask graph </th>\n",
       "                        <td colspan=\"2\"> 1133 chunks in 541 graph layers </td>\n",
       "                    </tr>\n",
       "                    <tr>\n",
       "                        <th> Data type </th>\n",
       "                        <td colspan=\"2\"> float64 numpy.ndarray </td>\n",
       "                    </tr>\n",
       "                </tbody>\n",
       "            </table>\n",
       "        </td>\n",
       "        <td>\n",
       "        \n",
       "        </td>\n",
       "    </tr>\n",
       "</table></div></div></li><li class='xr-section-item'><input id='section-eedd39d7-fb33-4108-aaf5-7d53d9333a18' class='xr-section-summary-in' type='checkbox'  checked><label for='section-eedd39d7-fb33-4108-aaf5-7d53d9333a18' class='xr-section-summary' >Coordinates: <span>(5)</span></label><div class='xr-section-inline-details'></div><div class='xr-section-details'><ul class='xr-var-list'><li class='xr-var-item'><div class='xr-var-name'><span class='xr-has-index'>x</span></div><div class='xr-var-dims'>(x)</div><div class='xr-var-dtype'>int64</div><div class='xr-var-preview xr-preview'></div><input id='attrs-34be137c-54ae-47db-8bec-7be78a3fc852' class='xr-var-attrs-in' type='checkbox' disabled><label for='attrs-34be137c-54ae-47db-8bec-7be78a3fc852' title='Show/Hide attributes'><svg class='icon xr-icon-file-text2'><use xlink:href='#icon-file-text2'></use></svg></label><input id='data-dc32ea52-736f-43d0-b1c5-e759c43f9472' class='xr-var-data-in' type='checkbox'><label for='data-dc32ea52-736f-43d0-b1c5-e759c43f9472' title='Show/Hide data repr'><svg class='icon xr-icon-database'><use xlink:href='#icon-database'></use></svg></label><div class='xr-var-attrs'><dl class='xr-attrs'></dl></div><div class='xr-var-data'><pre>array([], dtype=int64)</pre></div></li><li class='xr-var-item'><div class='xr-var-name'><span class='xr-has-index'>y</span></div><div class='xr-var-dims'>(y)</div><div class='xr-var-dtype'>int64</div><div class='xr-var-preview xr-preview'>0 1 2 3 4 5 ... 335 336 337 338 339</div><input id='attrs-01eb95db-fd28-4e09-bb51-1871b8acb01c' class='xr-var-attrs-in' type='checkbox' disabled><label for='attrs-01eb95db-fd28-4e09-bb51-1871b8acb01c' title='Show/Hide attributes'><svg class='icon xr-icon-file-text2'><use xlink:href='#icon-file-text2'></use></svg></label><input id='data-16a1b202-8a11-4581-962e-45d010dd17ef' class='xr-var-data-in' type='checkbox'><label for='data-16a1b202-8a11-4581-962e-45d010dd17ef' title='Show/Hide data repr'><svg class='icon xr-icon-database'><use xlink:href='#icon-database'></use></svg></label><div class='xr-var-attrs'><dl class='xr-attrs'></dl></div><div class='xr-var-data'><pre>array([  0,   1,   2, ..., 337, 338, 339])</pre></div></li><li class='xr-var-item'><div class='xr-var-name'><span class='xr-has-index'>z</span></div><div class='xr-var-dims'>(z)</div><div class='xr-var-dtype'>int64</div><div class='xr-var-preview xr-preview'></div><input id='attrs-3c0ede3e-4c5d-4f49-9d48-8af1db5b8b12' class='xr-var-attrs-in' type='checkbox' disabled><label for='attrs-3c0ede3e-4c5d-4f49-9d48-8af1db5b8b12' title='Show/Hide attributes'><svg class='icon xr-icon-file-text2'><use xlink:href='#icon-file-text2'></use></svg></label><input id='data-8e498e16-0198-42ee-8d49-6cb95e3770fa' class='xr-var-data-in' type='checkbox'><label for='data-8e498e16-0198-42ee-8d49-6cb95e3770fa' title='Show/Hide data repr'><svg class='icon xr-icon-database'><use xlink:href='#icon-database'></use></svg></label><div class='xr-var-attrs'><dl class='xr-attrs'></dl></div><div class='xr-var-data'><pre>array([], dtype=int64)</pre></div></li><li class='xr-var-item'><div class='xr-var-name'><span class='xr-has-index'>time</span></div><div class='xr-var-dims'>(time)</div><div class='xr-var-dtype'>int64</div><div class='xr-var-preview xr-preview'>0 1 2 3 4 5 6 ... 57 58 59 60 61 62</div><input id='attrs-d0d77909-4370-4086-a4fc-77f320633e9e' class='xr-var-attrs-in' type='checkbox' disabled><label for='attrs-d0d77909-4370-4086-a4fc-77f320633e9e' title='Show/Hide attributes'><svg class='icon xr-icon-file-text2'><use xlink:href='#icon-file-text2'></use></svg></label><input id='data-22c6ed81-38dd-4d41-b60b-5a6142fde42f' class='xr-var-data-in' type='checkbox'><label for='data-22c6ed81-38dd-4d41-b60b-5a6142fde42f' title='Show/Hide data repr'><svg class='icon xr-icon-database'><use xlink:href='#icon-database'></use></svg></label><div class='xr-var-attrs'><dl class='xr-attrs'></dl></div><div class='xr-var-data'><pre>array([ 0,  1,  2,  3,  4,  5,  6,  7,  8,  9, 10, 11, 12, 13, 14, 15, 16, 17,\n",
       "       18, 19, 20, 21, 22, 23, 24, 25, 26, 27, 28, 29, 30, 31, 32, 33, 34, 35,\n",
       "       36, 37, 38, 39, 40, 41, 42, 43, 44, 45, 46, 47, 48, 49, 50, 51, 52, 53,\n",
       "       54, 55, 56, 57, 58, 59, 60, 61, 62])</pre></div></li><li class='xr-var-item'><div class='xr-var-name'><span class='xr-has-index'>feature</span></div><div class='xr-var-dims'>(feature)</div><div class='xr-var-dtype'>&lt;U27</div><div class='xr-var-preview xr-preview'>&#x27;Gaussian_4D_Blur_0.0&#x27; ... &#x27;diff...</div><input id='attrs-3de4f160-d314-4ec8-89f6-a25ab5215e0f' class='xr-var-attrs-in' type='checkbox' disabled><label for='attrs-3de4f160-d314-4ec8-89f6-a25ab5215e0f' title='Show/Hide attributes'><svg class='icon xr-icon-file-text2'><use xlink:href='#icon-file-text2'></use></svg></label><input id='data-292391f1-4dfd-44ab-9643-d82280f139b5' class='xr-var-data-in' type='checkbox'><label for='data-292391f1-4dfd-44ab-9643-d82280f139b5' title='Show/Hide data repr'><svg class='icon xr-icon-database'><use xlink:href='#icon-database'></use></svg></label><div class='xr-var-attrs'><dl class='xr-attrs'></dl></div><div class='xr-var-data'><pre>array([&#x27;Gaussian_4D_Blur_0.0&#x27;, &#x27;Gaussian_4D_Blur_1.0&#x27;, &#x27;Gaussian_4D_Blur_3.0&#x27;,\n",
       "       &#x27;Gaussian_4D_Blur_6.0&#x27;, &#x27;Gaussian_4D_Blur_2.0&#x27;,\n",
       "       &#x27;diff_of_gauss_4D_1.0_0.0&#x27;, &#x27;diff_of_gauss_4D_3.0_0.0&#x27;,\n",
       "       &#x27;diff_of_gauss_4D_6.0_0.0&#x27;, &#x27;diff_of_gauss_4D_2.0_0.0&#x27;,\n",
       "       &#x27;diff_of_gauss_4D_3.0_1.0&#x27;, &#x27;diff_of_gauss_4D_6.0_1.0&#x27;,\n",
       "       &#x27;diff_of_gauss_4D_2.0_1.0&#x27;, &#x27;diff_of_gauss_4D_6.0_3.0&#x27;,\n",
       "       &#x27;diff_of_gauss_4D_2.0_3.0&#x27;, &#x27;diff_of_gauss_4D_2.0_6.0&#x27;,\n",
       "       &#x27;Gradient_sigma_1.0_0&#x27;, &#x27;Gradient_sigma_1.0_1&#x27;, &#x27;Gradient_sigma_1.0_2&#x27;,\n",
       "       &#x27;Gradient_sigma_1.0_3&#x27;, &#x27;hessian_sigma_1.0_00&#x27;, &#x27;hessian_sigma_1.0_01&#x27;,\n",
       "       &#x27;hessian_sigma_1.0_02&#x27;, &#x27;hessian_sigma_1.0_03&#x27;, &#x27;hessian_sigma_1.0_11&#x27;,\n",
       "       &#x27;hessian_sigma_1.0_12&#x27;, &#x27;hessian_sigma_1.0_13&#x27;, &#x27;hessian_sigma_1.0_22&#x27;,\n",
       "       &#x27;hessian_sigma_1.0_23&#x27;, &#x27;hessian_sigma_1.0_33&#x27;, &#x27;Gradient_sigma_3.0_0&#x27;,\n",
       "       &#x27;Gradient_sigma_3.0_1&#x27;, &#x27;Gradient_sigma_3.0_2&#x27;, &#x27;Gradient_sigma_3.0_3&#x27;,\n",
       "       &#x27;hessian_sigma_3.0_00&#x27;, &#x27;hessian_sigma_3.0_01&#x27;, &#x27;hessian_sigma_3.0_02&#x27;,\n",
       "       &#x27;hessian_sigma_3.0_03&#x27;, &#x27;hessian_sigma_3.0_11&#x27;, &#x27;hessian_sigma_3.0_12&#x27;,\n",
       "       &#x27;hessian_sigma_3.0_13&#x27;, &#x27;hessian_sigma_3.0_22&#x27;, &#x27;hessian_sigma_3.0_23&#x27;,\n",
       "       &#x27;hessian_sigma_3.0_33&#x27;, &#x27;Gradient_sigma_6.0_0&#x27;, &#x27;Gradient_sigma_6.0_1&#x27;,\n",
       "       &#x27;Gradient_sigma_6.0_2&#x27;, &#x27;Gradient_sigma_6.0_3&#x27;, &#x27;hessian_sigma_6.0_00&#x27;,\n",
       "       &#x27;hessian_sigma_6.0_01&#x27;, &#x27;hessian_sigma_6.0_02&#x27;, &#x27;hessian_sigma_6.0_03&#x27;,\n",
       "       &#x27;hessian_sigma_6.0_11&#x27;, &#x27;hessian_sigma_6.0_12&#x27;, &#x27;hessian_sigma_6.0_13&#x27;,\n",
       "       &#x27;hessian_sigma_6.0_22&#x27;, &#x27;hessian_sigma_6.0_23&#x27;, &#x27;hessian_sigma_6.0_33&#x27;,\n",
       "       &#x27;Gradient_sigma_2.0_0&#x27;, &#x27;Gradient_sigma_2.0_1&#x27;, &#x27;Gradient_sigma_2.0_2&#x27;,\n",
       "       &#x27;Gradient_sigma_2.0_3&#x27;, &#x27;hessian_sigma_2.0_00&#x27;, &#x27;hessian_sigma_2.0_01&#x27;,\n",
       "       &#x27;hessian_sigma_2.0_02&#x27;, &#x27;hessian_sigma_2.0_03&#x27;, &#x27;hessian_sigma_2.0_11&#x27;,\n",
       "       &#x27;hessian_sigma_2.0_12&#x27;, &#x27;hessian_sigma_2.0_13&#x27;, &#x27;hessian_sigma_2.0_22&#x27;,\n",
       "       &#x27;hessian_sigma_2.0_23&#x27;, &#x27;hessian_sigma_2.0_33&#x27;, &#x27;Gaussian_time_0.0&#x27;,\n",
       "       &#x27;Gaussian_time_1.0&#x27;, &#x27;Gaussian_time_3.0&#x27;, &#x27;Gaussian_time_6.0&#x27;,\n",
       "       &#x27;Gaussian_time_2.0&#x27;, &#x27;diff_of_gauss_time_1.0_0.0&#x27;,\n",
       "       &#x27;diff_of_gauss_time_3.0_0.0&#x27;, &#x27;diff_of_gauss_time_6.0_0.0&#x27;,\n",
       "       &#x27;diff_of_gauss_time_2.0_0.0&#x27;, &#x27;diff_of_gauss_time_3.0_1.0&#x27;,\n",
       "       &#x27;diff_of_gauss_time_6.0_1.0&#x27;, &#x27;diff_of_gauss_time_2.0_1.0&#x27;,\n",
       "       &#x27;diff_of_gauss_time_6.0_3.0&#x27;, &#x27;diff_of_gauss_time_2.0_3.0&#x27;,\n",
       "       &#x27;diff_of_gauss_time_2.0_6.0&#x27;, &#x27;Gaussian_space_0.0&#x27;,\n",
       "       &#x27;Gaussian_space_1.0&#x27;, &#x27;Gaussian_space_3.0&#x27;, &#x27;Gaussian_space_6.0&#x27;,\n",
       "       &#x27;Gaussian_space_2.0&#x27;, &#x27;diff_of_gauss_space_1.0_0.0&#x27;,\n",
       "       &#x27;diff_of_gauss_space_3.0_0.0&#x27;, &#x27;diff_of_gauss_space_6.0_0.0&#x27;,\n",
       "       &#x27;diff_of_gauss_space_2.0_0.0&#x27;, &#x27;diff_of_gauss_space_3.0_1.0&#x27;,\n",
       "       &#x27;diff_of_gauss_space_6.0_1.0&#x27;, &#x27;diff_of_gauss_space_2.0_1.0&#x27;,\n",
       "       &#x27;diff_of_gauss_space_6.0_3.0&#x27;, &#x27;diff_of_gauss_space_2.0_3.0&#x27;,\n",
       "       &#x27;diff_of_gauss_space_2.0_6.0&#x27;, &#x27;diff_to_min_&#x27;,\n",
       "       &#x27;diff_temp_min_Gauss_2.0&#x27;], dtype=&#x27;&lt;U27&#x27;)</pre></div></li></ul></div></li><li class='xr-section-item'><input id='section-09ab3b96-9cd1-4e7f-ae79-1a87a093977d' class='xr-section-summary-in' type='checkbox'  ><label for='section-09ab3b96-9cd1-4e7f-ae79-1a87a093977d' class='xr-section-summary' >Indexes: <span>(5)</span></label><div class='xr-section-inline-details'></div><div class='xr-section-details'><ul class='xr-var-list'><li class='xr-var-item'><div class='xr-index-name'><div>x</div></div><div class='xr-index-preview'>PandasIndex</div><div></div><input id='index-a0c5a642-87d0-45b7-ab0a-156765cd2c4f' class='xr-index-data-in' type='checkbox'/><label for='index-a0c5a642-87d0-45b7-ab0a-156765cd2c4f' title='Show/Hide index repr'><svg class='icon xr-icon-database'><use xlink:href='#icon-database'></use></svg></label><div class='xr-index-data'><pre>PandasIndex(Index([], dtype=&#x27;int64&#x27;, name=&#x27;x&#x27;))</pre></div></li><li class='xr-var-item'><div class='xr-index-name'><div>y</div></div><div class='xr-index-preview'>PandasIndex</div><div></div><input id='index-520b253f-e9ff-4a67-ab7b-77914a6aa6ae' class='xr-index-data-in' type='checkbox'/><label for='index-520b253f-e9ff-4a67-ab7b-77914a6aa6ae' title='Show/Hide index repr'><svg class='icon xr-icon-database'><use xlink:href='#icon-database'></use></svg></label><div class='xr-index-data'><pre>PandasIndex(Index([  0,   1,   2,   3,   4,   5,   6,   7,   8,   9,\n",
       "       ...\n",
       "       330, 331, 332, 333, 334, 335, 336, 337, 338, 339],\n",
       "      dtype=&#x27;int64&#x27;, name=&#x27;y&#x27;, length=340))</pre></div></li><li class='xr-var-item'><div class='xr-index-name'><div>z</div></div><div class='xr-index-preview'>PandasIndex</div><div></div><input id='index-819b1b25-1fcc-412f-8ea1-3450a3ed587a' class='xr-index-data-in' type='checkbox'/><label for='index-819b1b25-1fcc-412f-8ea1-3450a3ed587a' title='Show/Hide index repr'><svg class='icon xr-icon-database'><use xlink:href='#icon-database'></use></svg></label><div class='xr-index-data'><pre>PandasIndex(Index([], dtype=&#x27;int64&#x27;, name=&#x27;z&#x27;))</pre></div></li><li class='xr-var-item'><div class='xr-index-name'><div>time</div></div><div class='xr-index-preview'>PandasIndex</div><div></div><input id='index-b46b67b6-c230-42a3-86c1-04623b231da2' class='xr-index-data-in' type='checkbox'/><label for='index-b46b67b6-c230-42a3-86c1-04623b231da2' title='Show/Hide index repr'><svg class='icon xr-icon-database'><use xlink:href='#icon-database'></use></svg></label><div class='xr-index-data'><pre>PandasIndex(Index([ 0,  1,  2,  3,  4,  5,  6,  7,  8,  9, 10, 11, 12, 13, 14, 15, 16, 17,\n",
       "       18, 19, 20, 21, 22, 23, 24, 25, 26, 27, 28, 29, 30, 31, 32, 33, 34, 35,\n",
       "       36, 37, 38, 39, 40, 41, 42, 43, 44, 45, 46, 47, 48, 49, 50, 51, 52, 53,\n",
       "       54, 55, 56, 57, 58, 59, 60, 61, 62],\n",
       "      dtype=&#x27;int64&#x27;, name=&#x27;time&#x27;))</pre></div></li><li class='xr-var-item'><div class='xr-index-name'><div>feature</div></div><div class='xr-index-preview'>PandasIndex</div><div></div><input id='index-bd33e88f-d398-4755-8eb5-7825b83a835a' class='xr-index-data-in' type='checkbox'/><label for='index-bd33e88f-d398-4755-8eb5-7825b83a835a' title='Show/Hide index repr'><svg class='icon xr-icon-database'><use xlink:href='#icon-database'></use></svg></label><div class='xr-index-data'><pre>PandasIndex(Index([&#x27;Gaussian_4D_Blur_0.0&#x27;, &#x27;Gaussian_4D_Blur_1.0&#x27;, &#x27;Gaussian_4D_Blur_3.0&#x27;,\n",
       "       &#x27;Gaussian_4D_Blur_6.0&#x27;, &#x27;Gaussian_4D_Blur_2.0&#x27;,\n",
       "       &#x27;diff_of_gauss_4D_1.0_0.0&#x27;, &#x27;diff_of_gauss_4D_3.0_0.0&#x27;,\n",
       "       &#x27;diff_of_gauss_4D_6.0_0.0&#x27;, &#x27;diff_of_gauss_4D_2.0_0.0&#x27;,\n",
       "       &#x27;diff_of_gauss_4D_3.0_1.0&#x27;,\n",
       "       ...\n",
       "       &#x27;diff_of_gauss_space_6.0_0.0&#x27;, &#x27;diff_of_gauss_space_2.0_0.0&#x27;,\n",
       "       &#x27;diff_of_gauss_space_3.0_1.0&#x27;, &#x27;diff_of_gauss_space_6.0_1.0&#x27;,\n",
       "       &#x27;diff_of_gauss_space_2.0_1.0&#x27;, &#x27;diff_of_gauss_space_6.0_3.0&#x27;,\n",
       "       &#x27;diff_of_gauss_space_2.0_3.0&#x27;, &#x27;diff_of_gauss_space_2.0_6.0&#x27;,\n",
       "       &#x27;diff_to_min_&#x27;, &#x27;diff_temp_min_Gauss_2.0&#x27;],\n",
       "      dtype=&#x27;object&#x27;, name=&#x27;feature&#x27;, length=103))</pre></div></li></ul></div></li><li class='xr-section-item'><input id='section-f3f66e4d-5f64-44e9-9322-f6533469d6d9' class='xr-section-summary-in' type='checkbox' disabled ><label for='section-f3f66e4d-5f64-44e9-9322-f6533469d6d9' class='xr-section-summary'  title='Expand/collapse section'>Attributes: <span>(0)</span></label><div class='xr-section-inline-details'></div><div class='xr-section-details'><dl class='xr-attrs'></dl></div></li></ul></div></div>"
      ],
      "text/plain": [
       "<xarray.DataArray 'feature_stack' (x: 0, y: 340, z: 0, time: 63, feature: 103)>\n",
       "dask.array<getitem, shape=(0, 340, 0, 63, 103), dtype=float64, chunksize=(0, 36, 0, 63, 1), chunktype=numpy.ndarray>\n",
       "Coordinates:\n",
       "  * x        (x) int64 \n",
       "  * y        (y) int64 0 1 2 3 4 5 6 7 8 ... 331 332 333 334 335 336 337 338 339\n",
       "  * z        (z) int64 \n",
       "  * time     (time) int64 0 1 2 3 4 5 6 7 8 9 ... 53 54 55 56 57 58 59 60 61 62\n",
       "  * feature  (feature) <U27 'Gaussian_4D_Blur_0.0' ... 'diff_temp_min_Gauss_2.0'"
      ]
     },
     "execution_count": 54,
     "metadata": {},
     "output_type": "execute_result"
    }
   ],
   "source": [
    "# check length of loops to process entire dataset, estimate size of obtained sub-feature to avoid out-of-memory issues\n",
    "i = 14\n",
    "j = i\n",
    "# j = 3\n",
    "dim1 = 54#better use multiple of chunk size !?\n",
    "dim2 = int(2.6*dim1)\n",
    "feat[i*dim1:(i+1)*dim1,:,j*dim2:(j+1)*dim2,:,:] #select all features and all time steps, but you are free in space; als large as possible and as small as necessary. limit is the available RAM to collect the dask result"
   ]
  },
  {
   "cell_type": "code",
   "execution_count": 55,
   "id": "94193631-c6c8-4a6b-a527-ef98f3e6d77d",
   "metadata": {
    "tags": []
   },
   "outputs": [],
   "source": [
    "segs = np.zeros(feat.shape[:4], dtype=np.uint8)\n",
    "# segs = pickle.load(open(os.path.join(temppath,'segs.p')), 'rb'))  #segmentation will most likely crash a few times so re-lead reached state"
   ]
  },
  {
   "cell_type": "code",
   "execution_count": 57,
   "id": "fd3f3e68-c279-4857-a196-a416b807aca5",
   "metadata": {
    "tags": []
   },
   "outputs": [
    {
     "data": {
      "text/plain": [
       "50"
      ]
     },
     "execution_count": 57,
     "metadata": {},
     "output_type": "execute_result"
    }
   ],
   "source": [
    "# maybe helps reducing memory leak issues, but not sure if it actually does anything ...\n",
    "client.run(gc.collect)\n",
    "gc.collect()"
   ]
  },
  {
   "cell_type": "code",
   "execution_count": 58,
   "id": "e90052a9-d05c-418b-9daa-6831b7af5b3f",
   "metadata": {
    "tags": []
   },
   "outputs": [],
   "source": [
    "import ctypes #same as above\n",
    "def trim_memory() -> int:\n",
    "    libc = ctypes.CDLL(\"libc.so.6\")\n",
    "    return libc.malloc_trim(0)"
   ]
  },
  {
   "cell_type": "code",
   "execution_count": 59,
   "id": "38131ff8-d71a-44e9-9b63-124caf23e3eb",
   "metadata": {},
   "outputs": [
    {
     "data": {
      "text/plain": [
       "1"
      ]
     },
     "execution_count": 59,
     "metadata": {},
     "output_type": "execute_result"
    }
   ],
   "source": [
    "trim_memory()"
   ]
  },
  {
   "cell_type": "code",
   "execution_count": null,
   "id": "47bda30a-a93a-437f-8025-422b76c3a682",
   "metadata": {
    "scrolled": true,
    "tags": []
   },
   "outputs": [
    {
     "name": "stdout",
     "output_type": "stream",
     "text": [
      "5/14\n",
      "7\n"
     ]
    },
    {
     "name": "stderr",
     "output_type": "stream",
     "text": [
      "/mpc/homes/fische_r/miniconda3/lib/python3.11/site-packages/distributed/client.py:3149: UserWarning: Sending large graph of size 12.53 MiB.\n",
      "This may cause some slowdown.\n",
      "Consider scattering data ahead of time and using futures.\n",
      "  warnings.warn(\n",
      "2023-11-06 08:55:05,396 - distributed.nanny - WARNING - Restarting worker\n",
      "2023-11-06 08:55:11,790 - distributed.nanny - WARNING - Restarting worker\n",
      "2023-11-06 09:00:09,419 - distributed.nanny - WARNING - Restarting worker\n",
      "2023-11-06 09:00:10,414 - distributed.nanny - WARNING - Restarting worker\n"
     ]
    },
    {
     "name": "stdout",
     "output_type": "stream",
     "text": [
      "(161935200,)\n",
      "8\n"
     ]
    },
    {
     "name": "stderr",
     "output_type": "stream",
     "text": [
      "/mpc/homes/fische_r/miniconda3/lib/python3.11/site-packages/distributed/client.py:3149: UserWarning: Sending large graph of size 10.41 MiB.\n",
      "This may cause some slowdown.\n",
      "Consider scattering data ahead of time and using futures.\n",
      "  warnings.warn(\n",
      "2023-11-06 09:17:54,795 - distributed.nanny - WARNING - Restarting worker\n",
      "2023-11-06 09:18:01,541 - distributed.nanny - WARNING - Restarting worker\n",
      "2023-11-06 09:22:40,612 - distributed.nanny - WARNING - Restarting worker\n",
      "2023-11-06 09:22:41,556 - distributed.nanny - WARNING - Restarting worker\n"
     ]
    },
    {
     "name": "stdout",
     "output_type": "stream",
     "text": [
      "(161935200,)\n",
      "9\n"
     ]
    },
    {
     "name": "stderr",
     "output_type": "stream",
     "text": [
      "2023-11-06 09:35:24,797 - distributed.utils_perf - WARNING - full garbage collections took 19% CPU time recently (threshold: 10%)\n",
      "2023-11-06 09:35:37,336 - distributed.utils_perf - WARNING - full garbage collections took 20% CPU time recently (threshold: 10%)\n",
      "2023-11-06 09:35:53,042 - distributed.utils_perf - WARNING - full garbage collections took 22% CPU time recently (threshold: 10%)\n",
      "2023-11-06 09:36:15,587 - distributed.utils_perf - WARNING - full garbage collections took 23% CPU time recently (threshold: 10%)\n",
      "/mpc/homes/fische_r/miniconda3/lib/python3.11/site-packages/distributed/client.py:3149: UserWarning: Sending large graph of size 10.41 MiB.\n",
      "This may cause some slowdown.\n",
      "Consider scattering data ahead of time and using futures.\n",
      "  warnings.warn(\n",
      "2023-11-06 09:40:50,631 - distributed.nanny - WARNING - Restarting worker\n",
      "2023-11-06 09:40:57,532 - distributed.nanny - WARNING - Restarting worker\n",
      "2023-11-06 09:45:39,235 - distributed.nanny - WARNING - Restarting worker\n",
      "2023-11-06 09:45:40,160 - distributed.nanny - WARNING - Restarting worker\n"
     ]
    },
    {
     "name": "stdout",
     "output_type": "stream",
     "text": [
      "(161935200,)\n"
     ]
    },
    {
     "name": "stderr",
     "output_type": "stream",
     "text": [
      "2023-11-06 09:52:34,605 - distributed.utils_perf - WARNING - full garbage collections took 18% CPU time recently (threshold: 10%)\n"
     ]
    },
    {
     "name": "stdout",
     "output_type": "stream",
     "text": [
      "10\n"
     ]
    },
    {
     "name": "stderr",
     "output_type": "stream",
     "text": [
      "2023-11-06 09:57:30,109 - distributed.utils_perf - WARNING - full garbage collections took 18% CPU time recently (threshold: 10%)\n",
      "2023-11-06 09:57:44,375 - distributed.utils_perf - WARNING - full garbage collections took 18% CPU time recently (threshold: 10%)\n",
      "2023-11-06 09:57:51,901 - distributed.utils_perf - WARNING - full garbage collections took 18% CPU time recently (threshold: 10%)\n",
      "2023-11-06 09:58:01,737 - distributed.utils_perf - WARNING - full garbage collections took 19% CPU time recently (threshold: 10%)\n",
      "2023-11-06 09:58:14,450 - distributed.utils_perf - WARNING - full garbage collections took 19% CPU time recently (threshold: 10%)\n",
      "2023-11-06 09:58:30,600 - distributed.utils_perf - WARNING - full garbage collections took 20% CPU time recently (threshold: 10%)\n",
      "2023-11-06 09:58:53,584 - distributed.utils_perf - WARNING - full garbage collections took 21% CPU time recently (threshold: 10%)\n",
      "/mpc/homes/fische_r/miniconda3/lib/python3.11/site-packages/distributed/client.py:3149: UserWarning: Sending large graph of size 12.53 MiB.\n",
      "This may cause some slowdown.\n",
      "Consider scattering data ahead of time and using futures.\n",
      "  warnings.warn(\n",
      "2023-11-06 10:03:51,077 - distributed.nanny - WARNING - Restarting worker\n",
      "2023-11-06 10:03:57,405 - distributed.nanny - WARNING - Restarting worker\n",
      "2023-11-06 10:08:53,941 - distributed.nanny - WARNING - Restarting worker\n",
      "2023-11-06 10:08:55,895 - distributed.nanny - WARNING - Restarting worker\n"
     ]
    },
    {
     "name": "stdout",
     "output_type": "stream",
     "text": [
      "(161935200,)\n"
     ]
    },
    {
     "name": "stderr",
     "output_type": "stream",
     "text": [
      "2023-11-06 10:16:32,179 - distributed.utils_perf - WARNING - full garbage collections took 20% CPU time recently (threshold: 10%)\n"
     ]
    },
    {
     "name": "stdout",
     "output_type": "stream",
     "text": [
      "11\n"
     ]
    },
    {
     "name": "stderr",
     "output_type": "stream",
     "text": [
      "2023-11-06 10:21:25,774 - distributed.utils_perf - WARNING - full garbage collections took 20% CPU time recently (threshold: 10%)\n",
      "2023-11-06 10:21:41,001 - distributed.utils_perf - WARNING - full garbage collections took 20% CPU time recently (threshold: 10%)\n",
      "2023-11-06 10:21:48,413 - distributed.utils_perf - WARNING - full garbage collections took 20% CPU time recently (threshold: 10%)\n",
      "2023-11-06 10:21:58,320 - distributed.utils_perf - WARNING - full garbage collections took 20% CPU time recently (threshold: 10%)\n",
      "2023-11-06 10:22:11,508 - distributed.utils_perf - WARNING - full garbage collections took 21% CPU time recently (threshold: 10%)\n",
      "2023-11-06 10:22:27,356 - distributed.utils_perf - WARNING - full garbage collections took 21% CPU time recently (threshold: 10%)\n",
      "2023-11-06 10:22:50,498 - distributed.utils_perf - WARNING - full garbage collections took 22% CPU time recently (threshold: 10%)\n",
      "/mpc/homes/fische_r/miniconda3/lib/python3.11/site-packages/distributed/client.py:3149: UserWarning: Sending large graph of size 12.53 MiB.\n",
      "This may cause some slowdown.\n",
      "Consider scattering data ahead of time and using futures.\n",
      "  warnings.warn(\n",
      "2023-11-06 10:27:41,827 - distributed.nanny - WARNING - Restarting worker\n",
      "2023-11-06 10:27:47,989 - distributed.nanny - WARNING - Restarting worker\n",
      "2023-11-06 10:32:42,578 - distributed.nanny - WARNING - Restarting worker\n",
      "2023-11-06 10:32:44,713 - distributed.nanny - WARNING - Restarting worker\n"
     ]
    },
    {
     "name": "stdout",
     "output_type": "stream",
     "text": [
      "(161935200,)\n"
     ]
    },
    {
     "name": "stderr",
     "output_type": "stream",
     "text": [
      "2023-11-06 10:40:31,128 - distributed.utils_perf - WARNING - full garbage collections took 20% CPU time recently (threshold: 10%)\n"
     ]
    },
    {
     "name": "stdout",
     "output_type": "stream",
     "text": [
      "12\n"
     ]
    },
    {
     "name": "stderr",
     "output_type": "stream",
     "text": [
      "2023-11-06 10:45:21,833 - distributed.utils_perf - WARNING - full garbage collections took 20% CPU time recently (threshold: 10%)\n",
      "2023-11-06 10:45:36,824 - distributed.utils_perf - WARNING - full garbage collections took 20% CPU time recently (threshold: 10%)\n",
      "2023-11-06 10:45:44,516 - distributed.utils_perf - WARNING - full garbage collections took 20% CPU time recently (threshold: 10%)\n",
      "2023-11-06 10:45:54,646 - distributed.utils_perf - WARNING - full garbage collections took 21% CPU time recently (threshold: 10%)\n",
      "2023-11-06 10:46:07,675 - distributed.utils_perf - WARNING - full garbage collections took 21% CPU time recently (threshold: 10%)\n",
      "2023-11-06 10:46:23,604 - distributed.utils_perf - WARNING - full garbage collections took 21% CPU time recently (threshold: 10%)\n",
      "2023-11-06 10:46:46,848 - distributed.utils_perf - WARNING - full garbage collections took 21% CPU time recently (threshold: 10%)\n",
      "/mpc/homes/fische_r/miniconda3/lib/python3.11/site-packages/distributed/client.py:3149: UserWarning: Sending large graph of size 12.52 MiB.\n",
      "This may cause some slowdown.\n",
      "Consider scattering data ahead of time and using futures.\n",
      "  warnings.warn(\n",
      "2023-11-06 10:51:45,842 - distributed.nanny - WARNING - Restarting worker\n",
      "2023-11-06 10:51:52,256 - distributed.nanny - WARNING - Restarting worker\n",
      "2023-11-06 10:56:44,566 - distributed.nanny - WARNING - Restarting worker\n",
      "2023-11-06 10:56:46,646 - distributed.nanny - WARNING - Restarting worker\n"
     ]
    },
    {
     "name": "stdout",
     "output_type": "stream",
     "text": [
      "(161935200,)\n"
     ]
    },
    {
     "name": "stderr",
     "output_type": "stream",
     "text": [
      "2023-11-06 11:04:38,909 - distributed.utils_perf - WARNING - full garbage collections took 22% CPU time recently (threshold: 10%)\n"
     ]
    },
    {
     "name": "stdout",
     "output_type": "stream",
     "text": [
      "13\n"
     ]
    },
    {
     "name": "stderr",
     "output_type": "stream",
     "text": [
      "2023-11-06 11:09:29,488 - distributed.utils_perf - WARNING - full garbage collections took 22% CPU time recently (threshold: 10%)\n",
      "2023-11-06 11:09:44,479 - distributed.utils_perf - WARNING - full garbage collections took 22% CPU time recently (threshold: 10%)\n",
      "2023-11-06 11:09:52,132 - distributed.utils_perf - WARNING - full garbage collections took 22% CPU time recently (threshold: 10%)\n",
      "2023-11-06 11:10:02,367 - distributed.utils_perf - WARNING - full garbage collections took 22% CPU time recently (threshold: 10%)\n",
      "2023-11-06 11:10:15,430 - distributed.utils_perf - WARNING - full garbage collections took 23% CPU time recently (threshold: 10%)\n",
      "2023-11-06 11:10:31,395 - distributed.utils_perf - WARNING - full garbage collections took 23% CPU time recently (threshold: 10%)\n",
      "2023-11-06 11:10:54,757 - distributed.utils_perf - WARNING - full garbage collections took 23% CPU time recently (threshold: 10%)\n",
      "2023-11-06 11:12:19,552 - distributed.utils_perf - WARNING - full garbage collections took 11% CPU time recently (threshold: 10%)\n",
      "2023-11-06 11:12:26,519 - distributed.utils_perf - WARNING - full garbage collections took 13% CPU time recently (threshold: 10%)\n",
      "2023-11-06 11:14:20,734 - distributed.nanny - WARNING - Restarting worker\n",
      "2023-11-06 11:14:26,757 - distributed.nanny - WARNING - Restarting worker\n",
      "2023-11-06 11:19:06,466 - distributed.nanny - WARNING - Restarting worker\n",
      "2023-11-06 11:19:07,442 - distributed.nanny - WARNING - Restarting worker\n"
     ]
    },
    {
     "name": "stdout",
     "output_type": "stream",
     "text": [
      "(111041280,)\n",
      "6/14\n"
     ]
    },
    {
     "name": "stderr",
     "output_type": "stream",
     "text": [
      "2023-11-06 11:23:51,742 - distributed.utils_perf - WARNING - full garbage collections took 24% CPU time recently (threshold: 10%)\n"
     ]
    },
    {
     "name": "stdout",
     "output_type": "stream",
     "text": [
      "0\n"
     ]
    },
    {
     "name": "stderr",
     "output_type": "stream",
     "text": [
      "2023-11-06 11:28:49,177 - distributed.utils_perf - WARNING - full garbage collections took 24% CPU time recently (threshold: 10%)\n",
      "2023-11-06 11:29:04,508 - distributed.utils_perf - WARNING - full garbage collections took 24% CPU time recently (threshold: 10%)\n",
      "2023-11-06 11:29:12,164 - distributed.utils_perf - WARNING - full garbage collections took 24% CPU time recently (threshold: 10%)\n",
      "2023-11-06 11:29:22,661 - distributed.utils_perf - WARNING - full garbage collections took 24% CPU time recently (threshold: 10%)\n",
      "2023-11-06 11:29:35,824 - distributed.utils_perf - WARNING - full garbage collections took 24% CPU time recently (threshold: 10%)\n",
      "2023-11-06 11:29:52,164 - distributed.utils_perf - WARNING - full garbage collections took 24% CPU time recently (threshold: 10%)\n",
      "2023-11-06 11:30:16,610 - distributed.utils_perf - WARNING - full garbage collections took 24% CPU time recently (threshold: 10%)\n",
      "2023-11-06 11:34:32,664 - distributed.nanny - WARNING - Restarting worker\n",
      "2023-11-06 11:34:38,824 - distributed.nanny - WARNING - Restarting worker\n",
      "2023-11-06 11:39:23,902 - distributed.nanny - WARNING - Restarting worker\n",
      "2023-11-06 11:39:24,886 - distributed.nanny - WARNING - Restarting worker\n"
     ]
    },
    {
     "name": "stdout",
     "output_type": "stream",
     "text": [
      "(161935200,)\n"
     ]
    },
    {
     "name": "stderr",
     "output_type": "stream",
     "text": [
      "2023-11-06 11:46:05,926 - distributed.utils_perf - WARNING - full garbage collections took 24% CPU time recently (threshold: 10%)\n"
     ]
    },
    {
     "name": "stdout",
     "output_type": "stream",
     "text": [
      "1\n"
     ]
    },
    {
     "name": "stderr",
     "output_type": "stream",
     "text": [
      "2023-11-06 11:51:04,631 - distributed.utils_perf - WARNING - full garbage collections took 24% CPU time recently (threshold: 10%)\n",
      "2023-11-06 11:51:20,234 - distributed.utils_perf - WARNING - full garbage collections took 24% CPU time recently (threshold: 10%)\n",
      "2023-11-06 11:51:28,624 - distributed.utils_perf - WARNING - full garbage collections took 24% CPU time recently (threshold: 10%)\n",
      "2023-11-06 11:51:39,127 - distributed.utils_perf - WARNING - full garbage collections took 24% CPU time recently (threshold: 10%)\n",
      "2023-11-06 11:51:52,647 - distributed.utils_perf - WARNING - full garbage collections took 24% CPU time recently (threshold: 10%)\n",
      "2023-11-06 11:52:09,457 - distributed.utils_perf - WARNING - full garbage collections took 24% CPU time recently (threshold: 10%)\n",
      "2023-11-06 11:52:35,209 - distributed.utils_perf - WARNING - full garbage collections took 24% CPU time recently (threshold: 10%)\n",
      "/mpc/homes/fische_r/miniconda3/lib/python3.11/site-packages/distributed/client.py:3149: UserWarning: Sending large graph of size 12.51 MiB.\n",
      "This may cause some slowdown.\n",
      "Consider scattering data ahead of time and using futures.\n",
      "  warnings.warn(\n",
      "2023-11-06 11:57:32,692 - distributed.nanny - WARNING - Restarting worker\n",
      "2023-11-06 11:57:38,815 - distributed.nanny - WARNING - Restarting worker\n",
      "2023-11-06 12:02:21,639 - distributed.nanny - WARNING - Restarting worker\n",
      "2023-11-06 12:02:22,660 - distributed.nanny - WARNING - Restarting worker\n"
     ]
    },
    {
     "name": "stdout",
     "output_type": "stream",
     "text": [
      "(161935200,)\n"
     ]
    },
    {
     "name": "stderr",
     "output_type": "stream",
     "text": [
      "2023-11-06 12:09:08,272 - distributed.utils_perf - WARNING - full garbage collections took 23% CPU time recently (threshold: 10%)\n"
     ]
    },
    {
     "name": "stdout",
     "output_type": "stream",
     "text": [
      "2\n"
     ]
    },
    {
     "name": "stderr",
     "output_type": "stream",
     "text": [
      "2023-11-06 12:14:05,789 - distributed.utils_perf - WARNING - full garbage collections took 23% CPU time recently (threshold: 10%)\n",
      "2023-11-06 12:14:21,448 - distributed.utils_perf - WARNING - full garbage collections took 23% CPU time recently (threshold: 10%)\n",
      "2023-11-06 12:14:29,838 - distributed.utils_perf - WARNING - full garbage collections took 23% CPU time recently (threshold: 10%)\n",
      "2023-11-06 12:14:40,359 - distributed.utils_perf - WARNING - full garbage collections took 23% CPU time recently (threshold: 10%)\n",
      "2023-11-06 12:14:53,881 - distributed.utils_perf - WARNING - full garbage collections took 23% CPU time recently (threshold: 10%)\n",
      "2023-11-06 12:15:10,645 - distributed.utils_perf - WARNING - full garbage collections took 23% CPU time recently (threshold: 10%)\n",
      "2023-11-06 12:15:36,436 - distributed.utils_perf - WARNING - full garbage collections took 23% CPU time recently (threshold: 10%)\n",
      "/mpc/homes/fische_r/miniconda3/lib/python3.11/site-packages/distributed/client.py:3149: UserWarning: Sending large graph of size 12.54 MiB.\n",
      "This may cause some slowdown.\n",
      "Consider scattering data ahead of time and using futures.\n",
      "  warnings.warn(\n",
      "2023-11-06 12:20:27,864 - distributed.nanny - WARNING - Restarting worker\n",
      "2023-11-06 12:20:34,100 - distributed.nanny - WARNING - Restarting worker\n",
      "2023-11-06 12:25:21,387 - distributed.nanny - WARNING - Restarting worker\n",
      "2023-11-06 12:25:22,326 - distributed.nanny - WARNING - Restarting worker\n"
     ]
    },
    {
     "name": "stdout",
     "output_type": "stream",
     "text": [
      "(161935200,)\n"
     ]
    },
    {
     "name": "stderr",
     "output_type": "stream",
     "text": [
      "2023-11-06 12:32:07,763 - distributed.utils_perf - WARNING - full garbage collections took 21% CPU time recently (threshold: 10%)\n"
     ]
    },
    {
     "name": "stdout",
     "output_type": "stream",
     "text": [
      "3\n"
     ]
    },
    {
     "name": "stderr",
     "output_type": "stream",
     "text": [
      "/mpc/homes/fische_r/miniconda3/lib/python3.11/site-packages/distributed/client.py:3149: UserWarning: Sending large graph of size 12.54 MiB.\n",
      "This may cause some slowdown.\n",
      "Consider scattering data ahead of time and using futures.\n",
      "  warnings.warn(\n",
      "2023-11-06 12:43:37,152 - distributed.nanny - WARNING - Restarting worker\n",
      "2023-11-06 12:43:43,362 - distributed.nanny - WARNING - Restarting worker\n",
      "2023-11-06 12:48:25,187 - distributed.nanny - WARNING - Restarting worker\n",
      "2023-11-06 12:48:26,174 - distributed.nanny - WARNING - Restarting worker\n"
     ]
    },
    {
     "name": "stdout",
     "output_type": "stream",
     "text": [
      "(161935200,)\n",
      "4\n"
     ]
    },
    {
     "name": "stderr",
     "output_type": "stream",
     "text": [
      "/mpc/homes/fische_r/miniconda3/lib/python3.11/site-packages/distributed/client.py:3149: UserWarning: Sending large graph of size 12.54 MiB.\n",
      "This may cause some slowdown.\n",
      "Consider scattering data ahead of time and using futures.\n",
      "  warnings.warn(\n",
      "2023-11-06 13:06:53,039 - distributed.nanny - WARNING - Restarting worker\n",
      "2023-11-06 13:06:59,293 - distributed.nanny - WARNING - Restarting worker\n",
      "2023-11-06 13:11:42,160 - distributed.nanny - WARNING - Restarting worker\n",
      "2023-11-06 13:11:43,184 - distributed.nanny - WARNING - Restarting worker\n"
     ]
    },
    {
     "name": "stdout",
     "output_type": "stream",
     "text": [
      "(161935200,)\n",
      "5\n"
     ]
    },
    {
     "name": "stderr",
     "output_type": "stream",
     "text": [
      "/mpc/homes/fische_r/miniconda3/lib/python3.11/site-packages/distributed/client.py:3149: UserWarning: Sending large graph of size 12.54 MiB.\n",
      "This may cause some slowdown.\n",
      "Consider scattering data ahead of time and using futures.\n",
      "  warnings.warn(\n",
      "2023-11-06 13:29:37,626 - distributed.nanny - WARNING - Restarting worker\n",
      "2023-11-06 13:29:44,513 - distributed.nanny - WARNING - Restarting worker\n",
      "2023-11-06 13:34:26,730 - distributed.nanny - WARNING - Restarting worker\n",
      "2023-11-06 13:34:27,716 - distributed.nanny - WARNING - Restarting worker\n"
     ]
    },
    {
     "name": "stdout",
     "output_type": "stream",
     "text": [
      "(161935200,)\n",
      "6\n"
     ]
    },
    {
     "name": "stderr",
     "output_type": "stream",
     "text": [
      "/mpc/homes/fische_r/miniconda3/lib/python3.11/site-packages/distributed/client.py:3149: UserWarning: Sending large graph of size 12.54 MiB.\n",
      "This may cause some slowdown.\n",
      "Consider scattering data ahead of time and using futures.\n",
      "  warnings.warn(\n",
      "2023-11-06 13:52:41,781 - distributed.nanny - WARNING - Restarting worker\n",
      "2023-11-06 13:52:47,984 - distributed.nanny - WARNING - Restarting worker\n",
      "2023-11-06 13:57:29,691 - distributed.nanny - WARNING - Restarting worker\n",
      "2023-11-06 13:57:30,680 - distributed.nanny - WARNING - Restarting worker\n"
     ]
    },
    {
     "name": "stdout",
     "output_type": "stream",
     "text": [
      "(161935200,)\n",
      "7\n"
     ]
    },
    {
     "name": "stderr",
     "output_type": "stream",
     "text": [
      "/mpc/homes/fische_r/miniconda3/lib/python3.11/site-packages/distributed/client.py:3149: UserWarning: Sending large graph of size 12.54 MiB.\n",
      "This may cause some slowdown.\n",
      "Consider scattering data ahead of time and using futures.\n",
      "  warnings.warn(\n",
      "2023-11-06 14:15:53,186 - distributed.nanny - WARNING - Restarting worker\n",
      "2023-11-06 14:15:59,358 - distributed.nanny - WARNING - Restarting worker\n",
      "2023-11-06 14:20:43,287 - distributed.nanny - WARNING - Restarting worker\n",
      "2023-11-06 14:20:44,273 - distributed.nanny - WARNING - Restarting worker\n"
     ]
    },
    {
     "name": "stdout",
     "output_type": "stream",
     "text": [
      "(161935200,)\n",
      "8\n"
     ]
    },
    {
     "name": "stderr",
     "output_type": "stream",
     "text": [
      "/mpc/homes/fische_r/miniconda3/lib/python3.11/site-packages/distributed/client.py:3149: UserWarning: Sending large graph of size 10.42 MiB.\n",
      "This may cause some slowdown.\n",
      "Consider scattering data ahead of time and using futures.\n",
      "  warnings.warn(\n",
      "2023-11-06 14:38:47,636 - distributed.nanny - WARNING - Restarting worker\n",
      "2023-11-06 14:38:53,826 - distributed.nanny - WARNING - Restarting worker\n",
      "2023-11-06 14:43:36,553 - distributed.nanny - WARNING - Restarting worker\n",
      "2023-11-06 14:43:37,502 - distributed.nanny - WARNING - Restarting worker\n"
     ]
    },
    {
     "name": "stdout",
     "output_type": "stream",
     "text": [
      "(161935200,)\n",
      "9\n"
     ]
    },
    {
     "name": "stderr",
     "output_type": "stream",
     "text": [
      "/mpc/homes/fische_r/miniconda3/lib/python3.11/site-packages/distributed/client.py:3149: UserWarning: Sending large graph of size 10.42 MiB.\n",
      "This may cause some slowdown.\n",
      "Consider scattering data ahead of time and using futures.\n",
      "  warnings.warn(\n",
      "2023-11-06 15:01:50,088 - distributed.nanny - WARNING - Restarting worker\n",
      "2023-11-06 15:01:56,220 - distributed.nanny - WARNING - Restarting worker\n",
      "2023-11-06 15:06:46,574 - distributed.nanny - WARNING - Restarting worker\n",
      "2023-11-06 15:06:47,510 - distributed.nanny - WARNING - Restarting worker\n"
     ]
    },
    {
     "name": "stdout",
     "output_type": "stream",
     "text": [
      "(161935200,)\n",
      "10\n"
     ]
    },
    {
     "name": "stderr",
     "output_type": "stream",
     "text": [
      "/mpc/homes/fische_r/miniconda3/lib/python3.11/site-packages/distributed/client.py:3149: UserWarning: Sending large graph of size 12.54 MiB.\n",
      "This may cause some slowdown.\n",
      "Consider scattering data ahead of time and using futures.\n",
      "  warnings.warn(\n",
      "2023-11-06 15:24:58,452 - distributed.nanny - WARNING - Restarting worker\n",
      "2023-11-06 15:25:05,685 - distributed.nanny - WARNING - Restarting worker\n",
      "2023-11-06 15:29:46,644 - distributed.nanny - WARNING - Restarting worker\n",
      "2023-11-06 15:29:47,627 - distributed.nanny - WARNING - Restarting worker\n"
     ]
    },
    {
     "name": "stdout",
     "output_type": "stream",
     "text": [
      "(161935200,)\n",
      "11\n"
     ]
    },
    {
     "name": "stderr",
     "output_type": "stream",
     "text": [
      "/mpc/homes/fische_r/miniconda3/lib/python3.11/site-packages/distributed/client.py:3149: UserWarning: Sending large graph of size 12.54 MiB.\n",
      "This may cause some slowdown.\n",
      "Consider scattering data ahead of time and using futures.\n",
      "  warnings.warn(\n",
      "2023-11-06 15:48:13,771 - distributed.nanny - WARNING - Restarting worker\n",
      "2023-11-06 15:48:20,001 - distributed.nanny - WARNING - Restarting worker\n"
     ]
    }
   ],
   "source": [
    "limit = 14\n",
    "# TODO: Workaround: write intermediates to disk and restart dask client/scheduler/workers to get rid of unmanaged memory\n",
    "# possible solution: do data handling on mpc2053 and calculations on mpc2959 -> leaves some RAM --> gc.collect() not necessary anymore\n",
    "# appearantly starts to become critical after 12 iteratons\n",
    "# from i=7, j=10 already done\n",
    "# TODO write i and j to file to track progress even when closing jupyter\n",
    "for i in range(4,limit):\n",
    "    # pickle.dump(segs, open(os.path.join(training_path,'segs_temp.p'), 'wb'))\n",
    "    \n",
    "    print(str(i+1)+'/'+str(limit))\n",
    "\n",
    "    start = 0\n",
    "    if i == 4:\n",
    "        start = 7\n",
    "    for j in range(start,limit):\n",
    "        gc.collect() \n",
    "        client.run(gc.collect)\n",
    "        client.run(trim_memory)\n",
    "        trim_memory()\n",
    "        print(j)\n",
    "        #with joblib.parallel_backend('dask'):\n",
    "        # part = feat[i*dim1:(i+1)*dim1,:,j*dim2:(j+1)*dim2,:,:] #.persist() #compute() may blow up the memory ?! https://stackoverflow.com/questions/73770527/dask-compute-uses-twice-the-expected-memory\n",
    "\n",
    "        part = feat[i*dim1:(i+1)*dim1,:,j*dim2:(j+1)*dim2,:,:] \n",
    "        part_idp = feat_idp[i*dim1:(i+1)*dim1,:,j*dim2:(j+1)*dim2,:]      \n",
    "        if 0 in part.shape:\n",
    "            print('hit the edge (one dimension 0), ignore')\n",
    "            continue\n",
    "\n",
    "        \n",
    "\n",
    "        if type(part) is not np.ndarray:\n",
    "            fut = client.scatter(part)\n",
    "            fut = fut.result()\n",
    "            fut = fut.compute()\n",
    "            part = fut\n",
    "            try:\n",
    "                client.restart()\n",
    "            except:\n",
    "                client = reboot_client(client)\n",
    "                \n",
    "        # if j == 0: print('now the time independent part')\n",
    "        if type(part_idp) is not np.ndarray:\n",
    "            fut = client.scatter(part_idp)\n",
    "            fut = fut.result()\n",
    "            fut = fut.compute()\n",
    "            part_idp = fut\n",
    "            try:\n",
    "                client.restart()\n",
    "            except:\n",
    "                client = reboot_client(client)\n",
    "\n",
    "        # feat = dask.array.concatenate([TS.feat_data['feature_stack'], test], axis=-1)\n",
    "        # dask.array.stack([TS.feat_data['feature_stack_time_independent'][:,:,:,0,:]]*da.shape[-1], axis=-2)\n",
    "        part_idp = np.stack([part_idp]*da.shape[-1], axis=-2)\n",
    "        part = np.concatenate([part, part_idp], axis = -1)\n",
    "        del part_idp\n",
    "            \n",
    "        # part = part.compute()\n",
    "\n",
    "        shp = part.shape\n",
    "        num_feat = part.shape[-1]  \n",
    "        part = part.reshape(-1,num_feat)\n",
    "\n",
    "        psplit = int(part.shape[0]/2)\n",
    "\n",
    "        # print('create part 1')\n",
    "        part1 = part[:psplit,:]\n",
    "        # print('create part 2')\n",
    "        part2 = part[psplit:,:]\n",
    "        # print('segmenting 1')\n",
    "\n",
    "        # with joblib.parallel_backend('dask'):\n",
    "        seg1 = clf.predict(part1).astype(np.uint8)\n",
    "        del part1\n",
    "        # print('segmenting 2')\n",
    "        # with joblib.parallel_backend('dask'):\n",
    "        seg2 = clf.predict(part2).astype(np.uint8)\n",
    "        # print('wrap results')\n",
    "        del part2\n",
    "        del part\n",
    "        # gc.collect()\n",
    "\n",
    "        seg = np.concatenate([seg1,seg2])\n",
    "        print(seg.shape)\n",
    "        del seg1\n",
    "        del seg2\n",
    "\n",
    "          #this step needs a lot of RAM ?! appearantly not\n",
    "\n",
    "        # plt.dump(seg, open(os.path.join(training_path,'seg_'+str(i)+'_'+str(j)+'.p'), 'wb'))\n",
    "\n",
    "\n",
    "        # put segs together when all calculated\n",
    "        seg = seg.reshape(shp[:4])\n",
    "    # not sure if this switch cases are necessary\n",
    "        if i < limit-1 and j < limit-1:\n",
    "            segs[i*dim1:(i+1)*dim1,:,j*dim2:(j+1)*dim2,:] = seg\n",
    "        elif not i < limit-1 and j < limit-1:\n",
    "            segs[i*dim1:,:,j*dim2:(j+1)*dim2,:] =  seg\n",
    "        elif not j < limit-1 and i < limit-1:\n",
    "            segs[i*dim1:(i+1)*dim1,:,j*dim2:,:] =  seg\n",
    "        else:\n",
    "            segs[i*dim1:,:,j*dim2:,:] = seg\n",
    "            \n",
    "        del seg"
   ]
  },
  {
   "cell_type": "code",
   "execution_count": 67,
   "id": "86258b73-db78-48c3-afed-b27cfce640cc",
   "metadata": {
    "tags": []
   },
   "outputs": [
    {
     "data": {
      "text/plain": [
       "4"
      ]
     },
     "execution_count": 67,
     "metadata": {},
     "output_type": "execute_result"
    }
   ],
   "source": [
    "i #check, how far you have got, replace iterators accordingly in the loop above"
   ]
  },
  {
   "cell_type": "code",
   "execution_count": 68,
   "id": "e9c0bfab-54a5-4148-ab0d-50fefd15c191",
   "metadata": {
    "tags": []
   },
   "outputs": [
    {
     "data": {
      "text/plain": [
       "7"
      ]
     },
     "execution_count": 68,
     "metadata": {},
     "output_type": "execute_result"
    }
   ],
   "source": [
    "j"
   ]
  },
  {
   "cell_type": "code",
   "execution_count": 69,
   "id": "f3080841-2ec5-4191-81af-46c120485999",
   "metadata": {
    "tags": []
   },
   "outputs": [
    {
     "data": {
      "text/plain": [
       "<matplotlib.image.AxesImage at 0x7f54f1dd3050>"
      ]
     },
     "execution_count": 69,
     "metadata": {},
     "output_type": "execute_result"
    },
    {
     "data": {
      "image/png": "[encoded data removed]",
      "text/plain": [
       "<Figure size 640x480 with 1 Axes>"
      ]
     },
     "metadata": {},
     "output_type": "display_data"
    }
   ],
   "source": [
    "plt.imshow(segs[:,50,:, 20]) #check how it is going"
   ]
  },
  {
   "cell_type": "markdown",
   "id": "3cebbb43-06e7-4480-84b8-1132cfcfb322",
   "metadata": {},
   "source": [
    "#### dump intermediate result to be picked up and restart kernel \n",
    "\n",
    "if something stops working, dump the already segmented volume and restart the kernel with a clean sheet, several things can happen:\n",
    "\n",
    "- dask image proccesing stops processing (check dashboard): safe to cancel kernel, dump intermediate result, adapt loop and restart kernel (execute all cells except the training from the top)\n",
    "- something crashed, but the kernel is still alive: dump intermediate result, adapt loop and restart kernel\n",
    "- kernel died: unfortunately recen progress is gone, restart kernel\n",
    "\n",
    "Sometime, it also helps to kill the entire jupyter session. There are apparently some weird memory leaks that would be nice to be avoided. Also, a lot of time is spent fetching the calculated feature stack, image processing and classifying does not take very long"
   ]
  },
  {
   "cell_type": "code",
   "execution_count": null,
   "id": "3fdfc411-3f64-4740-9cbf-87d4ea091eaf",
   "metadata": {},
   "outputs": [],
   "source": [
    "pickle.dump(segs, open(os.path.join(temppath,'segs.p'), 'wb'))"
   ]
  },
  {
   "cell_type": "markdown",
   "id": "c0648ac1-d7da-4133-ab59-c200556c9db1",
   "metadata": {},
   "source": [
    "### save result to disk when full volume has been processed"
   ]
  },
  {
   "cell_type": "code",
   "execution_count": 67,
   "id": "bf4ba5e8-f36a-4da5-acd8-ca02d1249dfa",
   "metadata": {
    "tags": []
   },
   "outputs": [],
   "source": [
    "# TODO: include metadata in segmented nc\n",
    "\n",
    "shp = segs.shape\n",
    "segdata = xr.Dataset({'segmented': (['x','y','z','timestep'], segs),\n",
    "                     't_utc': ('timestep', t_utc),\n",
    "                     'time': ('timestep', time)},\n",
    "                               coords = {'x': np.arange(shp[0]),\n",
    "                               'y': np.arange(shp[1]),\n",
    "                               'z': np.arange(shp[2]),\n",
    "                               'timestep': np.arange(shp[3]),\n",
    "                               'feature': TS.combined_feature_names}\n",
    "                     )\n",
    "segdata.attrs = data.attrs.copy()\n",
    "segdata.attrs['05_ML_cropping'] = [a,b,c,d,e,f]\n",
    "segdata.attrs['pytrain_git'] = pytrain_git_sha\n",
    "segdata.attrs['05_coely_gitsha'] = git_sha\n",
    "segdata.attrs['GDL_crop'] = GDL_crop"
   ]
  },
  {
   "cell_type": "code",
   "execution_count": 68,
   "id": "51c993a5-14d0-4de4-a8cf-184ac08d713b",
   "metadata": {
    "tags": []
   },
   "outputs": [],
   "source": [
    "segpath = os.path.join(training_path_sample, sample+'water_segmentation.nc')"
   ]
  },
  {
   "cell_type": "code",
   "execution_count": 69,
   "id": "15a620c3-5aa0-4b39-ab7a-69b2a56a2ebe",
   "metadata": {
    "tags": []
   },
   "outputs": [],
   "source": [
    "segdata.to_netcdf(segpath)"
   ]
  }
 ],
 "metadata": {
  "kernelspec": {
   "display_name": "Python 3 (ipykernel)",
   "language": "python",
   "name": "python3"
  },
  "language_info": {
   "codemirror_mode": {
    "name": "ipython",
    "version": 3
   },
   "file_extension": ".py",
   "mimetype": "text/x-python",
   "name": "python",
   "nbconvert_exporter": "python",
   "pygments_lexer": "ipython3",
   "version": "3.12.9"
  }
 },
 "nbformat": 4,
 "nbformat_minor": 5
}
